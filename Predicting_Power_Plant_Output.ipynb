{
  "nbformat": 4,
  "nbformat_minor": 0,
  "metadata": {
    "colab": {
      "provenance": [],
      "authorship_tag": "ABX9TyMALNl5kc4iQMEp90lhdg5t",
      "include_colab_link": true
    },
    "kernelspec": {
      "name": "python3",
      "display_name": "Python 3"
    },
    "language_info": {
      "name": "python"
    },
    "widgets": {
      "application/vnd.jupyter.widget-state+json": {
        "3a2e971b2a6c4183bf3076bd43bd383d": {
          "model_module": "@jupyter-widgets/controls",
          "model_name": "HBoxModel",
          "model_module_version": "1.5.0",
          "state": {
            "_dom_classes": [],
            "_model_module": "@jupyter-widgets/controls",
            "_model_module_version": "1.5.0",
            "_model_name": "HBoxModel",
            "_view_count": null,
            "_view_module": "@jupyter-widgets/controls",
            "_view_module_version": "1.5.0",
            "_view_name": "HBoxView",
            "box_style": "",
            "children": [
              "IPY_MODEL_1d9a6eba42494d4f89108a52022b6b1e",
              "IPY_MODEL_9266c110be864b48bcd4ac3cf37ad145",
              "IPY_MODEL_3d60293367e84c7985560b6ef3a4ff50"
            ],
            "layout": "IPY_MODEL_df22a58d505644a8b9a4cafdffa83e54"
          }
        },
        "1d9a6eba42494d4f89108a52022b6b1e": {
          "model_module": "@jupyter-widgets/controls",
          "model_name": "HTMLModel",
          "model_module_version": "1.5.0",
          "state": {
            "_dom_classes": [],
            "_model_module": "@jupyter-widgets/controls",
            "_model_module_version": "1.5.0",
            "_model_name": "HTMLModel",
            "_view_count": null,
            "_view_module": "@jupyter-widgets/controls",
            "_view_module_version": "1.5.0",
            "_view_name": "HTMLView",
            "description": "",
            "description_tooltip": null,
            "layout": "IPY_MODEL_69dd3ed0070c4129a9e924f33d029c83",
            "placeholder": "​",
            "style": "IPY_MODEL_285f88fafee94e8c97f672b4a67d8b29",
            "value": "Processing: 100%"
          }
        },
        "9266c110be864b48bcd4ac3cf37ad145": {
          "model_module": "@jupyter-widgets/controls",
          "model_name": "FloatProgressModel",
          "model_module_version": "1.5.0",
          "state": {
            "_dom_classes": [],
            "_model_module": "@jupyter-widgets/controls",
            "_model_module_version": "1.5.0",
            "_model_name": "FloatProgressModel",
            "_view_count": null,
            "_view_module": "@jupyter-widgets/controls",
            "_view_module_version": "1.5.0",
            "_view_name": "ProgressView",
            "bar_style": "",
            "description": "",
            "description_tooltip": null,
            "layout": "IPY_MODEL_6a199d93965d438191246d9f500913c0",
            "max": 81,
            "min": 0,
            "orientation": "horizontal",
            "style": "IPY_MODEL_de008741f6094944a2780b481ece9c45",
            "value": 81
          }
        },
        "3d60293367e84c7985560b6ef3a4ff50": {
          "model_module": "@jupyter-widgets/controls",
          "model_name": "HTMLModel",
          "model_module_version": "1.5.0",
          "state": {
            "_dom_classes": [],
            "_model_module": "@jupyter-widgets/controls",
            "_model_module_version": "1.5.0",
            "_model_name": "HTMLModel",
            "_view_count": null,
            "_view_module": "@jupyter-widgets/controls",
            "_view_module_version": "1.5.0",
            "_view_name": "HTMLView",
            "description": "",
            "description_tooltip": null,
            "layout": "IPY_MODEL_480885c3346c43aeb771574ac1320b80",
            "placeholder": "​",
            "style": "IPY_MODEL_2b4dcb420c8546db8525533fa9e40fd5",
            "value": " 81/81 [00:34&lt;00:00,  2.67it/s]"
          }
        },
        "df22a58d505644a8b9a4cafdffa83e54": {
          "model_module": "@jupyter-widgets/base",
          "model_name": "LayoutModel",
          "model_module_version": "1.2.0",
          "state": {
            "_model_module": "@jupyter-widgets/base",
            "_model_module_version": "1.2.0",
            "_model_name": "LayoutModel",
            "_view_count": null,
            "_view_module": "@jupyter-widgets/base",
            "_view_module_version": "1.2.0",
            "_view_name": "LayoutView",
            "align_content": null,
            "align_items": null,
            "align_self": null,
            "border": null,
            "bottom": null,
            "display": null,
            "flex": null,
            "flex_flow": null,
            "grid_area": null,
            "grid_auto_columns": null,
            "grid_auto_flow": null,
            "grid_auto_rows": null,
            "grid_column": null,
            "grid_gap": null,
            "grid_row": null,
            "grid_template_areas": null,
            "grid_template_columns": null,
            "grid_template_rows": null,
            "height": null,
            "justify_content": null,
            "justify_items": null,
            "left": null,
            "margin": null,
            "max_height": null,
            "max_width": null,
            "min_height": null,
            "min_width": null,
            "object_fit": null,
            "object_position": null,
            "order": null,
            "overflow": null,
            "overflow_x": null,
            "overflow_y": null,
            "padding": null,
            "right": null,
            "top": null,
            "visibility": "hidden",
            "width": null
          }
        },
        "69dd3ed0070c4129a9e924f33d029c83": {
          "model_module": "@jupyter-widgets/base",
          "model_name": "LayoutModel",
          "model_module_version": "1.2.0",
          "state": {
            "_model_module": "@jupyter-widgets/base",
            "_model_module_version": "1.2.0",
            "_model_name": "LayoutModel",
            "_view_count": null,
            "_view_module": "@jupyter-widgets/base",
            "_view_module_version": "1.2.0",
            "_view_name": "LayoutView",
            "align_content": null,
            "align_items": null,
            "align_self": null,
            "border": null,
            "bottom": null,
            "display": null,
            "flex": null,
            "flex_flow": null,
            "grid_area": null,
            "grid_auto_columns": null,
            "grid_auto_flow": null,
            "grid_auto_rows": null,
            "grid_column": null,
            "grid_gap": null,
            "grid_row": null,
            "grid_template_areas": null,
            "grid_template_columns": null,
            "grid_template_rows": null,
            "height": null,
            "justify_content": null,
            "justify_items": null,
            "left": null,
            "margin": null,
            "max_height": null,
            "max_width": null,
            "min_height": null,
            "min_width": null,
            "object_fit": null,
            "object_position": null,
            "order": null,
            "overflow": null,
            "overflow_x": null,
            "overflow_y": null,
            "padding": null,
            "right": null,
            "top": null,
            "visibility": null,
            "width": null
          }
        },
        "285f88fafee94e8c97f672b4a67d8b29": {
          "model_module": "@jupyter-widgets/controls",
          "model_name": "DescriptionStyleModel",
          "model_module_version": "1.5.0",
          "state": {
            "_model_module": "@jupyter-widgets/controls",
            "_model_module_version": "1.5.0",
            "_model_name": "DescriptionStyleModel",
            "_view_count": null,
            "_view_module": "@jupyter-widgets/base",
            "_view_module_version": "1.2.0",
            "_view_name": "StyleView",
            "description_width": ""
          }
        },
        "6a199d93965d438191246d9f500913c0": {
          "model_module": "@jupyter-widgets/base",
          "model_name": "LayoutModel",
          "model_module_version": "1.2.0",
          "state": {
            "_model_module": "@jupyter-widgets/base",
            "_model_module_version": "1.2.0",
            "_model_name": "LayoutModel",
            "_view_count": null,
            "_view_module": "@jupyter-widgets/base",
            "_view_module_version": "1.2.0",
            "_view_name": "LayoutView",
            "align_content": null,
            "align_items": null,
            "align_self": null,
            "border": null,
            "bottom": null,
            "display": null,
            "flex": null,
            "flex_flow": null,
            "grid_area": null,
            "grid_auto_columns": null,
            "grid_auto_flow": null,
            "grid_auto_rows": null,
            "grid_column": null,
            "grid_gap": null,
            "grid_row": null,
            "grid_template_areas": null,
            "grid_template_columns": null,
            "grid_template_rows": null,
            "height": null,
            "justify_content": null,
            "justify_items": null,
            "left": null,
            "margin": null,
            "max_height": null,
            "max_width": null,
            "min_height": null,
            "min_width": null,
            "object_fit": null,
            "object_position": null,
            "order": null,
            "overflow": null,
            "overflow_x": null,
            "overflow_y": null,
            "padding": null,
            "right": null,
            "top": null,
            "visibility": null,
            "width": null
          }
        },
        "de008741f6094944a2780b481ece9c45": {
          "model_module": "@jupyter-widgets/controls",
          "model_name": "ProgressStyleModel",
          "model_module_version": "1.5.0",
          "state": {
            "_model_module": "@jupyter-widgets/controls",
            "_model_module_version": "1.5.0",
            "_model_name": "ProgressStyleModel",
            "_view_count": null,
            "_view_module": "@jupyter-widgets/base",
            "_view_module_version": "1.2.0",
            "_view_name": "StyleView",
            "bar_color": null,
            "description_width": ""
          }
        },
        "480885c3346c43aeb771574ac1320b80": {
          "model_module": "@jupyter-widgets/base",
          "model_name": "LayoutModel",
          "model_module_version": "1.2.0",
          "state": {
            "_model_module": "@jupyter-widgets/base",
            "_model_module_version": "1.2.0",
            "_model_name": "LayoutModel",
            "_view_count": null,
            "_view_module": "@jupyter-widgets/base",
            "_view_module_version": "1.2.0",
            "_view_name": "LayoutView",
            "align_content": null,
            "align_items": null,
            "align_self": null,
            "border": null,
            "bottom": null,
            "display": null,
            "flex": null,
            "flex_flow": null,
            "grid_area": null,
            "grid_auto_columns": null,
            "grid_auto_flow": null,
            "grid_auto_rows": null,
            "grid_column": null,
            "grid_gap": null,
            "grid_row": null,
            "grid_template_areas": null,
            "grid_template_columns": null,
            "grid_template_rows": null,
            "height": null,
            "justify_content": null,
            "justify_items": null,
            "left": null,
            "margin": null,
            "max_height": null,
            "max_width": null,
            "min_height": null,
            "min_width": null,
            "object_fit": null,
            "object_position": null,
            "order": null,
            "overflow": null,
            "overflow_x": null,
            "overflow_y": null,
            "padding": null,
            "right": null,
            "top": null,
            "visibility": null,
            "width": null
          }
        },
        "2b4dcb420c8546db8525533fa9e40fd5": {
          "model_module": "@jupyter-widgets/controls",
          "model_name": "DescriptionStyleModel",
          "model_module_version": "1.5.0",
          "state": {
            "_model_module": "@jupyter-widgets/controls",
            "_model_module_version": "1.5.0",
            "_model_name": "DescriptionStyleModel",
            "_view_count": null,
            "_view_module": "@jupyter-widgets/base",
            "_view_module_version": "1.2.0",
            "_view_name": "StyleView",
            "description_width": ""
          }
        }
      }
    }
  },
  "cells": [
    {
      "cell_type": "markdown",
      "metadata": {
        "id": "view-in-github",
        "colab_type": "text"
      },
      "source": [
        "<a href=\"https://colab.research.google.com/github/a-donat/Benchmarks_PyCaret/blob/main/Predicting_Power_Plant_Output.ipynb\" target=\"_parent\"><img src=\"https://colab.research.google.com/assets/colab-badge.svg\" alt=\"Open In Colab\"/></a>"
      ]
    },
    {
      "cell_type": "markdown",
      "source": [
        "# I. Set-Up"
      ],
      "metadata": {
        "id": "EjJ5M3C1sQDA"
      }
    },
    {
      "cell_type": "markdown",
      "source": [
        "## I.A. Import Libraries and Download Data"
      ],
      "metadata": {
        "id": "_1u8l9-Wq2to"
      }
    },
    {
      "cell_type": "code",
      "source": [
        "! pip install kaggle\n",
        "! mkdir ~/.kaggle\n",
        "! cp kaggle.json ~/.kaggle/\n",
        "! chmod 600 ~/.kaggle/kaggle.json\n",
        "! kaggle datasets download -d gauravduttakiit/power-plant-data\n",
        "! unzip '/content/power-plant-data.zip' -d '/content/data'"
      ],
      "metadata": {
        "id": "cU-J1Vvhq6mp"
      },
      "execution_count": null,
      "outputs": []
    },
    {
      "cell_type": "code",
      "source": [
        "! pip install pycaret"
      ],
      "metadata": {
        "id": "q2OwTXkgrNEd"
      },
      "execution_count": null,
      "outputs": []
    },
    {
      "cell_type": "code",
      "execution_count": 3,
      "metadata": {
        "id": "KJR0DPb6qvvl"
      },
      "outputs": [],
      "source": [
        "#import matplotlib.pyplot as plt\n",
        "#import seaborn as sns\n",
        "#import VisualizeDataAbbrev as viz\n",
        "\n",
        "import numpy as np\n",
        "import pandas as pd\n",
        "from pycaret.regression import *\n",
        "from sklearn.model_selection import train_test_split"
      ]
    },
    {
      "cell_type": "markdown",
      "source": [
        "## I.B. Load Data and Check Data Integrity"
      ],
      "metadata": {
        "id": "xtnQ852lrdGq"
      }
    },
    {
      "cell_type": "code",
      "source": [
        "ds_df = pd.read_csv(\"/content/data/Training_set_ccpp.csv\")"
      ],
      "metadata": {
        "id": "szcd_HHIrepR"
      },
      "execution_count": 17,
      "outputs": []
    },
    {
      "cell_type": "code",
      "source": [
        "ds_df.info()"
      ],
      "metadata": {
        "colab": {
          "base_uri": "https://localhost:8080/"
        },
        "id": "7SRp7d3IrmyK",
        "outputId": "0ee6b301-1f21-4107-a60c-67b7e9865e0e"
      },
      "execution_count": 18,
      "outputs": [
        {
          "output_type": "stream",
          "name": "stdout",
          "text": [
            "<class 'pandas.core.frame.DataFrame'>\n",
            "RangeIndex: 6410 entries, 0 to 6409\n",
            "Data columns (total 5 columns):\n",
            " #   Column  Non-Null Count  Dtype  \n",
            "---  ------  --------------  -----  \n",
            " 0   AT      6410 non-null   float64\n",
            " 1   EV      6410 non-null   float64\n",
            " 2   AP      6410 non-null   float64\n",
            " 3   RH      6410 non-null   float64\n",
            " 4   PE      6410 non-null   float64\n",
            "dtypes: float64(5)\n",
            "memory usage: 250.5 KB\n"
          ]
        }
      ]
    },
    {
      "cell_type": "code",
      "source": [
        "ds_df.nunique()"
      ],
      "metadata": {
        "colab": {
          "base_uri": "https://localhost:8080/"
        },
        "id": "LJTsP960vQAN",
        "outputId": "28b0ef28-3fa1-43c9-a5fd-3e760d0f0118"
      },
      "execution_count": 19,
      "outputs": [
        {
          "output_type": "execute_result",
          "data": {
            "text/plain": [
              "AT    2536\n",
              "EV     613\n",
              "AP    2255\n",
              "RH    3757\n",
              "PE    3910\n",
              "dtype: int64"
            ]
          },
          "metadata": {},
          "execution_count": 19
        }
      ]
    },
    {
      "cell_type": "code",
      "source": [
        "ds_df.corr().round(2)"
      ],
      "metadata": {
        "colab": {
          "base_uri": "https://localhost:8080/",
          "height": 206
        },
        "id": "oheBiD_UeQRA",
        "outputId": "cb18407b-1064-4d18-f22b-aa592f7da74d"
      },
      "execution_count": 20,
      "outputs": [
        {
          "output_type": "execute_result",
          "data": {
            "text/plain": [
              "      AT    EV    AP    RH    PE\n",
              "AT  1.00  0.84 -0.51 -0.55 -0.95\n",
              "EV  0.84  1.00 -0.41 -0.31 -0.87\n",
              "AP -0.51 -0.41  1.00  0.11  0.51\n",
              "RH -0.55 -0.31  0.11  1.00  0.39\n",
              "PE -0.95 -0.87  0.51  0.39  1.00"
            ],
            "text/html": [
              "\n",
              "  <div id=\"df-a74dc7f0-d277-4a78-96a5-aeaec6f0af8f\">\n",
              "    <div class=\"colab-df-container\">\n",
              "      <div>\n",
              "<style scoped>\n",
              "    .dataframe tbody tr th:only-of-type {\n",
              "        vertical-align: middle;\n",
              "    }\n",
              "\n",
              "    .dataframe tbody tr th {\n",
              "        vertical-align: top;\n",
              "    }\n",
              "\n",
              "    .dataframe thead th {\n",
              "        text-align: right;\n",
              "    }\n",
              "</style>\n",
              "<table border=\"1\" class=\"dataframe\">\n",
              "  <thead>\n",
              "    <tr style=\"text-align: right;\">\n",
              "      <th></th>\n",
              "      <th>AT</th>\n",
              "      <th>EV</th>\n",
              "      <th>AP</th>\n",
              "      <th>RH</th>\n",
              "      <th>PE</th>\n",
              "    </tr>\n",
              "  </thead>\n",
              "  <tbody>\n",
              "    <tr>\n",
              "      <th>AT</th>\n",
              "      <td>1.00</td>\n",
              "      <td>0.84</td>\n",
              "      <td>-0.51</td>\n",
              "      <td>-0.55</td>\n",
              "      <td>-0.95</td>\n",
              "    </tr>\n",
              "    <tr>\n",
              "      <th>EV</th>\n",
              "      <td>0.84</td>\n",
              "      <td>1.00</td>\n",
              "      <td>-0.41</td>\n",
              "      <td>-0.31</td>\n",
              "      <td>-0.87</td>\n",
              "    </tr>\n",
              "    <tr>\n",
              "      <th>AP</th>\n",
              "      <td>-0.51</td>\n",
              "      <td>-0.41</td>\n",
              "      <td>1.00</td>\n",
              "      <td>0.11</td>\n",
              "      <td>0.51</td>\n",
              "    </tr>\n",
              "    <tr>\n",
              "      <th>RH</th>\n",
              "      <td>-0.55</td>\n",
              "      <td>-0.31</td>\n",
              "      <td>0.11</td>\n",
              "      <td>1.00</td>\n",
              "      <td>0.39</td>\n",
              "    </tr>\n",
              "    <tr>\n",
              "      <th>PE</th>\n",
              "      <td>-0.95</td>\n",
              "      <td>-0.87</td>\n",
              "      <td>0.51</td>\n",
              "      <td>0.39</td>\n",
              "      <td>1.00</td>\n",
              "    </tr>\n",
              "  </tbody>\n",
              "</table>\n",
              "</div>\n",
              "      <button class=\"colab-df-convert\" onclick=\"convertToInteractive('df-a74dc7f0-d277-4a78-96a5-aeaec6f0af8f')\"\n",
              "              title=\"Convert this dataframe to an interactive table.\"\n",
              "              style=\"display:none;\">\n",
              "        \n",
              "  <svg xmlns=\"http://www.w3.org/2000/svg\" height=\"24px\"viewBox=\"0 0 24 24\"\n",
              "       width=\"24px\">\n",
              "    <path d=\"M0 0h24v24H0V0z\" fill=\"none\"/>\n",
              "    <path d=\"M18.56 5.44l.94 2.06.94-2.06 2.06-.94-2.06-.94-.94-2.06-.94 2.06-2.06.94zm-11 1L8.5 8.5l.94-2.06 2.06-.94-2.06-.94L8.5 2.5l-.94 2.06-2.06.94zm10 10l.94 2.06.94-2.06 2.06-.94-2.06-.94-.94-2.06-.94 2.06-2.06.94z\"/><path d=\"M17.41 7.96l-1.37-1.37c-.4-.4-.92-.59-1.43-.59-.52 0-1.04.2-1.43.59L10.3 9.45l-7.72 7.72c-.78.78-.78 2.05 0 2.83L4 21.41c.39.39.9.59 1.41.59.51 0 1.02-.2 1.41-.59l7.78-7.78 2.81-2.81c.8-.78.8-2.07 0-2.86zM5.41 20L4 18.59l7.72-7.72 1.47 1.35L5.41 20z\"/>\n",
              "  </svg>\n",
              "      </button>\n",
              "      \n",
              "  <style>\n",
              "    .colab-df-container {\n",
              "      display:flex;\n",
              "      flex-wrap:wrap;\n",
              "      gap: 12px;\n",
              "    }\n",
              "\n",
              "    .colab-df-convert {\n",
              "      background-color: #E8F0FE;\n",
              "      border: none;\n",
              "      border-radius: 50%;\n",
              "      cursor: pointer;\n",
              "      display: none;\n",
              "      fill: #1967D2;\n",
              "      height: 32px;\n",
              "      padding: 0 0 0 0;\n",
              "      width: 32px;\n",
              "    }\n",
              "\n",
              "    .colab-df-convert:hover {\n",
              "      background-color: #E2EBFA;\n",
              "      box-shadow: 0px 1px 2px rgba(60, 64, 67, 0.3), 0px 1px 3px 1px rgba(60, 64, 67, 0.15);\n",
              "      fill: #174EA6;\n",
              "    }\n",
              "\n",
              "    [theme=dark] .colab-df-convert {\n",
              "      background-color: #3B4455;\n",
              "      fill: #D2E3FC;\n",
              "    }\n",
              "\n",
              "    [theme=dark] .colab-df-convert:hover {\n",
              "      background-color: #434B5C;\n",
              "      box-shadow: 0px 1px 3px 1px rgba(0, 0, 0, 0.15);\n",
              "      filter: drop-shadow(0px 1px 2px rgba(0, 0, 0, 0.3));\n",
              "      fill: #FFFFFF;\n",
              "    }\n",
              "  </style>\n",
              "\n",
              "      <script>\n",
              "        const buttonEl =\n",
              "          document.querySelector('#df-a74dc7f0-d277-4a78-96a5-aeaec6f0af8f button.colab-df-convert');\n",
              "        buttonEl.style.display =\n",
              "          google.colab.kernel.accessAllowed ? 'block' : 'none';\n",
              "\n",
              "        async function convertToInteractive(key) {\n",
              "          const element = document.querySelector('#df-a74dc7f0-d277-4a78-96a5-aeaec6f0af8f');\n",
              "          const dataTable =\n",
              "            await google.colab.kernel.invokeFunction('convertToInteractive',\n",
              "                                                     [key], {});\n",
              "          if (!dataTable) return;\n",
              "\n",
              "          const docLinkHtml = 'Like what you see? Visit the ' +\n",
              "            '<a target=\"_blank\" href=https://colab.research.google.com/notebooks/data_table.ipynb>data table notebook</a>'\n",
              "            + ' to learn more about interactive tables.';\n",
              "          element.innerHTML = '';\n",
              "          dataTable['output_type'] = 'display_data';\n",
              "          await google.colab.output.renderOutput(dataTable, element);\n",
              "          const docLink = document.createElement('div');\n",
              "          docLink.innerHTML = docLinkHtml;\n",
              "          element.appendChild(docLink);\n",
              "        }\n",
              "      </script>\n",
              "    </div>\n",
              "  </div>\n",
              "  "
            ]
          },
          "metadata": {},
          "execution_count": 20
        }
      ]
    },
    {
      "cell_type": "markdown",
      "source": [
        "\n",
        "# II. Preprocessing"
      ],
      "metadata": {
        "id": "O8lUlQCJsJhx"
      }
    },
    {
      "cell_type": "code",
      "source": [
        "train_df, test_df = train_test_split(\n",
        "    ds_df, test_size=0.20, random_state=1)"
      ],
      "metadata": {
        "id": "bdlYT0C6sVQC"
      },
      "execution_count": 21,
      "outputs": []
    },
    {
      "cell_type": "markdown",
      "source": [
        "# III. Create Models"
      ],
      "metadata": {
        "id": "0V1W04AjslJD"
      }
    },
    {
      "cell_type": "code",
      "source": [
        "reg_models = setup(data=train_df, target=\"PE\", session_id=123)\n"
      ],
      "metadata": {
        "colab": {
          "base_uri": "https://localhost:8080/",
          "height": 645
        },
        "id": "UUDwZKDmsoJ8",
        "outputId": "b0606eb0-e498-4837-cef5-4ac5195ede80"
      },
      "execution_count": 22,
      "outputs": [
        {
          "output_type": "display_data",
          "data": {
            "text/plain": [
              "<pandas.io.formats.style.Styler at 0x7fa67c3a9480>"
            ],
            "text/html": [
              "<style type=\"text/css\">\n",
              "#T_f84ae_row8_col1 {\n",
              "  background-color: lightgreen;\n",
              "}\n",
              "</style>\n",
              "<table id=\"T_f84ae\" class=\"dataframe\">\n",
              "  <thead>\n",
              "    <tr>\n",
              "      <th class=\"blank level0\" >&nbsp;</th>\n",
              "      <th id=\"T_f84ae_level0_col0\" class=\"col_heading level0 col0\" >Description</th>\n",
              "      <th id=\"T_f84ae_level0_col1\" class=\"col_heading level0 col1\" >Value</th>\n",
              "    </tr>\n",
              "  </thead>\n",
              "  <tbody>\n",
              "    <tr>\n",
              "      <th id=\"T_f84ae_level0_row0\" class=\"row_heading level0 row0\" >0</th>\n",
              "      <td id=\"T_f84ae_row0_col0\" class=\"data row0 col0\" >Session id</td>\n",
              "      <td id=\"T_f84ae_row0_col1\" class=\"data row0 col1\" >123</td>\n",
              "    </tr>\n",
              "    <tr>\n",
              "      <th id=\"T_f84ae_level0_row1\" class=\"row_heading level0 row1\" >1</th>\n",
              "      <td id=\"T_f84ae_row1_col0\" class=\"data row1 col0\" >Target</td>\n",
              "      <td id=\"T_f84ae_row1_col1\" class=\"data row1 col1\" >PE</td>\n",
              "    </tr>\n",
              "    <tr>\n",
              "      <th id=\"T_f84ae_level0_row2\" class=\"row_heading level0 row2\" >2</th>\n",
              "      <td id=\"T_f84ae_row2_col0\" class=\"data row2 col0\" >Target type</td>\n",
              "      <td id=\"T_f84ae_row2_col1\" class=\"data row2 col1\" >Regression</td>\n",
              "    </tr>\n",
              "    <tr>\n",
              "      <th id=\"T_f84ae_level0_row3\" class=\"row_heading level0 row3\" >3</th>\n",
              "      <td id=\"T_f84ae_row3_col0\" class=\"data row3 col0\" >Original data shape</td>\n",
              "      <td id=\"T_f84ae_row3_col1\" class=\"data row3 col1\" >(5128, 5)</td>\n",
              "    </tr>\n",
              "    <tr>\n",
              "      <th id=\"T_f84ae_level0_row4\" class=\"row_heading level0 row4\" >4</th>\n",
              "      <td id=\"T_f84ae_row4_col0\" class=\"data row4 col0\" >Transformed data shape</td>\n",
              "      <td id=\"T_f84ae_row4_col1\" class=\"data row4 col1\" >(5128, 5)</td>\n",
              "    </tr>\n",
              "    <tr>\n",
              "      <th id=\"T_f84ae_level0_row5\" class=\"row_heading level0 row5\" >5</th>\n",
              "      <td id=\"T_f84ae_row5_col0\" class=\"data row5 col0\" >Transformed train set shape</td>\n",
              "      <td id=\"T_f84ae_row5_col1\" class=\"data row5 col1\" >(3589, 5)</td>\n",
              "    </tr>\n",
              "    <tr>\n",
              "      <th id=\"T_f84ae_level0_row6\" class=\"row_heading level0 row6\" >6</th>\n",
              "      <td id=\"T_f84ae_row6_col0\" class=\"data row6 col0\" >Transformed test set shape</td>\n",
              "      <td id=\"T_f84ae_row6_col1\" class=\"data row6 col1\" >(1539, 5)</td>\n",
              "    </tr>\n",
              "    <tr>\n",
              "      <th id=\"T_f84ae_level0_row7\" class=\"row_heading level0 row7\" >7</th>\n",
              "      <td id=\"T_f84ae_row7_col0\" class=\"data row7 col0\" >Numeric features</td>\n",
              "      <td id=\"T_f84ae_row7_col1\" class=\"data row7 col1\" >4</td>\n",
              "    </tr>\n",
              "    <tr>\n",
              "      <th id=\"T_f84ae_level0_row8\" class=\"row_heading level0 row8\" >8</th>\n",
              "      <td id=\"T_f84ae_row8_col0\" class=\"data row8 col0\" >Preprocess</td>\n",
              "      <td id=\"T_f84ae_row8_col1\" class=\"data row8 col1\" >True</td>\n",
              "    </tr>\n",
              "    <tr>\n",
              "      <th id=\"T_f84ae_level0_row9\" class=\"row_heading level0 row9\" >9</th>\n",
              "      <td id=\"T_f84ae_row9_col0\" class=\"data row9 col0\" >Imputation type</td>\n",
              "      <td id=\"T_f84ae_row9_col1\" class=\"data row9 col1\" >simple</td>\n",
              "    </tr>\n",
              "    <tr>\n",
              "      <th id=\"T_f84ae_level0_row10\" class=\"row_heading level0 row10\" >10</th>\n",
              "      <td id=\"T_f84ae_row10_col0\" class=\"data row10 col0\" >Numeric imputation</td>\n",
              "      <td id=\"T_f84ae_row10_col1\" class=\"data row10 col1\" >mean</td>\n",
              "    </tr>\n",
              "    <tr>\n",
              "      <th id=\"T_f84ae_level0_row11\" class=\"row_heading level0 row11\" >11</th>\n",
              "      <td id=\"T_f84ae_row11_col0\" class=\"data row11 col0\" >Categorical imputation</td>\n",
              "      <td id=\"T_f84ae_row11_col1\" class=\"data row11 col1\" >mode</td>\n",
              "    </tr>\n",
              "    <tr>\n",
              "      <th id=\"T_f84ae_level0_row12\" class=\"row_heading level0 row12\" >12</th>\n",
              "      <td id=\"T_f84ae_row12_col0\" class=\"data row12 col0\" >Fold Generator</td>\n",
              "      <td id=\"T_f84ae_row12_col1\" class=\"data row12 col1\" >KFold</td>\n",
              "    </tr>\n",
              "    <tr>\n",
              "      <th id=\"T_f84ae_level0_row13\" class=\"row_heading level0 row13\" >13</th>\n",
              "      <td id=\"T_f84ae_row13_col0\" class=\"data row13 col0\" >Fold Number</td>\n",
              "      <td id=\"T_f84ae_row13_col1\" class=\"data row13 col1\" >10</td>\n",
              "    </tr>\n",
              "    <tr>\n",
              "      <th id=\"T_f84ae_level0_row14\" class=\"row_heading level0 row14\" >14</th>\n",
              "      <td id=\"T_f84ae_row14_col0\" class=\"data row14 col0\" >CPU Jobs</td>\n",
              "      <td id=\"T_f84ae_row14_col1\" class=\"data row14 col1\" >-1</td>\n",
              "    </tr>\n",
              "    <tr>\n",
              "      <th id=\"T_f84ae_level0_row15\" class=\"row_heading level0 row15\" >15</th>\n",
              "      <td id=\"T_f84ae_row15_col0\" class=\"data row15 col0\" >Use GPU</td>\n",
              "      <td id=\"T_f84ae_row15_col1\" class=\"data row15 col1\" >False</td>\n",
              "    </tr>\n",
              "    <tr>\n",
              "      <th id=\"T_f84ae_level0_row16\" class=\"row_heading level0 row16\" >16</th>\n",
              "      <td id=\"T_f84ae_row16_col0\" class=\"data row16 col0\" >Log Experiment</td>\n",
              "      <td id=\"T_f84ae_row16_col1\" class=\"data row16 col1\" >False</td>\n",
              "    </tr>\n",
              "    <tr>\n",
              "      <th id=\"T_f84ae_level0_row17\" class=\"row_heading level0 row17\" >17</th>\n",
              "      <td id=\"T_f84ae_row17_col0\" class=\"data row17 col0\" >Experiment Name</td>\n",
              "      <td id=\"T_f84ae_row17_col1\" class=\"data row17 col1\" >reg-default-name</td>\n",
              "    </tr>\n",
              "    <tr>\n",
              "      <th id=\"T_f84ae_level0_row18\" class=\"row_heading level0 row18\" >18</th>\n",
              "      <td id=\"T_f84ae_row18_col0\" class=\"data row18 col0\" >USI</td>\n",
              "      <td id=\"T_f84ae_row18_col1\" class=\"data row18 col1\" >2b8a</td>\n",
              "    </tr>\n",
              "  </tbody>\n",
              "</table>\n"
            ]
          },
          "metadata": {}
        }
      ]
    },
    {
      "cell_type": "code",
      "source": [
        "best_model = compare_models(fold=5)\n"
      ],
      "metadata": {
        "colab": {
          "base_uri": "https://localhost:8080/",
          "height": 731,
          "referenced_widgets": [
            "3a2e971b2a6c4183bf3076bd43bd383d",
            "1d9a6eba42494d4f89108a52022b6b1e",
            "9266c110be864b48bcd4ac3cf37ad145",
            "3d60293367e84c7985560b6ef3a4ff50",
            "df22a58d505644a8b9a4cafdffa83e54",
            "69dd3ed0070c4129a9e924f33d029c83",
            "285f88fafee94e8c97f672b4a67d8b29",
            "6a199d93965d438191246d9f500913c0",
            "de008741f6094944a2780b481ece9c45",
            "480885c3346c43aeb771574ac1320b80",
            "2b4dcb420c8546db8525533fa9e40fd5"
          ]
        },
        "id": "ujtCH1wksuFG",
        "outputId": "c3072fef-9eb2-4651-9365-0f9f0c82f3a5"
      },
      "execution_count": 23,
      "outputs": [
        {
          "output_type": "display_data",
          "data": {
            "text/plain": [
              "<IPython.core.display.HTML object>"
            ],
            "text/html": []
          },
          "metadata": {}
        },
        {
          "output_type": "display_data",
          "data": {
            "text/plain": [
              "<pandas.io.formats.style.Styler at 0x7fa67d15c490>"
            ],
            "text/html": [
              "<style type=\"text/css\">\n",
              "#T_cbadc th {\n",
              "  text-align: left;\n",
              "}\n",
              "#T_cbadc_row0_col0, #T_cbadc_row1_col0, #T_cbadc_row1_col1, #T_cbadc_row1_col2, #T_cbadc_row1_col3, #T_cbadc_row1_col4, #T_cbadc_row1_col5, #T_cbadc_row1_col6, #T_cbadc_row2_col0, #T_cbadc_row2_col1, #T_cbadc_row2_col2, #T_cbadc_row2_col3, #T_cbadc_row2_col4, #T_cbadc_row2_col5, #T_cbadc_row2_col6, #T_cbadc_row3_col0, #T_cbadc_row3_col1, #T_cbadc_row3_col2, #T_cbadc_row3_col3, #T_cbadc_row3_col4, #T_cbadc_row3_col5, #T_cbadc_row3_col6, #T_cbadc_row4_col0, #T_cbadc_row4_col1, #T_cbadc_row4_col2, #T_cbadc_row4_col3, #T_cbadc_row4_col4, #T_cbadc_row4_col5, #T_cbadc_row4_col6, #T_cbadc_row5_col0, #T_cbadc_row5_col1, #T_cbadc_row5_col2, #T_cbadc_row5_col3, #T_cbadc_row5_col4, #T_cbadc_row5_col5, #T_cbadc_row5_col6, #T_cbadc_row6_col0, #T_cbadc_row6_col1, #T_cbadc_row6_col2, #T_cbadc_row6_col3, #T_cbadc_row6_col4, #T_cbadc_row6_col5, #T_cbadc_row6_col6, #T_cbadc_row7_col0, #T_cbadc_row7_col1, #T_cbadc_row7_col2, #T_cbadc_row7_col3, #T_cbadc_row7_col4, #T_cbadc_row7_col5, #T_cbadc_row7_col6, #T_cbadc_row8_col0, #T_cbadc_row8_col1, #T_cbadc_row8_col2, #T_cbadc_row8_col3, #T_cbadc_row8_col4, #T_cbadc_row8_col5, #T_cbadc_row8_col6, #T_cbadc_row9_col0, #T_cbadc_row9_col1, #T_cbadc_row9_col2, #T_cbadc_row9_col3, #T_cbadc_row9_col4, #T_cbadc_row9_col5, #T_cbadc_row9_col6, #T_cbadc_row10_col0, #T_cbadc_row10_col1, #T_cbadc_row10_col2, #T_cbadc_row10_col3, #T_cbadc_row10_col4, #T_cbadc_row10_col5, #T_cbadc_row10_col6, #T_cbadc_row11_col0, #T_cbadc_row11_col1, #T_cbadc_row11_col2, #T_cbadc_row11_col3, #T_cbadc_row11_col4, #T_cbadc_row11_col5, #T_cbadc_row11_col6, #T_cbadc_row12_col0, #T_cbadc_row12_col1, #T_cbadc_row12_col2, #T_cbadc_row12_col3, #T_cbadc_row12_col4, #T_cbadc_row12_col5, #T_cbadc_row12_col6, #T_cbadc_row13_col0, #T_cbadc_row13_col1, #T_cbadc_row13_col2, #T_cbadc_row13_col3, #T_cbadc_row13_col4, #T_cbadc_row13_col5, #T_cbadc_row13_col6, #T_cbadc_row14_col0, #T_cbadc_row14_col1, #T_cbadc_row14_col2, #T_cbadc_row14_col3, #T_cbadc_row14_col4, #T_cbadc_row14_col5, #T_cbadc_row14_col6, #T_cbadc_row15_col0, #T_cbadc_row15_col1, #T_cbadc_row15_col2, #T_cbadc_row15_col3, #T_cbadc_row15_col4, #T_cbadc_row15_col5, #T_cbadc_row15_col6, #T_cbadc_row16_col0, #T_cbadc_row16_col1, #T_cbadc_row16_col2, #T_cbadc_row16_col3, #T_cbadc_row16_col4, #T_cbadc_row16_col5, #T_cbadc_row16_col6, #T_cbadc_row17_col0, #T_cbadc_row17_col1, #T_cbadc_row17_col2, #T_cbadc_row17_col3, #T_cbadc_row17_col4, #T_cbadc_row17_col5, #T_cbadc_row17_col6, #T_cbadc_row18_col0, #T_cbadc_row18_col1, #T_cbadc_row18_col2, #T_cbadc_row18_col3, #T_cbadc_row18_col4, #T_cbadc_row18_col5, #T_cbadc_row18_col6 {\n",
              "  text-align: left;\n",
              "}\n",
              "#T_cbadc_row0_col1, #T_cbadc_row0_col2, #T_cbadc_row0_col3, #T_cbadc_row0_col4, #T_cbadc_row0_col5, #T_cbadc_row0_col6 {\n",
              "  text-align: left;\n",
              "  background-color: yellow;\n",
              "}\n",
              "#T_cbadc_row0_col7, #T_cbadc_row1_col7, #T_cbadc_row2_col7, #T_cbadc_row3_col7, #T_cbadc_row4_col7, #T_cbadc_row5_col7, #T_cbadc_row6_col7, #T_cbadc_row7_col7, #T_cbadc_row8_col7, #T_cbadc_row9_col7, #T_cbadc_row12_col7, #T_cbadc_row13_col7, #T_cbadc_row14_col7, #T_cbadc_row15_col7, #T_cbadc_row16_col7, #T_cbadc_row18_col7 {\n",
              "  text-align: left;\n",
              "  background-color: lightgrey;\n",
              "}\n",
              "#T_cbadc_row10_col7, #T_cbadc_row11_col7, #T_cbadc_row17_col7 {\n",
              "  text-align: left;\n",
              "  background-color: yellow;\n",
              "  background-color: lightgrey;\n",
              "}\n",
              "</style>\n",
              "<table id=\"T_cbadc\" class=\"dataframe\">\n",
              "  <thead>\n",
              "    <tr>\n",
              "      <th class=\"blank level0\" >&nbsp;</th>\n",
              "      <th id=\"T_cbadc_level0_col0\" class=\"col_heading level0 col0\" >Model</th>\n",
              "      <th id=\"T_cbadc_level0_col1\" class=\"col_heading level0 col1\" >MAE</th>\n",
              "      <th id=\"T_cbadc_level0_col2\" class=\"col_heading level0 col2\" >MSE</th>\n",
              "      <th id=\"T_cbadc_level0_col3\" class=\"col_heading level0 col3\" >RMSE</th>\n",
              "      <th id=\"T_cbadc_level0_col4\" class=\"col_heading level0 col4\" >R2</th>\n",
              "      <th id=\"T_cbadc_level0_col5\" class=\"col_heading level0 col5\" >RMSLE</th>\n",
              "      <th id=\"T_cbadc_level0_col6\" class=\"col_heading level0 col6\" >MAPE</th>\n",
              "      <th id=\"T_cbadc_level0_col7\" class=\"col_heading level0 col7\" >TT (Sec)</th>\n",
              "    </tr>\n",
              "  </thead>\n",
              "  <tbody>\n",
              "    <tr>\n",
              "      <th id=\"T_cbadc_level0_row0\" class=\"row_heading level0 row0\" >xgboost</th>\n",
              "      <td id=\"T_cbadc_row0_col0\" class=\"data row0 col0\" >Extreme Gradient Boosting</td>\n",
              "      <td id=\"T_cbadc_row0_col1\" class=\"data row0 col1\" >2.5923</td>\n",
              "      <td id=\"T_cbadc_row0_col2\" class=\"data row0 col2\" >12.0691</td>\n",
              "      <td id=\"T_cbadc_row0_col3\" class=\"data row0 col3\" >3.4712</td>\n",
              "      <td id=\"T_cbadc_row0_col4\" class=\"data row0 col4\" >0.9585</td>\n",
              "      <td id=\"T_cbadc_row0_col5\" class=\"data row0 col5\" >0.0077</td>\n",
              "      <td id=\"T_cbadc_row0_col6\" class=\"data row0 col6\" >0.0057</td>\n",
              "      <td id=\"T_cbadc_row0_col7\" class=\"data row0 col7\" >0.3780</td>\n",
              "    </tr>\n",
              "    <tr>\n",
              "      <th id=\"T_cbadc_level0_row1\" class=\"row_heading level0 row1\" >lightgbm</th>\n",
              "      <td id=\"T_cbadc_row1_col0\" class=\"data row1 col0\" >Light Gradient Boosting Machine</td>\n",
              "      <td id=\"T_cbadc_row1_col1\" class=\"data row1 col1\" >2.6666</td>\n",
              "      <td id=\"T_cbadc_row1_col2\" class=\"data row1 col2\" >12.4960</td>\n",
              "      <td id=\"T_cbadc_row1_col3\" class=\"data row1 col3\" >3.5323</td>\n",
              "      <td id=\"T_cbadc_row1_col4\" class=\"data row1 col4\" >0.9570</td>\n",
              "      <td id=\"T_cbadc_row1_col5\" class=\"data row1 col5\" >0.0078</td>\n",
              "      <td id=\"T_cbadc_row1_col6\" class=\"data row1 col6\" >0.0059</td>\n",
              "      <td id=\"T_cbadc_row1_col7\" class=\"data row1 col7\" >0.6160</td>\n",
              "    </tr>\n",
              "    <tr>\n",
              "      <th id=\"T_cbadc_level0_row2\" class=\"row_heading level0 row2\" >et</th>\n",
              "      <td id=\"T_cbadc_row2_col0\" class=\"data row2 col0\" >Extra Trees Regressor</td>\n",
              "      <td id=\"T_cbadc_row2_col1\" class=\"data row2 col1\" >2.6736</td>\n",
              "      <td id=\"T_cbadc_row2_col2\" class=\"data row2 col2\" >12.8655</td>\n",
              "      <td id=\"T_cbadc_row2_col3\" class=\"data row2 col3\" >3.5823</td>\n",
              "      <td id=\"T_cbadc_row2_col4\" class=\"data row2 col4\" >0.9558</td>\n",
              "      <td id=\"T_cbadc_row2_col5\" class=\"data row2 col5\" >0.0079</td>\n",
              "      <td id=\"T_cbadc_row2_col6\" class=\"data row2 col6\" >0.0059</td>\n",
              "      <td id=\"T_cbadc_row2_col7\" class=\"data row2 col7\" >0.7100</td>\n",
              "    </tr>\n",
              "    <tr>\n",
              "      <th id=\"T_cbadc_level0_row3\" class=\"row_heading level0 row3\" >rf</th>\n",
              "      <td id=\"T_cbadc_row3_col0\" class=\"data row3 col0\" >Random Forest Regressor</td>\n",
              "      <td id=\"T_cbadc_row3_col1\" class=\"data row3 col1\" >2.7206</td>\n",
              "      <td id=\"T_cbadc_row3_col2\" class=\"data row3 col2\" >13.2925</td>\n",
              "      <td id=\"T_cbadc_row3_col3\" class=\"data row3 col3\" >3.6432</td>\n",
              "      <td id=\"T_cbadc_row3_col4\" class=\"data row3 col4\" >0.9543</td>\n",
              "      <td id=\"T_cbadc_row3_col5\" class=\"data row3 col5\" >0.0080</td>\n",
              "      <td id=\"T_cbadc_row3_col6\" class=\"data row3 col6\" >0.0060</td>\n",
              "      <td id=\"T_cbadc_row3_col7\" class=\"data row3 col7\" >1.5120</td>\n",
              "    </tr>\n",
              "    <tr>\n",
              "      <th id=\"T_cbadc_level0_row4\" class=\"row_heading level0 row4\" >gbr</th>\n",
              "      <td id=\"T_cbadc_row4_col0\" class=\"data row4 col0\" >Gradient Boosting Regressor</td>\n",
              "      <td id=\"T_cbadc_row4_col1\" class=\"data row4 col1\" >2.9682</td>\n",
              "      <td id=\"T_cbadc_row4_col2\" class=\"data row4 col2\" >14.5923</td>\n",
              "      <td id=\"T_cbadc_row4_col3\" class=\"data row4 col3\" >3.8170</td>\n",
              "      <td id=\"T_cbadc_row4_col4\" class=\"data row4 col4\" >0.9498</td>\n",
              "      <td id=\"T_cbadc_row4_col5\" class=\"data row4 col5\" >0.0084</td>\n",
              "      <td id=\"T_cbadc_row4_col6\" class=\"data row4 col6\" >0.0065</td>\n",
              "      <td id=\"T_cbadc_row4_col7\" class=\"data row4 col7\" >0.4780</td>\n",
              "    </tr>\n",
              "    <tr>\n",
              "      <th id=\"T_cbadc_level0_row5\" class=\"row_heading level0 row5\" >knn</th>\n",
              "      <td id=\"T_cbadc_row5_col0\" class=\"data row5 col0\" >K Neighbors Regressor</td>\n",
              "      <td id=\"T_cbadc_row5_col1\" class=\"data row5 col1\" >3.2531</td>\n",
              "      <td id=\"T_cbadc_row5_col2\" class=\"data row5 col2\" >18.1228</td>\n",
              "      <td id=\"T_cbadc_row5_col3\" class=\"data row5 col3\" >4.2533</td>\n",
              "      <td id=\"T_cbadc_row5_col4\" class=\"data row5 col4\" >0.9377</td>\n",
              "      <td id=\"T_cbadc_row5_col5\" class=\"data row5 col5\" >0.0093</td>\n",
              "      <td id=\"T_cbadc_row5_col6\" class=\"data row5 col6\" >0.0072</td>\n",
              "      <td id=\"T_cbadc_row5_col7\" class=\"data row5 col7\" >0.0540</td>\n",
              "    </tr>\n",
              "    <tr>\n",
              "      <th id=\"T_cbadc_level0_row6\" class=\"row_heading level0 row6\" >lar</th>\n",
              "      <td id=\"T_cbadc_row6_col0\" class=\"data row6 col0\" >Least Angle Regression</td>\n",
              "      <td id=\"T_cbadc_row6_col1\" class=\"data row6 col1\" >3.6073</td>\n",
              "      <td id=\"T_cbadc_row6_col2\" class=\"data row6 col2\" >19.8778</td>\n",
              "      <td id=\"T_cbadc_row6_col3\" class=\"data row6 col3\" >4.4556</td>\n",
              "      <td id=\"T_cbadc_row6_col4\" class=\"data row6 col4\" >0.9316</td>\n",
              "      <td id=\"T_cbadc_row6_col5\" class=\"data row6 col5\" >0.0098</td>\n",
              "      <td id=\"T_cbadc_row6_col6\" class=\"data row6 col6\" >0.0080</td>\n",
              "      <td id=\"T_cbadc_row6_col7\" class=\"data row6 col7\" >0.0420</td>\n",
              "    </tr>\n",
              "    <tr>\n",
              "      <th id=\"T_cbadc_level0_row7\" class=\"row_heading level0 row7\" >br</th>\n",
              "      <td id=\"T_cbadc_row7_col0\" class=\"data row7 col0\" >Bayesian Ridge</td>\n",
              "      <td id=\"T_cbadc_row7_col1\" class=\"data row7 col1\" >3.6074</td>\n",
              "      <td id=\"T_cbadc_row7_col2\" class=\"data row7 col2\" >19.8779</td>\n",
              "      <td id=\"T_cbadc_row7_col3\" class=\"data row7 col3\" >4.4556</td>\n",
              "      <td id=\"T_cbadc_row7_col4\" class=\"data row7 col4\" >0.9316</td>\n",
              "      <td id=\"T_cbadc_row7_col5\" class=\"data row7 col5\" >0.0098</td>\n",
              "      <td id=\"T_cbadc_row7_col6\" class=\"data row7 col6\" >0.0080</td>\n",
              "      <td id=\"T_cbadc_row7_col7\" class=\"data row7 col7\" >0.0420</td>\n",
              "    </tr>\n",
              "    <tr>\n",
              "      <th id=\"T_cbadc_level0_row8\" class=\"row_heading level0 row8\" >ridge</th>\n",
              "      <td id=\"T_cbadc_row8_col0\" class=\"data row8 col0\" >Ridge Regression</td>\n",
              "      <td id=\"T_cbadc_row8_col1\" class=\"data row8 col1\" >3.6073</td>\n",
              "      <td id=\"T_cbadc_row8_col2\" class=\"data row8 col2\" >19.8778</td>\n",
              "      <td id=\"T_cbadc_row8_col3\" class=\"data row8 col3\" >4.4556</td>\n",
              "      <td id=\"T_cbadc_row8_col4\" class=\"data row8 col4\" >0.9316</td>\n",
              "      <td id=\"T_cbadc_row8_col5\" class=\"data row8 col5\" >0.0098</td>\n",
              "      <td id=\"T_cbadc_row8_col6\" class=\"data row8 col6\" >0.0080</td>\n",
              "      <td id=\"T_cbadc_row8_col7\" class=\"data row8 col7\" >0.0420</td>\n",
              "    </tr>\n",
              "    <tr>\n",
              "      <th id=\"T_cbadc_level0_row9\" class=\"row_heading level0 row9\" >lr</th>\n",
              "      <td id=\"T_cbadc_row9_col0\" class=\"data row9 col0\" >Linear Regression</td>\n",
              "      <td id=\"T_cbadc_row9_col1\" class=\"data row9 col1\" >3.6073</td>\n",
              "      <td id=\"T_cbadc_row9_col2\" class=\"data row9 col2\" >19.8778</td>\n",
              "      <td id=\"T_cbadc_row9_col3\" class=\"data row9 col3\" >4.4556</td>\n",
              "      <td id=\"T_cbadc_row9_col4\" class=\"data row9 col4\" >0.9316</td>\n",
              "      <td id=\"T_cbadc_row9_col5\" class=\"data row9 col5\" >0.0098</td>\n",
              "      <td id=\"T_cbadc_row9_col6\" class=\"data row9 col6\" >0.0080</td>\n",
              "      <td id=\"T_cbadc_row9_col7\" class=\"data row9 col7\" >1.0640</td>\n",
              "    </tr>\n",
              "    <tr>\n",
              "      <th id=\"T_cbadc_level0_row10\" class=\"row_heading level0 row10\" >lasso</th>\n",
              "      <td id=\"T_cbadc_row10_col0\" class=\"data row10 col0\" >Lasso Regression</td>\n",
              "      <td id=\"T_cbadc_row10_col1\" class=\"data row10 col1\" >3.6159</td>\n",
              "      <td id=\"T_cbadc_row10_col2\" class=\"data row10 col2\" >19.9448</td>\n",
              "      <td id=\"T_cbadc_row10_col3\" class=\"data row10 col3\" >4.4633</td>\n",
              "      <td id=\"T_cbadc_row10_col4\" class=\"data row10 col4\" >0.9314</td>\n",
              "      <td id=\"T_cbadc_row10_col5\" class=\"data row10 col5\" >0.0098</td>\n",
              "      <td id=\"T_cbadc_row10_col6\" class=\"data row10 col6\" >0.0080</td>\n",
              "      <td id=\"T_cbadc_row10_col7\" class=\"data row10 col7\" >0.0400</td>\n",
              "    </tr>\n",
              "    <tr>\n",
              "      <th id=\"T_cbadc_level0_row11\" class=\"row_heading level0 row11\" >llar</th>\n",
              "      <td id=\"T_cbadc_row11_col0\" class=\"data row11 col0\" >Lasso Least Angle Regression</td>\n",
              "      <td id=\"T_cbadc_row11_col1\" class=\"data row11 col1\" >3.6160</td>\n",
              "      <td id=\"T_cbadc_row11_col2\" class=\"data row11 col2\" >19.9455</td>\n",
              "      <td id=\"T_cbadc_row11_col3\" class=\"data row11 col3\" >4.4634</td>\n",
              "      <td id=\"T_cbadc_row11_col4\" class=\"data row11 col4\" >0.9314</td>\n",
              "      <td id=\"T_cbadc_row11_col5\" class=\"data row11 col5\" >0.0098</td>\n",
              "      <td id=\"T_cbadc_row11_col6\" class=\"data row11 col6\" >0.0080</td>\n",
              "      <td id=\"T_cbadc_row11_col7\" class=\"data row11 col7\" >0.0400</td>\n",
              "    </tr>\n",
              "    <tr>\n",
              "      <th id=\"T_cbadc_level0_row12\" class=\"row_heading level0 row12\" >en</th>\n",
              "      <td id=\"T_cbadc_row12_col0\" class=\"data row12 col0\" >Elastic Net</td>\n",
              "      <td id=\"T_cbadc_row12_col1\" class=\"data row12 col1\" >3.6273</td>\n",
              "      <td id=\"T_cbadc_row12_col2\" class=\"data row12 col2\" >20.0355</td>\n",
              "      <td id=\"T_cbadc_row12_col3\" class=\"data row12 col3\" >4.4733</td>\n",
              "      <td id=\"T_cbadc_row12_col4\" class=\"data row12 col4\" >0.9311</td>\n",
              "      <td id=\"T_cbadc_row12_col5\" class=\"data row12 col5\" >0.0099</td>\n",
              "      <td id=\"T_cbadc_row12_col6\" class=\"data row12 col6\" >0.0080</td>\n",
              "      <td id=\"T_cbadc_row12_col7\" class=\"data row12 col7\" >0.0420</td>\n",
              "    </tr>\n",
              "    <tr>\n",
              "      <th id=\"T_cbadc_level0_row13\" class=\"row_heading level0 row13\" >ada</th>\n",
              "      <td id=\"T_cbadc_row13_col0\" class=\"data row13 col0\" >AdaBoost Regressor</td>\n",
              "      <td id=\"T_cbadc_row13_col1\" class=\"data row13 col1\" >3.7385</td>\n",
              "      <td id=\"T_cbadc_row13_col2\" class=\"data row13 col2\" >21.6040</td>\n",
              "      <td id=\"T_cbadc_row13_col3\" class=\"data row13 col3\" >4.6470</td>\n",
              "      <td id=\"T_cbadc_row13_col4\" class=\"data row13 col4\" >0.9256</td>\n",
              "      <td id=\"T_cbadc_row13_col5\" class=\"data row13 col5\" >0.0102</td>\n",
              "      <td id=\"T_cbadc_row13_col6\" class=\"data row13 col6\" >0.0082</td>\n",
              "      <td id=\"T_cbadc_row13_col7\" class=\"data row13 col7\" >0.2640</td>\n",
              "    </tr>\n",
              "    <tr>\n",
              "      <th id=\"T_cbadc_level0_row14\" class=\"row_heading level0 row14\" >huber</th>\n",
              "      <td id=\"T_cbadc_row14_col0\" class=\"data row14 col0\" >Huber Regressor</td>\n",
              "      <td id=\"T_cbadc_row14_col1\" class=\"data row14 col1\" >3.8365</td>\n",
              "      <td id=\"T_cbadc_row14_col2\" class=\"data row14 col2\" >23.0272</td>\n",
              "      <td id=\"T_cbadc_row14_col3\" class=\"data row14 col3\" >4.7879</td>\n",
              "      <td id=\"T_cbadc_row14_col4\" class=\"data row14 col4\" >0.9209</td>\n",
              "      <td id=\"T_cbadc_row14_col5\" class=\"data row14 col5\" >0.0105</td>\n",
              "      <td id=\"T_cbadc_row14_col6\" class=\"data row14 col6\" >0.0084</td>\n",
              "      <td id=\"T_cbadc_row14_col7\" class=\"data row14 col7\" >0.1500</td>\n",
              "    </tr>\n",
              "    <tr>\n",
              "      <th id=\"T_cbadc_level0_row15\" class=\"row_heading level0 row15\" >dt</th>\n",
              "      <td id=\"T_cbadc_row15_col0\" class=\"data row15 col0\" >Decision Tree Regressor</td>\n",
              "      <td id=\"T_cbadc_row15_col1\" class=\"data row15 col1\" >3.6213</td>\n",
              "      <td id=\"T_cbadc_row15_col2\" class=\"data row15 col2\" >24.9418</td>\n",
              "      <td id=\"T_cbadc_row15_col3\" class=\"data row15 col3\" >4.9906</td>\n",
              "      <td id=\"T_cbadc_row15_col4\" class=\"data row15 col4\" >0.9142</td>\n",
              "      <td id=\"T_cbadc_row15_col5\" class=\"data row15 col5\" >0.0110</td>\n",
              "      <td id=\"T_cbadc_row15_col6\" class=\"data row15 col6\" >0.0080</td>\n",
              "      <td id=\"T_cbadc_row15_col7\" class=\"data row15 col7\" >0.0540</td>\n",
              "    </tr>\n",
              "    <tr>\n",
              "      <th id=\"T_cbadc_level0_row16\" class=\"row_heading level0 row16\" >par</th>\n",
              "      <td id=\"T_cbadc_row16_col0\" class=\"data row16 col0\" >Passive Aggressive Regressor</td>\n",
              "      <td id=\"T_cbadc_row16_col1\" class=\"data row16 col1\" >6.5979</td>\n",
              "      <td id=\"T_cbadc_row16_col2\" class=\"data row16 col2\" >65.4433</td>\n",
              "      <td id=\"T_cbadc_row16_col3\" class=\"data row16 col3\" >7.8769</td>\n",
              "      <td id=\"T_cbadc_row16_col4\" class=\"data row16 col4\" >0.7743</td>\n",
              "      <td id=\"T_cbadc_row16_col5\" class=\"data row16 col5\" >0.0173</td>\n",
              "      <td id=\"T_cbadc_row16_col6\" class=\"data row16 col6\" >0.0144</td>\n",
              "      <td id=\"T_cbadc_row16_col7\" class=\"data row16 col7\" >0.0460</td>\n",
              "    </tr>\n",
              "    <tr>\n",
              "      <th id=\"T_cbadc_level0_row17\" class=\"row_heading level0 row17\" >omp</th>\n",
              "      <td id=\"T_cbadc_row17_col0\" class=\"data row17 col0\" >Orthogonal Matching Pursuit</td>\n",
              "      <td id=\"T_cbadc_row17_col1\" class=\"data row17 col1\" >6.5957</td>\n",
              "      <td id=\"T_cbadc_row17_col2\" class=\"data row17 col2\" >71.0527</td>\n",
              "      <td id=\"T_cbadc_row17_col3\" class=\"data row17 col3\" >8.4259</td>\n",
              "      <td id=\"T_cbadc_row17_col4\" class=\"data row17 col4\" >0.7553</td>\n",
              "      <td id=\"T_cbadc_row17_col5\" class=\"data row17 col5\" >0.0184</td>\n",
              "      <td id=\"T_cbadc_row17_col6\" class=\"data row17 col6\" >0.0145</td>\n",
              "      <td id=\"T_cbadc_row17_col7\" class=\"data row17 col7\" >0.0400</td>\n",
              "    </tr>\n",
              "    <tr>\n",
              "      <th id=\"T_cbadc_level0_row18\" class=\"row_heading level0 row18\" >dummy</th>\n",
              "      <td id=\"T_cbadc_row18_col0\" class=\"data row18 col0\" >Dummy Regressor</td>\n",
              "      <td id=\"T_cbadc_row18_col1\" class=\"data row18 col1\" >14.8461</td>\n",
              "      <td id=\"T_cbadc_row18_col2\" class=\"data row18 col2\" >290.8021</td>\n",
              "      <td id=\"T_cbadc_row18_col3\" class=\"data row18 col3\" >17.0507</td>\n",
              "      <td id=\"T_cbadc_row18_col4\" class=\"data row18 col4\" >-0.0016</td>\n",
              "      <td id=\"T_cbadc_row18_col5\" class=\"data row18 col5\" >0.0373</td>\n",
              "      <td id=\"T_cbadc_row18_col6\" class=\"data row18 col6\" >0.0326</td>\n",
              "      <td id=\"T_cbadc_row18_col7\" class=\"data row18 col7\" >0.0760</td>\n",
              "    </tr>\n",
              "  </tbody>\n",
              "</table>\n"
            ]
          },
          "metadata": {}
        },
        {
          "output_type": "display_data",
          "data": {
            "text/plain": [
              "Processing:   0%|          | 0/81 [00:00<?, ?it/s]"
            ],
            "application/vnd.jupyter.widget-view+json": {
              "version_major": 2,
              "version_minor": 0,
              "model_id": "3a2e971b2a6c4183bf3076bd43bd383d"
            }
          },
          "metadata": {
            "application/vnd.jupyter.widget-view+json": {
              "colab": {
                "custom_widget_manager": {
                  "url": "https://ssl.gstatic.com/colaboratory-static/widgets/colab-cdn-widget-manager/b3e629b1971e1542/manager.min.js"
                }
              }
            }
          }
        },
        {
          "output_type": "display_data",
          "data": {
            "text/plain": [
              "<IPython.core.display.HTML object>"
            ],
            "text/html": []
          },
          "metadata": {}
        }
      ]
    },
    {
      "cell_type": "code",
      "source": [
        "plot_model(best_model)"
      ],
      "metadata": {
        "colab": {
          "base_uri": "https://localhost:8080/",
          "height": 518
        },
        "id": "PiM-yKi0LQeH",
        "outputId": "1dc063c2-a9b9-44f0-ae1c-f12faca63564"
      },
      "execution_count": 24,
      "outputs": [
        {
          "output_type": "display_data",
          "data": {
            "text/plain": [
              "<IPython.core.display.HTML object>"
            ],
            "text/html": []
          },
          "metadata": {}
        },
        {
          "output_type": "display_data",
          "data": {
            "text/plain": [
              "<Figure size 800x550 with 2 Axes>"
            ],
            "image/png": "[encoded data removed]"
          },
          "metadata": {}
        }
      ]
    }
  ]
}