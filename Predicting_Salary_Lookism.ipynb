{
  "nbformat": 4,
  "nbformat_minor": 0,
  "metadata": {
    "colab": {
      "provenance": [],
      "authorship_tag": "ABX9TyM6C7GIgwp9oNNla0n4txL7",
      "include_colab_link": true
    },
    "kernelspec": {
      "name": "python3",
      "display_name": "Python 3"
    },
    "language_info": {
      "name": "python"
    },
    "widgets": {
      "application/vnd.jupyter.widget-state+json": {
        "8242a5250e3946c3b7a67d3bbb266ba7": {
          "model_module": "@jupyter-widgets/controls",
          "model_name": "HBoxModel",
          "model_module_version": "1.5.0",
          "state": {
            "_dom_classes": [],
            "_model_module": "@jupyter-widgets/controls",
            "_model_module_version": "1.5.0",
            "_model_name": "HBoxModel",
            "_view_count": null,
            "_view_module": "@jupyter-widgets/controls",
            "_view_module_version": "1.5.0",
            "_view_name": "HBoxView",
            "box_style": "",
            "children": [
              "IPY_MODEL_d83c21ea170f4132835158ec80b57b2a",
              "IPY_MODEL_97841e2bfdba4d63babe2e0d42064b73",
              "IPY_MODEL_3c630294a22e4cbdb7a78fedb6610ce0"
            ],
            "layout": "IPY_MODEL_f17c0714f48b4ecb9670f702d106962f"
          }
        },
        "d83c21ea170f4132835158ec80b57b2a": {
          "model_module": "@jupyter-widgets/controls",
          "model_name": "HTMLModel",
          "model_module_version": "1.5.0",
          "state": {
            "_dom_classes": [],
            "_model_module": "@jupyter-widgets/controls",
            "_model_module_version": "1.5.0",
            "_model_name": "HTMLModel",
            "_view_count": null,
            "_view_module": "@jupyter-widgets/controls",
            "_view_module_version": "1.5.0",
            "_view_name": "HTMLView",
            "description": "",
            "description_tooltip": null,
            "layout": "IPY_MODEL_4392449085f74f639fafd27e0430c550",
            "placeholder": "​",
            "style": "IPY_MODEL_85bc395553dd4f09841aca887389240d",
            "value": "Processing: 100%"
          }
        },
        "97841e2bfdba4d63babe2e0d42064b73": {
          "model_module": "@jupyter-widgets/controls",
          "model_name": "FloatProgressModel",
          "model_module_version": "1.5.0",
          "state": {
            "_dom_classes": [],
            "_model_module": "@jupyter-widgets/controls",
            "_model_module_version": "1.5.0",
            "_model_name": "FloatProgressModel",
            "_view_count": null,
            "_view_module": "@jupyter-widgets/controls",
            "_view_module_version": "1.5.0",
            "_view_name": "ProgressView",
            "bar_style": "",
            "description": "",
            "description_tooltip": null,
            "layout": "IPY_MODEL_81207f79612544118ee91db1fe6d8bb1",
            "max": 81,
            "min": 0,
            "orientation": "horizontal",
            "style": "IPY_MODEL_6df48acd878e4d4598925e375967766d",
            "value": 81
          }
        },
        "3c630294a22e4cbdb7a78fedb6610ce0": {
          "model_module": "@jupyter-widgets/controls",
          "model_name": "HTMLModel",
          "model_module_version": "1.5.0",
          "state": {
            "_dom_classes": [],
            "_model_module": "@jupyter-widgets/controls",
            "_model_module_version": "1.5.0",
            "_model_name": "HTMLModel",
            "_view_count": null,
            "_view_module": "@jupyter-widgets/controls",
            "_view_module_version": "1.5.0",
            "_view_name": "HTMLView",
            "description": "",
            "description_tooltip": null,
            "layout": "IPY_MODEL_93f2875c61474b4b95cf0e3660fb3343",
            "placeholder": "​",
            "style": "IPY_MODEL_1f707f48aa59412a89378b63f61707c4",
            "value": " 81/81 [00:27&lt;00:00,  4.55it/s]"
          }
        },
        "f17c0714f48b4ecb9670f702d106962f": {
          "model_module": "@jupyter-widgets/base",
          "model_name": "LayoutModel",
          "model_module_version": "1.2.0",
          "state": {
            "_model_module": "@jupyter-widgets/base",
            "_model_module_version": "1.2.0",
            "_model_name": "LayoutModel",
            "_view_count": null,
            "_view_module": "@jupyter-widgets/base",
            "_view_module_version": "1.2.0",
            "_view_name": "LayoutView",
            "align_content": null,
            "align_items": null,
            "align_self": null,
            "border": null,
            "bottom": null,
            "display": null,
            "flex": null,
            "flex_flow": null,
            "grid_area": null,
            "grid_auto_columns": null,
            "grid_auto_flow": null,
            "grid_auto_rows": null,
            "grid_column": null,
            "grid_gap": null,
            "grid_row": null,
            "grid_template_areas": null,
            "grid_template_columns": null,
            "grid_template_rows": null,
            "height": null,
            "justify_content": null,
            "justify_items": null,
            "left": null,
            "margin": null,
            "max_height": null,
            "max_width": null,
            "min_height": null,
            "min_width": null,
            "object_fit": null,
            "object_position": null,
            "order": null,
            "overflow": null,
            "overflow_x": null,
            "overflow_y": null,
            "padding": null,
            "right": null,
            "top": null,
            "visibility": "hidden",
            "width": null
          }
        },
        "4392449085f74f639fafd27e0430c550": {
          "model_module": "@jupyter-widgets/base",
          "model_name": "LayoutModel",
          "model_module_version": "1.2.0",
          "state": {
            "_model_module": "@jupyter-widgets/base",
            "_model_module_version": "1.2.0",
            "_model_name": "LayoutModel",
            "_view_count": null,
            "_view_module": "@jupyter-widgets/base",
            "_view_module_version": "1.2.0",
            "_view_name": "LayoutView",
            "align_content": null,
            "align_items": null,
            "align_self": null,
            "border": null,
            "bottom": null,
            "display": null,
            "flex": null,
            "flex_flow": null,
            "grid_area": null,
            "grid_auto_columns": null,
            "grid_auto_flow": null,
            "grid_auto_rows": null,
            "grid_column": null,
            "grid_gap": null,
            "grid_row": null,
            "grid_template_areas": null,
            "grid_template_columns": null,
            "grid_template_rows": null,
            "height": null,
            "justify_content": null,
            "justify_items": null,
            "left": null,
            "margin": null,
            "max_height": null,
            "max_width": null,
            "min_height": null,
            "min_width": null,
            "object_fit": null,
            "object_position": null,
            "order": null,
            "overflow": null,
            "overflow_x": null,
            "overflow_y": null,
            "padding": null,
            "right": null,
            "top": null,
            "visibility": null,
            "width": null
          }
        },
        "85bc395553dd4f09841aca887389240d": {
          "model_module": "@jupyter-widgets/controls",
          "model_name": "DescriptionStyleModel",
          "model_module_version": "1.5.0",
          "state": {
            "_model_module": "@jupyter-widgets/controls",
            "_model_module_version": "1.5.0",
            "_model_name": "DescriptionStyleModel",
            "_view_count": null,
            "_view_module": "@jupyter-widgets/base",
            "_view_module_version": "1.2.0",
            "_view_name": "StyleView",
            "description_width": ""
          }
        },
        "81207f79612544118ee91db1fe6d8bb1": {
          "model_module": "@jupyter-widgets/base",
          "model_name": "LayoutModel",
          "model_module_version": "1.2.0",
          "state": {
            "_model_module": "@jupyter-widgets/base",
            "_model_module_version": "1.2.0",
            "_model_name": "LayoutModel",
            "_view_count": null,
            "_view_module": "@jupyter-widgets/base",
            "_view_module_version": "1.2.0",
            "_view_name": "LayoutView",
            "align_content": null,
            "align_items": null,
            "align_self": null,
            "border": null,
            "bottom": null,
            "display": null,
            "flex": null,
            "flex_flow": null,
            "grid_area": null,
            "grid_auto_columns": null,
            "grid_auto_flow": null,
            "grid_auto_rows": null,
            "grid_column": null,
            "grid_gap": null,
            "grid_row": null,
            "grid_template_areas": null,
            "grid_template_columns": null,
            "grid_template_rows": null,
            "height": null,
            "justify_content": null,
            "justify_items": null,
            "left": null,
            "margin": null,
            "max_height": null,
            "max_width": null,
            "min_height": null,
            "min_width": null,
            "object_fit": null,
            "object_position": null,
            "order": null,
            "overflow": null,
            "overflow_x": null,
            "overflow_y": null,
            "padding": null,
            "right": null,
            "top": null,
            "visibility": null,
            "width": null
          }
        },
        "6df48acd878e4d4598925e375967766d": {
          "model_module": "@jupyter-widgets/controls",
          "model_name": "ProgressStyleModel",
          "model_module_version": "1.5.0",
          "state": {
            "_model_module": "@jupyter-widgets/controls",
            "_model_module_version": "1.5.0",
            "_model_name": "ProgressStyleModel",
            "_view_count": null,
            "_view_module": "@jupyter-widgets/base",
            "_view_module_version": "1.2.0",
            "_view_name": "StyleView",
            "bar_color": null,
            "description_width": ""
          }
        },
        "93f2875c61474b4b95cf0e3660fb3343": {
          "model_module": "@jupyter-widgets/base",
          "model_name": "LayoutModel",
          "model_module_version": "1.2.0",
          "state": {
            "_model_module": "@jupyter-widgets/base",
            "_model_module_version": "1.2.0",
            "_model_name": "LayoutModel",
            "_view_count": null,
            "_view_module": "@jupyter-widgets/base",
            "_view_module_version": "1.2.0",
            "_view_name": "LayoutView",
            "align_content": null,
            "align_items": null,
            "align_self": null,
            "border": null,
            "bottom": null,
            "display": null,
            "flex": null,
            "flex_flow": null,
            "grid_area": null,
            "grid_auto_columns": null,
            "grid_auto_flow": null,
            "grid_auto_rows": null,
            "grid_column": null,
            "grid_gap": null,
            "grid_row": null,
            "grid_template_areas": null,
            "grid_template_columns": null,
            "grid_template_rows": null,
            "height": null,
            "justify_content": null,
            "justify_items": null,
            "left": null,
            "margin": null,
            "max_height": null,
            "max_width": null,
            "min_height": null,
            "min_width": null,
            "object_fit": null,
            "object_position": null,
            "order": null,
            "overflow": null,
            "overflow_x": null,
            "overflow_y": null,
            "padding": null,
            "right": null,
            "top": null,
            "visibility": null,
            "width": null
          }
        },
        "1f707f48aa59412a89378b63f61707c4": {
          "model_module": "@jupyter-widgets/controls",
          "model_name": "DescriptionStyleModel",
          "model_module_version": "1.5.0",
          "state": {
            "_model_module": "@jupyter-widgets/controls",
            "_model_module_version": "1.5.0",
            "_model_name": "DescriptionStyleModel",
            "_view_count": null,
            "_view_module": "@jupyter-widgets/base",
            "_view_module_version": "1.2.0",
            "_view_name": "StyleView",
            "description_width": ""
          }
        }
      }
    }
  },
  "cells": [
    {
      "cell_type": "markdown",
      "metadata": {
        "id": "view-in-github",
        "colab_type": "text"
      },
      "source": [
        "<a href=\"https://colab.research.google.com/github/a-donat/Benchmarks_PyCaret/blob/main/Predicting_Salary_Lookism.ipynb\" target=\"_parent\"><img src=\"https://colab.research.google.com/assets/colab-badge.svg\" alt=\"Open In Colab\"/></a>"
      ]
    },
    {
      "cell_type": "markdown",
      "source": [
        "# I. Set-Up"
      ],
      "metadata": {
        "id": "EjJ5M3C1sQDA"
      }
    },
    {
      "cell_type": "markdown",
      "source": [
        "## I.A. Import Libraries and Download Data"
      ],
      "metadata": {
        "id": "_1u8l9-Wq2to"
      }
    },
    {
      "cell_type": "code",
      "source": [
        "! pip install kaggle\n",
        "! mkdir ~/.kaggle\n",
        "! cp kaggle.json ~/.kaggle/\n",
        "! chmod 600 ~/.kaggle/kaggle.json\n",
        "! kaggle datasets download -d aungpyaeap/beauty\n",
        "! unzip '/content/beauty.zip' -d '/content/data'"
      ],
      "metadata": {
        "id": "cU-J1Vvhq6mp"
      },
      "execution_count": null,
      "outputs": []
    },
    {
      "cell_type": "code",
      "source": [
        "! pip install pycaret"
      ],
      "metadata": {
        "id": "q2OwTXkgrNEd"
      },
      "execution_count": null,
      "outputs": []
    },
    {
      "cell_type": "code",
      "execution_count": 5,
      "metadata": {
        "id": "KJR0DPb6qvvl"
      },
      "outputs": [],
      "source": [
        "#import matplotlib.pyplot as plt\n",
        "#import seaborn as sns\n",
        "#import VisualizeDataAbbrev as viz\n",
        "\n",
        "import numpy as np\n",
        "import pandas as pd\n",
        "from pycaret.regression import *\n",
        "from sklearn.model_selection import train_test_split"
      ]
    },
    {
      "cell_type": "markdown",
      "source": [
        "## I.B. Load Data and Check Data Integrity"
      ],
      "metadata": {
        "id": "xtnQ852lrdGq"
      }
    },
    {
      "cell_type": "code",
      "source": [
        "ds_df = pd.read_csv(\"/content/data/beauty.csv\")\n"
      ],
      "metadata": {
        "id": "szcd_HHIrepR"
      },
      "execution_count": 96,
      "outputs": []
    },
    {
      "cell_type": "code",
      "source": [
        "ds_df.info()"
      ],
      "metadata": {
        "colab": {
          "base_uri": "https://localhost:8080/"
        },
        "id": "7SRp7d3IrmyK",
        "outputId": "44c26051-cd56-4a7d-89ed-fafed099cddc"
      },
      "execution_count": 97,
      "outputs": [
        {
          "output_type": "stream",
          "name": "stdout",
          "text": [
            "<class 'pandas.core.frame.DataFrame'>\n",
            "RangeIndex: 1260 entries, 0 to 1259\n",
            "Data columns (total 10 columns):\n",
            " #   Column    Non-Null Count  Dtype  \n",
            "---  ------    --------------  -----  \n",
            " 0   wage      1260 non-null   float64\n",
            " 1   exper     1260 non-null   int64  \n",
            " 2   union     1260 non-null   int64  \n",
            " 3   goodhlth  1260 non-null   int64  \n",
            " 4   black     1260 non-null   int64  \n",
            " 5   female    1260 non-null   int64  \n",
            " 6   married   1260 non-null   int64  \n",
            " 7   service   1260 non-null   int64  \n",
            " 8   educ      1260 non-null   int64  \n",
            " 9   looks     1260 non-null   int64  \n",
            "dtypes: float64(1), int64(9)\n",
            "memory usage: 98.6 KB\n"
          ]
        }
      ]
    },
    {
      "cell_type": "code",
      "source": [
        "ds_df.nunique()"
      ],
      "metadata": {
        "colab": {
          "base_uri": "https://localhost:8080/"
        },
        "id": "LJTsP960vQAN",
        "outputId": "fd935769-e65b-44aa-859a-4b5c1d428425"
      },
      "execution_count": 98,
      "outputs": [
        {
          "output_type": "execute_result",
          "data": {
            "text/plain": [
              "wage        520\n",
              "exper        49\n",
              "union         2\n",
              "goodhlth      2\n",
              "black         2\n",
              "female        2\n",
              "married       2\n",
              "service       2\n",
              "educ          8\n",
              "looks         5\n",
              "dtype: int64"
            ]
          },
          "metadata": {},
          "execution_count": 98
        }
      ]
    },
    {
      "cell_type": "markdown",
      "source": [
        "\n",
        "# II. Preprocessing"
      ],
      "metadata": {
        "id": "O8lUlQCJsJhx"
      }
    },
    {
      "cell_type": "code",
      "source": [
        "train_df, test_df = train_test_split(\n",
        "    ds_df, test_size=0.20, random_state=1)"
      ],
      "metadata": {
        "id": "bdlYT0C6sVQC"
      },
      "execution_count": 100,
      "outputs": []
    },
    {
      "cell_type": "markdown",
      "source": [
        "# III. Create Models"
      ],
      "metadata": {
        "id": "0V1W04AjslJD"
      }
    },
    {
      "cell_type": "code",
      "source": [
        "reg_models = setup(\n",
        "    data=train_df, target='wage', session_id=123)"
      ],
      "metadata": {
        "colab": {
          "base_uri": "https://localhost:8080/",
          "height": 645
        },
        "id": "UUDwZKDmsoJ8",
        "outputId": "094ef979-d120-4a9d-a913-7500470c4ec9"
      },
      "execution_count": 101,
      "outputs": [
        {
          "output_type": "display_data",
          "data": {
            "text/plain": [
              "<pandas.io.formats.style.Styler at 0x7f7c9defc190>"
            ],
            "text/html": [
              "<style type=\"text/css\">\n",
              "#T_ab761_row8_col1 {\n",
              "  background-color: lightgreen;\n",
              "}\n",
              "</style>\n",
              "<table id=\"T_ab761\" class=\"dataframe\">\n",
              "  <thead>\n",
              "    <tr>\n",
              "      <th class=\"blank level0\" >&nbsp;</th>\n",
              "      <th id=\"T_ab761_level0_col0\" class=\"col_heading level0 col0\" >Description</th>\n",
              "      <th id=\"T_ab761_level0_col1\" class=\"col_heading level0 col1\" >Value</th>\n",
              "    </tr>\n",
              "  </thead>\n",
              "  <tbody>\n",
              "    <tr>\n",
              "      <th id=\"T_ab761_level0_row0\" class=\"row_heading level0 row0\" >0</th>\n",
              "      <td id=\"T_ab761_row0_col0\" class=\"data row0 col0\" >Session id</td>\n",
              "      <td id=\"T_ab761_row0_col1\" class=\"data row0 col1\" >123</td>\n",
              "    </tr>\n",
              "    <tr>\n",
              "      <th id=\"T_ab761_level0_row1\" class=\"row_heading level0 row1\" >1</th>\n",
              "      <td id=\"T_ab761_row1_col0\" class=\"data row1 col0\" >Target</td>\n",
              "      <td id=\"T_ab761_row1_col1\" class=\"data row1 col1\" >wage</td>\n",
              "    </tr>\n",
              "    <tr>\n",
              "      <th id=\"T_ab761_level0_row2\" class=\"row_heading level0 row2\" >2</th>\n",
              "      <td id=\"T_ab761_row2_col0\" class=\"data row2 col0\" >Target type</td>\n",
              "      <td id=\"T_ab761_row2_col1\" class=\"data row2 col1\" >Regression</td>\n",
              "    </tr>\n",
              "    <tr>\n",
              "      <th id=\"T_ab761_level0_row3\" class=\"row_heading level0 row3\" >3</th>\n",
              "      <td id=\"T_ab761_row3_col0\" class=\"data row3 col0\" >Original data shape</td>\n",
              "      <td id=\"T_ab761_row3_col1\" class=\"data row3 col1\" >(1008, 10)</td>\n",
              "    </tr>\n",
              "    <tr>\n",
              "      <th id=\"T_ab761_level0_row4\" class=\"row_heading level0 row4\" >4</th>\n",
              "      <td id=\"T_ab761_row4_col0\" class=\"data row4 col0\" >Transformed data shape</td>\n",
              "      <td id=\"T_ab761_row4_col1\" class=\"data row4 col1\" >(1008, 10)</td>\n",
              "    </tr>\n",
              "    <tr>\n",
              "      <th id=\"T_ab761_level0_row5\" class=\"row_heading level0 row5\" >5</th>\n",
              "      <td id=\"T_ab761_row5_col0\" class=\"data row5 col0\" >Transformed train set shape</td>\n",
              "      <td id=\"T_ab761_row5_col1\" class=\"data row5 col1\" >(705, 10)</td>\n",
              "    </tr>\n",
              "    <tr>\n",
              "      <th id=\"T_ab761_level0_row6\" class=\"row_heading level0 row6\" >6</th>\n",
              "      <td id=\"T_ab761_row6_col0\" class=\"data row6 col0\" >Transformed test set shape</td>\n",
              "      <td id=\"T_ab761_row6_col1\" class=\"data row6 col1\" >(303, 10)</td>\n",
              "    </tr>\n",
              "    <tr>\n",
              "      <th id=\"T_ab761_level0_row7\" class=\"row_heading level0 row7\" >7</th>\n",
              "      <td id=\"T_ab761_row7_col0\" class=\"data row7 col0\" >Numeric features</td>\n",
              "      <td id=\"T_ab761_row7_col1\" class=\"data row7 col1\" >9</td>\n",
              "    </tr>\n",
              "    <tr>\n",
              "      <th id=\"T_ab761_level0_row8\" class=\"row_heading level0 row8\" >8</th>\n",
              "      <td id=\"T_ab761_row8_col0\" class=\"data row8 col0\" >Preprocess</td>\n",
              "      <td id=\"T_ab761_row8_col1\" class=\"data row8 col1\" >True</td>\n",
              "    </tr>\n",
              "    <tr>\n",
              "      <th id=\"T_ab761_level0_row9\" class=\"row_heading level0 row9\" >9</th>\n",
              "      <td id=\"T_ab761_row9_col0\" class=\"data row9 col0\" >Imputation type</td>\n",
              "      <td id=\"T_ab761_row9_col1\" class=\"data row9 col1\" >simple</td>\n",
              "    </tr>\n",
              "    <tr>\n",
              "      <th id=\"T_ab761_level0_row10\" class=\"row_heading level0 row10\" >10</th>\n",
              "      <td id=\"T_ab761_row10_col0\" class=\"data row10 col0\" >Numeric imputation</td>\n",
              "      <td id=\"T_ab761_row10_col1\" class=\"data row10 col1\" >mean</td>\n",
              "    </tr>\n",
              "    <tr>\n",
              "      <th id=\"T_ab761_level0_row11\" class=\"row_heading level0 row11\" >11</th>\n",
              "      <td id=\"T_ab761_row11_col0\" class=\"data row11 col0\" >Categorical imputation</td>\n",
              "      <td id=\"T_ab761_row11_col1\" class=\"data row11 col1\" >mode</td>\n",
              "    </tr>\n",
              "    <tr>\n",
              "      <th id=\"T_ab761_level0_row12\" class=\"row_heading level0 row12\" >12</th>\n",
              "      <td id=\"T_ab761_row12_col0\" class=\"data row12 col0\" >Fold Generator</td>\n",
              "      <td id=\"T_ab761_row12_col1\" class=\"data row12 col1\" >KFold</td>\n",
              "    </tr>\n",
              "    <tr>\n",
              "      <th id=\"T_ab761_level0_row13\" class=\"row_heading level0 row13\" >13</th>\n",
              "      <td id=\"T_ab761_row13_col0\" class=\"data row13 col0\" >Fold Number</td>\n",
              "      <td id=\"T_ab761_row13_col1\" class=\"data row13 col1\" >10</td>\n",
              "    </tr>\n",
              "    <tr>\n",
              "      <th id=\"T_ab761_level0_row14\" class=\"row_heading level0 row14\" >14</th>\n",
              "      <td id=\"T_ab761_row14_col0\" class=\"data row14 col0\" >CPU Jobs</td>\n",
              "      <td id=\"T_ab761_row14_col1\" class=\"data row14 col1\" >-1</td>\n",
              "    </tr>\n",
              "    <tr>\n",
              "      <th id=\"T_ab761_level0_row15\" class=\"row_heading level0 row15\" >15</th>\n",
              "      <td id=\"T_ab761_row15_col0\" class=\"data row15 col0\" >Use GPU</td>\n",
              "      <td id=\"T_ab761_row15_col1\" class=\"data row15 col1\" >False</td>\n",
              "    </tr>\n",
              "    <tr>\n",
              "      <th id=\"T_ab761_level0_row16\" class=\"row_heading level0 row16\" >16</th>\n",
              "      <td id=\"T_ab761_row16_col0\" class=\"data row16 col0\" >Log Experiment</td>\n",
              "      <td id=\"T_ab761_row16_col1\" class=\"data row16 col1\" >False</td>\n",
              "    </tr>\n",
              "    <tr>\n",
              "      <th id=\"T_ab761_level0_row17\" class=\"row_heading level0 row17\" >17</th>\n",
              "      <td id=\"T_ab761_row17_col0\" class=\"data row17 col0\" >Experiment Name</td>\n",
              "      <td id=\"T_ab761_row17_col1\" class=\"data row17 col1\" >reg-default-name</td>\n",
              "    </tr>\n",
              "    <tr>\n",
              "      <th id=\"T_ab761_level0_row18\" class=\"row_heading level0 row18\" >18</th>\n",
              "      <td id=\"T_ab761_row18_col0\" class=\"data row18 col0\" >USI</td>\n",
              "      <td id=\"T_ab761_row18_col1\" class=\"data row18 col1\" >5a45</td>\n",
              "    </tr>\n",
              "  </tbody>\n",
              "</table>\n"
            ]
          },
          "metadata": {}
        }
      ]
    },
    {
      "cell_type": "code",
      "source": [
        "best_model = compare_models(fold=5)\n"
      ],
      "metadata": {
        "colab": {
          "base_uri": "https://localhost:8080/",
          "height": 679,
          "referenced_widgets": [
            "8242a5250e3946c3b7a67d3bbb266ba7",
            "d83c21ea170f4132835158ec80b57b2a",
            "97841e2bfdba4d63babe2e0d42064b73",
            "3c630294a22e4cbdb7a78fedb6610ce0",
            "f17c0714f48b4ecb9670f702d106962f",
            "4392449085f74f639fafd27e0430c550",
            "85bc395553dd4f09841aca887389240d",
            "81207f79612544118ee91db1fe6d8bb1",
            "6df48acd878e4d4598925e375967766d",
            "93f2875c61474b4b95cf0e3660fb3343",
            "1f707f48aa59412a89378b63f61707c4"
          ]
        },
        "id": "ujtCH1wksuFG",
        "outputId": "b1f12256-0921-493d-ec44-7c0b4192301b"
      },
      "execution_count": 102,
      "outputs": [
        {
          "output_type": "display_data",
          "data": {
            "text/plain": [
              "<IPython.core.display.HTML object>"
            ],
            "text/html": []
          },
          "metadata": {}
        },
        {
          "output_type": "display_data",
          "data": {
            "text/plain": [
              "<pandas.io.formats.style.Styler at 0x7f7c9e7d8910>"
            ],
            "text/html": [
              "<style type=\"text/css\">\n",
              "#T_17cb9 th {\n",
              "  text-align: left;\n",
              "}\n",
              "#T_17cb9_row0_col0, #T_17cb9_row0_col1, #T_17cb9_row0_col5, #T_17cb9_row0_col6, #T_17cb9_row1_col0, #T_17cb9_row1_col1, #T_17cb9_row1_col2, #T_17cb9_row1_col3, #T_17cb9_row1_col4, #T_17cb9_row1_col5, #T_17cb9_row1_col6, #T_17cb9_row2_col0, #T_17cb9_row2_col1, #T_17cb9_row2_col2, #T_17cb9_row2_col3, #T_17cb9_row2_col4, #T_17cb9_row2_col5, #T_17cb9_row2_col6, #T_17cb9_row3_col0, #T_17cb9_row3_col1, #T_17cb9_row3_col2, #T_17cb9_row3_col3, #T_17cb9_row3_col4, #T_17cb9_row3_col5, #T_17cb9_row3_col6, #T_17cb9_row4_col0, #T_17cb9_row4_col2, #T_17cb9_row4_col3, #T_17cb9_row4_col4, #T_17cb9_row5_col0, #T_17cb9_row5_col1, #T_17cb9_row5_col2, #T_17cb9_row5_col3, #T_17cb9_row5_col4, #T_17cb9_row5_col5, #T_17cb9_row5_col6, #T_17cb9_row6_col0, #T_17cb9_row6_col1, #T_17cb9_row6_col2, #T_17cb9_row6_col3, #T_17cb9_row6_col4, #T_17cb9_row6_col5, #T_17cb9_row6_col6, #T_17cb9_row7_col0, #T_17cb9_row7_col1, #T_17cb9_row7_col2, #T_17cb9_row7_col3, #T_17cb9_row7_col4, #T_17cb9_row7_col5, #T_17cb9_row7_col6, #T_17cb9_row8_col0, #T_17cb9_row8_col1, #T_17cb9_row8_col2, #T_17cb9_row8_col3, #T_17cb9_row8_col4, #T_17cb9_row8_col5, #T_17cb9_row8_col6, #T_17cb9_row9_col0, #T_17cb9_row9_col1, #T_17cb9_row9_col2, #T_17cb9_row9_col3, #T_17cb9_row9_col4, #T_17cb9_row9_col5, #T_17cb9_row9_col6, #T_17cb9_row10_col0, #T_17cb9_row10_col1, #T_17cb9_row10_col2, #T_17cb9_row10_col3, #T_17cb9_row10_col4, #T_17cb9_row10_col5, #T_17cb9_row10_col6, #T_17cb9_row11_col0, #T_17cb9_row11_col1, #T_17cb9_row11_col2, #T_17cb9_row11_col3, #T_17cb9_row11_col4, #T_17cb9_row11_col5, #T_17cb9_row11_col6, #T_17cb9_row12_col0, #T_17cb9_row12_col1, #T_17cb9_row12_col2, #T_17cb9_row12_col3, #T_17cb9_row12_col4, #T_17cb9_row12_col5, #T_17cb9_row12_col6, #T_17cb9_row13_col0, #T_17cb9_row13_col1, #T_17cb9_row13_col2, #T_17cb9_row13_col3, #T_17cb9_row13_col4, #T_17cb9_row13_col5, #T_17cb9_row13_col6, #T_17cb9_row14_col0, #T_17cb9_row14_col1, #T_17cb9_row14_col2, #T_17cb9_row14_col3, #T_17cb9_row14_col4, #T_17cb9_row14_col5, #T_17cb9_row14_col6, #T_17cb9_row15_col0, #T_17cb9_row15_col1, #T_17cb9_row15_col2, #T_17cb9_row15_col3, #T_17cb9_row15_col4, #T_17cb9_row15_col5, #T_17cb9_row15_col6, #T_17cb9_row16_col0, #T_17cb9_row16_col1, #T_17cb9_row16_col2, #T_17cb9_row16_col3, #T_17cb9_row16_col4, #T_17cb9_row16_col5, #T_17cb9_row16_col6, #T_17cb9_row17_col0, #T_17cb9_row17_col1, #T_17cb9_row17_col2, #T_17cb9_row17_col3, #T_17cb9_row17_col4, #T_17cb9_row17_col5, #T_17cb9_row17_col6, #T_17cb9_row18_col0, #T_17cb9_row18_col1, #T_17cb9_row18_col2, #T_17cb9_row18_col3, #T_17cb9_row18_col4, #T_17cb9_row18_col5, #T_17cb9_row18_col6 {\n",
              "  text-align: left;\n",
              "}\n",
              "#T_17cb9_row0_col2, #T_17cb9_row0_col3, #T_17cb9_row0_col4, #T_17cb9_row4_col1, #T_17cb9_row4_col5, #T_17cb9_row4_col6 {\n",
              "  text-align: left;\n",
              "  background-color: yellow;\n",
              "}\n",
              "#T_17cb9_row0_col7, #T_17cb9_row1_col7, #T_17cb9_row2_col7, #T_17cb9_row3_col7, #T_17cb9_row4_col7, #T_17cb9_row5_col7, #T_17cb9_row6_col7, #T_17cb9_row7_col7, #T_17cb9_row8_col7, #T_17cb9_row10_col7, #T_17cb9_row11_col7, #T_17cb9_row13_col7, #T_17cb9_row14_col7, #T_17cb9_row15_col7, #T_17cb9_row16_col7, #T_17cb9_row17_col7, #T_17cb9_row18_col7 {\n",
              "  text-align: left;\n",
              "  background-color: lightgrey;\n",
              "}\n",
              "#T_17cb9_row9_col7, #T_17cb9_row12_col7 {\n",
              "  text-align: left;\n",
              "  background-color: yellow;\n",
              "  background-color: lightgrey;\n",
              "}\n",
              "</style>\n",
              "<table id=\"T_17cb9\" class=\"dataframe\">\n",
              "  <thead>\n",
              "    <tr>\n",
              "      <th class=\"blank level0\" >&nbsp;</th>\n",
              "      <th id=\"T_17cb9_level0_col0\" class=\"col_heading level0 col0\" >Model</th>\n",
              "      <th id=\"T_17cb9_level0_col1\" class=\"col_heading level0 col1\" >MAE</th>\n",
              "      <th id=\"T_17cb9_level0_col2\" class=\"col_heading level0 col2\" >MSE</th>\n",
              "      <th id=\"T_17cb9_level0_col3\" class=\"col_heading level0 col3\" >RMSE</th>\n",
              "      <th id=\"T_17cb9_level0_col4\" class=\"col_heading level0 col4\" >R2</th>\n",
              "      <th id=\"T_17cb9_level0_col5\" class=\"col_heading level0 col5\" >RMSLE</th>\n",
              "      <th id=\"T_17cb9_level0_col6\" class=\"col_heading level0 col6\" >MAPE</th>\n",
              "      <th id=\"T_17cb9_level0_col7\" class=\"col_heading level0 col7\" >TT (Sec)</th>\n",
              "    </tr>\n",
              "  </thead>\n",
              "  <tbody>\n",
              "    <tr>\n",
              "      <th id=\"T_17cb9_level0_row0\" class=\"row_heading level0 row0\" >br</th>\n",
              "      <td id=\"T_17cb9_row0_col0\" class=\"data row0 col0\" >Bayesian Ridge</td>\n",
              "      <td id=\"T_17cb9_row0_col1\" class=\"data row0 col1\" >2.3222</td>\n",
              "      <td id=\"T_17cb9_row0_col2\" class=\"data row0 col2\" >12.0692</td>\n",
              "      <td id=\"T_17cb9_row0_col3\" class=\"data row0 col3\" >3.4041</td>\n",
              "      <td id=\"T_17cb9_row0_col4\" class=\"data row0 col4\" >0.2540</td>\n",
              "      <td id=\"T_17cb9_row0_col5\" class=\"data row0 col5\" >0.4136</td>\n",
              "      <td id=\"T_17cb9_row0_col6\" class=\"data row0 col6\" >0.4762</td>\n",
              "      <td id=\"T_17cb9_row0_col7\" class=\"data row0 col7\" >0.0760</td>\n",
              "    </tr>\n",
              "    <tr>\n",
              "      <th id=\"T_17cb9_level0_row1\" class=\"row_heading level0 row1\" >ridge</th>\n",
              "      <td id=\"T_17cb9_row1_col0\" class=\"data row1 col0\" >Ridge Regression</td>\n",
              "      <td id=\"T_17cb9_row1_col1\" class=\"data row1 col1\" >2.3318</td>\n",
              "      <td id=\"T_17cb9_row1_col2\" class=\"data row1 col2\" >12.0985</td>\n",
              "      <td id=\"T_17cb9_row1_col3\" class=\"data row1 col3\" >3.4102</td>\n",
              "      <td id=\"T_17cb9_row1_col4\" class=\"data row1 col4\" >0.2508</td>\n",
              "      <td id=\"T_17cb9_row1_col5\" class=\"data row1 col5\" >0.4152</td>\n",
              "      <td id=\"T_17cb9_row1_col6\" class=\"data row1 col6\" >0.4753</td>\n",
              "      <td id=\"T_17cb9_row1_col7\" class=\"data row1 col7\" >0.0680</td>\n",
              "    </tr>\n",
              "    <tr>\n",
              "      <th id=\"T_17cb9_level0_row2\" class=\"row_heading level0 row2\" >lr</th>\n",
              "      <td id=\"T_17cb9_row2_col0\" class=\"data row2 col0\" >Linear Regression</td>\n",
              "      <td id=\"T_17cb9_row2_col1\" class=\"data row2 col1\" >2.3331</td>\n",
              "      <td id=\"T_17cb9_row2_col2\" class=\"data row2 col2\" >12.1026</td>\n",
              "      <td id=\"T_17cb9_row2_col3\" class=\"data row2 col3\" >3.4109</td>\n",
              "      <td id=\"T_17cb9_row2_col4\" class=\"data row2 col4\" >0.2504</td>\n",
              "      <td id=\"T_17cb9_row2_col5\" class=\"data row2 col5\" >0.4153</td>\n",
              "      <td id=\"T_17cb9_row2_col6\" class=\"data row2 col6\" >0.4753</td>\n",
              "      <td id=\"T_17cb9_row2_col7\" class=\"data row2 col7\" >1.1140</td>\n",
              "    </tr>\n",
              "    <tr>\n",
              "      <th id=\"T_17cb9_level0_row3\" class=\"row_heading level0 row3\" >lar</th>\n",
              "      <td id=\"T_17cb9_row3_col0\" class=\"data row3 col0\" >Least Angle Regression</td>\n",
              "      <td id=\"T_17cb9_row3_col1\" class=\"data row3 col1\" >2.3331</td>\n",
              "      <td id=\"T_17cb9_row3_col2\" class=\"data row3 col2\" >12.1026</td>\n",
              "      <td id=\"T_17cb9_row3_col3\" class=\"data row3 col3\" >3.4109</td>\n",
              "      <td id=\"T_17cb9_row3_col4\" class=\"data row3 col4\" >0.2504</td>\n",
              "      <td id=\"T_17cb9_row3_col5\" class=\"data row3 col5\" >0.4153</td>\n",
              "      <td id=\"T_17cb9_row3_col6\" class=\"data row3 col6\" >0.4753</td>\n",
              "      <td id=\"T_17cb9_row3_col7\" class=\"data row3 col7\" >0.0760</td>\n",
              "    </tr>\n",
              "    <tr>\n",
              "      <th id=\"T_17cb9_level0_row4\" class=\"row_heading level0 row4\" >huber</th>\n",
              "      <td id=\"T_17cb9_row4_col0\" class=\"data row4 col0\" >Huber Regressor</td>\n",
              "      <td id=\"T_17cb9_row4_col1\" class=\"data row4 col1\" >2.2204</td>\n",
              "      <td id=\"T_17cb9_row4_col2\" class=\"data row4 col2\" >12.5149</td>\n",
              "      <td id=\"T_17cb9_row4_col3\" class=\"data row4 col3\" >3.4594</td>\n",
              "      <td id=\"T_17cb9_row4_col4\" class=\"data row4 col4\" >0.2312</td>\n",
              "      <td id=\"T_17cb9_row4_col5\" class=\"data row4 col5\" >0.3997</td>\n",
              "      <td id=\"T_17cb9_row4_col6\" class=\"data row4 col6\" >0.4111</td>\n",
              "      <td id=\"T_17cb9_row4_col7\" class=\"data row4 col7\" >0.0980</td>\n",
              "    </tr>\n",
              "    <tr>\n",
              "      <th id=\"T_17cb9_level0_row5\" class=\"row_heading level0 row5\" >gbr</th>\n",
              "      <td id=\"T_17cb9_row5_col0\" class=\"data row5 col0\" >Gradient Boosting Regressor</td>\n",
              "      <td id=\"T_17cb9_row5_col1\" class=\"data row5 col1\" >2.3727</td>\n",
              "      <td id=\"T_17cb9_row5_col2\" class=\"data row5 col2\" >12.7345</td>\n",
              "      <td id=\"T_17cb9_row5_col3\" class=\"data row5 col3\" >3.4977</td>\n",
              "      <td id=\"T_17cb9_row5_col4\" class=\"data row5 col4\" >0.2094</td>\n",
              "      <td id=\"T_17cb9_row5_col5\" class=\"data row5 col5\" >0.4257</td>\n",
              "      <td id=\"T_17cb9_row5_col6\" class=\"data row5 col6\" >0.4772</td>\n",
              "      <td id=\"T_17cb9_row5_col7\" class=\"data row5 col7\" >0.2160</td>\n",
              "    </tr>\n",
              "    <tr>\n",
              "      <th id=\"T_17cb9_level0_row6\" class=\"row_heading level0 row6\" >lightgbm</th>\n",
              "      <td id=\"T_17cb9_row6_col0\" class=\"data row6 col0\" >Light Gradient Boosting Machine</td>\n",
              "      <td id=\"T_17cb9_row6_col1\" class=\"data row6 col1\" >2.4074</td>\n",
              "      <td id=\"T_17cb9_row6_col2\" class=\"data row6 col2\" >12.8067</td>\n",
              "      <td id=\"T_17cb9_row6_col3\" class=\"data row6 col3\" >3.5143</td>\n",
              "      <td id=\"T_17cb9_row6_col4\" class=\"data row6 col4\" >0.1999</td>\n",
              "      <td id=\"T_17cb9_row6_col5\" class=\"data row6 col5\" >0.4270</td>\n",
              "      <td id=\"T_17cb9_row6_col6\" class=\"data row6 col6\" >0.4850</td>\n",
              "      <td id=\"T_17cb9_row6_col7\" class=\"data row6 col7\" >0.2760</td>\n",
              "    </tr>\n",
              "    <tr>\n",
              "      <th id=\"T_17cb9_level0_row7\" class=\"row_heading level0 row7\" >en</th>\n",
              "      <td id=\"T_17cb9_row7_col0\" class=\"data row7 col0\" >Elastic Net</td>\n",
              "      <td id=\"T_17cb9_row7_col1\" class=\"data row7 col1\" >2.5130</td>\n",
              "      <td id=\"T_17cb9_row7_col2\" class=\"data row7 col2\" >13.4806</td>\n",
              "      <td id=\"T_17cb9_row7_col3\" class=\"data row7 col3\" >3.6055</td>\n",
              "      <td id=\"T_17cb9_row7_col4\" class=\"data row7 col4\" >0.1606</td>\n",
              "      <td id=\"T_17cb9_row7_col5\" class=\"data row7 col5\" >0.4473</td>\n",
              "      <td id=\"T_17cb9_row7_col6\" class=\"data row7 col6\" >0.5511</td>\n",
              "      <td id=\"T_17cb9_row7_col7\" class=\"data row7 col7\" >0.0720</td>\n",
              "    </tr>\n",
              "    <tr>\n",
              "      <th id=\"T_17cb9_level0_row8\" class=\"row_heading level0 row8\" >lasso</th>\n",
              "      <td id=\"T_17cb9_row8_col0\" class=\"data row8 col0\" >Lasso Regression</td>\n",
              "      <td id=\"T_17cb9_row8_col1\" class=\"data row8 col1\" >2.5305</td>\n",
              "      <td id=\"T_17cb9_row8_col2\" class=\"data row8 col2\" >13.6408</td>\n",
              "      <td id=\"T_17cb9_row8_col3\" class=\"data row8 col3\" >3.6312</td>\n",
              "      <td id=\"T_17cb9_row8_col4\" class=\"data row8 col4\" >0.1471</td>\n",
              "      <td id=\"T_17cb9_row8_col5\" class=\"data row8 col5\" >0.4514</td>\n",
              "      <td id=\"T_17cb9_row8_col6\" class=\"data row8 col6\" >0.5595</td>\n",
              "      <td id=\"T_17cb9_row8_col7\" class=\"data row8 col7\" >0.0680</td>\n",
              "    </tr>\n",
              "    <tr>\n",
              "      <th id=\"T_17cb9_level0_row9\" class=\"row_heading level0 row9\" >llar</th>\n",
              "      <td id=\"T_17cb9_row9_col0\" class=\"data row9 col0\" >Lasso Least Angle Regression</td>\n",
              "      <td id=\"T_17cb9_row9_col1\" class=\"data row9 col1\" >2.5305</td>\n",
              "      <td id=\"T_17cb9_row9_col2\" class=\"data row9 col2\" >13.6408</td>\n",
              "      <td id=\"T_17cb9_row9_col3\" class=\"data row9 col3\" >3.6312</td>\n",
              "      <td id=\"T_17cb9_row9_col4\" class=\"data row9 col4\" >0.1471</td>\n",
              "      <td id=\"T_17cb9_row9_col5\" class=\"data row9 col5\" >0.4514</td>\n",
              "      <td id=\"T_17cb9_row9_col6\" class=\"data row9 col6\" >0.5595</td>\n",
              "      <td id=\"T_17cb9_row9_col7\" class=\"data row9 col7\" >0.0660</td>\n",
              "    </tr>\n",
              "    <tr>\n",
              "      <th id=\"T_17cb9_level0_row10\" class=\"row_heading level0 row10\" >ada</th>\n",
              "      <td id=\"T_17cb9_row10_col0\" class=\"data row10 col0\" >AdaBoost Regressor</td>\n",
              "      <td id=\"T_17cb9_row10_col1\" class=\"data row10 col1\" >2.6735</td>\n",
              "      <td id=\"T_17cb9_row10_col2\" class=\"data row10 col2\" >13.9871</td>\n",
              "      <td id=\"T_17cb9_row10_col3\" class=\"data row10 col3\" >3.7028</td>\n",
              "      <td id=\"T_17cb9_row10_col4\" class=\"data row10 col4\" >0.0977</td>\n",
              "      <td id=\"T_17cb9_row10_col5\" class=\"data row10 col5\" >0.4601</td>\n",
              "      <td id=\"T_17cb9_row10_col6\" class=\"data row10 col6\" >0.6012</td>\n",
              "      <td id=\"T_17cb9_row10_col7\" class=\"data row10 col7\" >0.0940</td>\n",
              "    </tr>\n",
              "    <tr>\n",
              "      <th id=\"T_17cb9_level0_row11\" class=\"row_heading level0 row11\" >rf</th>\n",
              "      <td id=\"T_17cb9_row11_col0\" class=\"data row11 col0\" >Random Forest Regressor</td>\n",
              "      <td id=\"T_17cb9_row11_col1\" class=\"data row11 col1\" >2.5463</td>\n",
              "      <td id=\"T_17cb9_row11_col2\" class=\"data row11 col2\" >14.5423</td>\n",
              "      <td id=\"T_17cb9_row11_col3\" class=\"data row11 col3\" >3.7655</td>\n",
              "      <td id=\"T_17cb9_row11_col4\" class=\"data row11 col4\" >0.0692</td>\n",
              "      <td id=\"T_17cb9_row11_col5\" class=\"data row11 col5\" >0.4346</td>\n",
              "      <td id=\"T_17cb9_row11_col6\" class=\"data row11 col6\" >0.5044</td>\n",
              "      <td id=\"T_17cb9_row11_col7\" class=\"data row11 col7\" >0.7040</td>\n",
              "    </tr>\n",
              "    <tr>\n",
              "      <th id=\"T_17cb9_level0_row12\" class=\"row_heading level0 row12\" >omp</th>\n",
              "      <td id=\"T_17cb9_row12_col0\" class=\"data row12 col0\" >Orthogonal Matching Pursuit</td>\n",
              "      <td id=\"T_17cb9_row12_col1\" class=\"data row12 col1\" >2.6459</td>\n",
              "      <td id=\"T_17cb9_row12_col2\" class=\"data row12 col2\" >14.6690</td>\n",
              "      <td id=\"T_17cb9_row12_col3\" class=\"data row12 col3\" >3.7817</td>\n",
              "      <td id=\"T_17cb9_row12_col4\" class=\"data row12 col4\" >0.0677</td>\n",
              "      <td id=\"T_17cb9_row12_col5\" class=\"data row12 col5\" >0.4721</td>\n",
              "      <td id=\"T_17cb9_row12_col6\" class=\"data row12 col6\" >0.5930</td>\n",
              "      <td id=\"T_17cb9_row12_col7\" class=\"data row12 col7\" >0.0660</td>\n",
              "    </tr>\n",
              "    <tr>\n",
              "      <th id=\"T_17cb9_level0_row13\" class=\"row_heading level0 row13\" >knn</th>\n",
              "      <td id=\"T_17cb9_row13_col0\" class=\"data row13 col0\" >K Neighbors Regressor</td>\n",
              "      <td id=\"T_17cb9_row13_col1\" class=\"data row13 col1\" >2.6175</td>\n",
              "      <td id=\"T_17cb9_row13_col2\" class=\"data row13 col2\" >15.1726</td>\n",
              "      <td id=\"T_17cb9_row13_col3\" class=\"data row13 col3\" >3.8463</td>\n",
              "      <td id=\"T_17cb9_row13_col4\" class=\"data row13 col4\" >0.0289</td>\n",
              "      <td id=\"T_17cb9_row13_col5\" class=\"data row13 col5\" >0.4680</td>\n",
              "      <td id=\"T_17cb9_row13_col6\" class=\"data row13 col6\" >0.5676</td>\n",
              "      <td id=\"T_17cb9_row13_col7\" class=\"data row13 col7\" >0.0700</td>\n",
              "    </tr>\n",
              "    <tr>\n",
              "      <th id=\"T_17cb9_level0_row14\" class=\"row_heading level0 row14\" >dummy</th>\n",
              "      <td id=\"T_17cb9_row14_col0\" class=\"data row14 col0\" >Dummy Regressor</td>\n",
              "      <td id=\"T_17cb9_row14_col1\" class=\"data row14 col1\" >2.8028</td>\n",
              "      <td id=\"T_17cb9_row14_col2\" class=\"data row14 col2\" >15.8100</td>\n",
              "      <td id=\"T_17cb9_row14_col3\" class=\"data row14 col3\" >3.9273</td>\n",
              "      <td id=\"T_17cb9_row14_col4\" class=\"data row14 col4\" >-0.0061</td>\n",
              "      <td id=\"T_17cb9_row14_col5\" class=\"data row14 col5\" >0.5005</td>\n",
              "      <td id=\"T_17cb9_row14_col6\" class=\"data row14 col6\" >0.6519</td>\n",
              "      <td id=\"T_17cb9_row14_col7\" class=\"data row14 col7\" >0.0740</td>\n",
              "    </tr>\n",
              "    <tr>\n",
              "      <th id=\"T_17cb9_level0_row15\" class=\"row_heading level0 row15\" >par</th>\n",
              "      <td id=\"T_17cb9_row15_col0\" class=\"data row15 col0\" >Passive Aggressive Regressor</td>\n",
              "      <td id=\"T_17cb9_row15_col1\" class=\"data row15 col1\" >2.8301</td>\n",
              "      <td id=\"T_17cb9_row15_col2\" class=\"data row15 col2\" >16.9907</td>\n",
              "      <td id=\"T_17cb9_row15_col3\" class=\"data row15 col3\" >4.0556</td>\n",
              "      <td id=\"T_17cb9_row15_col4\" class=\"data row15 col4\" >-0.0773</td>\n",
              "      <td id=\"T_17cb9_row15_col5\" class=\"data row15 col5\" >0.5044</td>\n",
              "      <td id=\"T_17cb9_row15_col6\" class=\"data row15 col6\" >0.5477</td>\n",
              "      <td id=\"T_17cb9_row15_col7\" class=\"data row15 col7\" >0.0720</td>\n",
              "    </tr>\n",
              "    <tr>\n",
              "      <th id=\"T_17cb9_level0_row16\" class=\"row_heading level0 row16\" >et</th>\n",
              "      <td id=\"T_17cb9_row16_col0\" class=\"data row16 col0\" >Extra Trees Regressor</td>\n",
              "      <td id=\"T_17cb9_row16_col1\" class=\"data row16 col1\" >2.7147</td>\n",
              "      <td id=\"T_17cb9_row16_col2\" class=\"data row16 col2\" >17.0242</td>\n",
              "      <td id=\"T_17cb9_row16_col3\" class=\"data row16 col3\" >4.0783</td>\n",
              "      <td id=\"T_17cb9_row16_col4\" class=\"data row16 col4\" >-0.0962</td>\n",
              "      <td id=\"T_17cb9_row16_col5\" class=\"data row16 col5\" >0.4669</td>\n",
              "      <td id=\"T_17cb9_row16_col6\" class=\"data row16 col6\" >0.5283</td>\n",
              "      <td id=\"T_17cb9_row16_col7\" class=\"data row16 col7\" >0.4100</td>\n",
              "    </tr>\n",
              "    <tr>\n",
              "      <th id=\"T_17cb9_level0_row17\" class=\"row_heading level0 row17\" >xgboost</th>\n",
              "      <td id=\"T_17cb9_row17_col0\" class=\"data row17 col0\" >Extreme Gradient Boosting</td>\n",
              "      <td id=\"T_17cb9_row17_col1\" class=\"data row17 col1\" >2.8562</td>\n",
              "      <td id=\"T_17cb9_row17_col2\" class=\"data row17 col2\" >18.5037</td>\n",
              "      <td id=\"T_17cb9_row17_col3\" class=\"data row17 col3\" >4.2567</td>\n",
              "      <td id=\"T_17cb9_row17_col4\" class=\"data row17 col4\" >-0.1995</td>\n",
              "      <td id=\"T_17cb9_row17_col5\" class=\"data row17 col5\" >0.5198</td>\n",
              "      <td id=\"T_17cb9_row17_col6\" class=\"data row17 col6\" >0.5744</td>\n",
              "      <td id=\"T_17cb9_row17_col7\" class=\"data row17 col7\" >0.1560</td>\n",
              "    </tr>\n",
              "    <tr>\n",
              "      <th id=\"T_17cb9_level0_row18\" class=\"row_heading level0 row18\" >dt</th>\n",
              "      <td id=\"T_17cb9_row18_col0\" class=\"data row18 col0\" >Decision Tree Regressor</td>\n",
              "      <td id=\"T_17cb9_row18_col1\" class=\"data row18 col1\" >3.0894</td>\n",
              "      <td id=\"T_17cb9_row18_col2\" class=\"data row18 col2\" >22.1789</td>\n",
              "      <td id=\"T_17cb9_row18_col3\" class=\"data row18 col3\" >4.6796</td>\n",
              "      <td id=\"T_17cb9_row18_col4\" class=\"data row18 col4\" >-0.4900</td>\n",
              "      <td id=\"T_17cb9_row18_col5\" class=\"data row18 col5\" >0.5327</td>\n",
              "      <td id=\"T_17cb9_row18_col6\" class=\"data row18 col6\" >0.6049</td>\n",
              "      <td id=\"T_17cb9_row18_col7\" class=\"data row18 col7\" >0.0860</td>\n",
              "    </tr>\n",
              "  </tbody>\n",
              "</table>\n"
            ]
          },
          "metadata": {}
        },
        {
          "output_type": "display_data",
          "data": {
            "text/plain": [
              "Processing:   0%|          | 0/81 [00:00<?, ?it/s]"
            ],
            "application/vnd.jupyter.widget-view+json": {
              "version_major": 2,
              "version_minor": 0,
              "model_id": "8242a5250e3946c3b7a67d3bbb266ba7"
            }
          },
          "metadata": {
            "application/vnd.jupyter.widget-view+json": {
              "colab": {
                "custom_widget_manager": {
                  "url": "https://ssl.gstatic.com/colaboratory-static/widgets/colab-cdn-widget-manager/b3e629b1971e1542/manager.min.js"
                }
              }
            }
          }
        },
        {
          "output_type": "display_data",
          "data": {
            "text/plain": [
              "<IPython.core.display.HTML object>"
            ],
            "text/html": []
          },
          "metadata": {}
        }
      ]
    },
    {
      "cell_type": "code",
      "source": [
        "plot_model(best_model)"
      ],
      "metadata": {
        "colab": {
          "base_uri": "https://localhost:8080/",
          "height": 512
        },
        "id": "PiM-yKi0LQeH",
        "outputId": "4a7015b3-1706-4d93-e5a9-31838da38a44"
      },
      "execution_count": 103,
      "outputs": [
        {
          "output_type": "display_data",
          "data": {
            "text/plain": [
              "<IPython.core.display.HTML object>"
            ],
            "text/html": []
          },
          "metadata": {}
        },
        {
          "output_type": "display_data",
          "data": {
            "text/plain": [
              "<Figure size 800x550 with 2 Axes>"
            ],
            "image/png": "[encoded data removed]"
          },
          "metadata": {}
        }
      ]
    }
  ]
}