{
  "nbformat": 4,
  "nbformat_minor": 0,
  "metadata": {
    "colab": {
      "provenance": [],
      "authorship_tag": "ABX9TyO6iufZjWZH/s8obwquoiAR",
      "include_colab_link": true
    },
    "kernelspec": {
      "name": "python3",
      "display_name": "Python 3"
    },
    "language_info": {
      "name": "python"
    },
    "widgets": {
      "application/vnd.jupyter.widget-state+json": {
        "2c84795379234ba8a3d7823b1e3ef32c": {
          "model_module": "@jupyter-widgets/controls",
          "model_name": "HBoxModel",
          "model_module_version": "1.5.0",
          "state": {
            "_dom_classes": [],
            "_model_module": "@jupyter-widgets/controls",
            "_model_module_version": "1.5.0",
            "_model_name": "HBoxModel",
            "_view_count": null,
            "_view_module": "@jupyter-widgets/controls",
            "_view_module_version": "1.5.0",
            "_view_name": "HBoxView",
            "box_style": "",
            "children": [
              "IPY_MODEL_a1b50fbc9f15476094f462cff99ad028",
              "IPY_MODEL_3b3acbefec554a579567e8962dd6043c",
              "IPY_MODEL_ace5d12f5e364e159251849fcd3cc9cf"
            ],
            "layout": "IPY_MODEL_7fdd13f4cac347c4b10a5576156b34b8"
          }
        },
        "a1b50fbc9f15476094f462cff99ad028": {
          "model_module": "@jupyter-widgets/controls",
          "model_name": "HTMLModel",
          "model_module_version": "1.5.0",
          "state": {
            "_dom_classes": [],
            "_model_module": "@jupyter-widgets/controls",
            "_model_module_version": "1.5.0",
            "_model_name": "HTMLModel",
            "_view_count": null,
            "_view_module": "@jupyter-widgets/controls",
            "_view_module_version": "1.5.0",
            "_view_name": "HTMLView",
            "description": "",
            "description_tooltip": null,
            "layout": "IPY_MODEL_d568516d177244bea5c7a1a85fe658f4",
            "placeholder": "​",
            "style": "IPY_MODEL_0d3d3de866c14ec882f8e5082da5a4b9",
            "value": "Processing: 100%"
          }
        },
        "3b3acbefec554a579567e8962dd6043c": {
          "model_module": "@jupyter-widgets/controls",
          "model_name": "FloatProgressModel",
          "model_module_version": "1.5.0",
          "state": {
            "_dom_classes": [],
            "_model_module": "@jupyter-widgets/controls",
            "_model_module_version": "1.5.0",
            "_model_name": "FloatProgressModel",
            "_view_count": null,
            "_view_module": "@jupyter-widgets/controls",
            "_view_module_version": "1.5.0",
            "_view_name": "ProgressView",
            "bar_style": "",
            "description": "",
            "description_tooltip": null,
            "layout": "IPY_MODEL_dbf7bda40f5d4fdf89c261f617338c23",
            "max": 81,
            "min": 0,
            "orientation": "horizontal",
            "style": "IPY_MODEL_65972188e3c0459dac2c6462085af92b",
            "value": 81
          }
        },
        "ace5d12f5e364e159251849fcd3cc9cf": {
          "model_module": "@jupyter-widgets/controls",
          "model_name": "HTMLModel",
          "model_module_version": "1.5.0",
          "state": {
            "_dom_classes": [],
            "_model_module": "@jupyter-widgets/controls",
            "_model_module_version": "1.5.0",
            "_model_name": "HTMLModel",
            "_view_count": null,
            "_view_module": "@jupyter-widgets/controls",
            "_view_module_version": "1.5.0",
            "_view_name": "HTMLView",
            "description": "",
            "description_tooltip": null,
            "layout": "IPY_MODEL_fc4f5e0cd10e4693b7929911b0eb03b0",
            "placeholder": "​",
            "style": "IPY_MODEL_c50e2870b2b4446c9e0b34b4d1e7da8c",
            "value": " 81/81 [00:53&lt;00:00,  1.63it/s]"
          }
        },
        "7fdd13f4cac347c4b10a5576156b34b8": {
          "model_module": "@jupyter-widgets/base",
          "model_name": "LayoutModel",
          "model_module_version": "1.2.0",
          "state": {
            "_model_module": "@jupyter-widgets/base",
            "_model_module_version": "1.2.0",
            "_model_name": "LayoutModel",
            "_view_count": null,
            "_view_module": "@jupyter-widgets/base",
            "_view_module_version": "1.2.0",
            "_view_name": "LayoutView",
            "align_content": null,
            "align_items": null,
            "align_self": null,
            "border": null,
            "bottom": null,
            "display": null,
            "flex": null,
            "flex_flow": null,
            "grid_area": null,
            "grid_auto_columns": null,
            "grid_auto_flow": null,
            "grid_auto_rows": null,
            "grid_column": null,
            "grid_gap": null,
            "grid_row": null,
            "grid_template_areas": null,
            "grid_template_columns": null,
            "grid_template_rows": null,
            "height": null,
            "justify_content": null,
            "justify_items": null,
            "left": null,
            "margin": null,
            "max_height": null,
            "max_width": null,
            "min_height": null,
            "min_width": null,
            "object_fit": null,
            "object_position": null,
            "order": null,
            "overflow": null,
            "overflow_x": null,
            "overflow_y": null,
            "padding": null,
            "right": null,
            "top": null,
            "visibility": "hidden",
            "width": null
          }
        },
        "d568516d177244bea5c7a1a85fe658f4": {
          "model_module": "@jupyter-widgets/base",
          "model_name": "LayoutModel",
          "model_module_version": "1.2.0",
          "state": {
            "_model_module": "@jupyter-widgets/base",
            "_model_module_version": "1.2.0",
            "_model_name": "LayoutModel",
            "_view_count": null,
            "_view_module": "@jupyter-widgets/base",
            "_view_module_version": "1.2.0",
            "_view_name": "LayoutView",
            "align_content": null,
            "align_items": null,
            "align_self": null,
            "border": null,
            "bottom": null,
            "display": null,
            "flex": null,
            "flex_flow": null,
            "grid_area": null,
            "grid_auto_columns": null,
            "grid_auto_flow": null,
            "grid_auto_rows": null,
            "grid_column": null,
            "grid_gap": null,
            "grid_row": null,
            "grid_template_areas": null,
            "grid_template_columns": null,
            "grid_template_rows": null,
            "height": null,
            "justify_content": null,
            "justify_items": null,
            "left": null,
            "margin": null,
            "max_height": null,
            "max_width": null,
            "min_height": null,
            "min_width": null,
            "object_fit": null,
            "object_position": null,
            "order": null,
            "overflow": null,
            "overflow_x": null,
            "overflow_y": null,
            "padding": null,
            "right": null,
            "top": null,
            "visibility": null,
            "width": null
          }
        },
        "0d3d3de866c14ec882f8e5082da5a4b9": {
          "model_module": "@jupyter-widgets/controls",
          "model_name": "DescriptionStyleModel",
          "model_module_version": "1.5.0",
          "state": {
            "_model_module": "@jupyter-widgets/controls",
            "_model_module_version": "1.5.0",
            "_model_name": "DescriptionStyleModel",
            "_view_count": null,
            "_view_module": "@jupyter-widgets/base",
            "_view_module_version": "1.2.0",
            "_view_name": "StyleView",
            "description_width": ""
          }
        },
        "dbf7bda40f5d4fdf89c261f617338c23": {
          "model_module": "@jupyter-widgets/base",
          "model_name": "LayoutModel",
          "model_module_version": "1.2.0",
          "state": {
            "_model_module": "@jupyter-widgets/base",
            "_model_module_version": "1.2.0",
            "_model_name": "LayoutModel",
            "_view_count": null,
            "_view_module": "@jupyter-widgets/base",
            "_view_module_version": "1.2.0",
            "_view_name": "LayoutView",
            "align_content": null,
            "align_items": null,
            "align_self": null,
            "border": null,
            "bottom": null,
            "display": null,
            "flex": null,
            "flex_flow": null,
            "grid_area": null,
            "grid_auto_columns": null,
            "grid_auto_flow": null,
            "grid_auto_rows": null,
            "grid_column": null,
            "grid_gap": null,
            "grid_row": null,
            "grid_template_areas": null,
            "grid_template_columns": null,
            "grid_template_rows": null,
            "height": null,
            "justify_content": null,
            "justify_items": null,
            "left": null,
            "margin": null,
            "max_height": null,
            "max_width": null,
            "min_height": null,
            "min_width": null,
            "object_fit": null,
            "object_position": null,
            "order": null,
            "overflow": null,
            "overflow_x": null,
            "overflow_y": null,
            "padding": null,
            "right": null,
            "top": null,
            "visibility": null,
            "width": null
          }
        },
        "65972188e3c0459dac2c6462085af92b": {
          "model_module": "@jupyter-widgets/controls",
          "model_name": "ProgressStyleModel",
          "model_module_version": "1.5.0",
          "state": {
            "_model_module": "@jupyter-widgets/controls",
            "_model_module_version": "1.5.0",
            "_model_name": "ProgressStyleModel",
            "_view_count": null,
            "_view_module": "@jupyter-widgets/base",
            "_view_module_version": "1.2.0",
            "_view_name": "StyleView",
            "bar_color": null,
            "description_width": ""
          }
        },
        "fc4f5e0cd10e4693b7929911b0eb03b0": {
          "model_module": "@jupyter-widgets/base",
          "model_name": "LayoutModel",
          "model_module_version": "1.2.0",
          "state": {
            "_model_module": "@jupyter-widgets/base",
            "_model_module_version": "1.2.0",
            "_model_name": "LayoutModel",
            "_view_count": null,
            "_view_module": "@jupyter-widgets/base",
            "_view_module_version": "1.2.0",
            "_view_name": "LayoutView",
            "align_content": null,
            "align_items": null,
            "align_self": null,
            "border": null,
            "bottom": null,
            "display": null,
            "flex": null,
            "flex_flow": null,
            "grid_area": null,
            "grid_auto_columns": null,
            "grid_auto_flow": null,
            "grid_auto_rows": null,
            "grid_column": null,
            "grid_gap": null,
            "grid_row": null,
            "grid_template_areas": null,
            "grid_template_columns": null,
            "grid_template_rows": null,
            "height": null,
            "justify_content": null,
            "justify_items": null,
            "left": null,
            "margin": null,
            "max_height": null,
            "max_width": null,
            "min_height": null,
            "min_width": null,
            "object_fit": null,
            "object_position": null,
            "order": null,
            "overflow": null,
            "overflow_x": null,
            "overflow_y": null,
            "padding": null,
            "right": null,
            "top": null,
            "visibility": null,
            "width": null
          }
        },
        "c50e2870b2b4446c9e0b34b4d1e7da8c": {
          "model_module": "@jupyter-widgets/controls",
          "model_name": "DescriptionStyleModel",
          "model_module_version": "1.5.0",
          "state": {
            "_model_module": "@jupyter-widgets/controls",
            "_model_module_version": "1.5.0",
            "_model_name": "DescriptionStyleModel",
            "_view_count": null,
            "_view_module": "@jupyter-widgets/base",
            "_view_module_version": "1.2.0",
            "_view_name": "StyleView",
            "description_width": ""
          }
        },
        "bda02db6f2d84f59b86f63c5493f8a55": {
          "model_module": "@jupyter-widgets/controls",
          "model_name": "HBoxModel",
          "model_module_version": "1.5.0",
          "state": {
            "_dom_classes": [],
            "_model_module": "@jupyter-widgets/controls",
            "_model_module_version": "1.5.0",
            "_model_name": "HBoxModel",
            "_view_count": null,
            "_view_module": "@jupyter-widgets/controls",
            "_view_module_version": "1.5.0",
            "_view_name": "HBoxView",
            "box_style": "",
            "children": [
              "IPY_MODEL_b6897ae421e1451cb3a44666ef68fa0c",
              "IPY_MODEL_4f2d2a5420fb4f06954ade97e919dce3",
              "IPY_MODEL_bcd461092eea487dad46070f829e5aae"
            ],
            "layout": "IPY_MODEL_bffa8361937f46da98d774d4a7c30268"
          }
        },
        "b6897ae421e1451cb3a44666ef68fa0c": {
          "model_module": "@jupyter-widgets/controls",
          "model_name": "HTMLModel",
          "model_module_version": "1.5.0",
          "state": {
            "_dom_classes": [],
            "_model_module": "@jupyter-widgets/controls",
            "_model_module_version": "1.5.0",
            "_model_name": "HTMLModel",
            "_view_count": null,
            "_view_module": "@jupyter-widgets/controls",
            "_view_module_version": "1.5.0",
            "_view_name": "HTMLView",
            "description": "",
            "description_tooltip": null,
            "layout": "IPY_MODEL_27c9da25196d4a5f942eecf9beae6e40",
            "placeholder": "​",
            "style": "IPY_MODEL_6de12df0fc8c4273821f4ed6449db7ba",
            "value": "Processing: 100%"
          }
        },
        "4f2d2a5420fb4f06954ade97e919dce3": {
          "model_module": "@jupyter-widgets/controls",
          "model_name": "FloatProgressModel",
          "model_module_version": "1.5.0",
          "state": {
            "_dom_classes": [],
            "_model_module": "@jupyter-widgets/controls",
            "_model_module_version": "1.5.0",
            "_model_name": "FloatProgressModel",
            "_view_count": null,
            "_view_module": "@jupyter-widgets/controls",
            "_view_module_version": "1.5.0",
            "_view_name": "ProgressView",
            "bar_style": "",
            "description": "",
            "description_tooltip": null,
            "layout": "IPY_MODEL_898e74c526e84073b0d7bf3d4276646d",
            "max": 81,
            "min": 0,
            "orientation": "horizontal",
            "style": "IPY_MODEL_283b767176994b7a8bb258d9dfd772c5",
            "value": 81
          }
        },
        "bcd461092eea487dad46070f829e5aae": {
          "model_module": "@jupyter-widgets/controls",
          "model_name": "HTMLModel",
          "model_module_version": "1.5.0",
          "state": {
            "_dom_classes": [],
            "_model_module": "@jupyter-widgets/controls",
            "_model_module_version": "1.5.0",
            "_model_name": "HTMLModel",
            "_view_count": null,
            "_view_module": "@jupyter-widgets/controls",
            "_view_module_version": "1.5.0",
            "_view_name": "HTMLView",
            "description": "",
            "description_tooltip": null,
            "layout": "IPY_MODEL_5ade2e44575b45b6b521d5f2efeefd7b",
            "placeholder": "​",
            "style": "IPY_MODEL_d371cf7f21e34b3e91eb3a6c63ddbe37",
            "value": " 81/81 [00:55&lt;00:00,  2.06it/s]"
          }
        },
        "bffa8361937f46da98d774d4a7c30268": {
          "model_module": "@jupyter-widgets/base",
          "model_name": "LayoutModel",
          "model_module_version": "1.2.0",
          "state": {
            "_model_module": "@jupyter-widgets/base",
            "_model_module_version": "1.2.0",
            "_model_name": "LayoutModel",
            "_view_count": null,
            "_view_module": "@jupyter-widgets/base",
            "_view_module_version": "1.2.0",
            "_view_name": "LayoutView",
            "align_content": null,
            "align_items": null,
            "align_self": null,
            "border": null,
            "bottom": null,
            "display": null,
            "flex": null,
            "flex_flow": null,
            "grid_area": null,
            "grid_auto_columns": null,
            "grid_auto_flow": null,
            "grid_auto_rows": null,
            "grid_column": null,
            "grid_gap": null,
            "grid_row": null,
            "grid_template_areas": null,
            "grid_template_columns": null,
            "grid_template_rows": null,
            "height": null,
            "justify_content": null,
            "justify_items": null,
            "left": null,
            "margin": null,
            "max_height": null,
            "max_width": null,
            "min_height": null,
            "min_width": null,
            "object_fit": null,
            "object_position": null,
            "order": null,
            "overflow": null,
            "overflow_x": null,
            "overflow_y": null,
            "padding": null,
            "right": null,
            "top": null,
            "visibility": "hidden",
            "width": null
          }
        },
        "27c9da25196d4a5f942eecf9beae6e40": {
          "model_module": "@jupyter-widgets/base",
          "model_name": "LayoutModel",
          "model_module_version": "1.2.0",
          "state": {
            "_model_module": "@jupyter-widgets/base",
            "_model_module_version": "1.2.0",
            "_model_name": "LayoutModel",
            "_view_count": null,
            "_view_module": "@jupyter-widgets/base",
            "_view_module_version": "1.2.0",
            "_view_name": "LayoutView",
            "align_content": null,
            "align_items": null,
            "align_self": null,
            "border": null,
            "bottom": null,
            "display": null,
            "flex": null,
            "flex_flow": null,
            "grid_area": null,
            "grid_auto_columns": null,
            "grid_auto_flow": null,
            "grid_auto_rows": null,
            "grid_column": null,
            "grid_gap": null,
            "grid_row": null,
            "grid_template_areas": null,
            "grid_template_columns": null,
            "grid_template_rows": null,
            "height": null,
            "justify_content": null,
            "justify_items": null,
            "left": null,
            "margin": null,
            "max_height": null,
            "max_width": null,
            "min_height": null,
            "min_width": null,
            "object_fit": null,
            "object_position": null,
            "order": null,
            "overflow": null,
            "overflow_x": null,
            "overflow_y": null,
            "padding": null,
            "right": null,
            "top": null,
            "visibility": null,
            "width": null
          }
        },
        "6de12df0fc8c4273821f4ed6449db7ba": {
          "model_module": "@jupyter-widgets/controls",
          "model_name": "DescriptionStyleModel",
          "model_module_version": "1.5.0",
          "state": {
            "_model_module": "@jupyter-widgets/controls",
            "_model_module_version": "1.5.0",
            "_model_name": "DescriptionStyleModel",
            "_view_count": null,
            "_view_module": "@jupyter-widgets/base",
            "_view_module_version": "1.2.0",
            "_view_name": "StyleView",
            "description_width": ""
          }
        },
        "898e74c526e84073b0d7bf3d4276646d": {
          "model_module": "@jupyter-widgets/base",
          "model_name": "LayoutModel",
          "model_module_version": "1.2.0",
          "state": {
            "_model_module": "@jupyter-widgets/base",
            "_model_module_version": "1.2.0",
            "_model_name": "LayoutModel",
            "_view_count": null,
            "_view_module": "@jupyter-widgets/base",
            "_view_module_version": "1.2.0",
            "_view_name": "LayoutView",
            "align_content": null,
            "align_items": null,
            "align_self": null,
            "border": null,
            "bottom": null,
            "display": null,
            "flex": null,
            "flex_flow": null,
            "grid_area": null,
            "grid_auto_columns": null,
            "grid_auto_flow": null,
            "grid_auto_rows": null,
            "grid_column": null,
            "grid_gap": null,
            "grid_row": null,
            "grid_template_areas": null,
            "grid_template_columns": null,
            "grid_template_rows": null,
            "height": null,
            "justify_content": null,
            "justify_items": null,
            "left": null,
            "margin": null,
            "max_height": null,
            "max_width": null,
            "min_height": null,
            "min_width": null,
            "object_fit": null,
            "object_position": null,
            "order": null,
            "overflow": null,
            "overflow_x": null,
            "overflow_y": null,
            "padding": null,
            "right": null,
            "top": null,
            "visibility": null,
            "width": null
          }
        },
        "283b767176994b7a8bb258d9dfd772c5": {
          "model_module": "@jupyter-widgets/controls",
          "model_name": "ProgressStyleModel",
          "model_module_version": "1.5.0",
          "state": {
            "_model_module": "@jupyter-widgets/controls",
            "_model_module_version": "1.5.0",
            "_model_name": "ProgressStyleModel",
            "_view_count": null,
            "_view_module": "@jupyter-widgets/base",
            "_view_module_version": "1.2.0",
            "_view_name": "StyleView",
            "bar_color": null,
            "description_width": ""
          }
        },
        "5ade2e44575b45b6b521d5f2efeefd7b": {
          "model_module": "@jupyter-widgets/base",
          "model_name": "LayoutModel",
          "model_module_version": "1.2.0",
          "state": {
            "_model_module": "@jupyter-widgets/base",
            "_model_module_version": "1.2.0",
            "_model_name": "LayoutModel",
            "_view_count": null,
            "_view_module": "@jupyter-widgets/base",
            "_view_module_version": "1.2.0",
            "_view_name": "LayoutView",
            "align_content": null,
            "align_items": null,
            "align_self": null,
            "border": null,
            "bottom": null,
            "display": null,
            "flex": null,
            "flex_flow": null,
            "grid_area": null,
            "grid_auto_columns": null,
            "grid_auto_flow": null,
            "grid_auto_rows": null,
            "grid_column": null,
            "grid_gap": null,
            "grid_row": null,
            "grid_template_areas": null,
            "grid_template_columns": null,
            "grid_template_rows": null,
            "height": null,
            "justify_content": null,
            "justify_items": null,
            "left": null,
            "margin": null,
            "max_height": null,
            "max_width": null,
            "min_height": null,
            "min_width": null,
            "object_fit": null,
            "object_position": null,
            "order": null,
            "overflow": null,
            "overflow_x": null,
            "overflow_y": null,
            "padding": null,
            "right": null,
            "top": null,
            "visibility": null,
            "width": null
          }
        },
        "d371cf7f21e34b3e91eb3a6c63ddbe37": {
          "model_module": "@jupyter-widgets/controls",
          "model_name": "DescriptionStyleModel",
          "model_module_version": "1.5.0",
          "state": {
            "_model_module": "@jupyter-widgets/controls",
            "_model_module_version": "1.5.0",
            "_model_name": "DescriptionStyleModel",
            "_view_count": null,
            "_view_module": "@jupyter-widgets/base",
            "_view_module_version": "1.2.0",
            "_view_name": "StyleView",
            "description_width": ""
          }
        }
      }
    }
  },
  "cells": [
    {
      "cell_type": "markdown",
      "metadata": {
        "id": "view-in-github",
        "colab_type": "text"
      },
      "source": [
        "<a href=\"https://colab.research.google.com/github/a-donat/Benchmarks_PyCaret/blob/main/Predicting_Used_Car_Price.ipynb\" target=\"_parent\"><img src=\"https://colab.research.google.com/assets/colab-badge.svg\" alt=\"Open In Colab\"/></a>"
      ]
    },
    {
      "cell_type": "markdown",
      "source": [
        "# I. Set-Up"
      ],
      "metadata": {
        "id": "EjJ5M3C1sQDA"
      }
    },
    {
      "cell_type": "markdown",
      "source": [
        "## I.A. Import Libraries and Download Data"
      ],
      "metadata": {
        "id": "_1u8l9-Wq2to"
      }
    },
    {
      "cell_type": "code",
      "source": [
        "! pip install kaggle\n",
        "! mkdir ~/.kaggle\n",
        "! cp kaggle.json ~/.kaggle/\n",
        "! chmod 600 ~/.kaggle/kaggle.json\n",
        "! kaggle datasets download -d milanvaddoriya/old-car-price-prediction\n",
        "! unzip '/content/old-car-price-prediction.zip' -d '/content/data'"
      ],
      "metadata": {
        "id": "cU-J1Vvhq6mp"
      },
      "execution_count": null,
      "outputs": []
    },
    {
      "cell_type": "code",
      "source": [
        "! pip install pycaret"
      ],
      "metadata": {
        "id": "q2OwTXkgrNEd"
      },
      "execution_count": null,
      "outputs": []
    },
    {
      "cell_type": "code",
      "execution_count": 5,
      "metadata": {
        "id": "KJR0DPb6qvvl"
      },
      "outputs": [],
      "source": [
        "#import matplotlib.pyplot as plt\n",
        "#import seaborn as sns\n",
        "#import VisualizeDataAbbrev as viz\n",
        "\n",
        "import numpy as np\n",
        "import pandas as pd\n",
        "from pycaret.regression import *\n",
        "from sklearn.model_selection import train_test_split"
      ]
    },
    {
      "cell_type": "markdown",
      "source": [
        "## I.B. Load Data and Check Data Integrity"
      ],
      "metadata": {
        "id": "xtnQ852lrdGq"
      }
    },
    {
      "cell_type": "code",
      "source": [
        "ds_df = pd.read_csv(\"/content/data/car_price.csv\")\n"
      ],
      "metadata": {
        "id": "szcd_HHIrepR"
      },
      "execution_count": 25,
      "outputs": []
    },
    {
      "cell_type": "code",
      "source": [
        "ds_df.info()"
      ],
      "metadata": {
        "colab": {
          "base_uri": "https://localhost:8080/"
        },
        "id": "7SRp7d3IrmyK",
        "outputId": "134f4eec-98f5-48d2-f9f2-037b8bc9c1a1"
      },
      "execution_count": 26,
      "outputs": [
        {
          "output_type": "stream",
          "name": "stdout",
          "text": [
            "<class 'pandas.core.frame.DataFrame'>\n",
            "RangeIndex: 5512 entries, 0 to 5511\n",
            "Data columns (total 10 columns):\n",
            " #   Column               Non-Null Count  Dtype \n",
            "---  ------               --------------  ----- \n",
            " 0   Unnamed: 0           5512 non-null   int64 \n",
            " 1   car_name             5512 non-null   object\n",
            " 2   car_prices_in_rupee  5512 non-null   object\n",
            " 3   kms_driven           5512 non-null   object\n",
            " 4   fuel_type            5512 non-null   object\n",
            " 5   transmission         5512 non-null   object\n",
            " 6   ownership            5512 non-null   object\n",
            " 7   manufacture          5512 non-null   int64 \n",
            " 8   engine               5512 non-null   object\n",
            " 9   Seats                5512 non-null   object\n",
            "dtypes: int64(2), object(8)\n",
            "memory usage: 430.8+ KB\n"
          ]
        }
      ]
    },
    {
      "cell_type": "code",
      "source": [
        "ds_df.nunique()"
      ],
      "metadata": {
        "colab": {
          "base_uri": "https://localhost:8080/"
        },
        "id": "LJTsP960vQAN",
        "outputId": "da06929b-c870-4192-a899-ea1ba200225c"
      },
      "execution_count": 27,
      "outputs": [
        {
          "output_type": "execute_result",
          "data": {
            "text/plain": [
              "Unnamed: 0             5512\n",
              "car_name               1896\n",
              "car_prices_in_rupee    1300\n",
              "kms_driven             2610\n",
              "fuel_type                 5\n",
              "transmission              2\n",
              "ownership                 6\n",
              "manufacture              26\n",
              "engine                  139\n",
              "Seats                     6\n",
              "dtype: int64"
            ]
          },
          "metadata": {},
          "execution_count": 27
        }
      ]
    },
    {
      "cell_type": "markdown",
      "source": [
        "\n",
        "# II. Preprocessing"
      ],
      "metadata": {
        "id": "O8lUlQCJsJhx"
      }
    },
    {
      "cell_type": "code",
      "source": [
        "ds_df.head()"
      ],
      "metadata": {
        "colab": {
          "base_uri": "https://localhost:8080/",
          "height": 406
        },
        "id": "NCxwqBWRjlPt",
        "outputId": "8539a860-cb70-4f81-a0c1-b50d0d2d8dcd"
      },
      "execution_count": 28,
      "outputs": [
        {
          "output_type": "execute_result",
          "data": {
            "text/plain": [
              "   Unnamed: 0                                car_name car_prices_in_rupee  \\\n",
              "0           0  Jeep Compass 2.0 Longitude Option BSIV          10.03 Lakh   \n",
              "1           1            Renault Duster RXZ Turbo CVT          12.83 Lakh   \n",
              "2           2                      Toyota Camry 2.5 G          16.40 Lakh   \n",
              "3           3                       Honda Jazz VX CVT           7.77 Lakh   \n",
              "4           4        Volkswagen Polo 1.2 MPI Highline           5.15 Lakh   \n",
              "\n",
              "   kms_driven fuel_type transmission  ownership  manufacture   engine    Seats  \n",
              "0  86,226 kms    Diesel       Manual  1st Owner         2017  1956 cc  5 Seats  \n",
              "1  13,248 kms    Petrol    Automatic  1st Owner         2021  1330 cc  5 Seats  \n",
              "2  60,343 kms    Petrol    Automatic  1st Owner         2016  2494 cc  5 Seats  \n",
              "3  26,696 kms    Petrol    Automatic  1st Owner         2018  1199 cc  5 Seats  \n",
              "4  69,414 kms    Petrol       Manual  1st Owner         2016  1199 cc  5 Seats  "
            ],
            "text/html": [
              "\n",
              "  <div id=\"df-1fc4099e-5e58-48be-86a9-5b548d4b1baf\">\n",
              "    <div class=\"colab-df-container\">\n",
              "      <div>\n",
              "<style scoped>\n",
              "    .dataframe tbody tr th:only-of-type {\n",
              "        vertical-align: middle;\n",
              "    }\n",
              "\n",
              "    .dataframe tbody tr th {\n",
              "        vertical-align: top;\n",
              "    }\n",
              "\n",
              "    .dataframe thead th {\n",
              "        text-align: right;\n",
              "    }\n",
              "</style>\n",
              "<table border=\"1\" class=\"dataframe\">\n",
              "  <thead>\n",
              "    <tr style=\"text-align: right;\">\n",
              "      <th></th>\n",
              "      <th>Unnamed: 0</th>\n",
              "      <th>car_name</th>\n",
              "      <th>car_prices_in_rupee</th>\n",
              "      <th>kms_driven</th>\n",
              "      <th>fuel_type</th>\n",
              "      <th>transmission</th>\n",
              "      <th>ownership</th>\n",
              "      <th>manufacture</th>\n",
              "      <th>engine</th>\n",
              "      <th>Seats</th>\n",
              "    </tr>\n",
              "  </thead>\n",
              "  <tbody>\n",
              "    <tr>\n",
              "      <th>0</th>\n",
              "      <td>0</td>\n",
              "      <td>Jeep Compass 2.0 Longitude Option BSIV</td>\n",
              "      <td>10.03 Lakh</td>\n",
              "      <td>86,226 kms</td>\n",
              "      <td>Diesel</td>\n",
              "      <td>Manual</td>\n",
              "      <td>1st Owner</td>\n",
              "      <td>2017</td>\n",
              "      <td>1956 cc</td>\n",
              "      <td>5 Seats</td>\n",
              "    </tr>\n",
              "    <tr>\n",
              "      <th>1</th>\n",
              "      <td>1</td>\n",
              "      <td>Renault Duster RXZ Turbo CVT</td>\n",
              "      <td>12.83 Lakh</td>\n",
              "      <td>13,248 kms</td>\n",
              "      <td>Petrol</td>\n",
              "      <td>Automatic</td>\n",
              "      <td>1st Owner</td>\n",
              "      <td>2021</td>\n",
              "      <td>1330 cc</td>\n",
              "      <td>5 Seats</td>\n",
              "    </tr>\n",
              "    <tr>\n",
              "      <th>2</th>\n",
              "      <td>2</td>\n",
              "      <td>Toyota Camry 2.5 G</td>\n",
              "      <td>16.40 Lakh</td>\n",
              "      <td>60,343 kms</td>\n",
              "      <td>Petrol</td>\n",
              "      <td>Automatic</td>\n",
              "      <td>1st Owner</td>\n",
              "      <td>2016</td>\n",
              "      <td>2494 cc</td>\n",
              "      <td>5 Seats</td>\n",
              "    </tr>\n",
              "    <tr>\n",
              "      <th>3</th>\n",
              "      <td>3</td>\n",
              "      <td>Honda Jazz VX CVT</td>\n",
              "      <td>7.77 Lakh</td>\n",
              "      <td>26,696 kms</td>\n",
              "      <td>Petrol</td>\n",
              "      <td>Automatic</td>\n",
              "      <td>1st Owner</td>\n",
              "      <td>2018</td>\n",
              "      <td>1199 cc</td>\n",
              "      <td>5 Seats</td>\n",
              "    </tr>\n",
              "    <tr>\n",
              "      <th>4</th>\n",
              "      <td>4</td>\n",
              "      <td>Volkswagen Polo 1.2 MPI Highline</td>\n",
              "      <td>5.15 Lakh</td>\n",
              "      <td>69,414 kms</td>\n",
              "      <td>Petrol</td>\n",
              "      <td>Manual</td>\n",
              "      <td>1st Owner</td>\n",
              "      <td>2016</td>\n",
              "      <td>1199 cc</td>\n",
              "      <td>5 Seats</td>\n",
              "    </tr>\n",
              "  </tbody>\n",
              "</table>\n",
              "</div>\n",
              "      <button class=\"colab-df-convert\" onclick=\"convertToInteractive('df-1fc4099e-5e58-48be-86a9-5b548d4b1baf')\"\n",
              "              title=\"Convert this dataframe to an interactive table.\"\n",
              "              style=\"display:none;\">\n",
              "        \n",
              "  <svg xmlns=\"http://www.w3.org/2000/svg\" height=\"24px\"viewBox=\"0 0 24 24\"\n",
              "       width=\"24px\">\n",
              "    <path d=\"M0 0h24v24H0V0z\" fill=\"none\"/>\n",
              "    <path d=\"M18.56 5.44l.94 2.06.94-2.06 2.06-.94-2.06-.94-.94-2.06-.94 2.06-2.06.94zm-11 1L8.5 8.5l.94-2.06 2.06-.94-2.06-.94L8.5 2.5l-.94 2.06-2.06.94zm10 10l.94 2.06.94-2.06 2.06-.94-2.06-.94-.94-2.06-.94 2.06-2.06.94z\"/><path d=\"M17.41 7.96l-1.37-1.37c-.4-.4-.92-.59-1.43-.59-.52 0-1.04.2-1.43.59L10.3 9.45l-7.72 7.72c-.78.78-.78 2.05 0 2.83L4 21.41c.39.39.9.59 1.41.59.51 0 1.02-.2 1.41-.59l7.78-7.78 2.81-2.81c.8-.78.8-2.07 0-2.86zM5.41 20L4 18.59l7.72-7.72 1.47 1.35L5.41 20z\"/>\n",
              "  </svg>\n",
              "      </button>\n",
              "      \n",
              "  <style>\n",
              "    .colab-df-container {\n",
              "      display:flex;\n",
              "      flex-wrap:wrap;\n",
              "      gap: 12px;\n",
              "    }\n",
              "\n",
              "    .colab-df-convert {\n",
              "      background-color: #E8F0FE;\n",
              "      border: none;\n",
              "      border-radius: 50%;\n",
              "      cursor: pointer;\n",
              "      display: none;\n",
              "      fill: #1967D2;\n",
              "      height: 32px;\n",
              "      padding: 0 0 0 0;\n",
              "      width: 32px;\n",
              "    }\n",
              "\n",
              "    .colab-df-convert:hover {\n",
              "      background-color: #E2EBFA;\n",
              "      box-shadow: 0px 1px 2px rgba(60, 64, 67, 0.3), 0px 1px 3px 1px rgba(60, 64, 67, 0.15);\n",
              "      fill: #174EA6;\n",
              "    }\n",
              "\n",
              "    [theme=dark] .colab-df-convert {\n",
              "      background-color: #3B4455;\n",
              "      fill: #D2E3FC;\n",
              "    }\n",
              "\n",
              "    [theme=dark] .colab-df-convert:hover {\n",
              "      background-color: #434B5C;\n",
              "      box-shadow: 0px 1px 3px 1px rgba(0, 0, 0, 0.15);\n",
              "      filter: drop-shadow(0px 1px 2px rgba(0, 0, 0, 0.3));\n",
              "      fill: #FFFFFF;\n",
              "    }\n",
              "  </style>\n",
              "\n",
              "      <script>\n",
              "        const buttonEl =\n",
              "          document.querySelector('#df-1fc4099e-5e58-48be-86a9-5b548d4b1baf button.colab-df-convert');\n",
              "        buttonEl.style.display =\n",
              "          google.colab.kernel.accessAllowed ? 'block' : 'none';\n",
              "\n",
              "        async function convertToInteractive(key) {\n",
              "          const element = document.querySelector('#df-1fc4099e-5e58-48be-86a9-5b548d4b1baf');\n",
              "          const dataTable =\n",
              "            await google.colab.kernel.invokeFunction('convertToInteractive',\n",
              "                                                     [key], {});\n",
              "          if (!dataTable) return;\n",
              "\n",
              "          const docLinkHtml = 'Like what you see? Visit the ' +\n",
              "            '<a target=\"_blank\" href=https://colab.research.google.com/notebooks/data_table.ipynb>data table notebook</a>'\n",
              "            + ' to learn more about interactive tables.';\n",
              "          element.innerHTML = '';\n",
              "          dataTable['output_type'] = 'display_data';\n",
              "          await google.colab.output.renderOutput(dataTable, element);\n",
              "          const docLink = document.createElement('div');\n",
              "          docLink.innerHTML = docLinkHtml;\n",
              "          element.appendChild(docLink);\n",
              "        }\n",
              "      </script>\n",
              "    </div>\n",
              "  </div>\n",
              "  "
            ]
          },
          "metadata": {},
          "execution_count": 28
        }
      ]
    },
    {
      "cell_type": "code",
      "source": [
        "ds_df[[\"raw_price\", \"price_currency\"]] = ds_df[\"car_prices_in_rupee\"].str.split(\n",
        "    \" \", expand=True)"
      ],
      "metadata": {
        "id": "cJR54fNWkcg6"
      },
      "execution_count": 37,
      "outputs": []
    },
    {
      "cell_type": "code",
      "source": [
        "ds_df[\"raw_price\"] = ds_df[\"raw_price\"].apply(\n",
        "    lambda x: x.replace(\",\", \"\")).astype(float)"
      ],
      "metadata": {
        "id": "CVshSBw9kyjA"
      },
      "execution_count": 38,
      "outputs": []
    },
    {
      "cell_type": "markdown",
      "source": [
        "1 Crore = 100 Lakhs<br>\n",
        "1 Lakh = 100,000 rupees"
      ],
      "metadata": {
        "id": "kqLHeQQflQXv"
      }
    },
    {
      "cell_type": "code",
      "source": [
        "ds_df[\"price_currency\"].unique()"
      ],
      "metadata": {
        "colab": {
          "base_uri": "https://localhost:8080/"
        },
        "id": "aK2GpjKDmJDn",
        "outputId": "0b17af53-9abb-4408-ec55-6e767e74dc88"
      },
      "execution_count": 40,
      "outputs": [
        {
          "output_type": "execute_result",
          "data": {
            "text/plain": [
              "array(['Lakh', 'Crore', ''], dtype=object)"
            ]
          },
          "metadata": {},
          "execution_count": 40
        }
      ]
    },
    {
      "cell_type": "code",
      "source": [
        "ds_df[\"currency_mult\"] = ds_df[\"price_currency\"].map(\n",
        "    {\"\": 1, \"Lakh\": 100000, \"Crore\": 100*100000})"
      ],
      "metadata": {
        "id": "I2LHVBODmL6x"
      },
      "execution_count": 41,
      "outputs": []
    },
    {
      "cell_type": "code",
      "source": [
        "ds_df[\"price\"] = ds_df[\"raw_price\"] * ds_df[\"currency_mult\"]"
      ],
      "metadata": {
        "id": "cHqpvetNk8yb"
      },
      "execution_count": 42,
      "outputs": []
    },
    {
      "cell_type": "code",
      "source": [
        "ds_df[\"price_currency\"].value_counts()"
      ],
      "metadata": {
        "colab": {
          "base_uri": "https://localhost:8080/"
        },
        "id": "GJ7cCzLdktgo",
        "outputId": "6e12aae6-eb35-40d7-ae5a-d33ae33b2bca"
      },
      "execution_count": 32,
      "outputs": [
        {
          "output_type": "execute_result",
          "data": {
            "text/plain": [
              "Lakh     5333\n",
              "          123\n",
              "Crore      56\n",
              "Name: price_currency, dtype: int64"
            ]
          },
          "metadata": {},
          "execution_count": 32
        }
      ]
    },
    {
      "cell_type": "code",
      "source": [
        "ds_df[\"kms_driven\"] = ds_df[\"kms_driven\"].apply(\n",
        "    lambda x: x.replace(\" kms\", \"\").replace(\",\", \"\")).astype(int)"
      ],
      "metadata": {
        "id": "0hAoNHL8jtg-"
      },
      "execution_count": 31,
      "outputs": []
    },
    {
      "cell_type": "code",
      "source": [
        "ds_df[\"ownership\"].value_counts()"
      ],
      "metadata": {
        "colab": {
          "base_uri": "https://localhost:8080/"
        },
        "id": "PCATBqgDnDAe",
        "outputId": "b0d2bfaf-182d-4880-f4a6-03fce5e96d9c"
      },
      "execution_count": 43,
      "outputs": [
        {
          "output_type": "execute_result",
          "data": {
            "text/plain": [
              "1st Owner    3736\n",
              "2nd Owner    1314\n",
              "3rd Owner     359\n",
              "4th Owner      84\n",
              "5th Owner      12\n",
              "0th Owner       7\n",
              "Name: ownership, dtype: int64"
            ]
          },
          "metadata": {},
          "execution_count": 43
        }
      ]
    },
    {
      "cell_type": "code",
      "source": [
        "ds_df[\"ownership\"] = ds_df[\"ownership\"].str[0].astype(int)"
      ],
      "metadata": {
        "id": "iur-uYblnIQX"
      },
      "execution_count": 44,
      "outputs": []
    },
    {
      "cell_type": "code",
      "source": [
        "ds_df[\"transmission\"].value_counts()"
      ],
      "metadata": {
        "colab": {
          "base_uri": "https://localhost:8080/"
        },
        "id": "d1od2LdqnRW_",
        "outputId": "fce9c38c-a486-4097-c715-8ad87af59246"
      },
      "execution_count": 45,
      "outputs": [
        {
          "output_type": "execute_result",
          "data": {
            "text/plain": [
              "Manual       3962\n",
              "Automatic    1550\n",
              "Name: transmission, dtype: int64"
            ]
          },
          "metadata": {},
          "execution_count": 45
        }
      ]
    },
    {
      "cell_type": "code",
      "source": [
        "ds_df[\"transmission\"] = ds_df[\"transmission\"].replace(\n",
        "    {\"Manual\": 0, \"Automatic\": 1})"
      ],
      "metadata": {
        "id": "9ZAvPiUZnXyG"
      },
      "execution_count": 47,
      "outputs": []
    },
    {
      "cell_type": "code",
      "source": [
        "ds_df[\"engine\"].str[-3:].unique()"
      ],
      "metadata": {
        "colab": {
          "base_uri": "https://localhost:8080/"
        },
        "id": "nuqzVwJ7nq6f",
        "outputId": "c51ef5ce-fa2f-462e-f63b-34b0762d8562"
      },
      "execution_count": 49,
      "outputs": [
        {
          "output_type": "execute_result",
          "data": {
            "text/plain": [
              "array([' cc'], dtype=object)"
            ]
          },
          "metadata": {},
          "execution_count": 49
        }
      ]
    },
    {
      "cell_type": "code",
      "source": [
        "ds_df[\"engine\"] = ds_df[\"engine\"].apply(\n",
        "    lambda x: x.replace(\" cc\", \"\")).astype(int)"
      ],
      "metadata": {
        "id": "aUPwmlIyn7Fq"
      },
      "execution_count": 50,
      "outputs": []
    },
    {
      "cell_type": "code",
      "source": [
        "ds_df[\"Seats\"].value_counts()"
      ],
      "metadata": {
        "colab": {
          "base_uri": "https://localhost:8080/"
        },
        "id": "t9hikpcmoH-M",
        "outputId": "eb581097-dd28-4968-a2cb-a402e2fe1fa3"
      },
      "execution_count": 52,
      "outputs": [
        {
          "output_type": "execute_result",
          "data": {
            "text/plain": [
              "5 Seats    4673\n",
              "7 Seats     631\n",
              "4 Seats      88\n",
              "6 Seats      61\n",
              "8 Seats      54\n",
              "2 Seats       5\n",
              "Name: Seats, dtype: int64"
            ]
          },
          "metadata": {},
          "execution_count": 52
        }
      ]
    },
    {
      "cell_type": "code",
      "source": [
        "ds_df[\"Seats\"] = ds_df[\"Seats\"].str[0].astype(int)"
      ],
      "metadata": {
        "id": "85FENeusoTfX"
      },
      "execution_count": 53,
      "outputs": []
    },
    {
      "cell_type": "code",
      "source": [
        "ds_df[\"car_name\"].str.split(\n",
        "    \" \", expand=True)[0].nunique()"
      ],
      "metadata": {
        "colab": {
          "base_uri": "https://localhost:8080/"
        },
        "id": "eU-F4bSDognt",
        "outputId": "4f2a9e42-93dd-4913-c90e-8b66eb9b470f"
      },
      "execution_count": 55,
      "outputs": [
        {
          "output_type": "execute_result",
          "data": {
            "text/plain": [
              "32"
            ]
          },
          "metadata": {},
          "execution_count": 55
        }
      ]
    },
    {
      "cell_type": "code",
      "source": [
        "ds_df[\"car_brand\"] = ds_df[\"car_name\"].str.split(\n",
        "    \" \", expand=True)[0]"
      ],
      "metadata": {
        "id": "bd-AT_Z9pSP0"
      },
      "execution_count": 60,
      "outputs": []
    },
    {
      "cell_type": "code",
      "source": [
        "ds_df[\"car_brand\"].value_counts()"
      ],
      "metadata": {
        "colab": {
          "base_uri": "https://localhost:8080/"
        },
        "id": "qfmWWVYcoopK",
        "outputId": "b34c3ed1-68cd-4cac-a99b-dc190c1ca8bb"
      },
      "execution_count": 61,
      "outputs": [
        {
          "output_type": "execute_result",
          "data": {
            "text/plain": [
              "Maruti           1389\n",
              "Hyundai          1023\n",
              "Honda             498\n",
              "Mahindra          315\n",
              "Mercedes-Benz     283\n",
              "Tata              269\n",
              "Toyota            263\n",
              "BMW               172\n",
              "Renault           170\n",
              "Ford              168\n",
              "Audi              166\n",
              "Volkswagen        159\n",
              "Skoda             113\n",
              "Chevrolet          82\n",
              "Nissan             63\n",
              "MG                 62\n",
              "Kia                61\n",
              "Land               50\n",
              "Jeep               49\n",
              "Volvo              31\n",
              "Jaguar             30\n",
              "Datsun             25\n",
              "Fiat               17\n",
              "Mini               14\n",
              "Porsche            10\n",
              "Lexus              10\n",
              "Mitsubishi          8\n",
              "Maserati            5\n",
              "Isuzu               4\n",
              "Force               1\n",
              "Premier             1\n",
              "Bentley             1\n",
              "Name: car_brand, dtype: int64"
            ]
          },
          "metadata": {},
          "execution_count": 61
        }
      ]
    },
    {
      "cell_type": "code",
      "source": [
        "ds_df[\"car_brand_mod\"] = ds_df[\"car_brand\"].replace(\n",
        "    {b: \"other\" for b in [\"Isuzu\", \"Force\", \"Premier\", \"Bentley\"]})"
      ],
      "metadata": {
        "id": "9xdSClVPs90G"
      },
      "execution_count": 80,
      "outputs": []
    },
    {
      "cell_type": "code",
      "source": [
        "ds_df[\"car_brand_mod\"].nunique()"
      ],
      "metadata": {
        "colab": {
          "base_uri": "https://localhost:8080/"
        },
        "id": "KGmFkHM1thId",
        "outputId": "3c8d607b-a8ce-4f7c-f282-0f110c519b93"
      },
      "execution_count": 84,
      "outputs": [
        {
          "output_type": "execute_result",
          "data": {
            "text/plain": [
              "29"
            ]
          },
          "metadata": {},
          "execution_count": 84
        }
      ]
    },
    {
      "cell_type": "code",
      "source": [
        "ds_df[\"fuel_type\"].value_counts()"
      ],
      "metadata": {
        "colab": {
          "base_uri": "https://localhost:8080/"
        },
        "id": "b8GzT1jTsZyQ",
        "outputId": "ef71a792-9b68-4bfc-965d-59e6d9b87aee"
      },
      "execution_count": 79,
      "outputs": [
        {
          "output_type": "execute_result",
          "data": {
            "text/plain": [
              "Petrol      2967\n",
              "Diesel      2423\n",
              "Cng           80\n",
              "Lpg           28\n",
              "Electric      14\n",
              "Name: fuel_type, dtype: int64"
            ]
          },
          "metadata": {},
          "execution_count": 79
        }
      ]
    },
    {
      "cell_type": "code",
      "source": [
        "import seaborn as sns"
      ],
      "metadata": {
        "id": "W0A4v7x6pOQa"
      },
      "execution_count": 59,
      "outputs": []
    },
    {
      "cell_type": "code",
      "source": [
        "sns.boxenplot(data=ds_df[ds_df[\"car_brand\"].isin(\n",
        "    [\"Maruti\", \"Hyundai\", \"Honda\", \"Mahindra\", \"Tata\", \"Renault\", \"Ford\",\n",
        "     \"Volkswagen\", \"Skoda\", \"Chevrolet\", \"Nissan\", \"MG\", \"Kia\"])],\n",
        "              x=\"car_brand\", y=\"price\")"
      ],
      "metadata": {
        "colab": {
          "base_uri": "https://localhost:8080/",
          "height": 536
        },
        "id": "9ovsE3w0o6Jk",
        "outputId": "7a2a67e1-2826-411f-cbc7-e38db717d879"
      },
      "execution_count": 74,
      "outputs": [
        {
          "output_type": "execute_result",
          "data": {
            "text/plain": [
              "<Axes: xlabel='car_brand', ylabel='price'>"
            ]
          },
          "metadata": {},
          "execution_count": 74
        },
        {
          "output_type": "display_data",
          "data": {
            "text/plain": [
              "<Figure size 800x550 with 1 Axes>"
            ],
            "image/png": "[encoded data removed]"
          },
          "metadata": {}
        }
      ]
    },
    {
      "cell_type": "code",
      "source": [
        "sns.boxenplot(data=ds_df[ds_df[\"car_brand\"].isin(\n",
        "    [\"Toyota\", \"BMW\", \"Mercedes-Benz\", \"Audi\", \"Jeep\", \"Jaguar\", \"Land\",\n",
        "     \"Volvo\", \"Force\", \"Premier\", \"Bentley\", \"MG\", \"Kia\"])],\n",
        "              x=\"car_brand\", y=\"price\")"
      ],
      "metadata": {
        "colab": {
          "base_uri": "https://localhost:8080/",
          "height": 536
        },
        "id": "M_lvtsMmq1SZ",
        "outputId": "27685be6-3f48-45f5-a6a2-f6502f088c3a"
      },
      "execution_count": 75,
      "outputs": [
        {
          "output_type": "execute_result",
          "data": {
            "text/plain": [
              "<Axes: xlabel='car_brand', ylabel='price'>"
            ]
          },
          "metadata": {},
          "execution_count": 75
        },
        {
          "output_type": "display_data",
          "data": {
            "text/plain": [
              "<Figure size 800x550 with 1 Axes>"
            ],
            "image/png": "[encoded data removed]"
          },
          "metadata": {}
        }
      ]
    },
    {
      "cell_type": "code",
      "source": [
        "ds_df[\"car_name\"].str.split(\n",
        "    \" \", expand=True)[1].value_counts()"
      ],
      "metadata": {
        "colab": {
          "base_uri": "https://localhost:8080/"
        },
        "id": "Co5pPosBo11A",
        "outputId": "56f14e69-958d-45d4-acfd-dc1e63ce8785"
      },
      "execution_count": 58,
      "outputs": [
        {
          "output_type": "execute_result",
          "data": {
            "text/plain": [
              "Swift        388\n",
              "i20          237\n",
              "City         221\n",
              "Wagon        206\n",
              "Alto         192\n",
              "            ... \n",
              "Outlander      1\n",
              "Fusion         1\n",
              "Supro          1\n",
              "Aria           1\n",
              "M              1\n",
              "Name: 1, Length: 230, dtype: int64"
            ]
          },
          "metadata": {},
          "execution_count": 58
        }
      ]
    },
    {
      "cell_type": "code",
      "source": [
        "list(ds_df)"
      ],
      "metadata": {
        "colab": {
          "base_uri": "https://localhost:8080/"
        },
        "id": "WMuQeIpstnuj",
        "outputId": "861a2396-d213-4cb0-ce18-09438ce02397"
      },
      "execution_count": 82,
      "outputs": [
        {
          "output_type": "execute_result",
          "data": {
            "text/plain": [
              "['Unnamed: 0',\n",
              " 'car_name',\n",
              " 'car_prices_in_rupee',\n",
              " 'kms_driven',\n",
              " 'fuel_type',\n",
              " 'transmission',\n",
              " 'ownership',\n",
              " 'manufacture',\n",
              " 'engine',\n",
              " 'Seats',\n",
              " 'price_currency',\n",
              " 'raw_price',\n",
              " 'currency_mult',\n",
              " 'price',\n",
              " 'car_brand',\n",
              " 'car_brand_mod']"
            ]
          },
          "metadata": {},
          "execution_count": 82
        }
      ]
    },
    {
      "cell_type": "code",
      "source": [
        "ds_df[['kms_driven',\n",
        " 'transmission',\n",
        " 'ownership',\n",
        " 'manufacture',\n",
        " 'engine',\n",
        " 'Seats',\n",
        " 'price']].corr().round(2)"
      ],
      "metadata": {
        "colab": {
          "base_uri": "https://localhost:8080/",
          "height": 269
        },
        "id": "oheBiD_UeQRA",
        "outputId": "a5797aae-f42c-4711-c511-4609cf44d476"
      },
      "execution_count": 83,
      "outputs": [
        {
          "output_type": "execute_result",
          "data": {
            "text/plain": [
              "              kms_driven  transmission  ownership  manufacture  engine  Seats  \\\n",
              "kms_driven          1.00         -0.21       0.28        -0.48   -0.03   0.02   \n",
              "transmission       -0.21          1.00      -0.08         0.26    0.18  -0.01   \n",
              "ownership           0.28         -0.08       1.00        -0.43   -0.02  -0.00   \n",
              "manufacture        -0.48          0.26      -0.43         1.00    0.06   0.01   \n",
              "engine             -0.03          0.18      -0.02         0.06    1.00   0.14   \n",
              "Seats               0.02         -0.01      -0.00         0.01    0.14   1.00   \n",
              "price              -0.24          0.53      -0.16         0.35    0.16   0.01   \n",
              "\n",
              "              price  \n",
              "kms_driven    -0.24  \n",
              "transmission   0.53  \n",
              "ownership     -0.16  \n",
              "manufacture    0.35  \n",
              "engine         0.16  \n",
              "Seats          0.01  \n",
              "price          1.00  "
            ],
            "text/html": [
              "\n",
              "  <div id=\"df-339c86ae-b99d-45b1-bf42-b6c609d982be\">\n",
              "    <div class=\"colab-df-container\">\n",
              "      <div>\n",
              "<style scoped>\n",
              "    .dataframe tbody tr th:only-of-type {\n",
              "        vertical-align: middle;\n",
              "    }\n",
              "\n",
              "    .dataframe tbody tr th {\n",
              "        vertical-align: top;\n",
              "    }\n",
              "\n",
              "    .dataframe thead th {\n",
              "        text-align: right;\n",
              "    }\n",
              "</style>\n",
              "<table border=\"1\" class=\"dataframe\">\n",
              "  <thead>\n",
              "    <tr style=\"text-align: right;\">\n",
              "      <th></th>\n",
              "      <th>kms_driven</th>\n",
              "      <th>transmission</th>\n",
              "      <th>ownership</th>\n",
              "      <th>manufacture</th>\n",
              "      <th>engine</th>\n",
              "      <th>Seats</th>\n",
              "      <th>price</th>\n",
              "    </tr>\n",
              "  </thead>\n",
              "  <tbody>\n",
              "    <tr>\n",
              "      <th>kms_driven</th>\n",
              "      <td>1.00</td>\n",
              "      <td>-0.21</td>\n",
              "      <td>0.28</td>\n",
              "      <td>-0.48</td>\n",
              "      <td>-0.03</td>\n",
              "      <td>0.02</td>\n",
              "      <td>-0.24</td>\n",
              "    </tr>\n",
              "    <tr>\n",
              "      <th>transmission</th>\n",
              "      <td>-0.21</td>\n",
              "      <td>1.00</td>\n",
              "      <td>-0.08</td>\n",
              "      <td>0.26</td>\n",
              "      <td>0.18</td>\n",
              "      <td>-0.01</td>\n",
              "      <td>0.53</td>\n",
              "    </tr>\n",
              "    <tr>\n",
              "      <th>ownership</th>\n",
              "      <td>0.28</td>\n",
              "      <td>-0.08</td>\n",
              "      <td>1.00</td>\n",
              "      <td>-0.43</td>\n",
              "      <td>-0.02</td>\n",
              "      <td>-0.00</td>\n",
              "      <td>-0.16</td>\n",
              "    </tr>\n",
              "    <tr>\n",
              "      <th>manufacture</th>\n",
              "      <td>-0.48</td>\n",
              "      <td>0.26</td>\n",
              "      <td>-0.43</td>\n",
              "      <td>1.00</td>\n",
              "      <td>0.06</td>\n",
              "      <td>0.01</td>\n",
              "      <td>0.35</td>\n",
              "    </tr>\n",
              "    <tr>\n",
              "      <th>engine</th>\n",
              "      <td>-0.03</td>\n",
              "      <td>0.18</td>\n",
              "      <td>-0.02</td>\n",
              "      <td>0.06</td>\n",
              "      <td>1.00</td>\n",
              "      <td>0.14</td>\n",
              "      <td>0.16</td>\n",
              "    </tr>\n",
              "    <tr>\n",
              "      <th>Seats</th>\n",
              "      <td>0.02</td>\n",
              "      <td>-0.01</td>\n",
              "      <td>-0.00</td>\n",
              "      <td>0.01</td>\n",
              "      <td>0.14</td>\n",
              "      <td>1.00</td>\n",
              "      <td>0.01</td>\n",
              "    </tr>\n",
              "    <tr>\n",
              "      <th>price</th>\n",
              "      <td>-0.24</td>\n",
              "      <td>0.53</td>\n",
              "      <td>-0.16</td>\n",
              "      <td>0.35</td>\n",
              "      <td>0.16</td>\n",
              "      <td>0.01</td>\n",
              "      <td>1.00</td>\n",
              "    </tr>\n",
              "  </tbody>\n",
              "</table>\n",
              "</div>\n",
              "      <button class=\"colab-df-convert\" onclick=\"convertToInteractive('df-339c86ae-b99d-45b1-bf42-b6c609d982be')\"\n",
              "              title=\"Convert this dataframe to an interactive table.\"\n",
              "              style=\"display:none;\">\n",
              "        \n",
              "  <svg xmlns=\"http://www.w3.org/2000/svg\" height=\"24px\"viewBox=\"0 0 24 24\"\n",
              "       width=\"24px\">\n",
              "    <path d=\"M0 0h24v24H0V0z\" fill=\"none\"/>\n",
              "    <path d=\"M18.56 5.44l.94 2.06.94-2.06 2.06-.94-2.06-.94-.94-2.06-.94 2.06-2.06.94zm-11 1L8.5 8.5l.94-2.06 2.06-.94-2.06-.94L8.5 2.5l-.94 2.06-2.06.94zm10 10l.94 2.06.94-2.06 2.06-.94-2.06-.94-.94-2.06-.94 2.06-2.06.94z\"/><path d=\"M17.41 7.96l-1.37-1.37c-.4-.4-.92-.59-1.43-.59-.52 0-1.04.2-1.43.59L10.3 9.45l-7.72 7.72c-.78.78-.78 2.05 0 2.83L4 21.41c.39.39.9.59 1.41.59.51 0 1.02-.2 1.41-.59l7.78-7.78 2.81-2.81c.8-.78.8-2.07 0-2.86zM5.41 20L4 18.59l7.72-7.72 1.47 1.35L5.41 20z\"/>\n",
              "  </svg>\n",
              "      </button>\n",
              "      \n",
              "  <style>\n",
              "    .colab-df-container {\n",
              "      display:flex;\n",
              "      flex-wrap:wrap;\n",
              "      gap: 12px;\n",
              "    }\n",
              "\n",
              "    .colab-df-convert {\n",
              "      background-color: #E8F0FE;\n",
              "      border: none;\n",
              "      border-radius: 50%;\n",
              "      cursor: pointer;\n",
              "      display: none;\n",
              "      fill: #1967D2;\n",
              "      height: 32px;\n",
              "      padding: 0 0 0 0;\n",
              "      width: 32px;\n",
              "    }\n",
              "\n",
              "    .colab-df-convert:hover {\n",
              "      background-color: #E2EBFA;\n",
              "      box-shadow: 0px 1px 2px rgba(60, 64, 67, 0.3), 0px 1px 3px 1px rgba(60, 64, 67, 0.15);\n",
              "      fill: #174EA6;\n",
              "    }\n",
              "\n",
              "    [theme=dark] .colab-df-convert {\n",
              "      background-color: #3B4455;\n",
              "      fill: #D2E3FC;\n",
              "    }\n",
              "\n",
              "    [theme=dark] .colab-df-convert:hover {\n",
              "      background-color: #434B5C;\n",
              "      box-shadow: 0px 1px 3px 1px rgba(0, 0, 0, 0.15);\n",
              "      filter: drop-shadow(0px 1px 2px rgba(0, 0, 0, 0.3));\n",
              "      fill: #FFFFFF;\n",
              "    }\n",
              "  </style>\n",
              "\n",
              "      <script>\n",
              "        const buttonEl =\n",
              "          document.querySelector('#df-339c86ae-b99d-45b1-bf42-b6c609d982be button.colab-df-convert');\n",
              "        buttonEl.style.display =\n",
              "          google.colab.kernel.accessAllowed ? 'block' : 'none';\n",
              "\n",
              "        async function convertToInteractive(key) {\n",
              "          const element = document.querySelector('#df-339c86ae-b99d-45b1-bf42-b6c609d982be');\n",
              "          const dataTable =\n",
              "            await google.colab.kernel.invokeFunction('convertToInteractive',\n",
              "                                                     [key], {});\n",
              "          if (!dataTable) return;\n",
              "\n",
              "          const docLinkHtml = 'Like what you see? Visit the ' +\n",
              "            '<a target=\"_blank\" href=https://colab.research.google.com/notebooks/data_table.ipynb>data table notebook</a>'\n",
              "            + ' to learn more about interactive tables.';\n",
              "          element.innerHTML = '';\n",
              "          dataTable['output_type'] = 'display_data';\n",
              "          await google.colab.output.renderOutput(dataTable, element);\n",
              "          const docLink = document.createElement('div');\n",
              "          docLink.innerHTML = docLinkHtml;\n",
              "          element.appendChild(docLink);\n",
              "        }\n",
              "      </script>\n",
              "    </div>\n",
              "  </div>\n",
              "  "
            ]
          },
          "metadata": {},
          "execution_count": 83
        }
      ]
    },
    {
      "cell_type": "code",
      "source": [
        "train_df, test_df = train_test_split(\n",
        "    ds_df, test_size=0.20, random_state=1)"
      ],
      "metadata": {
        "id": "bdlYT0C6sVQC"
      },
      "execution_count": 85,
      "outputs": []
    },
    {
      "cell_type": "markdown",
      "source": [
        "# III. Create Models"
      ],
      "metadata": {
        "id": "0V1W04AjslJD"
      }
    },
    {
      "cell_type": "code",
      "source": [
        "reg_models = setup(\n",
        "    data=train_df, target='price', session_id=123,\n",
        "    ignore_features=['Unnamed: 0', 'car_name', 'car_prices_in_rupee',\n",
        "                     'price_currency', 'raw_price', 'currency_mult', 'car_brand'])\n"
      ],
      "metadata": {
        "colab": {
          "base_uri": "https://localhost:8080/",
          "height": 770
        },
        "id": "UUDwZKDmsoJ8",
        "outputId": "91888cef-c15a-4900-ebea-4b6c2a598a94"
      },
      "execution_count": 86,
      "outputs": [
        {
          "output_type": "display_data",
          "data": {
            "text/plain": [
              "<pandas.io.formats.style.Styler at 0x7f7cae97bdc0>"
            ],
            "text/html": [
              "<style type=\"text/css\">\n",
              "#T_6464e_row10_col1 {\n",
              "  background-color: lightgreen;\n",
              "}\n",
              "</style>\n",
              "<table id=\"T_6464e\" class=\"dataframe\">\n",
              "  <thead>\n",
              "    <tr>\n",
              "      <th class=\"blank level0\" >&nbsp;</th>\n",
              "      <th id=\"T_6464e_level0_col0\" class=\"col_heading level0 col0\" >Description</th>\n",
              "      <th id=\"T_6464e_level0_col1\" class=\"col_heading level0 col1\" >Value</th>\n",
              "    </tr>\n",
              "  </thead>\n",
              "  <tbody>\n",
              "    <tr>\n",
              "      <th id=\"T_6464e_level0_row0\" class=\"row_heading level0 row0\" >0</th>\n",
              "      <td id=\"T_6464e_row0_col0\" class=\"data row0 col0\" >Session id</td>\n",
              "      <td id=\"T_6464e_row0_col1\" class=\"data row0 col1\" >123</td>\n",
              "    </tr>\n",
              "    <tr>\n",
              "      <th id=\"T_6464e_level0_row1\" class=\"row_heading level0 row1\" >1</th>\n",
              "      <td id=\"T_6464e_row1_col0\" class=\"data row1 col0\" >Target</td>\n",
              "      <td id=\"T_6464e_row1_col1\" class=\"data row1 col1\" >price</td>\n",
              "    </tr>\n",
              "    <tr>\n",
              "      <th id=\"T_6464e_level0_row2\" class=\"row_heading level0 row2\" >2</th>\n",
              "      <td id=\"T_6464e_row2_col0\" class=\"data row2 col0\" >Target type</td>\n",
              "      <td id=\"T_6464e_row2_col1\" class=\"data row2 col1\" >Regression</td>\n",
              "    </tr>\n",
              "    <tr>\n",
              "      <th id=\"T_6464e_level0_row3\" class=\"row_heading level0 row3\" >3</th>\n",
              "      <td id=\"T_6464e_row3_col0\" class=\"data row3 col0\" >Original data shape</td>\n",
              "      <td id=\"T_6464e_row3_col1\" class=\"data row3 col1\" >(4409, 16)</td>\n",
              "    </tr>\n",
              "    <tr>\n",
              "      <th id=\"T_6464e_level0_row4\" class=\"row_heading level0 row4\" >4</th>\n",
              "      <td id=\"T_6464e_row4_col0\" class=\"data row4 col0\" >Transformed data shape</td>\n",
              "      <td id=\"T_6464e_row4_col1\" class=\"data row4 col1\" >(4409, 13)</td>\n",
              "    </tr>\n",
              "    <tr>\n",
              "      <th id=\"T_6464e_level0_row5\" class=\"row_heading level0 row5\" >5</th>\n",
              "      <td id=\"T_6464e_row5_col0\" class=\"data row5 col0\" >Transformed train set shape</td>\n",
              "      <td id=\"T_6464e_row5_col1\" class=\"data row5 col1\" >(3086, 13)</td>\n",
              "    </tr>\n",
              "    <tr>\n",
              "      <th id=\"T_6464e_level0_row6\" class=\"row_heading level0 row6\" >6</th>\n",
              "      <td id=\"T_6464e_row6_col0\" class=\"data row6 col0\" >Transformed test set shape</td>\n",
              "      <td id=\"T_6464e_row6_col1\" class=\"data row6 col1\" >(1323, 13)</td>\n",
              "    </tr>\n",
              "    <tr>\n",
              "      <th id=\"T_6464e_level0_row7\" class=\"row_heading level0 row7\" >7</th>\n",
              "      <td id=\"T_6464e_row7_col0\" class=\"data row7 col0\" >Ignore features</td>\n",
              "      <td id=\"T_6464e_row7_col1\" class=\"data row7 col1\" >7</td>\n",
              "    </tr>\n",
              "    <tr>\n",
              "      <th id=\"T_6464e_level0_row8\" class=\"row_heading level0 row8\" >8</th>\n",
              "      <td id=\"T_6464e_row8_col0\" class=\"data row8 col0\" >Numeric features</td>\n",
              "      <td id=\"T_6464e_row8_col1\" class=\"data row8 col1\" >6</td>\n",
              "    </tr>\n",
              "    <tr>\n",
              "      <th id=\"T_6464e_level0_row9\" class=\"row_heading level0 row9\" >9</th>\n",
              "      <td id=\"T_6464e_row9_col0\" class=\"data row9 col0\" >Categorical features</td>\n",
              "      <td id=\"T_6464e_row9_col1\" class=\"data row9 col1\" >2</td>\n",
              "    </tr>\n",
              "    <tr>\n",
              "      <th id=\"T_6464e_level0_row10\" class=\"row_heading level0 row10\" >10</th>\n",
              "      <td id=\"T_6464e_row10_col0\" class=\"data row10 col0\" >Preprocess</td>\n",
              "      <td id=\"T_6464e_row10_col1\" class=\"data row10 col1\" >True</td>\n",
              "    </tr>\n",
              "    <tr>\n",
              "      <th id=\"T_6464e_level0_row11\" class=\"row_heading level0 row11\" >11</th>\n",
              "      <td id=\"T_6464e_row11_col0\" class=\"data row11 col0\" >Imputation type</td>\n",
              "      <td id=\"T_6464e_row11_col1\" class=\"data row11 col1\" >simple</td>\n",
              "    </tr>\n",
              "    <tr>\n",
              "      <th id=\"T_6464e_level0_row12\" class=\"row_heading level0 row12\" >12</th>\n",
              "      <td id=\"T_6464e_row12_col0\" class=\"data row12 col0\" >Numeric imputation</td>\n",
              "      <td id=\"T_6464e_row12_col1\" class=\"data row12 col1\" >mean</td>\n",
              "    </tr>\n",
              "    <tr>\n",
              "      <th id=\"T_6464e_level0_row13\" class=\"row_heading level0 row13\" >13</th>\n",
              "      <td id=\"T_6464e_row13_col0\" class=\"data row13 col0\" >Categorical imputation</td>\n",
              "      <td id=\"T_6464e_row13_col1\" class=\"data row13 col1\" >mode</td>\n",
              "    </tr>\n",
              "    <tr>\n",
              "      <th id=\"T_6464e_level0_row14\" class=\"row_heading level0 row14\" >14</th>\n",
              "      <td id=\"T_6464e_row14_col0\" class=\"data row14 col0\" >Maximum one-hot encoding</td>\n",
              "      <td id=\"T_6464e_row14_col1\" class=\"data row14 col1\" >25</td>\n",
              "    </tr>\n",
              "    <tr>\n",
              "      <th id=\"T_6464e_level0_row15\" class=\"row_heading level0 row15\" >15</th>\n",
              "      <td id=\"T_6464e_row15_col0\" class=\"data row15 col0\" >Encoding method</td>\n",
              "      <td id=\"T_6464e_row15_col1\" class=\"data row15 col1\" >None</td>\n",
              "    </tr>\n",
              "    <tr>\n",
              "      <th id=\"T_6464e_level0_row16\" class=\"row_heading level0 row16\" >16</th>\n",
              "      <td id=\"T_6464e_row16_col0\" class=\"data row16 col0\" >Fold Generator</td>\n",
              "      <td id=\"T_6464e_row16_col1\" class=\"data row16 col1\" >KFold</td>\n",
              "    </tr>\n",
              "    <tr>\n",
              "      <th id=\"T_6464e_level0_row17\" class=\"row_heading level0 row17\" >17</th>\n",
              "      <td id=\"T_6464e_row17_col0\" class=\"data row17 col0\" >Fold Number</td>\n",
              "      <td id=\"T_6464e_row17_col1\" class=\"data row17 col1\" >10</td>\n",
              "    </tr>\n",
              "    <tr>\n",
              "      <th id=\"T_6464e_level0_row18\" class=\"row_heading level0 row18\" >18</th>\n",
              "      <td id=\"T_6464e_row18_col0\" class=\"data row18 col0\" >CPU Jobs</td>\n",
              "      <td id=\"T_6464e_row18_col1\" class=\"data row18 col1\" >-1</td>\n",
              "    </tr>\n",
              "    <tr>\n",
              "      <th id=\"T_6464e_level0_row19\" class=\"row_heading level0 row19\" >19</th>\n",
              "      <td id=\"T_6464e_row19_col0\" class=\"data row19 col0\" >Use GPU</td>\n",
              "      <td id=\"T_6464e_row19_col1\" class=\"data row19 col1\" >False</td>\n",
              "    </tr>\n",
              "    <tr>\n",
              "      <th id=\"T_6464e_level0_row20\" class=\"row_heading level0 row20\" >20</th>\n",
              "      <td id=\"T_6464e_row20_col0\" class=\"data row20 col0\" >Log Experiment</td>\n",
              "      <td id=\"T_6464e_row20_col1\" class=\"data row20 col1\" >False</td>\n",
              "    </tr>\n",
              "    <tr>\n",
              "      <th id=\"T_6464e_level0_row21\" class=\"row_heading level0 row21\" >21</th>\n",
              "      <td id=\"T_6464e_row21_col0\" class=\"data row21 col0\" >Experiment Name</td>\n",
              "      <td id=\"T_6464e_row21_col1\" class=\"data row21 col1\" >reg-default-name</td>\n",
              "    </tr>\n",
              "    <tr>\n",
              "      <th id=\"T_6464e_level0_row22\" class=\"row_heading level0 row22\" >22</th>\n",
              "      <td id=\"T_6464e_row22_col0\" class=\"data row22 col0\" >USI</td>\n",
              "      <td id=\"T_6464e_row22_col1\" class=\"data row22 col1\" >5970</td>\n",
              "    </tr>\n",
              "  </tbody>\n",
              "</table>\n"
            ]
          },
          "metadata": {}
        }
      ]
    },
    {
      "cell_type": "code",
      "source": [
        "best_model = compare_models(fold=5)\n"
      ],
      "metadata": {
        "colab": {
          "base_uri": "https://localhost:8080/",
          "height": 645,
          "referenced_widgets": [
            "2c84795379234ba8a3d7823b1e3ef32c",
            "a1b50fbc9f15476094f462cff99ad028",
            "3b3acbefec554a579567e8962dd6043c",
            "ace5d12f5e364e159251849fcd3cc9cf",
            "7fdd13f4cac347c4b10a5576156b34b8",
            "d568516d177244bea5c7a1a85fe658f4",
            "0d3d3de866c14ec882f8e5082da5a4b9",
            "dbf7bda40f5d4fdf89c261f617338c23",
            "65972188e3c0459dac2c6462085af92b",
            "fc4f5e0cd10e4693b7929911b0eb03b0",
            "c50e2870b2b4446c9e0b34b4d1e7da8c"
          ]
        },
        "id": "ujtCH1wksuFG",
        "outputId": "730e8061-5ea7-482b-a656-73fc1d5e489b"
      },
      "execution_count": 87,
      "outputs": [
        {
          "output_type": "display_data",
          "data": {
            "text/plain": [
              "<IPython.core.display.HTML object>"
            ],
            "text/html": []
          },
          "metadata": {}
        },
        {
          "output_type": "display_data",
          "data": {
            "text/plain": [
              "<pandas.io.formats.style.Styler at 0x7f7caea08c70>"
            ],
            "text/html": [
              "<style type=\"text/css\">\n",
              "#T_d3c07 th {\n",
              "  text-align: left;\n",
              "}\n",
              "#T_d3c07_row0_col0, #T_d3c07_row1_col0, #T_d3c07_row1_col1, #T_d3c07_row1_col2, #T_d3c07_row1_col3, #T_d3c07_row1_col4, #T_d3c07_row1_col5, #T_d3c07_row1_col6, #T_d3c07_row2_col0, #T_d3c07_row2_col1, #T_d3c07_row2_col2, #T_d3c07_row2_col3, #T_d3c07_row2_col4, #T_d3c07_row2_col5, #T_d3c07_row2_col6, #T_d3c07_row3_col0, #T_d3c07_row3_col1, #T_d3c07_row3_col2, #T_d3c07_row3_col3, #T_d3c07_row3_col4, #T_d3c07_row3_col5, #T_d3c07_row3_col6, #T_d3c07_row4_col0, #T_d3c07_row4_col1, #T_d3c07_row4_col2, #T_d3c07_row4_col3, #T_d3c07_row4_col4, #T_d3c07_row4_col5, #T_d3c07_row4_col6, #T_d3c07_row5_col0, #T_d3c07_row5_col1, #T_d3c07_row5_col2, #T_d3c07_row5_col3, #T_d3c07_row5_col4, #T_d3c07_row5_col5, #T_d3c07_row5_col6, #T_d3c07_row6_col0, #T_d3c07_row6_col1, #T_d3c07_row6_col2, #T_d3c07_row6_col3, #T_d3c07_row6_col4, #T_d3c07_row6_col5, #T_d3c07_row6_col6, #T_d3c07_row7_col0, #T_d3c07_row7_col1, #T_d3c07_row7_col2, #T_d3c07_row7_col3, #T_d3c07_row7_col4, #T_d3c07_row7_col5, #T_d3c07_row7_col6, #T_d3c07_row8_col0, #T_d3c07_row8_col1, #T_d3c07_row8_col2, #T_d3c07_row8_col3, #T_d3c07_row8_col4, #T_d3c07_row8_col5, #T_d3c07_row8_col6, #T_d3c07_row9_col0, #T_d3c07_row9_col1, #T_d3c07_row9_col2, #T_d3c07_row9_col3, #T_d3c07_row9_col4, #T_d3c07_row9_col5, #T_d3c07_row9_col6, #T_d3c07_row10_col0, #T_d3c07_row10_col1, #T_d3c07_row10_col2, #T_d3c07_row10_col3, #T_d3c07_row10_col4, #T_d3c07_row10_col5, #T_d3c07_row10_col6, #T_d3c07_row11_col0, #T_d3c07_row11_col1, #T_d3c07_row11_col2, #T_d3c07_row11_col3, #T_d3c07_row11_col4, #T_d3c07_row11_col5, #T_d3c07_row11_col6, #T_d3c07_row12_col0, #T_d3c07_row12_col1, #T_d3c07_row12_col2, #T_d3c07_row12_col3, #T_d3c07_row12_col4, #T_d3c07_row12_col5, #T_d3c07_row12_col6, #T_d3c07_row13_col0, #T_d3c07_row13_col1, #T_d3c07_row13_col2, #T_d3c07_row13_col3, #T_d3c07_row13_col4, #T_d3c07_row13_col5, #T_d3c07_row13_col6, #T_d3c07_row14_col0, #T_d3c07_row14_col1, #T_d3c07_row14_col2, #T_d3c07_row14_col3, #T_d3c07_row14_col4, #T_d3c07_row14_col5, #T_d3c07_row14_col6, #T_d3c07_row15_col0, #T_d3c07_row15_col1, #T_d3c07_row15_col2, #T_d3c07_row15_col3, #T_d3c07_row15_col4, #T_d3c07_row15_col5, #T_d3c07_row15_col6, #T_d3c07_row16_col0, #T_d3c07_row16_col1, #T_d3c07_row16_col2, #T_d3c07_row16_col3, #T_d3c07_row16_col4, #T_d3c07_row16_col5, #T_d3c07_row16_col6, #T_d3c07_row17_col0, #T_d3c07_row17_col1, #T_d3c07_row17_col2, #T_d3c07_row17_col3, #T_d3c07_row17_col4, #T_d3c07_row17_col5, #T_d3c07_row17_col6, #T_d3c07_row18_col0, #T_d3c07_row18_col1, #T_d3c07_row18_col2, #T_d3c07_row18_col3, #T_d3c07_row18_col4, #T_d3c07_row18_col5, #T_d3c07_row18_col6 {\n",
              "  text-align: left;\n",
              "}\n",
              "#T_d3c07_row0_col1, #T_d3c07_row0_col2, #T_d3c07_row0_col3, #T_d3c07_row0_col4, #T_d3c07_row0_col5, #T_d3c07_row0_col6 {\n",
              "  text-align: left;\n",
              "  background-color: yellow;\n",
              "}\n",
              "#T_d3c07_row0_col7, #T_d3c07_row1_col7, #T_d3c07_row2_col7, #T_d3c07_row3_col7, #T_d3c07_row4_col7, #T_d3c07_row5_col7, #T_d3c07_row6_col7, #T_d3c07_row7_col7, #T_d3c07_row9_col7, #T_d3c07_row10_col7, #T_d3c07_row12_col7, #T_d3c07_row13_col7, #T_d3c07_row14_col7, #T_d3c07_row15_col7, #T_d3c07_row16_col7, #T_d3c07_row17_col7, #T_d3c07_row18_col7 {\n",
              "  text-align: left;\n",
              "  background-color: lightgrey;\n",
              "}\n",
              "#T_d3c07_row8_col7, #T_d3c07_row11_col7 {\n",
              "  text-align: left;\n",
              "  background-color: yellow;\n",
              "  background-color: lightgrey;\n",
              "}\n",
              "</style>\n",
              "<table id=\"T_d3c07\" class=\"dataframe\">\n",
              "  <thead>\n",
              "    <tr>\n",
              "      <th class=\"blank level0\" >&nbsp;</th>\n",
              "      <th id=\"T_d3c07_level0_col0\" class=\"col_heading level0 col0\" >Model</th>\n",
              "      <th id=\"T_d3c07_level0_col1\" class=\"col_heading level0 col1\" >MAE</th>\n",
              "      <th id=\"T_d3c07_level0_col2\" class=\"col_heading level0 col2\" >MSE</th>\n",
              "      <th id=\"T_d3c07_level0_col3\" class=\"col_heading level0 col3\" >RMSE</th>\n",
              "      <th id=\"T_d3c07_level0_col4\" class=\"col_heading level0 col4\" >R2</th>\n",
              "      <th id=\"T_d3c07_level0_col5\" class=\"col_heading level0 col5\" >RMSLE</th>\n",
              "      <th id=\"T_d3c07_level0_col6\" class=\"col_heading level0 col6\" >MAPE</th>\n",
              "      <th id=\"T_d3c07_level0_col7\" class=\"col_heading level0 col7\" >TT (Sec)</th>\n",
              "    </tr>\n",
              "  </thead>\n",
              "  <tbody>\n",
              "    <tr>\n",
              "      <th id=\"T_d3c07_level0_row0\" class=\"row_heading level0 row0\" >et</th>\n",
              "      <td id=\"T_d3c07_row0_col0\" class=\"data row0 col0\" >Extra Trees Regressor</td>\n",
              "      <td id=\"T_d3c07_row0_col1\" class=\"data row0 col1\" >293762.3321</td>\n",
              "      <td id=\"T_d3c07_row0_col2\" class=\"data row0 col2\" >575722708817.5192</td>\n",
              "      <td id=\"T_d3c07_row0_col3\" class=\"data row0 col3\" >754160.9905</td>\n",
              "      <td id=\"T_d3c07_row0_col4\" class=\"data row0 col4\" >0.8536</td>\n",
              "      <td id=\"T_d3c07_row0_col5\" class=\"data row0 col5\" >0.3708</td>\n",
              "      <td id=\"T_d3c07_row0_col6\" class=\"data row0 col6\" >0.3181</td>\n",
              "      <td id=\"T_d3c07_row0_col7\" class=\"data row0 col7\" >1.3600</td>\n",
              "    </tr>\n",
              "    <tr>\n",
              "      <th id=\"T_d3c07_level0_row1\" class=\"row_heading level0 row1\" >xgboost</th>\n",
              "      <td id=\"T_d3c07_row1_col0\" class=\"data row1 col0\" >Extreme Gradient Boosting</td>\n",
              "      <td id=\"T_d3c07_row1_col1\" class=\"data row1 col1\" >312599.8250</td>\n",
              "      <td id=\"T_d3c07_row1_col2\" class=\"data row1 col2\" >598381756416.0000</td>\n",
              "      <td id=\"T_d3c07_row1_col3\" class=\"data row1 col3\" >772929.7375</td>\n",
              "      <td id=\"T_d3c07_row1_col4\" class=\"data row1 col4\" >0.8475</td>\n",
              "      <td id=\"T_d3c07_row1_col5\" class=\"data row1 col5\" >0.4102</td>\n",
              "      <td id=\"T_d3c07_row1_col6\" class=\"data row1 col6\" >0.3377</td>\n",
              "      <td id=\"T_d3c07_row1_col7\" class=\"data row1 col7\" >0.4280</td>\n",
              "    </tr>\n",
              "    <tr>\n",
              "      <th id=\"T_d3c07_level0_row2\" class=\"row_heading level0 row2\" >rf</th>\n",
              "      <td id=\"T_d3c07_row2_col0\" class=\"data row2 col0\" >Random Forest Regressor</td>\n",
              "      <td id=\"T_d3c07_row2_col1\" class=\"data row2 col1\" >335815.3098</td>\n",
              "      <td id=\"T_d3c07_row2_col2\" class=\"data row2 col2\" >791178392832.0305</td>\n",
              "      <td id=\"T_d3c07_row2_col3\" class=\"data row2 col3\" >887768.2657</td>\n",
              "      <td id=\"T_d3c07_row2_col4\" class=\"data row2 col4\" >0.7990</td>\n",
              "      <td id=\"T_d3c07_row2_col5\" class=\"data row2 col5\" >0.3750</td>\n",
              "      <td id=\"T_d3c07_row2_col6\" class=\"data row2 col6\" >0.3304</td>\n",
              "      <td id=\"T_d3c07_row2_col7\" class=\"data row2 col7\" >0.9620</td>\n",
              "    </tr>\n",
              "    <tr>\n",
              "      <th id=\"T_d3c07_level0_row3\" class=\"row_heading level0 row3\" >lightgbm</th>\n",
              "      <td id=\"T_d3c07_row3_col0\" class=\"data row3 col0\" >Light Gradient Boosting Machine</td>\n",
              "      <td id=\"T_d3c07_row3_col1\" class=\"data row3 col1\" >368940.7580</td>\n",
              "      <td id=\"T_d3c07_row3_col2\" class=\"data row3 col2\" >854448260370.5012</td>\n",
              "      <td id=\"T_d3c07_row3_col3\" class=\"data row3 col3\" >922810.4179</td>\n",
              "      <td id=\"T_d3c07_row3_col4\" class=\"data row3 col4\" >0.7825</td>\n",
              "      <td id=\"T_d3c07_row3_col5\" class=\"data row3 col5\" >0.4128</td>\n",
              "      <td id=\"T_d3c07_row3_col6\" class=\"data row3 col6\" >0.3565</td>\n",
              "      <td id=\"T_d3c07_row3_col7\" class=\"data row3 col7\" >0.4260</td>\n",
              "    </tr>\n",
              "    <tr>\n",
              "      <th id=\"T_d3c07_level0_row4\" class=\"row_heading level0 row4\" >gbr</th>\n",
              "      <td id=\"T_d3c07_row4_col0\" class=\"data row4 col0\" >Gradient Boosting Regressor</td>\n",
              "      <td id=\"T_d3c07_row4_col1\" class=\"data row4 col1\" >368676.0831</td>\n",
              "      <td id=\"T_d3c07_row4_col2\" class=\"data row4 col2\" >879007597520.8047</td>\n",
              "      <td id=\"T_d3c07_row4_col3\" class=\"data row4 col3\" >930103.4809</td>\n",
              "      <td id=\"T_d3c07_row4_col4\" class=\"data row4 col4\" >0.7791</td>\n",
              "      <td id=\"T_d3c07_row4_col5\" class=\"data row4 col5\" >0.4288</td>\n",
              "      <td id=\"T_d3c07_row4_col6\" class=\"data row4 col6\" >0.3842</td>\n",
              "      <td id=\"T_d3c07_row4_col7\" class=\"data row4 col7\" >0.4600</td>\n",
              "    </tr>\n",
              "    <tr>\n",
              "      <th id=\"T_d3c07_level0_row5\" class=\"row_heading level0 row5\" >knn</th>\n",
              "      <td id=\"T_d3c07_row5_col0\" class=\"data row5 col0\" >K Neighbors Regressor</td>\n",
              "      <td id=\"T_d3c07_row5_col1\" class=\"data row5 col1\" >503031.1312</td>\n",
              "      <td id=\"T_d3c07_row5_col2\" class=\"data row5 col2\" >1260233529753.6001</td>\n",
              "      <td id=\"T_d3c07_row5_col3\" class=\"data row5 col3\" >1118966.3875</td>\n",
              "      <td id=\"T_d3c07_row5_col4\" class=\"data row5 col4\" >0.6847</td>\n",
              "      <td id=\"T_d3c07_row5_col5\" class=\"data row5 col5\" >0.6615</td>\n",
              "      <td id=\"T_d3c07_row5_col6\" class=\"data row5 col6\" >0.7193</td>\n",
              "      <td id=\"T_d3c07_row5_col7\" class=\"data row5 col7\" >0.1880</td>\n",
              "    </tr>\n",
              "    <tr>\n",
              "      <th id=\"T_d3c07_level0_row6\" class=\"row_heading level0 row6\" >dt</th>\n",
              "      <td id=\"T_d3c07_row6_col0\" class=\"data row6 col0\" >Decision Tree Regressor</td>\n",
              "      <td id=\"T_d3c07_row6_col1\" class=\"data row6 col1\" >402853.1159</td>\n",
              "      <td id=\"T_d3c07_row6_col2\" class=\"data row6 col2\" >1618185409933.0254</td>\n",
              "      <td id=\"T_d3c07_row6_col3\" class=\"data row6 col3\" >1243126.2059</td>\n",
              "      <td id=\"T_d3c07_row6_col4\" class=\"data row6 col4\" >0.6003</td>\n",
              "      <td id=\"T_d3c07_row6_col5\" class=\"data row6 col5\" >0.4816</td>\n",
              "      <td id=\"T_d3c07_row6_col6\" class=\"data row6 col6\" >0.4020</td>\n",
              "      <td id=\"T_d3c07_row6_col7\" class=\"data row6 col7\" >0.1640</td>\n",
              "    </tr>\n",
              "    <tr>\n",
              "      <th id=\"T_d3c07_level0_row7\" class=\"row_heading level0 row7\" >llar</th>\n",
              "      <td id=\"T_d3c07_row7_col0\" class=\"data row7 col0\" >Lasso Least Angle Regression</td>\n",
              "      <td id=\"T_d3c07_row7_col1\" class=\"data row7 col1\" >613964.8740</td>\n",
              "      <td id=\"T_d3c07_row7_col2\" class=\"data row7 col2\" >1896741808329.8423</td>\n",
              "      <td id=\"T_d3c07_row7_col3\" class=\"data row7 col3\" >1372436.8828</td>\n",
              "      <td id=\"T_d3c07_row7_col4\" class=\"data row7 col4\" >0.5265</td>\n",
              "      <td id=\"T_d3c07_row7_col5\" class=\"data row7 col5\" >0.8217</td>\n",
              "      <td id=\"T_d3c07_row7_col6\" class=\"data row7 col6\" >1.0055</td>\n",
              "      <td id=\"T_d3c07_row7_col7\" class=\"data row7 col7\" >0.2220</td>\n",
              "    </tr>\n",
              "    <tr>\n",
              "      <th id=\"T_d3c07_level0_row8\" class=\"row_heading level0 row8\" >ridge</th>\n",
              "      <td id=\"T_d3c07_row8_col0\" class=\"data row8 col0\" >Ridge Regression</td>\n",
              "      <td id=\"T_d3c07_row8_col1\" class=\"data row8 col1\" >613740.3358</td>\n",
              "      <td id=\"T_d3c07_row8_col2\" class=\"data row8 col2\" >1896740029588.9812</td>\n",
              "      <td id=\"T_d3c07_row8_col3\" class=\"data row8 col3\" >1372438.1779</td>\n",
              "      <td id=\"T_d3c07_row8_col4\" class=\"data row8 col4\" >0.5265</td>\n",
              "      <td id=\"T_d3c07_row8_col5\" class=\"data row8 col5\" >0.8151</td>\n",
              "      <td id=\"T_d3c07_row8_col6\" class=\"data row8 col6\" >1.0050</td>\n",
              "      <td id=\"T_d3c07_row8_col7\" class=\"data row8 col7\" >0.1620</td>\n",
              "    </tr>\n",
              "    <tr>\n",
              "      <th id=\"T_d3c07_level0_row9\" class=\"row_heading level0 row9\" >lasso</th>\n",
              "      <td id=\"T_d3c07_row9_col0\" class=\"data row9 col0\" >Lasso Regression</td>\n",
              "      <td id=\"T_d3c07_row9_col1\" class=\"data row9 col1\" >613964.9422</td>\n",
              "      <td id=\"T_d3c07_row9_col2\" class=\"data row9 col2\" >1896741887845.6165</td>\n",
              "      <td id=\"T_d3c07_row9_col3\" class=\"data row9 col3\" >1372436.9093</td>\n",
              "      <td id=\"T_d3c07_row9_col4\" class=\"data row9 col4\" >0.5265</td>\n",
              "      <td id=\"T_d3c07_row9_col5\" class=\"data row9 col5\" >0.8217</td>\n",
              "      <td id=\"T_d3c07_row9_col6\" class=\"data row9 col6\" >1.0055</td>\n",
              "      <td id=\"T_d3c07_row9_col7\" class=\"data row9 col7\" >0.1740</td>\n",
              "    </tr>\n",
              "    <tr>\n",
              "      <th id=\"T_d3c07_level0_row10\" class=\"row_heading level0 row10\" >lr</th>\n",
              "      <td id=\"T_d3c07_row10_col0\" class=\"data row10 col0\" >Linear Regression</td>\n",
              "      <td id=\"T_d3c07_row10_col1\" class=\"data row10 col1\" >613966.6779</td>\n",
              "      <td id=\"T_d3c07_row10_col2\" class=\"data row10 col2\" >1896742003687.2124</td>\n",
              "      <td id=\"T_d3c07_row10_col3\" class=\"data row10 col3\" >1372436.9422</td>\n",
              "      <td id=\"T_d3c07_row10_col4\" class=\"data row10 col4\" >0.5265</td>\n",
              "      <td id=\"T_d3c07_row10_col5\" class=\"data row10 col5\" >0.8215</td>\n",
              "      <td id=\"T_d3c07_row10_col6\" class=\"data row10 col6\" >1.0055</td>\n",
              "      <td id=\"T_d3c07_row10_col7\" class=\"data row10 col7\" >1.6960</td>\n",
              "    </tr>\n",
              "    <tr>\n",
              "      <th id=\"T_d3c07_level0_row11\" class=\"row_heading level0 row11\" >lar</th>\n",
              "      <td id=\"T_d3c07_row11_col0\" class=\"data row11 col0\" >Least Angle Regression</td>\n",
              "      <td id=\"T_d3c07_row11_col1\" class=\"data row11 col1\" >614263.4192</td>\n",
              "      <td id=\"T_d3c07_row11_col2\" class=\"data row11 col2\" >1897146226019.1060</td>\n",
              "      <td id=\"T_d3c07_row11_col3\" class=\"data row11 col3\" >1372575.2100</td>\n",
              "      <td id=\"T_d3c07_row11_col4\" class=\"data row11 col4\" >0.5264</td>\n",
              "      <td id=\"T_d3c07_row11_col5\" class=\"data row11 col5\" >0.8270</td>\n",
              "      <td id=\"T_d3c07_row11_col6\" class=\"data row11 col6\" >1.0064</td>\n",
              "      <td id=\"T_d3c07_row11_col7\" class=\"data row11 col7\" >0.1620</td>\n",
              "    </tr>\n",
              "    <tr>\n",
              "      <th id=\"T_d3c07_level0_row12\" class=\"row_heading level0 row12\" >en</th>\n",
              "      <td id=\"T_d3c07_row12_col0\" class=\"data row12 col0\" >Elastic Net</td>\n",
              "      <td id=\"T_d3c07_row12_col1\" class=\"data row12 col1\" >612356.0403</td>\n",
              "      <td id=\"T_d3c07_row12_col2\" class=\"data row12 col2\" >1914230101403.4460</td>\n",
              "      <td id=\"T_d3c07_row12_col3\" class=\"data row12 col3\" >1378861.7039</td>\n",
              "      <td id=\"T_d3c07_row12_col4\" class=\"data row12 col4\" >0.5220</td>\n",
              "      <td id=\"T_d3c07_row12_col5\" class=\"data row12 col5\" >0.8784</td>\n",
              "      <td id=\"T_d3c07_row12_col6\" class=\"data row12 col6\" >0.9826</td>\n",
              "      <td id=\"T_d3c07_row12_col7\" class=\"data row12 col7\" >0.1640</td>\n",
              "    </tr>\n",
              "    <tr>\n",
              "      <th id=\"T_d3c07_level0_row13\" class=\"row_heading level0 row13\" >ada</th>\n",
              "      <td id=\"T_d3c07_row13_col0\" class=\"data row13 col0\" >AdaBoost Regressor</td>\n",
              "      <td id=\"T_d3c07_row13_col1\" class=\"data row13 col1\" >615679.1676</td>\n",
              "      <td id=\"T_d3c07_row13_col2\" class=\"data row13 col2\" >1958661056697.3359</td>\n",
              "      <td id=\"T_d3c07_row13_col3\" class=\"data row13 col3\" >1395594.1437</td>\n",
              "      <td id=\"T_d3c07_row13_col4\" class=\"data row13 col4\" >0.4954</td>\n",
              "      <td id=\"T_d3c07_row13_col5\" class=\"data row13 col5\" >0.5813</td>\n",
              "      <td id=\"T_d3c07_row13_col6\" class=\"data row13 col6\" >0.6290</td>\n",
              "      <td id=\"T_d3c07_row13_col7\" class=\"data row13 col7\" >0.1900</td>\n",
              "    </tr>\n",
              "    <tr>\n",
              "      <th id=\"T_d3c07_level0_row14\" class=\"row_heading level0 row14\" >br</th>\n",
              "      <td id=\"T_d3c07_row14_col0\" class=\"data row14 col0\" >Bayesian Ridge</td>\n",
              "      <td id=\"T_d3c07_row14_col1\" class=\"data row14 col1\" >635691.6990</td>\n",
              "      <td id=\"T_d3c07_row14_col2\" class=\"data row14 col2\" >2076173875278.6492</td>\n",
              "      <td id=\"T_d3c07_row14_col3\" class=\"data row14 col3\" >1436052.0688</td>\n",
              "      <td id=\"T_d3c07_row14_col4\" class=\"data row14 col4\" >0.4814</td>\n",
              "      <td id=\"T_d3c07_row14_col5\" class=\"data row14 col5\" >0.9170</td>\n",
              "      <td id=\"T_d3c07_row14_col6\" class=\"data row14 col6\" >0.9369</td>\n",
              "      <td id=\"T_d3c07_row14_col7\" class=\"data row14 col7\" >0.2160</td>\n",
              "    </tr>\n",
              "    <tr>\n",
              "      <th id=\"T_d3c07_level0_row15\" class=\"row_heading level0 row15\" >huber</th>\n",
              "      <td id=\"T_d3c07_row15_col0\" class=\"data row15 col0\" >Huber Regressor</td>\n",
              "      <td id=\"T_d3c07_row15_col1\" class=\"data row15 col1\" >589305.9305</td>\n",
              "      <td id=\"T_d3c07_row15_col2\" class=\"data row15 col2\" >2181319306078.5464</td>\n",
              "      <td id=\"T_d3c07_row15_col3\" class=\"data row15 col3\" >1469802.0629</td>\n",
              "      <td id=\"T_d3c07_row15_col4\" class=\"data row15 col4\" >0.4581</td>\n",
              "      <td id=\"T_d3c07_row15_col5\" class=\"data row15 col5\" >0.7072</td>\n",
              "      <td id=\"T_d3c07_row15_col6\" class=\"data row15 col6\" >0.7320</td>\n",
              "      <td id=\"T_d3c07_row15_col7\" class=\"data row15 col7\" >0.7800</td>\n",
              "    </tr>\n",
              "    <tr>\n",
              "      <th id=\"T_d3c07_level0_row16\" class=\"row_heading level0 row16\" >omp</th>\n",
              "      <td id=\"T_d3c07_row16_col0\" class=\"data row16 col0\" >Orthogonal Matching Pursuit</td>\n",
              "      <td id=\"T_d3c07_row16_col1\" class=\"data row16 col1\" >634165.9245</td>\n",
              "      <td id=\"T_d3c07_row16_col2\" class=\"data row16 col2\" >2184415873522.6191</td>\n",
              "      <td id=\"T_d3c07_row16_col3\" class=\"data row16 col3\" >1473123.4291</td>\n",
              "      <td id=\"T_d3c07_row16_col4\" class=\"data row16 col4\" >0.4541</td>\n",
              "      <td id=\"T_d3c07_row16_col5\" class=\"data row16 col5\" >0.7419</td>\n",
              "      <td id=\"T_d3c07_row16_col6\" class=\"data row16 col6\" >0.9051</td>\n",
              "      <td id=\"T_d3c07_row16_col7\" class=\"data row16 col7\" >0.2400</td>\n",
              "    </tr>\n",
              "    <tr>\n",
              "      <th id=\"T_d3c07_level0_row17\" class=\"row_heading level0 row17\" >par</th>\n",
              "      <td id=\"T_d3c07_row17_col0\" class=\"data row17 col0\" >Passive Aggressive Regressor</td>\n",
              "      <td id=\"T_d3c07_row17_col1\" class=\"data row17 col1\" >709958.2395</td>\n",
              "      <td id=\"T_d3c07_row17_col2\" class=\"data row17 col2\" >2561328907301.6655</td>\n",
              "      <td id=\"T_d3c07_row17_col3\" class=\"data row17 col3\" >1595820.0776</td>\n",
              "      <td id=\"T_d3c07_row17_col4\" class=\"data row17 col4\" >0.3502</td>\n",
              "      <td id=\"T_d3c07_row17_col5\" class=\"data row17 col5\" >0.9517</td>\n",
              "      <td id=\"T_d3c07_row17_col6\" class=\"data row17 col6\" >0.8258</td>\n",
              "      <td id=\"T_d3c07_row17_col7\" class=\"data row17 col7\" >0.2540</td>\n",
              "    </tr>\n",
              "    <tr>\n",
              "      <th id=\"T_d3c07_level0_row18\" class=\"row_heading level0 row18\" >dummy</th>\n",
              "      <td id=\"T_d3c07_row18_col0\" class=\"data row18 col0\" >Dummy Regressor</td>\n",
              "      <td id=\"T_d3c07_row18_col1\" class=\"data row18 col1\" >1089693.0250</td>\n",
              "      <td id=\"T_d3c07_row18_col2\" class=\"data row18 col2\" >4004589758054.3999</td>\n",
              "      <td id=\"T_d3c07_row18_col3\" class=\"data row18 col3\" >1994831.2750</td>\n",
              "      <td id=\"T_d3c07_row18_col4\" class=\"data row18 col4\" >-0.0008</td>\n",
              "      <td id=\"T_d3c07_row18_col5\" class=\"data row18 col5\" >1.2106</td>\n",
              "      <td id=\"T_d3c07_row18_col6\" class=\"data row18 col6\" >2.1825</td>\n",
              "      <td id=\"T_d3c07_row18_col7\" class=\"data row18 col7\" >0.2800</td>\n",
              "    </tr>\n",
              "  </tbody>\n",
              "</table>\n"
            ]
          },
          "metadata": {}
        },
        {
          "output_type": "display_data",
          "data": {
            "text/plain": [
              "Processing:   0%|          | 0/81 [00:00<?, ?it/s]"
            ],
            "application/vnd.jupyter.widget-view+json": {
              "version_major": 2,
              "version_minor": 0,
              "model_id": "2c84795379234ba8a3d7823b1e3ef32c"
            }
          },
          "metadata": {
            "application/vnd.jupyter.widget-view+json": {
              "colab": {
                "custom_widget_manager": {
                  "url": "https://ssl.gstatic.com/colaboratory-static/widgets/colab-cdn-widget-manager/b3e629b1971e1542/manager.min.js"
                }
              }
            }
          }
        },
        {
          "output_type": "display_data",
          "data": {
            "text/plain": [
              "<IPython.core.display.HTML object>"
            ],
            "text/html": []
          },
          "metadata": {}
        }
      ]
    },
    {
      "cell_type": "code",
      "source": [
        "plot_model(best_model)"
      ],
      "metadata": {
        "colab": {
          "base_uri": "https://localhost:8080/",
          "height": 524
        },
        "id": "PiM-yKi0LQeH",
        "outputId": "609f231b-8089-42e1-bcf9-9776a0408659"
      },
      "execution_count": 88,
      "outputs": [
        {
          "output_type": "display_data",
          "data": {
            "text/plain": [
              "<IPython.core.display.HTML object>"
            ],
            "text/html": []
          },
          "metadata": {}
        },
        {
          "output_type": "display_data",
          "data": {
            "text/plain": [
              "<Figure size 800x550 with 2 Axes>"
            ],
            "image/png": "[encoded data removed]"
          },
          "metadata": {}
        }
      ]
    },
    {
      "cell_type": "code",
      "source": [
        "reg_models2 = setup(\n",
        "    data=train_df, target='price', session_id=124, max_encoding_ohe=30,\n",
        "    ignore_features=['Unnamed: 0', 'car_name', 'car_prices_in_rupee',\n",
        "                     'price_currency', 'raw_price', 'currency_mult', 'car_brand'])"
      ],
      "metadata": {
        "colab": {
          "base_uri": "https://localhost:8080/",
          "height": 770
        },
        "id": "yNCDrjFTudFp",
        "outputId": "16e04a82-197f-4934-cbb3-1d6b4a924ae9"
      },
      "execution_count": 92,
      "outputs": [
        {
          "output_type": "display_data",
          "data": {
            "text/plain": [
              "<pandas.io.formats.style.Styler at 0x7f7cae6d4bb0>"
            ],
            "text/html": [
              "<style type=\"text/css\">\n",
              "#T_2fd1b_row10_col1 {\n",
              "  background-color: lightgreen;\n",
              "}\n",
              "</style>\n",
              "<table id=\"T_2fd1b\" class=\"dataframe\">\n",
              "  <thead>\n",
              "    <tr>\n",
              "      <th class=\"blank level0\" >&nbsp;</th>\n",
              "      <th id=\"T_2fd1b_level0_col0\" class=\"col_heading level0 col0\" >Description</th>\n",
              "      <th id=\"T_2fd1b_level0_col1\" class=\"col_heading level0 col1\" >Value</th>\n",
              "    </tr>\n",
              "  </thead>\n",
              "  <tbody>\n",
              "    <tr>\n",
              "      <th id=\"T_2fd1b_level0_row0\" class=\"row_heading level0 row0\" >0</th>\n",
              "      <td id=\"T_2fd1b_row0_col0\" class=\"data row0 col0\" >Session id</td>\n",
              "      <td id=\"T_2fd1b_row0_col1\" class=\"data row0 col1\" >124</td>\n",
              "    </tr>\n",
              "    <tr>\n",
              "      <th id=\"T_2fd1b_level0_row1\" class=\"row_heading level0 row1\" >1</th>\n",
              "      <td id=\"T_2fd1b_row1_col0\" class=\"data row1 col0\" >Target</td>\n",
              "      <td id=\"T_2fd1b_row1_col1\" class=\"data row1 col1\" >price</td>\n",
              "    </tr>\n",
              "    <tr>\n",
              "      <th id=\"T_2fd1b_level0_row2\" class=\"row_heading level0 row2\" >2</th>\n",
              "      <td id=\"T_2fd1b_row2_col0\" class=\"data row2 col0\" >Target type</td>\n",
              "      <td id=\"T_2fd1b_row2_col1\" class=\"data row2 col1\" >Regression</td>\n",
              "    </tr>\n",
              "    <tr>\n",
              "      <th id=\"T_2fd1b_level0_row3\" class=\"row_heading level0 row3\" >3</th>\n",
              "      <td id=\"T_2fd1b_row3_col0\" class=\"data row3 col0\" >Original data shape</td>\n",
              "      <td id=\"T_2fd1b_row3_col1\" class=\"data row3 col1\" >(4409, 16)</td>\n",
              "    </tr>\n",
              "    <tr>\n",
              "      <th id=\"T_2fd1b_level0_row4\" class=\"row_heading level0 row4\" >4</th>\n",
              "      <td id=\"T_2fd1b_row4_col0\" class=\"data row4 col0\" >Transformed data shape</td>\n",
              "      <td id=\"T_2fd1b_row4_col1\" class=\"data row4 col1\" >(4409, 41)</td>\n",
              "    </tr>\n",
              "    <tr>\n",
              "      <th id=\"T_2fd1b_level0_row5\" class=\"row_heading level0 row5\" >5</th>\n",
              "      <td id=\"T_2fd1b_row5_col0\" class=\"data row5 col0\" >Transformed train set shape</td>\n",
              "      <td id=\"T_2fd1b_row5_col1\" class=\"data row5 col1\" >(3086, 41)</td>\n",
              "    </tr>\n",
              "    <tr>\n",
              "      <th id=\"T_2fd1b_level0_row6\" class=\"row_heading level0 row6\" >6</th>\n",
              "      <td id=\"T_2fd1b_row6_col0\" class=\"data row6 col0\" >Transformed test set shape</td>\n",
              "      <td id=\"T_2fd1b_row6_col1\" class=\"data row6 col1\" >(1323, 41)</td>\n",
              "    </tr>\n",
              "    <tr>\n",
              "      <th id=\"T_2fd1b_level0_row7\" class=\"row_heading level0 row7\" >7</th>\n",
              "      <td id=\"T_2fd1b_row7_col0\" class=\"data row7 col0\" >Ignore features</td>\n",
              "      <td id=\"T_2fd1b_row7_col1\" class=\"data row7 col1\" >7</td>\n",
              "    </tr>\n",
              "    <tr>\n",
              "      <th id=\"T_2fd1b_level0_row8\" class=\"row_heading level0 row8\" >8</th>\n",
              "      <td id=\"T_2fd1b_row8_col0\" class=\"data row8 col0\" >Numeric features</td>\n",
              "      <td id=\"T_2fd1b_row8_col1\" class=\"data row8 col1\" >6</td>\n",
              "    </tr>\n",
              "    <tr>\n",
              "      <th id=\"T_2fd1b_level0_row9\" class=\"row_heading level0 row9\" >9</th>\n",
              "      <td id=\"T_2fd1b_row9_col0\" class=\"data row9 col0\" >Categorical features</td>\n",
              "      <td id=\"T_2fd1b_row9_col1\" class=\"data row9 col1\" >2</td>\n",
              "    </tr>\n",
              "    <tr>\n",
              "      <th id=\"T_2fd1b_level0_row10\" class=\"row_heading level0 row10\" >10</th>\n",
              "      <td id=\"T_2fd1b_row10_col0\" class=\"data row10 col0\" >Preprocess</td>\n",
              "      <td id=\"T_2fd1b_row10_col1\" class=\"data row10 col1\" >True</td>\n",
              "    </tr>\n",
              "    <tr>\n",
              "      <th id=\"T_2fd1b_level0_row11\" class=\"row_heading level0 row11\" >11</th>\n",
              "      <td id=\"T_2fd1b_row11_col0\" class=\"data row11 col0\" >Imputation type</td>\n",
              "      <td id=\"T_2fd1b_row11_col1\" class=\"data row11 col1\" >simple</td>\n",
              "    </tr>\n",
              "    <tr>\n",
              "      <th id=\"T_2fd1b_level0_row12\" class=\"row_heading level0 row12\" >12</th>\n",
              "      <td id=\"T_2fd1b_row12_col0\" class=\"data row12 col0\" >Numeric imputation</td>\n",
              "      <td id=\"T_2fd1b_row12_col1\" class=\"data row12 col1\" >mean</td>\n",
              "    </tr>\n",
              "    <tr>\n",
              "      <th id=\"T_2fd1b_level0_row13\" class=\"row_heading level0 row13\" >13</th>\n",
              "      <td id=\"T_2fd1b_row13_col0\" class=\"data row13 col0\" >Categorical imputation</td>\n",
              "      <td id=\"T_2fd1b_row13_col1\" class=\"data row13 col1\" >mode</td>\n",
              "    </tr>\n",
              "    <tr>\n",
              "      <th id=\"T_2fd1b_level0_row14\" class=\"row_heading level0 row14\" >14</th>\n",
              "      <td id=\"T_2fd1b_row14_col0\" class=\"data row14 col0\" >Maximum one-hot encoding</td>\n",
              "      <td id=\"T_2fd1b_row14_col1\" class=\"data row14 col1\" >30</td>\n",
              "    </tr>\n",
              "    <tr>\n",
              "      <th id=\"T_2fd1b_level0_row15\" class=\"row_heading level0 row15\" >15</th>\n",
              "      <td id=\"T_2fd1b_row15_col0\" class=\"data row15 col0\" >Encoding method</td>\n",
              "      <td id=\"T_2fd1b_row15_col1\" class=\"data row15 col1\" >None</td>\n",
              "    </tr>\n",
              "    <tr>\n",
              "      <th id=\"T_2fd1b_level0_row16\" class=\"row_heading level0 row16\" >16</th>\n",
              "      <td id=\"T_2fd1b_row16_col0\" class=\"data row16 col0\" >Fold Generator</td>\n",
              "      <td id=\"T_2fd1b_row16_col1\" class=\"data row16 col1\" >KFold</td>\n",
              "    </tr>\n",
              "    <tr>\n",
              "      <th id=\"T_2fd1b_level0_row17\" class=\"row_heading level0 row17\" >17</th>\n",
              "      <td id=\"T_2fd1b_row17_col0\" class=\"data row17 col0\" >Fold Number</td>\n",
              "      <td id=\"T_2fd1b_row17_col1\" class=\"data row17 col1\" >10</td>\n",
              "    </tr>\n",
              "    <tr>\n",
              "      <th id=\"T_2fd1b_level0_row18\" class=\"row_heading level0 row18\" >18</th>\n",
              "      <td id=\"T_2fd1b_row18_col0\" class=\"data row18 col0\" >CPU Jobs</td>\n",
              "      <td id=\"T_2fd1b_row18_col1\" class=\"data row18 col1\" >-1</td>\n",
              "    </tr>\n",
              "    <tr>\n",
              "      <th id=\"T_2fd1b_level0_row19\" class=\"row_heading level0 row19\" >19</th>\n",
              "      <td id=\"T_2fd1b_row19_col0\" class=\"data row19 col0\" >Use GPU</td>\n",
              "      <td id=\"T_2fd1b_row19_col1\" class=\"data row19 col1\" >False</td>\n",
              "    </tr>\n",
              "    <tr>\n",
              "      <th id=\"T_2fd1b_level0_row20\" class=\"row_heading level0 row20\" >20</th>\n",
              "      <td id=\"T_2fd1b_row20_col0\" class=\"data row20 col0\" >Log Experiment</td>\n",
              "      <td id=\"T_2fd1b_row20_col1\" class=\"data row20 col1\" >False</td>\n",
              "    </tr>\n",
              "    <tr>\n",
              "      <th id=\"T_2fd1b_level0_row21\" class=\"row_heading level0 row21\" >21</th>\n",
              "      <td id=\"T_2fd1b_row21_col0\" class=\"data row21 col0\" >Experiment Name</td>\n",
              "      <td id=\"T_2fd1b_row21_col1\" class=\"data row21 col1\" >reg-default-name</td>\n",
              "    </tr>\n",
              "    <tr>\n",
              "      <th id=\"T_2fd1b_level0_row22\" class=\"row_heading level0 row22\" >22</th>\n",
              "      <td id=\"T_2fd1b_row22_col0\" class=\"data row22 col0\" >USI</td>\n",
              "      <td id=\"T_2fd1b_row22_col1\" class=\"data row22 col1\" >b68b</td>\n",
              "    </tr>\n",
              "  </tbody>\n",
              "</table>\n"
            ]
          },
          "metadata": {}
        }
      ]
    },
    {
      "cell_type": "code",
      "source": [
        "reg_models2._fxs[\"Categorical\"]"
      ],
      "metadata": {
        "colab": {
          "base_uri": "https://localhost:8080/"
        },
        "id": "WnLW4VVvv27B",
        "outputId": "095b0fab-0869-491e-87f1-408cf02c37d5"
      },
      "execution_count": 93,
      "outputs": [
        {
          "output_type": "execute_result",
          "data": {
            "text/plain": [
              "['fuel_type', 'car_brand_mod']"
            ]
          },
          "metadata": {},
          "execution_count": 93
        }
      ]
    },
    {
      "cell_type": "code",
      "source": [
        "best_model2 = compare_models(fold=5)\n"
      ],
      "metadata": {
        "colab": {
          "base_uri": "https://localhost:8080/",
          "height": 645,
          "referenced_widgets": [
            "bda02db6f2d84f59b86f63c5493f8a55",
            "b6897ae421e1451cb3a44666ef68fa0c",
            "4f2d2a5420fb4f06954ade97e919dce3",
            "bcd461092eea487dad46070f829e5aae",
            "bffa8361937f46da98d774d4a7c30268",
            "27c9da25196d4a5f942eecf9beae6e40",
            "6de12df0fc8c4273821f4ed6449db7ba",
            "898e74c526e84073b0d7bf3d4276646d",
            "283b767176994b7a8bb258d9dfd772c5",
            "5ade2e44575b45b6b521d5f2efeefd7b",
            "d371cf7f21e34b3e91eb3a6c63ddbe37"
          ]
        },
        "id": "8WLUJIQCwOKF",
        "outputId": "98875e39-9a9c-4d4b-b3df-e9827aa6d74a"
      },
      "execution_count": 94,
      "outputs": [
        {
          "output_type": "display_data",
          "data": {
            "text/plain": [
              "<IPython.core.display.HTML object>"
            ],
            "text/html": []
          },
          "metadata": {}
        },
        {
          "output_type": "display_data",
          "data": {
            "text/plain": [
              "<pandas.io.formats.style.Styler at 0x7f7c9e35e890>"
            ],
            "text/html": [
              "<style type=\"text/css\">\n",
              "#T_4494b th {\n",
              "  text-align: left;\n",
              "}\n",
              "#T_4494b_row0_col0, #T_4494b_row0_col1, #T_4494b_row0_col3, #T_4494b_row0_col5, #T_4494b_row0_col6, #T_4494b_row1_col0, #T_4494b_row1_col2, #T_4494b_row1_col4, #T_4494b_row2_col0, #T_4494b_row2_col1, #T_4494b_row2_col2, #T_4494b_row2_col3, #T_4494b_row2_col4, #T_4494b_row2_col5, #T_4494b_row2_col6, #T_4494b_row3_col0, #T_4494b_row3_col1, #T_4494b_row3_col2, #T_4494b_row3_col3, #T_4494b_row3_col4, #T_4494b_row3_col5, #T_4494b_row3_col6, #T_4494b_row4_col0, #T_4494b_row4_col1, #T_4494b_row4_col2, #T_4494b_row4_col3, #T_4494b_row4_col4, #T_4494b_row4_col5, #T_4494b_row4_col6, #T_4494b_row5_col0, #T_4494b_row5_col1, #T_4494b_row5_col2, #T_4494b_row5_col3, #T_4494b_row5_col4, #T_4494b_row5_col5, #T_4494b_row5_col6, #T_4494b_row6_col0, #T_4494b_row6_col1, #T_4494b_row6_col2, #T_4494b_row6_col3, #T_4494b_row6_col4, #T_4494b_row6_col5, #T_4494b_row6_col6, #T_4494b_row7_col0, #T_4494b_row7_col1, #T_4494b_row7_col2, #T_4494b_row7_col3, #T_4494b_row7_col4, #T_4494b_row7_col5, #T_4494b_row7_col6, #T_4494b_row8_col0, #T_4494b_row8_col1, #T_4494b_row8_col2, #T_4494b_row8_col3, #T_4494b_row8_col4, #T_4494b_row8_col5, #T_4494b_row8_col6, #T_4494b_row9_col0, #T_4494b_row9_col1, #T_4494b_row9_col2, #T_4494b_row9_col3, #T_4494b_row9_col4, #T_4494b_row9_col5, #T_4494b_row9_col6, #T_4494b_row10_col0, #T_4494b_row10_col1, #T_4494b_row10_col2, #T_4494b_row10_col3, #T_4494b_row10_col4, #T_4494b_row10_col5, #T_4494b_row10_col6, #T_4494b_row11_col0, #T_4494b_row11_col1, #T_4494b_row11_col2, #T_4494b_row11_col3, #T_4494b_row11_col4, #T_4494b_row11_col5, #T_4494b_row11_col6, #T_4494b_row12_col0, #T_4494b_row12_col1, #T_4494b_row12_col2, #T_4494b_row12_col3, #T_4494b_row12_col4, #T_4494b_row12_col5, #T_4494b_row12_col6, #T_4494b_row13_col0, #T_4494b_row13_col1, #T_4494b_row13_col2, #T_4494b_row13_col3, #T_4494b_row13_col4, #T_4494b_row13_col5, #T_4494b_row13_col6, #T_4494b_row14_col0, #T_4494b_row14_col1, #T_4494b_row14_col2, #T_4494b_row14_col3, #T_4494b_row14_col4, #T_4494b_row14_col5, #T_4494b_row14_col6, #T_4494b_row15_col0, #T_4494b_row15_col1, #T_4494b_row15_col2, #T_4494b_row15_col3, #T_4494b_row15_col4, #T_4494b_row15_col5, #T_4494b_row15_col6, #T_4494b_row16_col0, #T_4494b_row16_col1, #T_4494b_row16_col2, #T_4494b_row16_col3, #T_4494b_row16_col4, #T_4494b_row16_col5, #T_4494b_row16_col6, #T_4494b_row17_col0, #T_4494b_row17_col1, #T_4494b_row17_col2, #T_4494b_row17_col3, #T_4494b_row17_col4, #T_4494b_row17_col5, #T_4494b_row17_col6, #T_4494b_row18_col0, #T_4494b_row18_col1, #T_4494b_row18_col2, #T_4494b_row18_col3, #T_4494b_row18_col4, #T_4494b_row18_col5, #T_4494b_row18_col6 {\n",
              "  text-align: left;\n",
              "}\n",
              "#T_4494b_row0_col2, #T_4494b_row0_col4, #T_4494b_row1_col1, #T_4494b_row1_col3, #T_4494b_row1_col5, #T_4494b_row1_col6 {\n",
              "  text-align: left;\n",
              "  background-color: yellow;\n",
              "}\n",
              "#T_4494b_row0_col7, #T_4494b_row1_col7, #T_4494b_row2_col7, #T_4494b_row3_col7, #T_4494b_row4_col7, #T_4494b_row5_col7, #T_4494b_row6_col7, #T_4494b_row7_col7, #T_4494b_row8_col7, #T_4494b_row9_col7, #T_4494b_row10_col7, #T_4494b_row11_col7, #T_4494b_row12_col7, #T_4494b_row13_col7, #T_4494b_row14_col7, #T_4494b_row15_col7, #T_4494b_row17_col7, #T_4494b_row18_col7 {\n",
              "  text-align: left;\n",
              "  background-color: lightgrey;\n",
              "}\n",
              "#T_4494b_row16_col7 {\n",
              "  text-align: left;\n",
              "  background-color: yellow;\n",
              "  background-color: lightgrey;\n",
              "}\n",
              "</style>\n",
              "<table id=\"T_4494b\" class=\"dataframe\">\n",
              "  <thead>\n",
              "    <tr>\n",
              "      <th class=\"blank level0\" >&nbsp;</th>\n",
              "      <th id=\"T_4494b_level0_col0\" class=\"col_heading level0 col0\" >Model</th>\n",
              "      <th id=\"T_4494b_level0_col1\" class=\"col_heading level0 col1\" >MAE</th>\n",
              "      <th id=\"T_4494b_level0_col2\" class=\"col_heading level0 col2\" >MSE</th>\n",
              "      <th id=\"T_4494b_level0_col3\" class=\"col_heading level0 col3\" >RMSE</th>\n",
              "      <th id=\"T_4494b_level0_col4\" class=\"col_heading level0 col4\" >R2</th>\n",
              "      <th id=\"T_4494b_level0_col5\" class=\"col_heading level0 col5\" >RMSLE</th>\n",
              "      <th id=\"T_4494b_level0_col6\" class=\"col_heading level0 col6\" >MAPE</th>\n",
              "      <th id=\"T_4494b_level0_col7\" class=\"col_heading level0 col7\" >TT (Sec)</th>\n",
              "    </tr>\n",
              "  </thead>\n",
              "  <tbody>\n",
              "    <tr>\n",
              "      <th id=\"T_4494b_level0_row0\" class=\"row_heading level0 row0\" >xgboost</th>\n",
              "      <td id=\"T_4494b_row0_col0\" class=\"data row0 col0\" >Extreme Gradient Boosting</td>\n",
              "      <td id=\"T_4494b_row0_col1\" class=\"data row0 col1\" >338432.1188</td>\n",
              "      <td id=\"T_4494b_row0_col2\" class=\"data row0 col2\" >942201339904.0000</td>\n",
              "      <td id=\"T_4494b_row0_col3\" class=\"data row0 col3\" >929329.5375</td>\n",
              "      <td id=\"T_4494b_row0_col4\" class=\"data row0 col4\" >0.7779</td>\n",
              "      <td id=\"T_4494b_row0_col5\" class=\"data row0 col5\" >0.4237</td>\n",
              "      <td id=\"T_4494b_row0_col6\" class=\"data row0 col6\" >0.3513</td>\n",
              "      <td id=\"T_4494b_row0_col7\" class=\"data row0 col7\" >0.7800</td>\n",
              "    </tr>\n",
              "    <tr>\n",
              "      <th id=\"T_4494b_level0_row1\" class=\"row_heading level0 row1\" >et</th>\n",
              "      <td id=\"T_4494b_row1_col0\" class=\"data row1 col0\" >Extra Trees Regressor</td>\n",
              "      <td id=\"T_4494b_row1_col1\" class=\"data row1 col1\" >302260.6572</td>\n",
              "      <td id=\"T_4494b_row1_col2\" class=\"data row1 col2\" >948922338884.1042</td>\n",
              "      <td id=\"T_4494b_row1_col3\" class=\"data row1 col3\" >926031.7199</td>\n",
              "      <td id=\"T_4494b_row1_col4\" class=\"data row1 col4\" >0.7748</td>\n",
              "      <td id=\"T_4494b_row1_col5\" class=\"data row1 col5\" >0.3795</td>\n",
              "      <td id=\"T_4494b_row1_col6\" class=\"data row1 col6\" >0.3160</td>\n",
              "      <td id=\"T_4494b_row1_col7\" class=\"data row1 col7\" >1.4500</td>\n",
              "    </tr>\n",
              "    <tr>\n",
              "      <th id=\"T_4494b_level0_row2\" class=\"row_heading level0 row2\" >rf</th>\n",
              "      <td id=\"T_4494b_row2_col0\" class=\"data row2 col0\" >Random Forest Regressor</td>\n",
              "      <td id=\"T_4494b_row2_col1\" class=\"data row2 col1\" >339590.0088</td>\n",
              "      <td id=\"T_4494b_row2_col2\" class=\"data row2 col2\" >983643471688.4207</td>\n",
              "      <td id=\"T_4494b_row2_col3\" class=\"data row2 col3\" >951749.7964</td>\n",
              "      <td id=\"T_4494b_row2_col4\" class=\"data row2 col4\" >0.7643</td>\n",
              "      <td id=\"T_4494b_row2_col5\" class=\"data row2 col5\" >0.3864</td>\n",
              "      <td id=\"T_4494b_row2_col6\" class=\"data row2 col6\" >0.3399</td>\n",
              "      <td id=\"T_4494b_row2_col7\" class=\"data row2 col7\" >1.1900</td>\n",
              "    </tr>\n",
              "    <tr>\n",
              "      <th id=\"T_4494b_level0_row3\" class=\"row_heading level0 row3\" >gbr</th>\n",
              "      <td id=\"T_4494b_row3_col0\" class=\"data row3 col0\" >Gradient Boosting Regressor</td>\n",
              "      <td id=\"T_4494b_row3_col1\" class=\"data row3 col1\" >404645.7048</td>\n",
              "      <td id=\"T_4494b_row3_col2\" class=\"data row3 col2\" >1229175682373.1792</td>\n",
              "      <td id=\"T_4494b_row3_col3\" class=\"data row3 col3\" >1075611.0447</td>\n",
              "      <td id=\"T_4494b_row3_col4\" class=\"data row3 col4\" >0.7015</td>\n",
              "      <td id=\"T_4494b_row3_col5\" class=\"data row3 col5\" >0.4653</td>\n",
              "      <td id=\"T_4494b_row3_col6\" class=\"data row3 col6\" >0.4353</td>\n",
              "      <td id=\"T_4494b_row3_col7\" class=\"data row3 col7\" >0.5040</td>\n",
              "    </tr>\n",
              "    <tr>\n",
              "      <th id=\"T_4494b_level0_row4\" class=\"row_heading level0 row4\" >lightgbm</th>\n",
              "      <td id=\"T_4494b_row4_col0\" class=\"data row4 col0\" >Light Gradient Boosting Machine</td>\n",
              "      <td id=\"T_4494b_row4_col1\" class=\"data row4 col1\" >466313.4001</td>\n",
              "      <td id=\"T_4494b_row4_col2\" class=\"data row4 col2\" >1341138177930.8293</td>\n",
              "      <td id=\"T_4494b_row4_col3\" class=\"data row4 col3\" >1131404.0355</td>\n",
              "      <td id=\"T_4494b_row4_col4\" class=\"data row4 col4\" >0.6705</td>\n",
              "      <td id=\"T_4494b_row4_col5\" class=\"data row4 col5\" >0.5767</td>\n",
              "      <td id=\"T_4494b_row4_col6\" class=\"data row4 col6\" >0.4759</td>\n",
              "      <td id=\"T_4494b_row4_col7\" class=\"data row4 col7\" >0.7840</td>\n",
              "    </tr>\n",
              "    <tr>\n",
              "      <th id=\"T_4494b_level0_row5\" class=\"row_heading level0 row5\" >ridge</th>\n",
              "      <td id=\"T_4494b_row5_col0\" class=\"data row5 col0\" >Ridge Regression</td>\n",
              "      <td id=\"T_4494b_row5_col1\" class=\"data row5 col1\" >564478.4450</td>\n",
              "      <td id=\"T_4494b_row5_col2\" class=\"data row5 col2\" >1755199702274.4380</td>\n",
              "      <td id=\"T_4494b_row5_col3\" class=\"data row5 col3\" >1291571.5625</td>\n",
              "      <td id=\"T_4494b_row5_col4\" class=\"data row5 col4\" >0.5717</td>\n",
              "      <td id=\"T_4494b_row5_col5\" class=\"data row5 col5\" >0.8248</td>\n",
              "      <td id=\"T_4494b_row5_col6\" class=\"data row5 col6\" >0.9606</td>\n",
              "      <td id=\"T_4494b_row5_col7\" class=\"data row5 col7\" >0.1560</td>\n",
              "    </tr>\n",
              "    <tr>\n",
              "      <th id=\"T_4494b_level0_row6\" class=\"row_heading level0 row6\" >lr</th>\n",
              "      <td id=\"T_4494b_row6_col0\" class=\"data row6 col0\" >Linear Regression</td>\n",
              "      <td id=\"T_4494b_row6_col1\" class=\"data row6 col1\" >560851.7388</td>\n",
              "      <td id=\"T_4494b_row6_col2\" class=\"data row6 col2\" >1757123818483.8804</td>\n",
              "      <td id=\"T_4494b_row6_col3\" class=\"data row6 col3\" >1292632.6518</td>\n",
              "      <td id=\"T_4494b_row6_col4\" class=\"data row6 col4\" >0.5706</td>\n",
              "      <td id=\"T_4494b_row6_col5\" class=\"data row6 col5\" >0.8081</td>\n",
              "      <td id=\"T_4494b_row6_col6\" class=\"data row6 col6\" >0.9546</td>\n",
              "      <td id=\"T_4494b_row6_col7\" class=\"data row6 col7\" >1.5140</td>\n",
              "    </tr>\n",
              "    <tr>\n",
              "      <th id=\"T_4494b_level0_row7\" class=\"row_heading level0 row7\" >lasso</th>\n",
              "      <td id=\"T_4494b_row7_col0\" class=\"data row7 col0\" >Lasso Regression</td>\n",
              "      <td id=\"T_4494b_row7_col1\" class=\"data row7 col1\" >560853.1488</td>\n",
              "      <td id=\"T_4494b_row7_col2\" class=\"data row7 col2\" >1757122434606.9714</td>\n",
              "      <td id=\"T_4494b_row7_col3\" class=\"data row7 col3\" >1292631.7085</td>\n",
              "      <td id=\"T_4494b_row7_col4\" class=\"data row7 col4\" >0.5706</td>\n",
              "      <td id=\"T_4494b_row7_col5\" class=\"data row7 col5\" >0.8080</td>\n",
              "      <td id=\"T_4494b_row7_col6\" class=\"data row7 col6\" >0.9546</td>\n",
              "      <td id=\"T_4494b_row7_col7\" class=\"data row7 col7\" >0.3180</td>\n",
              "    </tr>\n",
              "    <tr>\n",
              "      <th id=\"T_4494b_level0_row8\" class=\"row_heading level0 row8\" >llar</th>\n",
              "      <td id=\"T_4494b_row8_col0\" class=\"data row8 col0\" >Lasso Least Angle Regression</td>\n",
              "      <td id=\"T_4494b_row8_col1\" class=\"data row8 col1\" >560851.4724</td>\n",
              "      <td id=\"T_4494b_row8_col2\" class=\"data row8 col2\" >1757121617975.4556</td>\n",
              "      <td id=\"T_4494b_row8_col3\" class=\"data row8 col3\" >1292631.2867</td>\n",
              "      <td id=\"T_4494b_row8_col4\" class=\"data row8 col4\" >0.5706</td>\n",
              "      <td id=\"T_4494b_row8_col5\" class=\"data row8 col5\" >0.8080</td>\n",
              "      <td id=\"T_4494b_row8_col6\" class=\"data row8 col6\" >0.9546</td>\n",
              "      <td id=\"T_4494b_row8_col7\" class=\"data row8 col7\" >0.1580</td>\n",
              "    </tr>\n",
              "    <tr>\n",
              "      <th id=\"T_4494b_level0_row9\" class=\"row_heading level0 row9\" >lar</th>\n",
              "      <td id=\"T_4494b_row9_col0\" class=\"data row9 col0\" >Least Angle Regression</td>\n",
              "      <td id=\"T_4494b_row9_col1\" class=\"data row9 col1\" >565165.5596</td>\n",
              "      <td id=\"T_4494b_row9_col2\" class=\"data row9 col2\" >1773296214838.9453</td>\n",
              "      <td id=\"T_4494b_row9_col3\" class=\"data row9 col3\" >1300772.7451</td>\n",
              "      <td id=\"T_4494b_row9_col4\" class=\"data row9 col4\" >0.5650</td>\n",
              "      <td id=\"T_4494b_row9_col5\" class=\"data row9 col5\" >0.8142</td>\n",
              "      <td id=\"T_4494b_row9_col6\" class=\"data row9 col6\" >0.9728</td>\n",
              "      <td id=\"T_4494b_row9_col7\" class=\"data row9 col7\" >0.1620</td>\n",
              "    </tr>\n",
              "    <tr>\n",
              "      <th id=\"T_4494b_level0_row10\" class=\"row_heading level0 row10\" >dt</th>\n",
              "      <td id=\"T_4494b_row10_col0\" class=\"data row10 col0\" >Decision Tree Regressor</td>\n",
              "      <td id=\"T_4494b_row10_col1\" class=\"data row10 col1\" >419222.4918</td>\n",
              "      <td id=\"T_4494b_row10_col2\" class=\"data row10 col2\" >2045543553568.8921</td>\n",
              "      <td id=\"T_4494b_row10_col3\" class=\"data row10 col3\" >1359804.3583</td>\n",
              "      <td id=\"T_4494b_row10_col4\" class=\"data row10 col4\" >0.5084</td>\n",
              "      <td id=\"T_4494b_row10_col5\" class=\"data row10 col5\" >0.4930</td>\n",
              "      <td id=\"T_4494b_row10_col6\" class=\"data row10 col6\" >0.4127</td>\n",
              "      <td id=\"T_4494b_row10_col7\" class=\"data row10 col7\" >0.1400</td>\n",
              "    </tr>\n",
              "    <tr>\n",
              "      <th id=\"T_4494b_level0_row11\" class=\"row_heading level0 row11\" >ada</th>\n",
              "      <td id=\"T_4494b_row11_col0\" class=\"data row11 col0\" >AdaBoost Regressor</td>\n",
              "      <td id=\"T_4494b_row11_col1\" class=\"data row11 col1\" >740011.5850</td>\n",
              "      <td id=\"T_4494b_row11_col2\" class=\"data row11 col2\" >2477932498309.1802</td>\n",
              "      <td id=\"T_4494b_row11_col3\" class=\"data row11 col3\" >1565529.6657</td>\n",
              "      <td id=\"T_4494b_row11_col4\" class=\"data row11 col4\" >0.3475</td>\n",
              "      <td id=\"T_4494b_row11_col5\" class=\"data row11 col5\" >0.7042</td>\n",
              "      <td id=\"T_4494b_row11_col6\" class=\"data row11 col6\" >0.8733</td>\n",
              "      <td id=\"T_4494b_row11_col7\" class=\"data row11 col7\" >0.1840</td>\n",
              "    </tr>\n",
              "    <tr>\n",
              "      <th id=\"T_4494b_level0_row12\" class=\"row_heading level0 row12\" >omp</th>\n",
              "      <td id=\"T_4494b_row12_col0\" class=\"data row12 col0\" >Orthogonal Matching Pursuit</td>\n",
              "      <td id=\"T_4494b_row12_col1\" class=\"data row12 col1\" >774991.6004</td>\n",
              "      <td id=\"T_4494b_row12_col2\" class=\"data row12 col2\" >2654152320046.7202</td>\n",
              "      <td id=\"T_4494b_row12_col3\" class=\"data row12 col3\" >1599868.9047</td>\n",
              "      <td id=\"T_4494b_row12_col4\" class=\"data row12 col4\" >0.3388</td>\n",
              "      <td id=\"T_4494b_row12_col5\" class=\"data row12 col5\" >0.9634</td>\n",
              "      <td id=\"T_4494b_row12_col6\" class=\"data row12 col6\" >1.1595</td>\n",
              "      <td id=\"T_4494b_row12_col7\" class=\"data row12 col7\" >0.1560</td>\n",
              "    </tr>\n",
              "    <tr>\n",
              "      <th id=\"T_4494b_level0_row13\" class=\"row_heading level0 row13\" >en</th>\n",
              "      <td id=\"T_4494b_row13_col0\" class=\"data row13 col0\" >Elastic Net</td>\n",
              "      <td id=\"T_4494b_row13_col1\" class=\"data row13 col1\" >833155.0847</td>\n",
              "      <td id=\"T_4494b_row13_col2\" class=\"data row13 col2\" >2825503696999.0879</td>\n",
              "      <td id=\"T_4494b_row13_col3\" class=\"data row13 col3\" >1647416.3449</td>\n",
              "      <td id=\"T_4494b_row13_col4\" class=\"data row13 col4\" >0.3008</td>\n",
              "      <td id=\"T_4494b_row13_col5\" class=\"data row13 col5\" >0.9348</td>\n",
              "      <td id=\"T_4494b_row13_col6\" class=\"data row13 col6\" >1.3284</td>\n",
              "      <td id=\"T_4494b_row13_col7\" class=\"data row13 col7\" >0.1540</td>\n",
              "    </tr>\n",
              "    <tr>\n",
              "      <th id=\"T_4494b_level0_row14\" class=\"row_heading level0 row14\" >br</th>\n",
              "      <td id=\"T_4494b_row14_col0\" class=\"data row14 col0\" >Bayesian Ridge</td>\n",
              "      <td id=\"T_4494b_row14_col1\" class=\"data row14 col1\" >1018519.1930</td>\n",
              "      <td id=\"T_4494b_row14_col2\" class=\"data row14 col2\" >3657395561971.3970</td>\n",
              "      <td id=\"T_4494b_row14_col3\" class=\"data row14 col3\" >1885149.0921</td>\n",
              "      <td id=\"T_4494b_row14_col4\" class=\"data row14 col4\" >0.0761</td>\n",
              "      <td id=\"T_4494b_row14_col5\" class=\"data row14 col5\" >1.1355</td>\n",
              "      <td id=\"T_4494b_row14_col6\" class=\"data row14 col6\" >1.9264</td>\n",
              "      <td id=\"T_4494b_row14_col7\" class=\"data row14 col7\" >1.1760</td>\n",
              "    </tr>\n",
              "    <tr>\n",
              "      <th id=\"T_4494b_level0_row15\" class=\"row_heading level0 row15\" >knn</th>\n",
              "      <td id=\"T_4494b_row15_col0\" class=\"data row15 col0\" >K Neighbors Regressor</td>\n",
              "      <td id=\"T_4494b_row15_col1\" class=\"data row15 col1\" >987115.8500</td>\n",
              "      <td id=\"T_4494b_row15_col2\" class=\"data row15 col2\" >3838046266982.3999</td>\n",
              "      <td id=\"T_4494b_row15_col3\" class=\"data row15 col3\" >1941044.8000</td>\n",
              "      <td id=\"T_4494b_row15_col4\" class=\"data row15 col4\" >0.0089</td>\n",
              "      <td id=\"T_4494b_row15_col5\" class=\"data row15 col5\" >1.0601</td>\n",
              "      <td id=\"T_4494b_row15_col6\" class=\"data row15 col6\" >1.6094</td>\n",
              "      <td id=\"T_4494b_row15_col7\" class=\"data row15 col7\" >0.1600</td>\n",
              "    </tr>\n",
              "    <tr>\n",
              "      <th id=\"T_4494b_level0_row16\" class=\"row_heading level0 row16\" >dummy</th>\n",
              "      <td id=\"T_4494b_row16_col0\" class=\"data row16 col0\" >Dummy Regressor</td>\n",
              "      <td id=\"T_4494b_row16_col1\" class=\"data row16 col1\" >1063948.3500</td>\n",
              "      <td id=\"T_4494b_row16_col2\" class=\"data row16 col2\" >3969011836518.3999</td>\n",
              "      <td id=\"T_4494b_row16_col3\" class=\"data row16 col3\" >1964519.1750</td>\n",
              "      <td id=\"T_4494b_row16_col4\" class=\"data row16 col4\" >-0.0039</td>\n",
              "      <td id=\"T_4494b_row16_col5\" class=\"data row16 col5\" >1.2091</td>\n",
              "      <td id=\"T_4494b_row16_col6\" class=\"data row16 col6\" >2.1573</td>\n",
              "      <td id=\"T_4494b_row16_col7\" class=\"data row16 col7\" >0.1260</td>\n",
              "    </tr>\n",
              "    <tr>\n",
              "      <th id=\"T_4494b_level0_row17\" class=\"row_heading level0 row17\" >huber</th>\n",
              "      <td id=\"T_4494b_row17_col0\" class=\"data row17 col0\" >Huber Regressor</td>\n",
              "      <td id=\"T_4494b_row17_col1\" class=\"data row17 col1\" >813370.9288</td>\n",
              "      <td id=\"T_4494b_row17_col2\" class=\"data row17 col2\" >4133699332063.8218</td>\n",
              "      <td id=\"T_4494b_row17_col3\" class=\"data row17 col3\" >2003405.5464</td>\n",
              "      <td id=\"T_4494b_row17_col4\" class=\"data row17 col4\" >-0.0426</td>\n",
              "      <td id=\"T_4494b_row17_col5\" class=\"data row17 col5\" >0.9967</td>\n",
              "      <td id=\"T_4494b_row17_col6\" class=\"data row17 col6\" >0.8229</td>\n",
              "      <td id=\"T_4494b_row17_col7\" class=\"data row17 col7\" >0.1700</td>\n",
              "    </tr>\n",
              "    <tr>\n",
              "      <th id=\"T_4494b_level0_row18\" class=\"row_heading level0 row18\" >par</th>\n",
              "      <td id=\"T_4494b_row18_col0\" class=\"data row18 col0\" >Passive Aggressive Regressor</td>\n",
              "      <td id=\"T_4494b_row18_col1\" class=\"data row18 col1\" >1982764.4425</td>\n",
              "      <td id=\"T_4494b_row18_col2\" class=\"data row18 col2\" >9692638008052.3750</td>\n",
              "      <td id=\"T_4494b_row18_col3\" class=\"data row18 col3\" >2915525.8364</td>\n",
              "      <td id=\"T_4494b_row18_col4\" class=\"data row18 col4\" >-1.4029</td>\n",
              "      <td id=\"T_4494b_row18_col5\" class=\"data row18 col5\" >1.5469</td>\n",
              "      <td id=\"T_4494b_row18_col6\" class=\"data row18 col6\" >4.7428</td>\n",
              "      <td id=\"T_4494b_row18_col7\" class=\"data row18 col7\" >0.1380</td>\n",
              "    </tr>\n",
              "  </tbody>\n",
              "</table>\n"
            ]
          },
          "metadata": {}
        },
        {
          "output_type": "display_data",
          "data": {
            "text/plain": [
              "Processing:   0%|          | 0/81 [00:00<?, ?it/s]"
            ],
            "application/vnd.jupyter.widget-view+json": {
              "version_major": 2,
              "version_minor": 0,
              "model_id": "bda02db6f2d84f59b86f63c5493f8a55"
            }
          },
          "metadata": {
            "application/vnd.jupyter.widget-view+json": {
              "colab": {
                "custom_widget_manager": {
                  "url": "https://ssl.gstatic.com/colaboratory-static/widgets/colab-cdn-widget-manager/b3e629b1971e1542/manager.min.js"
                }
              }
            }
          }
        },
        {
          "output_type": "display_data",
          "data": {
            "text/plain": [
              "<IPython.core.display.HTML object>"
            ],
            "text/html": []
          },
          "metadata": {}
        }
      ]
    },
    {
      "cell_type": "code",
      "source": [],
      "metadata": {
        "id": "P2sH8qsgwM9o"
      },
      "execution_count": null,
      "outputs": []
    }
  ]
}