{
  "nbformat": 4,
  "nbformat_minor": 0,
  "metadata": {
    "colab": {
      "provenance": [],
      "authorship_tag": "ABX9TyMib/xCCNDuQPUdoDo0gXj+",
      "include_colab_link": true
    },
    "kernelspec": {
      "name": "python3",
      "display_name": "Python 3"
    },
    "language_info": {
      "name": "python"
    },
    "widgets": {
      "application/vnd.jupyter.widget-state+json": {
        "b2433b8e82784ec2a6256336a423bd2e": {
          "model_module": "@jupyter-widgets/controls",
          "model_name": "HBoxModel",
          "model_module_version": "1.5.0",
          "state": {
            "_dom_classes": [],
            "_model_module": "@jupyter-widgets/controls",
            "_model_module_version": "1.5.0",
            "_model_name": "HBoxModel",
            "_view_count": null,
            "_view_module": "@jupyter-widgets/controls",
            "_view_module_version": "1.5.0",
            "_view_name": "HBoxView",
            "box_style": "",
            "children": [
              "IPY_MODEL_fd9d7db09136468f964e2050df00f623",
              "IPY_MODEL_05689dca59a44bafb9151744687d7f3d",
              "IPY_MODEL_9fc94a3aea9e45ecb5f735b6a47151c9"
            ],
            "layout": "IPY_MODEL_d9dfde5378cc486d97b552cbde366a4f"
          }
        },
        "fd9d7db09136468f964e2050df00f623": {
          "model_module": "@jupyter-widgets/controls",
          "model_name": "HTMLModel",
          "model_module_version": "1.5.0",
          "state": {
            "_dom_classes": [],
            "_model_module": "@jupyter-widgets/controls",
            "_model_module_version": "1.5.0",
            "_model_name": "HTMLModel",
            "_view_count": null,
            "_view_module": "@jupyter-widgets/controls",
            "_view_module_version": "1.5.0",
            "_view_name": "HTMLView",
            "description": "",
            "description_tooltip": null,
            "layout": "IPY_MODEL_f64d9582ace3465fa2cfc70f29145d93",
            "placeholder": "​",
            "style": "IPY_MODEL_ee49a4ecf52445a898fbe87d0a463739",
            "value": "Processing: 100%"
          }
        },
        "05689dca59a44bafb9151744687d7f3d": {
          "model_module": "@jupyter-widgets/controls",
          "model_name": "FloatProgressModel",
          "model_module_version": "1.5.0",
          "state": {
            "_dom_classes": [],
            "_model_module": "@jupyter-widgets/controls",
            "_model_module_version": "1.5.0",
            "_model_name": "FloatProgressModel",
            "_view_count": null,
            "_view_module": "@jupyter-widgets/controls",
            "_view_module_version": "1.5.0",
            "_view_name": "ProgressView",
            "bar_style": "",
            "description": "",
            "description_tooltip": null,
            "layout": "IPY_MODEL_29e7140f9e9b434ab41a95eee130a947",
            "max": 65,
            "min": 0,
            "orientation": "horizontal",
            "style": "IPY_MODEL_4ff78ca6c6c0490fbd5feebf508a50d3",
            "value": 65
          }
        },
        "9fc94a3aea9e45ecb5f735b6a47151c9": {
          "model_module": "@jupyter-widgets/controls",
          "model_name": "HTMLModel",
          "model_module_version": "1.5.0",
          "state": {
            "_dom_classes": [],
            "_model_module": "@jupyter-widgets/controls",
            "_model_module_version": "1.5.0",
            "_model_name": "HTMLModel",
            "_view_count": null,
            "_view_module": "@jupyter-widgets/controls",
            "_view_module_version": "1.5.0",
            "_view_name": "HTMLView",
            "description": "",
            "description_tooltip": null,
            "layout": "IPY_MODEL_5ae9dd25fefa4c0889bc5acc1538032d",
            "placeholder": "​",
            "style": "IPY_MODEL_2afa9d1a58ed4d28b0524db3846316e3",
            "value": " 65/65 [01:19&lt;00:00,  1.41it/s]"
          }
        },
        "d9dfde5378cc486d97b552cbde366a4f": {
          "model_module": "@jupyter-widgets/base",
          "model_name": "LayoutModel",
          "model_module_version": "1.2.0",
          "state": {
            "_model_module": "@jupyter-widgets/base",
            "_model_module_version": "1.2.0",
            "_model_name": "LayoutModel",
            "_view_count": null,
            "_view_module": "@jupyter-widgets/base",
            "_view_module_version": "1.2.0",
            "_view_name": "LayoutView",
            "align_content": null,
            "align_items": null,
            "align_self": null,
            "border": null,
            "bottom": null,
            "display": null,
            "flex": null,
            "flex_flow": null,
            "grid_area": null,
            "grid_auto_columns": null,
            "grid_auto_flow": null,
            "grid_auto_rows": null,
            "grid_column": null,
            "grid_gap": null,
            "grid_row": null,
            "grid_template_areas": null,
            "grid_template_columns": null,
            "grid_template_rows": null,
            "height": null,
            "justify_content": null,
            "justify_items": null,
            "left": null,
            "margin": null,
            "max_height": null,
            "max_width": null,
            "min_height": null,
            "min_width": null,
            "object_fit": null,
            "object_position": null,
            "order": null,
            "overflow": null,
            "overflow_x": null,
            "overflow_y": null,
            "padding": null,
            "right": null,
            "top": null,
            "visibility": "hidden",
            "width": null
          }
        },
        "f64d9582ace3465fa2cfc70f29145d93": {
          "model_module": "@jupyter-widgets/base",
          "model_name": "LayoutModel",
          "model_module_version": "1.2.0",
          "state": {
            "_model_module": "@jupyter-widgets/base",
            "_model_module_version": "1.2.0",
            "_model_name": "LayoutModel",
            "_view_count": null,
            "_view_module": "@jupyter-widgets/base",
            "_view_module_version": "1.2.0",
            "_view_name": "LayoutView",
            "align_content": null,
            "align_items": null,
            "align_self": null,
            "border": null,
            "bottom": null,
            "display": null,
            "flex": null,
            "flex_flow": null,
            "grid_area": null,
            "grid_auto_columns": null,
            "grid_auto_flow": null,
            "grid_auto_rows": null,
            "grid_column": null,
            "grid_gap": null,
            "grid_row": null,
            "grid_template_areas": null,
            "grid_template_columns": null,
            "grid_template_rows": null,
            "height": null,
            "justify_content": null,
            "justify_items": null,
            "left": null,
            "margin": null,
            "max_height": null,
            "max_width": null,
            "min_height": null,
            "min_width": null,
            "object_fit": null,
            "object_position": null,
            "order": null,
            "overflow": null,
            "overflow_x": null,
            "overflow_y": null,
            "padding": null,
            "right": null,
            "top": null,
            "visibility": null,
            "width": null
          }
        },
        "ee49a4ecf52445a898fbe87d0a463739": {
          "model_module": "@jupyter-widgets/controls",
          "model_name": "DescriptionStyleModel",
          "model_module_version": "1.5.0",
          "state": {
            "_model_module": "@jupyter-widgets/controls",
            "_model_module_version": "1.5.0",
            "_model_name": "DescriptionStyleModel",
            "_view_count": null,
            "_view_module": "@jupyter-widgets/base",
            "_view_module_version": "1.2.0",
            "_view_name": "StyleView",
            "description_width": ""
          }
        },
        "29e7140f9e9b434ab41a95eee130a947": {
          "model_module": "@jupyter-widgets/base",
          "model_name": "LayoutModel",
          "model_module_version": "1.2.0",
          "state": {
            "_model_module": "@jupyter-widgets/base",
            "_model_module_version": "1.2.0",
            "_model_name": "LayoutModel",
            "_view_count": null,
            "_view_module": "@jupyter-widgets/base",
            "_view_module_version": "1.2.0",
            "_view_name": "LayoutView",
            "align_content": null,
            "align_items": null,
            "align_self": null,
            "border": null,
            "bottom": null,
            "display": null,
            "flex": null,
            "flex_flow": null,
            "grid_area": null,
            "grid_auto_columns": null,
            "grid_auto_flow": null,
            "grid_auto_rows": null,
            "grid_column": null,
            "grid_gap": null,
            "grid_row": null,
            "grid_template_areas": null,
            "grid_template_columns": null,
            "grid_template_rows": null,
            "height": null,
            "justify_content": null,
            "justify_items": null,
            "left": null,
            "margin": null,
            "max_height": null,
            "max_width": null,
            "min_height": null,
            "min_width": null,
            "object_fit": null,
            "object_position": null,
            "order": null,
            "overflow": null,
            "overflow_x": null,
            "overflow_y": null,
            "padding": null,
            "right": null,
            "top": null,
            "visibility": null,
            "width": null
          }
        },
        "4ff78ca6c6c0490fbd5feebf508a50d3": {
          "model_module": "@jupyter-widgets/controls",
          "model_name": "ProgressStyleModel",
          "model_module_version": "1.5.0",
          "state": {
            "_model_module": "@jupyter-widgets/controls",
            "_model_module_version": "1.5.0",
            "_model_name": "ProgressStyleModel",
            "_view_count": null,
            "_view_module": "@jupyter-widgets/base",
            "_view_module_version": "1.2.0",
            "_view_name": "StyleView",
            "bar_color": null,
            "description_width": ""
          }
        },
        "5ae9dd25fefa4c0889bc5acc1538032d": {
          "model_module": "@jupyter-widgets/base",
          "model_name": "LayoutModel",
          "model_module_version": "1.2.0",
          "state": {
            "_model_module": "@jupyter-widgets/base",
            "_model_module_version": "1.2.0",
            "_model_name": "LayoutModel",
            "_view_count": null,
            "_view_module": "@jupyter-widgets/base",
            "_view_module_version": "1.2.0",
            "_view_name": "LayoutView",
            "align_content": null,
            "align_items": null,
            "align_self": null,
            "border": null,
            "bottom": null,
            "display": null,
            "flex": null,
            "flex_flow": null,
            "grid_area": null,
            "grid_auto_columns": null,
            "grid_auto_flow": null,
            "grid_auto_rows": null,
            "grid_column": null,
            "grid_gap": null,
            "grid_row": null,
            "grid_template_areas": null,
            "grid_template_columns": null,
            "grid_template_rows": null,
            "height": null,
            "justify_content": null,
            "justify_items": null,
            "left": null,
            "margin": null,
            "max_height": null,
            "max_width": null,
            "min_height": null,
            "min_width": null,
            "object_fit": null,
            "object_position": null,
            "order": null,
            "overflow": null,
            "overflow_x": null,
            "overflow_y": null,
            "padding": null,
            "right": null,
            "top": null,
            "visibility": null,
            "width": null
          }
        },
        "2afa9d1a58ed4d28b0524db3846316e3": {
          "model_module": "@jupyter-widgets/controls",
          "model_name": "DescriptionStyleModel",
          "model_module_version": "1.5.0",
          "state": {
            "_model_module": "@jupyter-widgets/controls",
            "_model_module_version": "1.5.0",
            "_model_name": "DescriptionStyleModel",
            "_view_count": null,
            "_view_module": "@jupyter-widgets/base",
            "_view_module_version": "1.2.0",
            "_view_name": "StyleView",
            "description_width": ""
          }
        }
      }
    }
  },
  "cells": [
    {
      "cell_type": "markdown",
      "metadata": {
        "id": "view-in-github",
        "colab_type": "text"
      },
      "source": [
        "<a href=\"https://colab.research.google.com/github/a-donat/Benchmarks_PyCaret/blob/main/Predicting_Posture_from_Physio_Personality.ipynb\" target=\"_parent\"><img src=\"https://colab.research.google.com/assets/colab-badge.svg\" alt=\"Open In Colab\"/></a>"
      ]
    },
    {
      "cell_type": "markdown",
      "source": [
        "# Predicting Posture from Physisiological Factors and Personality Type"
      ],
      "metadata": {
        "id": "EVTsoWirvThb"
      }
    },
    {
      "cell_type": "markdown",
      "source": [
        "# I. Set-Up"
      ],
      "metadata": {
        "id": "EjJ5M3C1sQDA"
      }
    },
    {
      "cell_type": "markdown",
      "source": [
        "## I.A. Import Libraries and Download Data"
      ],
      "metadata": {
        "id": "_1u8l9-Wq2to"
      }
    },
    {
      "cell_type": "code",
      "source": [
        "! pip install kaggle\n",
        "! mkdir ~/.kaggle\n",
        "! cp kaggle.json ~/.kaggle/\n",
        "! chmod 600 ~/.kaggle/kaggle.json\n",
        "! kaggle datasets download -d dhanasekarjaisankar/correlation-between-posture-personality-trait\n",
        "! unzip '/content/correlation-between-posture-personality-trait.zip' -d '/content/data'"
      ],
      "metadata": {
        "id": "cU-J1Vvhq6mp"
      },
      "execution_count": null,
      "outputs": []
    },
    {
      "cell_type": "code",
      "source": [
        "! pip install pycaret"
      ],
      "metadata": {
        "id": "q2OwTXkgrNEd"
      },
      "execution_count": null,
      "outputs": []
    },
    {
      "cell_type": "code",
      "execution_count": null,
      "metadata": {
        "id": "KJR0DPb6qvvl"
      },
      "outputs": [],
      "source": [
        "#import matplotlib.pyplot as plt\n",
        "#import seaborn as sns\n",
        "#import VisualizeDataAbbrev as viz\n",
        "\n",
        "import numpy as np\n",
        "import pandas as pd\n",
        "from pycaret.classification import *\n",
        "from sklearn.model_selection import train_test_split"
      ]
    },
    {
      "cell_type": "markdown",
      "source": [
        "## I.B. Load Data and Check Data Integrity"
      ],
      "metadata": {
        "id": "xtnQ852lrdGq"
      }
    },
    {
      "cell_type": "code",
      "source": [
        "ds_df = pd.read_csv(\"/content/data/Myers Briggs Table_S1.csv\")"
      ],
      "metadata": {
        "id": "szcd_HHIrepR"
      },
      "execution_count": 130,
      "outputs": []
    },
    {
      "cell_type": "code",
      "source": [
        "ds_df.info()"
      ],
      "metadata": {
        "colab": {
          "base_uri": "https://localhost:8080/"
        },
        "id": "7SRp7d3IrmyK",
        "outputId": "d7d916ab-9f75-48cb-bf33-cc624959595c"
      },
      "execution_count": 131,
      "outputs": [
        {
          "output_type": "stream",
          "name": "stdout",
          "text": [
            "<class 'pandas.core.frame.DataFrame'>\n",
            "RangeIndex: 97 entries, 0 to 96\n",
            "Data columns (total 20 columns):\n",
            " #   Column          Non-Null Count  Dtype  \n",
            "---  ------          --------------  -----  \n",
            " 0   S No            97 non-null     int64  \n",
            " 1   AGE             97 non-null     int64  \n",
            " 2   HEIGHT          97 non-null     int64  \n",
            " 3   WEIGHT          97 non-null     int64  \n",
            " 4   SEX             97 non-null     object \n",
            " 5   ACTIVITY LEVEL  97 non-null     object \n",
            " 6   PAIN 1          97 non-null     float64\n",
            " 7   PAIN 2          97 non-null     float64\n",
            " 8   PAIN 3          97 non-null     float64\n",
            " 9   PAIN 4          97 non-null     float64\n",
            " 10  MBTI            97 non-null     object \n",
            " 11  E               97 non-null     int64  \n",
            " 12  I               97 non-null     int64  \n",
            " 13  S               97 non-null     int64  \n",
            " 14  N               97 non-null     int64  \n",
            " 15  T               97 non-null     int64  \n",
            " 16  F               97 non-null     int64  \n",
            " 17  J               97 non-null     int64  \n",
            " 18  P               97 non-null     int64  \n",
            " 19  POSTURE         97 non-null     object \n",
            "dtypes: float64(4), int64(12), object(4)\n",
            "memory usage: 15.3+ KB\n"
          ]
        }
      ]
    },
    {
      "cell_type": "code",
      "source": [
        "ds_df[\"HEIGHT_m\"] = ds_df[\"HEIGHT\"] * 2.54 / 100\n",
        "ds_df[\"WEIGHT_kg\"] = ds_df[\"WEIGHT\"] * 0.45359237\n",
        "ds_df[\"BMI\"] = ds_df[\"WEIGHT_kg\"]/(ds_df[\"HEIGHT_m\"]**2)"
      ],
      "metadata": {
        "id": "koaInFK_wjlx"
      },
      "execution_count": 170,
      "outputs": []
    },
    {
      "cell_type": "code",
      "source": [
        "ds_df[\"ACTIVITY LEVEL\"].value_counts()"
      ],
      "metadata": {
        "colab": {
          "base_uri": "https://localhost:8080/"
        },
        "id": "iRfsL3nAwY8u",
        "outputId": "3a00f53d-7993-4a6d-968a-a96275e9f450"
      },
      "execution_count": 135,
      "outputs": [
        {
          "output_type": "execute_result",
          "data": {
            "text/plain": [
              "Low         74\n",
              "Moderate    17\n",
              "High         6\n",
              "Name: ACTIVITY LEVEL, dtype: int64"
            ]
          },
          "metadata": {},
          "execution_count": 135
        }
      ]
    },
    {
      "cell_type": "code",
      "source": [
        "ds_df[\"ACTIVITY LEVEL\"] = ds_df[\"ACTIVITY LEVEL\"].replace(\n",
        "    {\"Low\": 0, \"Moderate\": 1, \"High\": 2})"
      ],
      "metadata": {
        "id": "Wo2FkDKMxb2F"
      },
      "execution_count": 136,
      "outputs": []
    },
    {
      "cell_type": "code",
      "source": [
        "ds_df[\"SEX\"].value_counts()"
      ],
      "metadata": {
        "colab": {
          "base_uri": "https://localhost:8080/"
        },
        "id": "8b36VfeizFdq",
        "outputId": "b31f5294-7357-4598-a250-cb7ec86d0d51"
      },
      "execution_count": 141,
      "outputs": [
        {
          "output_type": "execute_result",
          "data": {
            "text/plain": [
              "Female    49\n",
              "Male      48\n",
              "Name: SEX, dtype: int64"
            ]
          },
          "metadata": {},
          "execution_count": 141
        }
      ]
    },
    {
      "cell_type": "code",
      "source": [
        "ds_df[\"SEX\"] = ds_df[\"SEX\"].replace({\"Female\": 0, \"Male\": 1})"
      ],
      "metadata": {
        "id": "uU8eAhUGzL8P"
      },
      "execution_count": 142,
      "outputs": []
    },
    {
      "cell_type": "code",
      "source": [
        "ds_df[\"POSTURE\"].value_counts()"
      ],
      "metadata": {
        "colab": {
          "base_uri": "https://localhost:8080/"
        },
        "id": "GljtwQCQW2_w",
        "outputId": "575f7c6f-9426-4eac-f781-0ceac366ac6a"
      },
      "execution_count": 138,
      "outputs": [
        {
          "output_type": "execute_result",
          "data": {
            "text/plain": [
              "B    36\n",
              "A    22\n",
              "D    20\n",
              "C    19\n",
              "Name: POSTURE, dtype: int64"
            ]
          },
          "metadata": {},
          "execution_count": 138
        }
      ]
    },
    {
      "cell_type": "code",
      "source": [
        "ds_df[list(\"EISNTFJP\")].corr().round(2)"
      ],
      "metadata": {
        "colab": {
          "base_uri": "https://localhost:8080/",
          "height": 300
        },
        "id": "Up4QJUawdzRK",
        "outputId": "bd0e582a-ce9a-4b38-85bc-7f24eb146965"
      },
      "execution_count": 143,
      "outputs": [
        {
          "output_type": "execute_result",
          "data": {
            "text/plain": [
              "      E     I     S     N     T     F     J     P\n",
              "E  1.00 -1.00 -0.20  0.18 -0.11  0.10 -0.24  0.24\n",
              "I -1.00  1.00  0.20 -0.18  0.11 -0.10  0.24 -0.23\n",
              "S -0.20  0.20  1.00 -0.95  0.17 -0.16  0.19 -0.19\n",
              "N  0.18 -0.18 -0.95  1.00 -0.18  0.18 -0.17  0.17\n",
              "T -0.11  0.11  0.17 -0.18  1.00 -1.00  0.22 -0.22\n",
              "F  0.10 -0.10 -0.16  0.18 -1.00  1.00 -0.22  0.23\n",
              "J -0.24  0.24  0.19 -0.17  0.22 -0.22  1.00 -1.00\n",
              "P  0.24 -0.23 -0.19  0.17 -0.22  0.23 -1.00  1.00"
            ],
            "text/html": [
              "\n",
              "  <div id=\"df-3a0b2d65-3cd1-4f5b-b7c8-20702be038f0\">\n",
              "    <div class=\"colab-df-container\">\n",
              "      <div>\n",
              "<style scoped>\n",
              "    .dataframe tbody tr th:only-of-type {\n",
              "        vertical-align: middle;\n",
              "    }\n",
              "\n",
              "    .dataframe tbody tr th {\n",
              "        vertical-align: top;\n",
              "    }\n",
              "\n",
              "    .dataframe thead th {\n",
              "        text-align: right;\n",
              "    }\n",
              "</style>\n",
              "<table border=\"1\" class=\"dataframe\">\n",
              "  <thead>\n",
              "    <tr style=\"text-align: right;\">\n",
              "      <th></th>\n",
              "      <th>E</th>\n",
              "      <th>I</th>\n",
              "      <th>S</th>\n",
              "      <th>N</th>\n",
              "      <th>T</th>\n",
              "      <th>F</th>\n",
              "      <th>J</th>\n",
              "      <th>P</th>\n",
              "    </tr>\n",
              "  </thead>\n",
              "  <tbody>\n",
              "    <tr>\n",
              "      <th>E</th>\n",
              "      <td>1.00</td>\n",
              "      <td>-1.00</td>\n",
              "      <td>-0.20</td>\n",
              "      <td>0.18</td>\n",
              "      <td>-0.11</td>\n",
              "      <td>0.10</td>\n",
              "      <td>-0.24</td>\n",
              "      <td>0.24</td>\n",
              "    </tr>\n",
              "    <tr>\n",
              "      <th>I</th>\n",
              "      <td>-1.00</td>\n",
              "      <td>1.00</td>\n",
              "      <td>0.20</td>\n",
              "      <td>-0.18</td>\n",
              "      <td>0.11</td>\n",
              "      <td>-0.10</td>\n",
              "      <td>0.24</td>\n",
              "      <td>-0.23</td>\n",
              "    </tr>\n",
              "    <tr>\n",
              "      <th>S</th>\n",
              "      <td>-0.20</td>\n",
              "      <td>0.20</td>\n",
              "      <td>1.00</td>\n",
              "      <td>-0.95</td>\n",
              "      <td>0.17</td>\n",
              "      <td>-0.16</td>\n",
              "      <td>0.19</td>\n",
              "      <td>-0.19</td>\n",
              "    </tr>\n",
              "    <tr>\n",
              "      <th>N</th>\n",
              "      <td>0.18</td>\n",
              "      <td>-0.18</td>\n",
              "      <td>-0.95</td>\n",
              "      <td>1.00</td>\n",
              "      <td>-0.18</td>\n",
              "      <td>0.18</td>\n",
              "      <td>-0.17</td>\n",
              "      <td>0.17</td>\n",
              "    </tr>\n",
              "    <tr>\n",
              "      <th>T</th>\n",
              "      <td>-0.11</td>\n",
              "      <td>0.11</td>\n",
              "      <td>0.17</td>\n",
              "      <td>-0.18</td>\n",
              "      <td>1.00</td>\n",
              "      <td>-1.00</td>\n",
              "      <td>0.22</td>\n",
              "      <td>-0.22</td>\n",
              "    </tr>\n",
              "    <tr>\n",
              "      <th>F</th>\n",
              "      <td>0.10</td>\n",
              "      <td>-0.10</td>\n",
              "      <td>-0.16</td>\n",
              "      <td>0.18</td>\n",
              "      <td>-1.00</td>\n",
              "      <td>1.00</td>\n",
              "      <td>-0.22</td>\n",
              "      <td>0.23</td>\n",
              "    </tr>\n",
              "    <tr>\n",
              "      <th>J</th>\n",
              "      <td>-0.24</td>\n",
              "      <td>0.24</td>\n",
              "      <td>0.19</td>\n",
              "      <td>-0.17</td>\n",
              "      <td>0.22</td>\n",
              "      <td>-0.22</td>\n",
              "      <td>1.00</td>\n",
              "      <td>-1.00</td>\n",
              "    </tr>\n",
              "    <tr>\n",
              "      <th>P</th>\n",
              "      <td>0.24</td>\n",
              "      <td>-0.23</td>\n",
              "      <td>-0.19</td>\n",
              "      <td>0.17</td>\n",
              "      <td>-0.22</td>\n",
              "      <td>0.23</td>\n",
              "      <td>-1.00</td>\n",
              "      <td>1.00</td>\n",
              "    </tr>\n",
              "  </tbody>\n",
              "</table>\n",
              "</div>\n",
              "      <button class=\"colab-df-convert\" onclick=\"convertToInteractive('df-3a0b2d65-3cd1-4f5b-b7c8-20702be038f0')\"\n",
              "              title=\"Convert this dataframe to an interactive table.\"\n",
              "              style=\"display:none;\">\n",
              "        \n",
              "  <svg xmlns=\"http://www.w3.org/2000/svg\" height=\"24px\"viewBox=\"0 0 24 24\"\n",
              "       width=\"24px\">\n",
              "    <path d=\"M0 0h24v24H0V0z\" fill=\"none\"/>\n",
              "    <path d=\"M18.56 5.44l.94 2.06.94-2.06 2.06-.94-2.06-.94-.94-2.06-.94 2.06-2.06.94zm-11 1L8.5 8.5l.94-2.06 2.06-.94-2.06-.94L8.5 2.5l-.94 2.06-2.06.94zm10 10l.94 2.06.94-2.06 2.06-.94-2.06-.94-.94-2.06-.94 2.06-2.06.94z\"/><path d=\"M17.41 7.96l-1.37-1.37c-.4-.4-.92-.59-1.43-.59-.52 0-1.04.2-1.43.59L10.3 9.45l-7.72 7.72c-.78.78-.78 2.05 0 2.83L4 21.41c.39.39.9.59 1.41.59.51 0 1.02-.2 1.41-.59l7.78-7.78 2.81-2.81c.8-.78.8-2.07 0-2.86zM5.41 20L4 18.59l7.72-7.72 1.47 1.35L5.41 20z\"/>\n",
              "  </svg>\n",
              "      </button>\n",
              "      \n",
              "  <style>\n",
              "    .colab-df-container {\n",
              "      display:flex;\n",
              "      flex-wrap:wrap;\n",
              "      gap: 12px;\n",
              "    }\n",
              "\n",
              "    .colab-df-convert {\n",
              "      background-color: #E8F0FE;\n",
              "      border: none;\n",
              "      border-radius: 50%;\n",
              "      cursor: pointer;\n",
              "      display: none;\n",
              "      fill: #1967D2;\n",
              "      height: 32px;\n",
              "      padding: 0 0 0 0;\n",
              "      width: 32px;\n",
              "    }\n",
              "\n",
              "    .colab-df-convert:hover {\n",
              "      background-color: #E2EBFA;\n",
              "      box-shadow: 0px 1px 2px rgba(60, 64, 67, 0.3), 0px 1px 3px 1px rgba(60, 64, 67, 0.15);\n",
              "      fill: #174EA6;\n",
              "    }\n",
              "\n",
              "    [theme=dark] .colab-df-convert {\n",
              "      background-color: #3B4455;\n",
              "      fill: #D2E3FC;\n",
              "    }\n",
              "\n",
              "    [theme=dark] .colab-df-convert:hover {\n",
              "      background-color: #434B5C;\n",
              "      box-shadow: 0px 1px 3px 1px rgba(0, 0, 0, 0.15);\n",
              "      filter: drop-shadow(0px 1px 2px rgba(0, 0, 0, 0.3));\n",
              "      fill: #FFFFFF;\n",
              "    }\n",
              "  </style>\n",
              "\n",
              "      <script>\n",
              "        const buttonEl =\n",
              "          document.querySelector('#df-3a0b2d65-3cd1-4f5b-b7c8-20702be038f0 button.colab-df-convert');\n",
              "        buttonEl.style.display =\n",
              "          google.colab.kernel.accessAllowed ? 'block' : 'none';\n",
              "\n",
              "        async function convertToInteractive(key) {\n",
              "          const element = document.querySelector('#df-3a0b2d65-3cd1-4f5b-b7c8-20702be038f0');\n",
              "          const dataTable =\n",
              "            await google.colab.kernel.invokeFunction('convertToInteractive',\n",
              "                                                     [key], {});\n",
              "          if (!dataTable) return;\n",
              "\n",
              "          const docLinkHtml = 'Like what you see? Visit the ' +\n",
              "            '<a target=\"_blank\" href=https://colab.research.google.com/notebooks/data_table.ipynb>data table notebook</a>'\n",
              "            + ' to learn more about interactive tables.';\n",
              "          element.innerHTML = '';\n",
              "          dataTable['output_type'] = 'display_data';\n",
              "          await google.colab.output.renderOutput(dataTable, element);\n",
              "          const docLink = document.createElement('div');\n",
              "          docLink.innerHTML = docLinkHtml;\n",
              "          element.appendChild(docLink);\n",
              "        }\n",
              "      </script>\n",
              "    </div>\n",
              "  </div>\n",
              "  "
            ]
          },
          "metadata": {},
          "execution_count": 143
        }
      ]
    },
    {
      "cell_type": "code",
      "source": [
        "ds_df[\"Pct_E\"] = ds_df[\"E\"] / ds_df[[\"E\", \"I\"]].sum(axis=1)\n",
        "ds_df[\"Pct_S\"] = ds_df[\"S\"] / ds_df[[\"S\", \"N\"]].sum(axis=1)\n",
        "ds_df[\"Pct_T\"] = ds_df[\"T\"] / ds_df[[\"T\", \"F\"]].sum(axis=1)\n",
        "ds_df[\"Pct_J\"] = ds_df[\"J\"] / ds_df[[\"J\", \"P\"]].sum(axis=1)"
      ],
      "metadata": {
        "id": "9cuY9mPf0AlH"
      },
      "execution_count": 147,
      "outputs": []
    },
    {
      "cell_type": "code",
      "source": [
        "ds_df[[\"E\", \"I\"]].sum(axis=1).value_counts()"
      ],
      "metadata": {
        "colab": {
          "base_uri": "https://localhost:8080/"
        },
        "id": "3xsREdEWzq8e",
        "outputId": "9dc9b4ce-eba1-4de1-fb1c-0270433d3712"
      },
      "execution_count": 145,
      "outputs": [
        {
          "output_type": "execute_result",
          "data": {
            "text/plain": [
              "21    94\n",
              "22     1\n",
              "20     1\n",
              "19     1\n",
              "dtype: int64"
            ]
          },
          "metadata": {},
          "execution_count": 145
        }
      ]
    },
    {
      "cell_type": "code",
      "source": [
        "ds_df[[\"N\", \"S\"]].sum(axis=1).value_counts()"
      ],
      "metadata": {
        "colab": {
          "base_uri": "https://localhost:8080/"
        },
        "id": "BRy8Ofwozy4n",
        "outputId": "b0e67b24-48a0-435d-ae1a-02eecf6f415e"
      },
      "execution_count": 146,
      "outputs": [
        {
          "output_type": "execute_result",
          "data": {
            "text/plain": [
              "26    93\n",
              "36     2\n",
              "24     1\n",
              "25     1\n",
              "dtype: int64"
            ]
          },
          "metadata": {},
          "execution_count": 146
        }
      ]
    },
    {
      "cell_type": "code",
      "source": [
        "ds_df.nunique()"
      ],
      "metadata": {
        "colab": {
          "base_uri": "https://localhost:8080/"
        },
        "id": "LJTsP960vQAN",
        "outputId": "893ce673-dcfd-4024-e809-18ef9a7cbea4"
      },
      "execution_count": 148,
      "outputs": [
        {
          "output_type": "execute_result",
          "data": {
            "text/plain": [
              "S No              97\n",
              "AGE               53\n",
              "HEIGHT            17\n",
              "WEIGHT            55\n",
              "SEX                2\n",
              "ACTIVITY LEVEL     3\n",
              "PAIN 1            15\n",
              "PAIN 2            17\n",
              "PAIN 3            15\n",
              "PAIN 4            17\n",
              "MBTI              15\n",
              "E                 20\n",
              "I                 20\n",
              "S                 20\n",
              "N                 20\n",
              "T                 23\n",
              "F                 23\n",
              "J                 21\n",
              "P                 21\n",
              "POSTURE            4\n",
              "HEIGHT_cm         17\n",
              "WEIGHT_kg         55\n",
              "BMI               90\n",
              "Pct_E             23\n",
              "Pct_S             23\n",
              "Pct_T             27\n",
              "Pct_J             23\n",
              "dtype: int64"
            ]
          },
          "metadata": {},
          "execution_count": 148
        }
      ]
    },
    {
      "cell_type": "code",
      "source": [
        "sel_vars = ['AGE',\n",
        " 'HEIGHT',\n",
        " 'SEX',\n",
        " 'ACTIVITY LEVEL',\n",
        " 'PAIN 1',\n",
        " 'PAIN 2',\n",
        " 'PAIN 3',\n",
        " 'PAIN 4',\n",
        " 'BMI',\n",
        " 'Pct_E',\n",
        " 'Pct_S',\n",
        " 'Pct_T',\n",
        " 'Pct_J',\n",
        "  'POSTURE']"
      ],
      "metadata": {
        "id": "_cQbX3eQ0w67"
      },
      "execution_count": 155,
      "outputs": []
    },
    {
      "cell_type": "code",
      "source": [
        "ds_df[sel_vars].describe().round(1)"
      ],
      "metadata": {
        "colab": {
          "base_uri": "https://localhost:8080/",
          "height": 300
        },
        "id": "YvdMNCQ73JWx",
        "outputId": "cc18e698-c67a-4198-e337-aad51f0f06c3"
      },
      "execution_count": 171,
      "outputs": [
        {
          "output_type": "execute_result",
          "data": {
            "text/plain": [
              "        AGE  HEIGHT   SEX  ACTIVITY LEVEL  PAIN 1  PAIN 2  PAIN 3  PAIN 4  \\\n",
              "count  97.0    97.0  97.0            97.0    97.0    97.0    97.0    97.0   \n",
              "mean   43.9    65.7   0.5             0.3     2.1     3.7     1.9     2.5   \n",
              "std    16.8     3.7   0.5             0.6     2.6     3.2     2.6     3.1   \n",
              "min    11.0    58.0   0.0             0.0     0.0     0.0     0.0     0.0   \n",
              "25%    30.0    63.0   0.0             0.0     0.0     0.0     0.0     0.0   \n",
              "50%    45.0    66.0   0.0             0.0     1.0     3.0     0.5     0.0   \n",
              "75%    56.0    68.0   1.0             0.0     4.0     7.0     3.5     5.0   \n",
              "max    82.0    74.0   1.0             2.0     9.5    10.0    10.0    10.0   \n",
              "\n",
              "        BMI  Pct_E  Pct_S  Pct_T  Pct_J  \n",
              "count  97.0   97.0   97.0   97.0   97.0  \n",
              "mean   25.8    0.6    0.6    0.4    0.5  \n",
              "std     5.0    0.3    0.2    0.2    0.3  \n",
              "min    13.3    0.1    0.2    0.0    0.0  \n",
              "25%    22.4    0.4    0.5    0.2    0.2  \n",
              "50%    25.1    0.6    0.6    0.5    0.5  \n",
              "75%    28.3    0.9    0.7    0.6    0.7  \n",
              "max    40.0    1.0    1.0    0.9    0.9  "
            ],
            "text/html": [
              "\n",
              "  <div id=\"df-3706d5bb-45a1-4d4b-a4e8-3eeabeab82d3\">\n",
              "    <div class=\"colab-df-container\">\n",
              "      <div>\n",
              "<style scoped>\n",
              "    .dataframe tbody tr th:only-of-type {\n",
              "        vertical-align: middle;\n",
              "    }\n",
              "\n",
              "    .dataframe tbody tr th {\n",
              "        vertical-align: top;\n",
              "    }\n",
              "\n",
              "    .dataframe thead th {\n",
              "        text-align: right;\n",
              "    }\n",
              "</style>\n",
              "<table border=\"1\" class=\"dataframe\">\n",
              "  <thead>\n",
              "    <tr style=\"text-align: right;\">\n",
              "      <th></th>\n",
              "      <th>AGE</th>\n",
              "      <th>HEIGHT</th>\n",
              "      <th>SEX</th>\n",
              "      <th>ACTIVITY LEVEL</th>\n",
              "      <th>PAIN 1</th>\n",
              "      <th>PAIN 2</th>\n",
              "      <th>PAIN 3</th>\n",
              "      <th>PAIN 4</th>\n",
              "      <th>BMI</th>\n",
              "      <th>Pct_E</th>\n",
              "      <th>Pct_S</th>\n",
              "      <th>Pct_T</th>\n",
              "      <th>Pct_J</th>\n",
              "    </tr>\n",
              "  </thead>\n",
              "  <tbody>\n",
              "    <tr>\n",
              "      <th>count</th>\n",
              "      <td>97.0</td>\n",
              "      <td>97.0</td>\n",
              "      <td>97.0</td>\n",
              "      <td>97.0</td>\n",
              "      <td>97.0</td>\n",
              "      <td>97.0</td>\n",
              "      <td>97.0</td>\n",
              "      <td>97.0</td>\n",
              "      <td>97.0</td>\n",
              "      <td>97.0</td>\n",
              "      <td>97.0</td>\n",
              "      <td>97.0</td>\n",
              "      <td>97.0</td>\n",
              "    </tr>\n",
              "    <tr>\n",
              "      <th>mean</th>\n",
              "      <td>43.9</td>\n",
              "      <td>65.7</td>\n",
              "      <td>0.5</td>\n",
              "      <td>0.3</td>\n",
              "      <td>2.1</td>\n",
              "      <td>3.7</td>\n",
              "      <td>1.9</td>\n",
              "      <td>2.5</td>\n",
              "      <td>25.8</td>\n",
              "      <td>0.6</td>\n",
              "      <td>0.6</td>\n",
              "      <td>0.4</td>\n",
              "      <td>0.5</td>\n",
              "    </tr>\n",
              "    <tr>\n",
              "      <th>std</th>\n",
              "      <td>16.8</td>\n",
              "      <td>3.7</td>\n",
              "      <td>0.5</td>\n",
              "      <td>0.6</td>\n",
              "      <td>2.6</td>\n",
              "      <td>3.2</td>\n",
              "      <td>2.6</td>\n",
              "      <td>3.1</td>\n",
              "      <td>5.0</td>\n",
              "      <td>0.3</td>\n",
              "      <td>0.2</td>\n",
              "      <td>0.2</td>\n",
              "      <td>0.3</td>\n",
              "    </tr>\n",
              "    <tr>\n",
              "      <th>min</th>\n",
              "      <td>11.0</td>\n",
              "      <td>58.0</td>\n",
              "      <td>0.0</td>\n",
              "      <td>0.0</td>\n",
              "      <td>0.0</td>\n",
              "      <td>0.0</td>\n",
              "      <td>0.0</td>\n",
              "      <td>0.0</td>\n",
              "      <td>13.3</td>\n",
              "      <td>0.1</td>\n",
              "      <td>0.2</td>\n",
              "      <td>0.0</td>\n",
              "      <td>0.0</td>\n",
              "    </tr>\n",
              "    <tr>\n",
              "      <th>25%</th>\n",
              "      <td>30.0</td>\n",
              "      <td>63.0</td>\n",
              "      <td>0.0</td>\n",
              "      <td>0.0</td>\n",
              "      <td>0.0</td>\n",
              "      <td>0.0</td>\n",
              "      <td>0.0</td>\n",
              "      <td>0.0</td>\n",
              "      <td>22.4</td>\n",
              "      <td>0.4</td>\n",
              "      <td>0.5</td>\n",
              "      <td>0.2</td>\n",
              "      <td>0.2</td>\n",
              "    </tr>\n",
              "    <tr>\n",
              "      <th>50%</th>\n",
              "      <td>45.0</td>\n",
              "      <td>66.0</td>\n",
              "      <td>0.0</td>\n",
              "      <td>0.0</td>\n",
              "      <td>1.0</td>\n",
              "      <td>3.0</td>\n",
              "      <td>0.5</td>\n",
              "      <td>0.0</td>\n",
              "      <td>25.1</td>\n",
              "      <td>0.6</td>\n",
              "      <td>0.6</td>\n",
              "      <td>0.5</td>\n",
              "      <td>0.5</td>\n",
              "    </tr>\n",
              "    <tr>\n",
              "      <th>75%</th>\n",
              "      <td>56.0</td>\n",
              "      <td>68.0</td>\n",
              "      <td>1.0</td>\n",
              "      <td>0.0</td>\n",
              "      <td>4.0</td>\n",
              "      <td>7.0</td>\n",
              "      <td>3.5</td>\n",
              "      <td>5.0</td>\n",
              "      <td>28.3</td>\n",
              "      <td>0.9</td>\n",
              "      <td>0.7</td>\n",
              "      <td>0.6</td>\n",
              "      <td>0.7</td>\n",
              "    </tr>\n",
              "    <tr>\n",
              "      <th>max</th>\n",
              "      <td>82.0</td>\n",
              "      <td>74.0</td>\n",
              "      <td>1.0</td>\n",
              "      <td>2.0</td>\n",
              "      <td>9.5</td>\n",
              "      <td>10.0</td>\n",
              "      <td>10.0</td>\n",
              "      <td>10.0</td>\n",
              "      <td>40.0</td>\n",
              "      <td>1.0</td>\n",
              "      <td>1.0</td>\n",
              "      <td>0.9</td>\n",
              "      <td>0.9</td>\n",
              "    </tr>\n",
              "  </tbody>\n",
              "</table>\n",
              "</div>\n",
              "      <button class=\"colab-df-convert\" onclick=\"convertToInteractive('df-3706d5bb-45a1-4d4b-a4e8-3eeabeab82d3')\"\n",
              "              title=\"Convert this dataframe to an interactive table.\"\n",
              "              style=\"display:none;\">\n",
              "        \n",
              "  <svg xmlns=\"http://www.w3.org/2000/svg\" height=\"24px\"viewBox=\"0 0 24 24\"\n",
              "       width=\"24px\">\n",
              "    <path d=\"M0 0h24v24H0V0z\" fill=\"none\"/>\n",
              "    <path d=\"M18.56 5.44l.94 2.06.94-2.06 2.06-.94-2.06-.94-.94-2.06-.94 2.06-2.06.94zm-11 1L8.5 8.5l.94-2.06 2.06-.94-2.06-.94L8.5 2.5l-.94 2.06-2.06.94zm10 10l.94 2.06.94-2.06 2.06-.94-2.06-.94-.94-2.06-.94 2.06-2.06.94z\"/><path d=\"M17.41 7.96l-1.37-1.37c-.4-.4-.92-.59-1.43-.59-.52 0-1.04.2-1.43.59L10.3 9.45l-7.72 7.72c-.78.78-.78 2.05 0 2.83L4 21.41c.39.39.9.59 1.41.59.51 0 1.02-.2 1.41-.59l7.78-7.78 2.81-2.81c.8-.78.8-2.07 0-2.86zM5.41 20L4 18.59l7.72-7.72 1.47 1.35L5.41 20z\"/>\n",
              "  </svg>\n",
              "      </button>\n",
              "      \n",
              "  <style>\n",
              "    .colab-df-container {\n",
              "      display:flex;\n",
              "      flex-wrap:wrap;\n",
              "      gap: 12px;\n",
              "    }\n",
              "\n",
              "    .colab-df-convert {\n",
              "      background-color: #E8F0FE;\n",
              "      border: none;\n",
              "      border-radius: 50%;\n",
              "      cursor: pointer;\n",
              "      display: none;\n",
              "      fill: #1967D2;\n",
              "      height: 32px;\n",
              "      padding: 0 0 0 0;\n",
              "      width: 32px;\n",
              "    }\n",
              "\n",
              "    .colab-df-convert:hover {\n",
              "      background-color: #E2EBFA;\n",
              "      box-shadow: 0px 1px 2px rgba(60, 64, 67, 0.3), 0px 1px 3px 1px rgba(60, 64, 67, 0.15);\n",
              "      fill: #174EA6;\n",
              "    }\n",
              "\n",
              "    [theme=dark] .colab-df-convert {\n",
              "      background-color: #3B4455;\n",
              "      fill: #D2E3FC;\n",
              "    }\n",
              "\n",
              "    [theme=dark] .colab-df-convert:hover {\n",
              "      background-color: #434B5C;\n",
              "      box-shadow: 0px 1px 3px 1px rgba(0, 0, 0, 0.15);\n",
              "      filter: drop-shadow(0px 1px 2px rgba(0, 0, 0, 0.3));\n",
              "      fill: #FFFFFF;\n",
              "    }\n",
              "  </style>\n",
              "\n",
              "      <script>\n",
              "        const buttonEl =\n",
              "          document.querySelector('#df-3706d5bb-45a1-4d4b-a4e8-3eeabeab82d3 button.colab-df-convert');\n",
              "        buttonEl.style.display =\n",
              "          google.colab.kernel.accessAllowed ? 'block' : 'none';\n",
              "\n",
              "        async function convertToInteractive(key) {\n",
              "          const element = document.querySelector('#df-3706d5bb-45a1-4d4b-a4e8-3eeabeab82d3');\n",
              "          const dataTable =\n",
              "            await google.colab.kernel.invokeFunction('convertToInteractive',\n",
              "                                                     [key], {});\n",
              "          if (!dataTable) return;\n",
              "\n",
              "          const docLinkHtml = 'Like what you see? Visit the ' +\n",
              "            '<a target=\"_blank\" href=https://colab.research.google.com/notebooks/data_table.ipynb>data table notebook</a>'\n",
              "            + ' to learn more about interactive tables.';\n",
              "          element.innerHTML = '';\n",
              "          dataTable['output_type'] = 'display_data';\n",
              "          await google.colab.output.renderOutput(dataTable, element);\n",
              "          const docLink = document.createElement('div');\n",
              "          docLink.innerHTML = docLinkHtml;\n",
              "          element.appendChild(docLink);\n",
              "        }\n",
              "      </script>\n",
              "    </div>\n",
              "  </div>\n",
              "  "
            ]
          },
          "metadata": {},
          "execution_count": 171
        }
      ]
    },
    {
      "cell_type": "markdown",
      "source": [
        "\n",
        "# II. Preprocessing"
      ],
      "metadata": {
        "id": "O8lUlQCJsJhx"
      }
    },
    {
      "cell_type": "code",
      "source": [
        "'''train_df, test_df = train_test_split(\n",
        "    ds_df, test_size=0.20, stratify=ds_df[\"Action\"], random_state=1)'''"
      ],
      "metadata": {
        "id": "bdlYT0C6sVQC"
      },
      "execution_count": 122,
      "outputs": []
    },
    {
      "cell_type": "markdown",
      "source": [
        "# III. Create Models"
      ],
      "metadata": {
        "id": "0V1W04AjslJD"
      }
    },
    {
      "cell_type": "code",
      "source": [
        "# should be able to achieve 99.9% accuracy predicting action"
      ],
      "metadata": {
        "id": "YdK2YSJtiiTY"
      },
      "execution_count": null,
      "outputs": []
    },
    {
      "cell_type": "code",
      "source": [
        "exp_clf101 = setup(data=ds_df[sel_vars], target = \"POSTURE\", session_id=123,\n",
        "                   fix_imbalance=True)\n"
      ],
      "metadata": {
        "colab": {
          "base_uri": "https://localhost:8080/",
          "height": 739
        },
        "id": "UUDwZKDmsoJ8",
        "outputId": "bca466a3-9320-4551-c448-27fdb2072ded"
      },
      "execution_count": 172,
      "outputs": [
        {
          "output_type": "display_data",
          "data": {
            "text/plain": [
              "<pandas.io.formats.style.Styler at 0x7f616f316e60>"
            ],
            "text/html": [
              "<style type=\"text/css\">\n",
              "#T_c3274_row9_col1, #T_c3274_row13_col1 {\n",
              "  background-color: lightgreen;\n",
              "}\n",
              "</style>\n",
              "<table id=\"T_c3274\" class=\"dataframe\">\n",
              "  <thead>\n",
              "    <tr>\n",
              "      <th class=\"blank level0\" >&nbsp;</th>\n",
              "      <th id=\"T_c3274_level0_col0\" class=\"col_heading level0 col0\" >Description</th>\n",
              "      <th id=\"T_c3274_level0_col1\" class=\"col_heading level0 col1\" >Value</th>\n",
              "    </tr>\n",
              "  </thead>\n",
              "  <tbody>\n",
              "    <tr>\n",
              "      <th id=\"T_c3274_level0_row0\" class=\"row_heading level0 row0\" >0</th>\n",
              "      <td id=\"T_c3274_row0_col0\" class=\"data row0 col0\" >Session id</td>\n",
              "      <td id=\"T_c3274_row0_col1\" class=\"data row0 col1\" >123</td>\n",
              "    </tr>\n",
              "    <tr>\n",
              "      <th id=\"T_c3274_level0_row1\" class=\"row_heading level0 row1\" >1</th>\n",
              "      <td id=\"T_c3274_row1_col0\" class=\"data row1 col0\" >Target</td>\n",
              "      <td id=\"T_c3274_row1_col1\" class=\"data row1 col1\" >POSTURE</td>\n",
              "    </tr>\n",
              "    <tr>\n",
              "      <th id=\"T_c3274_level0_row2\" class=\"row_heading level0 row2\" >2</th>\n",
              "      <td id=\"T_c3274_row2_col0\" class=\"data row2 col0\" >Target type</td>\n",
              "      <td id=\"T_c3274_row2_col1\" class=\"data row2 col1\" >Multiclass</td>\n",
              "    </tr>\n",
              "    <tr>\n",
              "      <th id=\"T_c3274_level0_row3\" class=\"row_heading level0 row3\" >3</th>\n",
              "      <td id=\"T_c3274_row3_col0\" class=\"data row3 col0\" >Target mapping</td>\n",
              "      <td id=\"T_c3274_row3_col1\" class=\"data row3 col1\" >A: 0, B: 1, C: 2, D: 3</td>\n",
              "    </tr>\n",
              "    <tr>\n",
              "      <th id=\"T_c3274_level0_row4\" class=\"row_heading level0 row4\" >4</th>\n",
              "      <td id=\"T_c3274_row4_col0\" class=\"data row4 col0\" >Original data shape</td>\n",
              "      <td id=\"T_c3274_row4_col1\" class=\"data row4 col1\" >(97, 14)</td>\n",
              "    </tr>\n",
              "    <tr>\n",
              "      <th id=\"T_c3274_level0_row5\" class=\"row_heading level0 row5\" >5</th>\n",
              "      <td id=\"T_c3274_row5_col0\" class=\"data row5 col0\" >Transformed data shape</td>\n",
              "      <td id=\"T_c3274_row5_col1\" class=\"data row5 col1\" >(130, 14)</td>\n",
              "    </tr>\n",
              "    <tr>\n",
              "      <th id=\"T_c3274_level0_row6\" class=\"row_heading level0 row6\" >6</th>\n",
              "      <td id=\"T_c3274_row6_col0\" class=\"data row6 col0\" >Transformed train set shape</td>\n",
              "      <td id=\"T_c3274_row6_col1\" class=\"data row6 col1\" >(100, 14)</td>\n",
              "    </tr>\n",
              "    <tr>\n",
              "      <th id=\"T_c3274_level0_row7\" class=\"row_heading level0 row7\" >7</th>\n",
              "      <td id=\"T_c3274_row7_col0\" class=\"data row7 col0\" >Transformed test set shape</td>\n",
              "      <td id=\"T_c3274_row7_col1\" class=\"data row7 col1\" >(30, 14)</td>\n",
              "    </tr>\n",
              "    <tr>\n",
              "      <th id=\"T_c3274_level0_row8\" class=\"row_heading level0 row8\" >8</th>\n",
              "      <td id=\"T_c3274_row8_col0\" class=\"data row8 col0\" >Numeric features</td>\n",
              "      <td id=\"T_c3274_row8_col1\" class=\"data row8 col1\" >13</td>\n",
              "    </tr>\n",
              "    <tr>\n",
              "      <th id=\"T_c3274_level0_row9\" class=\"row_heading level0 row9\" >9</th>\n",
              "      <td id=\"T_c3274_row9_col0\" class=\"data row9 col0\" >Preprocess</td>\n",
              "      <td id=\"T_c3274_row9_col1\" class=\"data row9 col1\" >True</td>\n",
              "    </tr>\n",
              "    <tr>\n",
              "      <th id=\"T_c3274_level0_row10\" class=\"row_heading level0 row10\" >10</th>\n",
              "      <td id=\"T_c3274_row10_col0\" class=\"data row10 col0\" >Imputation type</td>\n",
              "      <td id=\"T_c3274_row10_col1\" class=\"data row10 col1\" >simple</td>\n",
              "    </tr>\n",
              "    <tr>\n",
              "      <th id=\"T_c3274_level0_row11\" class=\"row_heading level0 row11\" >11</th>\n",
              "      <td id=\"T_c3274_row11_col0\" class=\"data row11 col0\" >Numeric imputation</td>\n",
              "      <td id=\"T_c3274_row11_col1\" class=\"data row11 col1\" >mean</td>\n",
              "    </tr>\n",
              "    <tr>\n",
              "      <th id=\"T_c3274_level0_row12\" class=\"row_heading level0 row12\" >12</th>\n",
              "      <td id=\"T_c3274_row12_col0\" class=\"data row12 col0\" >Categorical imputation</td>\n",
              "      <td id=\"T_c3274_row12_col1\" class=\"data row12 col1\" >mode</td>\n",
              "    </tr>\n",
              "    <tr>\n",
              "      <th id=\"T_c3274_level0_row13\" class=\"row_heading level0 row13\" >13</th>\n",
              "      <td id=\"T_c3274_row13_col0\" class=\"data row13 col0\" >Fix imbalance</td>\n",
              "      <td id=\"T_c3274_row13_col1\" class=\"data row13 col1\" >True</td>\n",
              "    </tr>\n",
              "    <tr>\n",
              "      <th id=\"T_c3274_level0_row14\" class=\"row_heading level0 row14\" >14</th>\n",
              "      <td id=\"T_c3274_row14_col0\" class=\"data row14 col0\" >Fix imbalance method</td>\n",
              "      <td id=\"T_c3274_row14_col1\" class=\"data row14 col1\" >SMOTE</td>\n",
              "    </tr>\n",
              "    <tr>\n",
              "      <th id=\"T_c3274_level0_row15\" class=\"row_heading level0 row15\" >15</th>\n",
              "      <td id=\"T_c3274_row15_col0\" class=\"data row15 col0\" >Fold Generator</td>\n",
              "      <td id=\"T_c3274_row15_col1\" class=\"data row15 col1\" >StratifiedKFold</td>\n",
              "    </tr>\n",
              "    <tr>\n",
              "      <th id=\"T_c3274_level0_row16\" class=\"row_heading level0 row16\" >16</th>\n",
              "      <td id=\"T_c3274_row16_col0\" class=\"data row16 col0\" >Fold Number</td>\n",
              "      <td id=\"T_c3274_row16_col1\" class=\"data row16 col1\" >10</td>\n",
              "    </tr>\n",
              "    <tr>\n",
              "      <th id=\"T_c3274_level0_row17\" class=\"row_heading level0 row17\" >17</th>\n",
              "      <td id=\"T_c3274_row17_col0\" class=\"data row17 col0\" >CPU Jobs</td>\n",
              "      <td id=\"T_c3274_row17_col1\" class=\"data row17 col1\" >-1</td>\n",
              "    </tr>\n",
              "    <tr>\n",
              "      <th id=\"T_c3274_level0_row18\" class=\"row_heading level0 row18\" >18</th>\n",
              "      <td id=\"T_c3274_row18_col0\" class=\"data row18 col0\" >Use GPU</td>\n",
              "      <td id=\"T_c3274_row18_col1\" class=\"data row18 col1\" >False</td>\n",
              "    </tr>\n",
              "    <tr>\n",
              "      <th id=\"T_c3274_level0_row19\" class=\"row_heading level0 row19\" >19</th>\n",
              "      <td id=\"T_c3274_row19_col0\" class=\"data row19 col0\" >Log Experiment</td>\n",
              "      <td id=\"T_c3274_row19_col1\" class=\"data row19 col1\" >False</td>\n",
              "    </tr>\n",
              "    <tr>\n",
              "      <th id=\"T_c3274_level0_row20\" class=\"row_heading level0 row20\" >20</th>\n",
              "      <td id=\"T_c3274_row20_col0\" class=\"data row20 col0\" >Experiment Name</td>\n",
              "      <td id=\"T_c3274_row20_col1\" class=\"data row20 col1\" >clf-default-name</td>\n",
              "    </tr>\n",
              "    <tr>\n",
              "      <th id=\"T_c3274_level0_row21\" class=\"row_heading level0 row21\" >21</th>\n",
              "      <td id=\"T_c3274_row21_col0\" class=\"data row21 col0\" >USI</td>\n",
              "      <td id=\"T_c3274_row21_col1\" class=\"data row21 col1\" >0017</td>\n",
              "    </tr>\n",
              "  </tbody>\n",
              "</table>\n"
            ]
          },
          "metadata": {}
        }
      ]
    },
    {
      "cell_type": "code",
      "source": [
        "best_model = compare_models(fold=10)\n"
      ],
      "metadata": {
        "colab": {
          "base_uri": "https://localhost:8080/",
          "height": 519,
          "referenced_widgets": [
            "b2433b8e82784ec2a6256336a423bd2e",
            "fd9d7db09136468f964e2050df00f623",
            "05689dca59a44bafb9151744687d7f3d",
            "9fc94a3aea9e45ecb5f735b6a47151c9",
            "d9dfde5378cc486d97b552cbde366a4f",
            "f64d9582ace3465fa2cfc70f29145d93",
            "ee49a4ecf52445a898fbe87d0a463739",
            "29e7140f9e9b434ab41a95eee130a947",
            "4ff78ca6c6c0490fbd5feebf508a50d3",
            "5ae9dd25fefa4c0889bc5acc1538032d",
            "2afa9d1a58ed4d28b0524db3846316e3"
          ]
        },
        "id": "ujtCH1wksuFG",
        "outputId": "789f179e-33f4-4aba-c479-91595b165d5c"
      },
      "execution_count": 173,
      "outputs": [
        {
          "output_type": "display_data",
          "data": {
            "text/plain": [
              "<IPython.core.display.HTML object>"
            ],
            "text/html": []
          },
          "metadata": {}
        },
        {
          "output_type": "display_data",
          "data": {
            "text/plain": [
              "<pandas.io.formats.style.Styler at 0x7f616efe8250>"
            ],
            "text/html": [
              "<style type=\"text/css\">\n",
              "#T_66729 th {\n",
              "  text-align: left;\n",
              "}\n",
              "#T_66729_row0_col0, #T_66729_row0_col2, #T_66729_row1_col0, #T_66729_row1_col1, #T_66729_row1_col2, #T_66729_row1_col3, #T_66729_row1_col4, #T_66729_row1_col5, #T_66729_row1_col6, #T_66729_row1_col7, #T_66729_row2_col0, #T_66729_row2_col1, #T_66729_row2_col2, #T_66729_row2_col3, #T_66729_row2_col4, #T_66729_row2_col5, #T_66729_row2_col6, #T_66729_row2_col7, #T_66729_row3_col0, #T_66729_row3_col1, #T_66729_row3_col3, #T_66729_row3_col4, #T_66729_row3_col5, #T_66729_row3_col6, #T_66729_row3_col7, #T_66729_row4_col0, #T_66729_row4_col1, #T_66729_row4_col2, #T_66729_row4_col3, #T_66729_row4_col4, #T_66729_row4_col5, #T_66729_row4_col6, #T_66729_row4_col7, #T_66729_row5_col0, #T_66729_row5_col1, #T_66729_row5_col2, #T_66729_row5_col3, #T_66729_row5_col4, #T_66729_row5_col5, #T_66729_row5_col6, #T_66729_row5_col7, #T_66729_row6_col0, #T_66729_row6_col1, #T_66729_row6_col2, #T_66729_row6_col3, #T_66729_row6_col4, #T_66729_row6_col5, #T_66729_row6_col6, #T_66729_row6_col7, #T_66729_row7_col0, #T_66729_row7_col1, #T_66729_row7_col2, #T_66729_row7_col3, #T_66729_row7_col4, #T_66729_row7_col5, #T_66729_row7_col6, #T_66729_row7_col7, #T_66729_row8_col0, #T_66729_row8_col1, #T_66729_row8_col2, #T_66729_row8_col3, #T_66729_row8_col4, #T_66729_row8_col5, #T_66729_row8_col6, #T_66729_row8_col7, #T_66729_row9_col0, #T_66729_row9_col1, #T_66729_row9_col2, #T_66729_row9_col3, #T_66729_row9_col4, #T_66729_row9_col5, #T_66729_row9_col6, #T_66729_row9_col7, #T_66729_row10_col0, #T_66729_row10_col1, #T_66729_row10_col2, #T_66729_row10_col3, #T_66729_row10_col4, #T_66729_row10_col5, #T_66729_row10_col6, #T_66729_row10_col7, #T_66729_row11_col0, #T_66729_row11_col1, #T_66729_row11_col2, #T_66729_row11_col3, #T_66729_row11_col4, #T_66729_row11_col5, #T_66729_row11_col6, #T_66729_row11_col7, #T_66729_row12_col0, #T_66729_row12_col1, #T_66729_row12_col2, #T_66729_row12_col3, #T_66729_row12_col4, #T_66729_row12_col5, #T_66729_row12_col6, #T_66729_row12_col7, #T_66729_row13_col0, #T_66729_row13_col1, #T_66729_row13_col2, #T_66729_row13_col3, #T_66729_row13_col4, #T_66729_row13_col5, #T_66729_row13_col6, #T_66729_row13_col7, #T_66729_row14_col0, #T_66729_row14_col1, #T_66729_row14_col2, #T_66729_row14_col3, #T_66729_row14_col4, #T_66729_row14_col5, #T_66729_row14_col6, #T_66729_row14_col7 {\n",
              "  text-align: left;\n",
              "}\n",
              "#T_66729_row0_col1, #T_66729_row0_col3, #T_66729_row0_col4, #T_66729_row0_col5, #T_66729_row0_col6, #T_66729_row0_col7, #T_66729_row3_col2 {\n",
              "  text-align: left;\n",
              "  background-color: yellow;\n",
              "}\n",
              "#T_66729_row0_col8, #T_66729_row1_col8, #T_66729_row2_col8, #T_66729_row3_col8, #T_66729_row4_col8, #T_66729_row5_col8, #T_66729_row6_col8, #T_66729_row8_col8, #T_66729_row9_col8, #T_66729_row10_col8, #T_66729_row11_col8, #T_66729_row12_col8, #T_66729_row13_col8, #T_66729_row14_col8 {\n",
              "  text-align: left;\n",
              "  background-color: lightgrey;\n",
              "}\n",
              "#T_66729_row7_col8 {\n",
              "  text-align: left;\n",
              "  background-color: yellow;\n",
              "  background-color: lightgrey;\n",
              "}\n",
              "</style>\n",
              "<table id=\"T_66729\" class=\"dataframe\">\n",
              "  <thead>\n",
              "    <tr>\n",
              "      <th class=\"blank level0\" >&nbsp;</th>\n",
              "      <th id=\"T_66729_level0_col0\" class=\"col_heading level0 col0\" >Model</th>\n",
              "      <th id=\"T_66729_level0_col1\" class=\"col_heading level0 col1\" >Accuracy</th>\n",
              "      <th id=\"T_66729_level0_col2\" class=\"col_heading level0 col2\" >AUC</th>\n",
              "      <th id=\"T_66729_level0_col3\" class=\"col_heading level0 col3\" >Recall</th>\n",
              "      <th id=\"T_66729_level0_col4\" class=\"col_heading level0 col4\" >Prec.</th>\n",
              "      <th id=\"T_66729_level0_col5\" class=\"col_heading level0 col5\" >F1</th>\n",
              "      <th id=\"T_66729_level0_col6\" class=\"col_heading level0 col6\" >Kappa</th>\n",
              "      <th id=\"T_66729_level0_col7\" class=\"col_heading level0 col7\" >MCC</th>\n",
              "      <th id=\"T_66729_level0_col8\" class=\"col_heading level0 col8\" >TT (Sec)</th>\n",
              "    </tr>\n",
              "  </thead>\n",
              "  <tbody>\n",
              "    <tr>\n",
              "      <th id=\"T_66729_level0_row0\" class=\"row_heading level0 row0\" >ridge</th>\n",
              "      <td id=\"T_66729_row0_col0\" class=\"data row0 col0\" >Ridge Classifier</td>\n",
              "      <td id=\"T_66729_row0_col1\" class=\"data row0 col1\" >0.4095</td>\n",
              "      <td id=\"T_66729_row0_col2\" class=\"data row0 col2\" >0.0000</td>\n",
              "      <td id=\"T_66729_row0_col3\" class=\"data row0 col3\" >0.4095</td>\n",
              "      <td id=\"T_66729_row0_col4\" class=\"data row0 col4\" >0.3924</td>\n",
              "      <td id=\"T_66729_row0_col5\" class=\"data row0 col5\" >0.3727</td>\n",
              "      <td id=\"T_66729_row0_col6\" class=\"data row0 col6\" >0.1889</td>\n",
              "      <td id=\"T_66729_row0_col7\" class=\"data row0 col7\" >0.2054</td>\n",
              "      <td id=\"T_66729_row0_col8\" class=\"data row0 col8\" >0.2460</td>\n",
              "    </tr>\n",
              "    <tr>\n",
              "      <th id=\"T_66729_level0_row1\" class=\"row_heading level0 row1\" >knn</th>\n",
              "      <td id=\"T_66729_row1_col0\" class=\"data row1 col0\" >K Neighbors Classifier</td>\n",
              "      <td id=\"T_66729_row1_col1\" class=\"data row1 col1\" >0.3905</td>\n",
              "      <td id=\"T_66729_row1_col2\" class=\"data row1 col2\" >0.6025</td>\n",
              "      <td id=\"T_66729_row1_col3\" class=\"data row1 col3\" >0.3905</td>\n",
              "      <td id=\"T_66729_row1_col4\" class=\"data row1 col4\" >0.3683</td>\n",
              "      <td id=\"T_66729_row1_col5\" class=\"data row1 col5\" >0.3429</td>\n",
              "      <td id=\"T_66729_row1_col6\" class=\"data row1 col6\" >0.1757</td>\n",
              "      <td id=\"T_66729_row1_col7\" class=\"data row1 col7\" >0.2048</td>\n",
              "      <td id=\"T_66729_row1_col8\" class=\"data row1 col8\" >0.1690</td>\n",
              "    </tr>\n",
              "    <tr>\n",
              "      <th id=\"T_66729_level0_row2\" class=\"row_heading level0 row2\" >qda</th>\n",
              "      <td id=\"T_66729_row2_col0\" class=\"data row2 col0\" >Quadratic Discriminant Analysis</td>\n",
              "      <td id=\"T_66729_row2_col1\" class=\"data row2 col1\" >0.3762</td>\n",
              "      <td id=\"T_66729_row2_col2\" class=\"data row2 col2\" >0.5457</td>\n",
              "      <td id=\"T_66729_row2_col3\" class=\"data row2 col3\" >0.3762</td>\n",
              "      <td id=\"T_66729_row2_col4\" class=\"data row2 col4\" >0.1489</td>\n",
              "      <td id=\"T_66729_row2_col5\" class=\"data row2 col5\" >0.2113</td>\n",
              "      <td id=\"T_66729_row2_col6\" class=\"data row2 col6\" >0.0000</td>\n",
              "      <td id=\"T_66729_row2_col7\" class=\"data row2 col7\" >0.0000</td>\n",
              "      <td id=\"T_66729_row2_col8\" class=\"data row2 col8\" >0.1760</td>\n",
              "    </tr>\n",
              "    <tr>\n",
              "      <th id=\"T_66729_level0_row3\" class=\"row_heading level0 row3\" >lda</th>\n",
              "      <td id=\"T_66729_row3_col0\" class=\"data row3 col0\" >Linear Discriminant Analysis</td>\n",
              "      <td id=\"T_66729_row3_col1\" class=\"data row3 col1\" >0.3643</td>\n",
              "      <td id=\"T_66729_row3_col2\" class=\"data row3 col2\" >0.6294</td>\n",
              "      <td id=\"T_66729_row3_col3\" class=\"data row3 col3\" >0.3643</td>\n",
              "      <td id=\"T_66729_row3_col4\" class=\"data row3 col4\" >0.3424</td>\n",
              "      <td id=\"T_66729_row3_col5\" class=\"data row3 col5\" >0.3324</td>\n",
              "      <td id=\"T_66729_row3_col6\" class=\"data row3 col6\" >0.1284</td>\n",
              "      <td id=\"T_66729_row3_col7\" class=\"data row3 col7\" >0.1427</td>\n",
              "      <td id=\"T_66729_row3_col8\" class=\"data row3 col8\" >0.1910</td>\n",
              "    </tr>\n",
              "    <tr>\n",
              "      <th id=\"T_66729_level0_row4\" class=\"row_heading level0 row4\" >svm</th>\n",
              "      <td id=\"T_66729_row4_col0\" class=\"data row4 col0\" >SVM - Linear Kernel</td>\n",
              "      <td id=\"T_66729_row4_col1\" class=\"data row4 col1\" >0.3024</td>\n",
              "      <td id=\"T_66729_row4_col2\" class=\"data row4 col2\" >0.0000</td>\n",
              "      <td id=\"T_66729_row4_col3\" class=\"data row4 col3\" >0.3024</td>\n",
              "      <td id=\"T_66729_row4_col4\" class=\"data row4 col4\" >0.1716</td>\n",
              "      <td id=\"T_66729_row4_col5\" class=\"data row4 col5\" >0.2018</td>\n",
              "      <td id=\"T_66729_row4_col6\" class=\"data row4 col6\" >0.0219</td>\n",
              "      <td id=\"T_66729_row4_col7\" class=\"data row4 col7\" >0.0325</td>\n",
              "      <td id=\"T_66729_row4_col8\" class=\"data row4 col8\" >0.2490</td>\n",
              "    </tr>\n",
              "    <tr>\n",
              "      <th id=\"T_66729_level0_row5\" class=\"row_heading level0 row5\" >lr</th>\n",
              "      <td id=\"T_66729_row5_col0\" class=\"data row5 col0\" >Logistic Regression</td>\n",
              "      <td id=\"T_66729_row5_col1\" class=\"data row5 col1\" >0.3000</td>\n",
              "      <td id=\"T_66729_row5_col2\" class=\"data row5 col2\" >0.5497</td>\n",
              "      <td id=\"T_66729_row5_col3\" class=\"data row5 col3\" >0.3000</td>\n",
              "      <td id=\"T_66729_row5_col4\" class=\"data row5 col4\" >0.2866</td>\n",
              "      <td id=\"T_66729_row5_col5\" class=\"data row5 col5\" >0.2596</td>\n",
              "      <td id=\"T_66729_row5_col6\" class=\"data row5 col6\" >0.0404</td>\n",
              "      <td id=\"T_66729_row5_col7\" class=\"data row5 col7\" >0.0477</td>\n",
              "      <td id=\"T_66729_row5_col8\" class=\"data row5 col8\" >0.9350</td>\n",
              "    </tr>\n",
              "    <tr>\n",
              "      <th id=\"T_66729_level0_row6\" class=\"row_heading level0 row6\" >rf</th>\n",
              "      <td id=\"T_66729_row6_col0\" class=\"data row6 col0\" >Random Forest Classifier</td>\n",
              "      <td id=\"T_66729_row6_col1\" class=\"data row6 col1\" >0.2952</td>\n",
              "      <td id=\"T_66729_row6_col2\" class=\"data row6 col2\" >0.5356</td>\n",
              "      <td id=\"T_66729_row6_col3\" class=\"data row6 col3\" >0.2952</td>\n",
              "      <td id=\"T_66729_row6_col4\" class=\"data row6 col4\" >0.2900</td>\n",
              "      <td id=\"T_66729_row6_col5\" class=\"data row6 col5\" >0.2687</td>\n",
              "      <td id=\"T_66729_row6_col6\" class=\"data row6 col6\" >-0.0058</td>\n",
              "      <td id=\"T_66729_row6_col7\" class=\"data row6 col7\" >-0.0028</td>\n",
              "      <td id=\"T_66729_row6_col8\" class=\"data row6 col8\" >0.5490</td>\n",
              "    </tr>\n",
              "    <tr>\n",
              "      <th id=\"T_66729_level0_row7\" class=\"row_heading level0 row7\" >nb</th>\n",
              "      <td id=\"T_66729_row7_col0\" class=\"data row7 col0\" >Naive Bayes</td>\n",
              "      <td id=\"T_66729_row7_col1\" class=\"data row7 col1\" >0.2929</td>\n",
              "      <td id=\"T_66729_row7_col2\" class=\"data row7 col2\" >0.5774</td>\n",
              "      <td id=\"T_66729_row7_col3\" class=\"data row7 col3\" >0.2929</td>\n",
              "      <td id=\"T_66729_row7_col4\" class=\"data row7 col4\" >0.2530</td>\n",
              "      <td id=\"T_66729_row7_col5\" class=\"data row7 col5\" >0.2514</td>\n",
              "      <td id=\"T_66729_row7_col6\" class=\"data row7 col6\" >0.0513</td>\n",
              "      <td id=\"T_66729_row7_col7\" class=\"data row7 col7\" >0.0424</td>\n",
              "      <td id=\"T_66729_row7_col8\" class=\"data row7 col8\" >0.1670</td>\n",
              "    </tr>\n",
              "    <tr>\n",
              "      <th id=\"T_66729_level0_row8\" class=\"row_heading level0 row8\" >xgboost</th>\n",
              "      <td id=\"T_66729_row8_col0\" class=\"data row8 col0\" >Extreme Gradient Boosting</td>\n",
              "      <td id=\"T_66729_row8_col1\" class=\"data row8 col1\" >0.2833</td>\n",
              "      <td id=\"T_66729_row8_col2\" class=\"data row8 col2\" >0.5244</td>\n",
              "      <td id=\"T_66729_row8_col3\" class=\"data row8 col3\" >0.2833</td>\n",
              "      <td id=\"T_66729_row8_col4\" class=\"data row8 col4\" >0.2669</td>\n",
              "      <td id=\"T_66729_row8_col5\" class=\"data row8 col5\" >0.2506</td>\n",
              "      <td id=\"T_66729_row8_col6\" class=\"data row8 col6\" >0.0114</td>\n",
              "      <td id=\"T_66729_row8_col7\" class=\"data row8 col7\" >0.0241</td>\n",
              "      <td id=\"T_66729_row8_col8\" class=\"data row8 col8\" >0.4180</td>\n",
              "    </tr>\n",
              "    <tr>\n",
              "      <th id=\"T_66729_level0_row9\" class=\"row_heading level0 row9\" >et</th>\n",
              "      <td id=\"T_66729_row9_col0\" class=\"data row9 col0\" >Extra Trees Classifier</td>\n",
              "      <td id=\"T_66729_row9_col1\" class=\"data row9 col1\" >0.2810</td>\n",
              "      <td id=\"T_66729_row9_col2\" class=\"data row9 col2\" >0.5193</td>\n",
              "      <td id=\"T_66729_row9_col3\" class=\"data row9 col3\" >0.2810</td>\n",
              "      <td id=\"T_66729_row9_col4\" class=\"data row9 col4\" >0.2806</td>\n",
              "      <td id=\"T_66729_row9_col5\" class=\"data row9 col5\" >0.2573</td>\n",
              "      <td id=\"T_66729_row9_col6\" class=\"data row9 col6\" >-0.0201</td>\n",
              "      <td id=\"T_66729_row9_col7\" class=\"data row9 col7\" >-0.0193</td>\n",
              "      <td id=\"T_66729_row9_col8\" class=\"data row9 col8\" >0.5270</td>\n",
              "    </tr>\n",
              "    <tr>\n",
              "      <th id=\"T_66729_level0_row10\" class=\"row_heading level0 row10\" >ada</th>\n",
              "      <td id=\"T_66729_row10_col0\" class=\"data row10 col0\" >Ada Boost Classifier</td>\n",
              "      <td id=\"T_66729_row10_col1\" class=\"data row10 col1\" >0.2738</td>\n",
              "      <td id=\"T_66729_row10_col2\" class=\"data row10 col2\" >0.5514</td>\n",
              "      <td id=\"T_66729_row10_col3\" class=\"data row10 col3\" >0.2738</td>\n",
              "      <td id=\"T_66729_row10_col4\" class=\"data row10 col4\" >0.3057</td>\n",
              "      <td id=\"T_66729_row10_col5\" class=\"data row10 col5\" >0.2664</td>\n",
              "      <td id=\"T_66729_row10_col6\" class=\"data row10 col6\" >0.0239</td>\n",
              "      <td id=\"T_66729_row10_col7\" class=\"data row10 col7\" >0.0192</td>\n",
              "      <td id=\"T_66729_row10_col8\" class=\"data row10 col8\" >0.6010</td>\n",
              "    </tr>\n",
              "    <tr>\n",
              "      <th id=\"T_66729_level0_row11\" class=\"row_heading level0 row11\" >dt</th>\n",
              "      <td id=\"T_66729_row11_col0\" class=\"data row11 col0\" >Decision Tree Classifier</td>\n",
              "      <td id=\"T_66729_row11_col1\" class=\"data row11 col1\" >0.2548</td>\n",
              "      <td id=\"T_66729_row11_col2\" class=\"data row11 col2\" >0.4958</td>\n",
              "      <td id=\"T_66729_row11_col3\" class=\"data row11 col3\" >0.2548</td>\n",
              "      <td id=\"T_66729_row11_col4\" class=\"data row11 col4\" >0.2597</td>\n",
              "      <td id=\"T_66729_row11_col5\" class=\"data row11 col5\" >0.2220</td>\n",
              "      <td id=\"T_66729_row11_col6\" class=\"data row11 col6\" >-0.0101</td>\n",
              "      <td id=\"T_66729_row11_col7\" class=\"data row11 col7\" >-0.0012</td>\n",
              "      <td id=\"T_66729_row11_col8\" class=\"data row11 col8\" >0.1740</td>\n",
              "    </tr>\n",
              "    <tr>\n",
              "      <th id=\"T_66729_level0_row12\" class=\"row_heading level0 row12\" >gbc</th>\n",
              "      <td id=\"T_66729_row12_col0\" class=\"data row12 col0\" >Gradient Boosting Classifier</td>\n",
              "      <td id=\"T_66729_row12_col1\" class=\"data row12 col1\" >0.2357</td>\n",
              "      <td id=\"T_66729_row12_col2\" class=\"data row12 col2\" >0.4485</td>\n",
              "      <td id=\"T_66729_row12_col3\" class=\"data row12 col3\" >0.2357</td>\n",
              "      <td id=\"T_66729_row12_col4\" class=\"data row12 col4\" >0.1957</td>\n",
              "      <td id=\"T_66729_row12_col5\" class=\"data row12 col5\" >0.1917</td>\n",
              "      <td id=\"T_66729_row12_col6\" class=\"data row12 col6\" >-0.0636</td>\n",
              "      <td id=\"T_66729_row12_col7\" class=\"data row12 col7\" >-0.0623</td>\n",
              "      <td id=\"T_66729_row12_col8\" class=\"data row12 col8\" >1.1650</td>\n",
              "    </tr>\n",
              "    <tr>\n",
              "      <th id=\"T_66729_level0_row13\" class=\"row_heading level0 row13\" >dummy</th>\n",
              "      <td id=\"T_66729_row13_col0\" class=\"data row13 col0\" >Dummy Classifier</td>\n",
              "      <td id=\"T_66729_row13_col1\" class=\"data row13 col1\" >0.2238</td>\n",
              "      <td id=\"T_66729_row13_col2\" class=\"data row13 col2\" >0.5000</td>\n",
              "      <td id=\"T_66729_row13_col3\" class=\"data row13 col3\" >0.2238</td>\n",
              "      <td id=\"T_66729_row13_col4\" class=\"data row13 col4\" >0.0554</td>\n",
              "      <td id=\"T_66729_row13_col5\" class=\"data row13 col5\" >0.0877</td>\n",
              "      <td id=\"T_66729_row13_col6\" class=\"data row13 col6\" >0.0000</td>\n",
              "      <td id=\"T_66729_row13_col7\" class=\"data row13 col7\" >0.0000</td>\n",
              "      <td id=\"T_66729_row13_col8\" class=\"data row13 col8\" >0.1810</td>\n",
              "    </tr>\n",
              "    <tr>\n",
              "      <th id=\"T_66729_level0_row14\" class=\"row_heading level0 row14\" >lightgbm</th>\n",
              "      <td id=\"T_66729_row14_col0\" class=\"data row14 col0\" >Light Gradient Boosting Machine</td>\n",
              "      <td id=\"T_66729_row14_col1\" class=\"data row14 col1\" >0.1905</td>\n",
              "      <td id=\"T_66729_row14_col2\" class=\"data row14 col2\" >0.5229</td>\n",
              "      <td id=\"T_66729_row14_col3\" class=\"data row14 col3\" >0.1905</td>\n",
              "      <td id=\"T_66729_row14_col4\" class=\"data row14 col4\" >0.1419</td>\n",
              "      <td id=\"T_66729_row14_col5\" class=\"data row14 col5\" >0.1449</td>\n",
              "      <td id=\"T_66729_row14_col6\" class=\"data row14 col6\" >-0.1222</td>\n",
              "      <td id=\"T_66729_row14_col7\" class=\"data row14 col7\" >-0.1273</td>\n",
              "      <td id=\"T_66729_row14_col8\" class=\"data row14 col8\" >0.3860</td>\n",
              "    </tr>\n",
              "  </tbody>\n",
              "</table>\n"
            ]
          },
          "metadata": {}
        },
        {
          "output_type": "display_data",
          "data": {
            "text/plain": [
              "Processing:   0%|          | 0/65 [00:00<?, ?it/s]"
            ],
            "application/vnd.jupyter.widget-view+json": {
              "version_major": 2,
              "version_minor": 0,
              "model_id": "b2433b8e82784ec2a6256336a423bd2e"
            }
          },
          "metadata": {
            "application/vnd.jupyter.widget-view+json": {
              "colab": {
                "custom_widget_manager": {
                  "url": "https://ssl.gstatic.com/colaboratory-static/widgets/colab-cdn-widget-manager/b3e629b1971e1542/manager.min.js"
                }
              }
            }
          }
        },
        {
          "output_type": "display_data",
          "data": {
            "text/plain": [
              "<IPython.core.display.HTML object>"
            ],
            "text/html": []
          },
          "metadata": {}
        }
      ]
    },
    {
      "cell_type": "code",
      "source": [
        "plot_model(best_model)"
      ],
      "metadata": {
        "colab": {
          "base_uri": "https://localhost:8080/",
          "height": 524
        },
        "id": "PiM-yKi0LQeH",
        "outputId": "b97adb92-2939-4490-ac39-b9a7398fc938"
      },
      "execution_count": 161,
      "outputs": [
        {
          "output_type": "display_data",
          "data": {
            "text/plain": [
              "<IPython.core.display.HTML object>"
            ],
            "text/html": []
          },
          "metadata": {}
        },
        {
          "output_type": "display_data",
          "data": {
            "text/plain": [
              "<Figure size 800x550 with 1 Axes>"
            ],
            "image/png": "[encoded data removed]"
          },
          "metadata": {}
        }
      ]
    },
    {
      "cell_type": "code",
      "source": [
        "sns.boxenplot(data=ds_df, x=\"POSTURE\", y=\"AGE\")"
      ],
      "metadata": {
        "colab": {
          "base_uri": "https://localhost:8080/",
          "height": 521
        },
        "id": "MUD0cGv64xhk",
        "outputId": "48de6e33-58a4-44b1-f6bc-2128225d5495"
      },
      "execution_count": 174,
      "outputs": [
        {
          "output_type": "execute_result",
          "data": {
            "text/plain": [
              "<Axes: xlabel='POSTURE', ylabel='AGE'>"
            ]
          },
          "metadata": {},
          "execution_count": 174
        },
        {
          "output_type": "display_data",
          "data": {
            "text/plain": [
              "<Figure size 800x550 with 1 Axes>"
            ],
            "image/png": "[encoded data removed]"
          },
          "metadata": {}
        }
      ]
    },
    {
      "cell_type": "code",
      "source": [
        "sns.boxenplot(data=ds_df[ds_df[\"SEX\"]==1], x=\"POSTURE\", y=\"AGE\")"
      ],
      "metadata": {
        "colab": {
          "base_uri": "https://localhost:8080/",
          "height": 521
        },
        "id": "sWiR6r7c6X5j",
        "outputId": "375d5bd0-8cd5-4914-be90-6b57a654d7fd"
      },
      "execution_count": 187,
      "outputs": [
        {
          "output_type": "execute_result",
          "data": {
            "text/plain": [
              "<Axes: xlabel='POSTURE', ylabel='AGE'>"
            ]
          },
          "metadata": {},
          "execution_count": 187
        },
        {
          "output_type": "display_data",
          "data": {
            "text/plain": [
              "<Figure size 800x550 with 1 Axes>"
            ],
            "image/png": "[encoded data removed]"
          },
          "metadata": {}
        }
      ]
    },
    {
      "cell_type": "code",
      "source": [
        "sns.boxenplot(data=ds_df, x=\"POSTURE\", y=\"BMI\")"
      ],
      "metadata": {
        "colab": {
          "base_uri": "https://localhost:8080/",
          "height": 521
        },
        "id": "XirraZAr4_j8",
        "outputId": "14c621fd-da52-46bb-9812-5cd824dc0304"
      },
      "execution_count": 175,
      "outputs": [
        {
          "output_type": "execute_result",
          "data": {
            "text/plain": [
              "<Axes: xlabel='POSTURE', ylabel='BMI'>"
            ]
          },
          "metadata": {},
          "execution_count": 175
        },
        {
          "output_type": "display_data",
          "data": {
            "text/plain": [
              "<Figure size 800x550 with 1 Axes>"
            ],
            "image/png": "[encoded data removed]"
          },
          "metadata": {}
        }
      ]
    },
    {
      "cell_type": "code",
      "source": [
        "sns.boxenplot(data=ds_df[ds_df[\"SEX\"]==0], x=\"POSTURE\", y=\"BMI\")"
      ],
      "metadata": {
        "colab": {
          "base_uri": "https://localhost:8080/",
          "height": 521
        },
        "id": "CQbYcNyv5gxG",
        "outputId": "2e61be45-20f9-43c9-c760-88da7a04443d"
      },
      "execution_count": 184,
      "outputs": [
        {
          "output_type": "execute_result",
          "data": {
            "text/plain": [
              "<Axes: xlabel='POSTURE', ylabel='BMI'>"
            ]
          },
          "metadata": {},
          "execution_count": 184
        },
        {
          "output_type": "display_data",
          "data": {
            "text/plain": [
              "<Figure size 800x550 with 1 Axes>"
            ],
            "image/png": "[encoded data removed]"
          },
          "metadata": {}
        }
      ]
    },
    {
      "cell_type": "code",
      "source": [
        "sns.boxenplot(data=ds_df[ds_df[\"SEX\"]==1], x=\"POSTURE\", y=\"BMI\")"
      ],
      "metadata": {
        "colab": {
          "base_uri": "https://localhost:8080/",
          "height": 521
        },
        "id": "JlCyYWoA6Kev",
        "outputId": "46b97686-315a-4611-bbc5-4df6238da2d5"
      },
      "execution_count": 185,
      "outputs": [
        {
          "output_type": "execute_result",
          "data": {
            "text/plain": [
              "<Axes: xlabel='POSTURE', ylabel='BMI'>"
            ]
          },
          "metadata": {},
          "execution_count": 185
        },
        {
          "output_type": "display_data",
          "data": {
            "text/plain": [
              "<Figure size 800x550 with 1 Axes>"
            ],
            "image/png": "[encoded data removed]"
          },
          "metadata": {}
        }
      ]
    },
    {
      "cell_type": "code",
      "source": [
        "ds_df.groupby([\"POSTURE\", \"SEX\"])[\"BMI\"].describe().round(1)"
      ],
      "metadata": {
        "colab": {
          "base_uri": "https://localhost:8080/",
          "height": 331
        },
        "id": "BOcmsvsm6xEc",
        "outputId": "c761248d-f655-46a2-d31a-404f9dc628fb"
      },
      "execution_count": 191,
      "outputs": [
        {
          "output_type": "execute_result",
          "data": {
            "text/plain": [
              "             count  mean  std   min   25%   50%   75%   max\n",
              "POSTURE SEX                                                \n",
              "A       0      9.0  25.0  4.6  20.8  22.3  23.2  26.1  35.3\n",
              "        1     13.0  28.3  5.9  13.3  25.1  28.1  31.1  35.8\n",
              "B       0     20.0  24.5  4.3  17.2  21.9  24.0  28.2  32.3\n",
              "        1     16.0  28.2  5.3  20.9  23.5  28.1  31.6  40.0\n",
              "C       0      8.0  25.1  2.4  22.1  23.4  24.5  26.8  29.3\n",
              "        1     11.0  26.3  5.5  20.2  21.9  25.8  29.5  36.6\n",
              "D       0     12.0  23.5  5.5  16.9  19.9  21.2  27.1  34.8\n",
              "        1      8.0  24.9  2.7  22.4  23.0  23.9  25.8  29.7"
            ],
            "text/html": [
              "\n",
              "  <div id=\"df-1d051b12-bc03-4e7b-8b8e-cc4f48100141\">\n",
              "    <div class=\"colab-df-container\">\n",
              "      <div>\n",
              "<style scoped>\n",
              "    .dataframe tbody tr th:only-of-type {\n",
              "        vertical-align: middle;\n",
              "    }\n",
              "\n",
              "    .dataframe tbody tr th {\n",
              "        vertical-align: top;\n",
              "    }\n",
              "\n",
              "    .dataframe thead th {\n",
              "        text-align: right;\n",
              "    }\n",
              "</style>\n",
              "<table border=\"1\" class=\"dataframe\">\n",
              "  <thead>\n",
              "    <tr style=\"text-align: right;\">\n",
              "      <th></th>\n",
              "      <th></th>\n",
              "      <th>count</th>\n",
              "      <th>mean</th>\n",
              "      <th>std</th>\n",
              "      <th>min</th>\n",
              "      <th>25%</th>\n",
              "      <th>50%</th>\n",
              "      <th>75%</th>\n",
              "      <th>max</th>\n",
              "    </tr>\n",
              "    <tr>\n",
              "      <th>POSTURE</th>\n",
              "      <th>SEX</th>\n",
              "      <th></th>\n",
              "      <th></th>\n",
              "      <th></th>\n",
              "      <th></th>\n",
              "      <th></th>\n",
              "      <th></th>\n",
              "      <th></th>\n",
              "      <th></th>\n",
              "    </tr>\n",
              "  </thead>\n",
              "  <tbody>\n",
              "    <tr>\n",
              "      <th rowspan=\"2\" valign=\"top\">A</th>\n",
              "      <th>0</th>\n",
              "      <td>9.0</td>\n",
              "      <td>25.0</td>\n",
              "      <td>4.6</td>\n",
              "      <td>20.8</td>\n",
              "      <td>22.3</td>\n",
              "      <td>23.2</td>\n",
              "      <td>26.1</td>\n",
              "      <td>35.3</td>\n",
              "    </tr>\n",
              "    <tr>\n",
              "      <th>1</th>\n",
              "      <td>13.0</td>\n",
              "      <td>28.3</td>\n",
              "      <td>5.9</td>\n",
              "      <td>13.3</td>\n",
              "      <td>25.1</td>\n",
              "      <td>28.1</td>\n",
              "      <td>31.1</td>\n",
              "      <td>35.8</td>\n",
              "    </tr>\n",
              "    <tr>\n",
              "      <th rowspan=\"2\" valign=\"top\">B</th>\n",
              "      <th>0</th>\n",
              "      <td>20.0</td>\n",
              "      <td>24.5</td>\n",
              "      <td>4.3</td>\n",
              "      <td>17.2</td>\n",
              "      <td>21.9</td>\n",
              "      <td>24.0</td>\n",
              "      <td>28.2</td>\n",
              "      <td>32.3</td>\n",
              "    </tr>\n",
              "    <tr>\n",
              "      <th>1</th>\n",
              "      <td>16.0</td>\n",
              "      <td>28.2</td>\n",
              "      <td>5.3</td>\n",
              "      <td>20.9</td>\n",
              "      <td>23.5</td>\n",
              "      <td>28.1</td>\n",
              "      <td>31.6</td>\n",
              "      <td>40.0</td>\n",
              "    </tr>\n",
              "    <tr>\n",
              "      <th rowspan=\"2\" valign=\"top\">C</th>\n",
              "      <th>0</th>\n",
              "      <td>8.0</td>\n",
              "      <td>25.1</td>\n",
              "      <td>2.4</td>\n",
              "      <td>22.1</td>\n",
              "      <td>23.4</td>\n",
              "      <td>24.5</td>\n",
              "      <td>26.8</td>\n",
              "      <td>29.3</td>\n",
              "    </tr>\n",
              "    <tr>\n",
              "      <th>1</th>\n",
              "      <td>11.0</td>\n",
              "      <td>26.3</td>\n",
              "      <td>5.5</td>\n",
              "      <td>20.2</td>\n",
              "      <td>21.9</td>\n",
              "      <td>25.8</td>\n",
              "      <td>29.5</td>\n",
              "      <td>36.6</td>\n",
              "    </tr>\n",
              "    <tr>\n",
              "      <th rowspan=\"2\" valign=\"top\">D</th>\n",
              "      <th>0</th>\n",
              "      <td>12.0</td>\n",
              "      <td>23.5</td>\n",
              "      <td>5.5</td>\n",
              "      <td>16.9</td>\n",
              "      <td>19.9</td>\n",
              "      <td>21.2</td>\n",
              "      <td>27.1</td>\n",
              "      <td>34.8</td>\n",
              "    </tr>\n",
              "    <tr>\n",
              "      <th>1</th>\n",
              "      <td>8.0</td>\n",
              "      <td>24.9</td>\n",
              "      <td>2.7</td>\n",
              "      <td>22.4</td>\n",
              "      <td>23.0</td>\n",
              "      <td>23.9</td>\n",
              "      <td>25.8</td>\n",
              "      <td>29.7</td>\n",
              "    </tr>\n",
              "  </tbody>\n",
              "</table>\n",
              "</div>\n",
              "      <button class=\"colab-df-convert\" onclick=\"convertToInteractive('df-1d051b12-bc03-4e7b-8b8e-cc4f48100141')\"\n",
              "              title=\"Convert this dataframe to an interactive table.\"\n",
              "              style=\"display:none;\">\n",
              "        \n",
              "  <svg xmlns=\"http://www.w3.org/2000/svg\" height=\"24px\"viewBox=\"0 0 24 24\"\n",
              "       width=\"24px\">\n",
              "    <path d=\"M0 0h24v24H0V0z\" fill=\"none\"/>\n",
              "    <path d=\"M18.56 5.44l.94 2.06.94-2.06 2.06-.94-2.06-.94-.94-2.06-.94 2.06-2.06.94zm-11 1L8.5 8.5l.94-2.06 2.06-.94-2.06-.94L8.5 2.5l-.94 2.06-2.06.94zm10 10l.94 2.06.94-2.06 2.06-.94-2.06-.94-.94-2.06-.94 2.06-2.06.94z\"/><path d=\"M17.41 7.96l-1.37-1.37c-.4-.4-.92-.59-1.43-.59-.52 0-1.04.2-1.43.59L10.3 9.45l-7.72 7.72c-.78.78-.78 2.05 0 2.83L4 21.41c.39.39.9.59 1.41.59.51 0 1.02-.2 1.41-.59l7.78-7.78 2.81-2.81c.8-.78.8-2.07 0-2.86zM5.41 20L4 18.59l7.72-7.72 1.47 1.35L5.41 20z\"/>\n",
              "  </svg>\n",
              "      </button>\n",
              "      \n",
              "  <style>\n",
              "    .colab-df-container {\n",
              "      display:flex;\n",
              "      flex-wrap:wrap;\n",
              "      gap: 12px;\n",
              "    }\n",
              "\n",
              "    .colab-df-convert {\n",
              "      background-color: #E8F0FE;\n",
              "      border: none;\n",
              "      border-radius: 50%;\n",
              "      cursor: pointer;\n",
              "      display: none;\n",
              "      fill: #1967D2;\n",
              "      height: 32px;\n",
              "      padding: 0 0 0 0;\n",
              "      width: 32px;\n",
              "    }\n",
              "\n",
              "    .colab-df-convert:hover {\n",
              "      background-color: #E2EBFA;\n",
              "      box-shadow: 0px 1px 2px rgba(60, 64, 67, 0.3), 0px 1px 3px 1px rgba(60, 64, 67, 0.15);\n",
              "      fill: #174EA6;\n",
              "    }\n",
              "\n",
              "    [theme=dark] .colab-df-convert {\n",
              "      background-color: #3B4455;\n",
              "      fill: #D2E3FC;\n",
              "    }\n",
              "\n",
              "    [theme=dark] .colab-df-convert:hover {\n",
              "      background-color: #434B5C;\n",
              "      box-shadow: 0px 1px 3px 1px rgba(0, 0, 0, 0.15);\n",
              "      filter: drop-shadow(0px 1px 2px rgba(0, 0, 0, 0.3));\n",
              "      fill: #FFFFFF;\n",
              "    }\n",
              "  </style>\n",
              "\n",
              "      <script>\n",
              "        const buttonEl =\n",
              "          document.querySelector('#df-1d051b12-bc03-4e7b-8b8e-cc4f48100141 button.colab-df-convert');\n",
              "        buttonEl.style.display =\n",
              "          google.colab.kernel.accessAllowed ? 'block' : 'none';\n",
              "\n",
              "        async function convertToInteractive(key) {\n",
              "          const element = document.querySelector('#df-1d051b12-bc03-4e7b-8b8e-cc4f48100141');\n",
              "          const dataTable =\n",
              "            await google.colab.kernel.invokeFunction('convertToInteractive',\n",
              "                                                     [key], {});\n",
              "          if (!dataTable) return;\n",
              "\n",
              "          const docLinkHtml = 'Like what you see? Visit the ' +\n",
              "            '<a target=\"_blank\" href=https://colab.research.google.com/notebooks/data_table.ipynb>data table notebook</a>'\n",
              "            + ' to learn more about interactive tables.';\n",
              "          element.innerHTML = '';\n",
              "          dataTable['output_type'] = 'display_data';\n",
              "          await google.colab.output.renderOutput(dataTable, element);\n",
              "          const docLink = document.createElement('div');\n",
              "          docLink.innerHTML = docLinkHtml;\n",
              "          element.appendChild(docLink);\n",
              "        }\n",
              "      </script>\n",
              "    </div>\n",
              "  </div>\n",
              "  "
            ]
          },
          "metadata": {},
          "execution_count": 191
        }
      ]
    },
    {
      "cell_type": "code",
      "source": [
        "pd.crosstab(ds_df[\"ACTIVITY LEVEL\"], ds_df[\"POSTURE\"])"
      ],
      "metadata": {
        "colab": {
          "base_uri": "https://localhost:8080/",
          "height": 174
        },
        "id": "bGgr_Tav5KGX",
        "outputId": "9b305cab-caea-4473-a230-900a606ccaac"
      },
      "execution_count": 176,
      "outputs": [
        {
          "output_type": "execute_result",
          "data": {
            "text/plain": [
              "POSTURE          A   B   C   D\n",
              "ACTIVITY LEVEL                \n",
              "0               13  28  15  18\n",
              "1                6   7   2   2\n",
              "2                3   1   2   0"
            ],
            "text/html": [
              "\n",
              "  <div id=\"df-2e19ae3d-3dad-44c3-9b10-fcdedafd19c1\">\n",
              "    <div class=\"colab-df-container\">\n",
              "      <div>\n",
              "<style scoped>\n",
              "    .dataframe tbody tr th:only-of-type {\n",
              "        vertical-align: middle;\n",
              "    }\n",
              "\n",
              "    .dataframe tbody tr th {\n",
              "        vertical-align: top;\n",
              "    }\n",
              "\n",
              "    .dataframe thead th {\n",
              "        text-align: right;\n",
              "    }\n",
              "</style>\n",
              "<table border=\"1\" class=\"dataframe\">\n",
              "  <thead>\n",
              "    <tr style=\"text-align: right;\">\n",
              "      <th>POSTURE</th>\n",
              "      <th>A</th>\n",
              "      <th>B</th>\n",
              "      <th>C</th>\n",
              "      <th>D</th>\n",
              "    </tr>\n",
              "    <tr>\n",
              "      <th>ACTIVITY LEVEL</th>\n",
              "      <th></th>\n",
              "      <th></th>\n",
              "      <th></th>\n",
              "      <th></th>\n",
              "    </tr>\n",
              "  </thead>\n",
              "  <tbody>\n",
              "    <tr>\n",
              "      <th>0</th>\n",
              "      <td>13</td>\n",
              "      <td>28</td>\n",
              "      <td>15</td>\n",
              "      <td>18</td>\n",
              "    </tr>\n",
              "    <tr>\n",
              "      <th>1</th>\n",
              "      <td>6</td>\n",
              "      <td>7</td>\n",
              "      <td>2</td>\n",
              "      <td>2</td>\n",
              "    </tr>\n",
              "    <tr>\n",
              "      <th>2</th>\n",
              "      <td>3</td>\n",
              "      <td>1</td>\n",
              "      <td>2</td>\n",
              "      <td>0</td>\n",
              "    </tr>\n",
              "  </tbody>\n",
              "</table>\n",
              "</div>\n",
              "      <button class=\"colab-df-convert\" onclick=\"convertToInteractive('df-2e19ae3d-3dad-44c3-9b10-fcdedafd19c1')\"\n",
              "              title=\"Convert this dataframe to an interactive table.\"\n",
              "              style=\"display:none;\">\n",
              "        \n",
              "  <svg xmlns=\"http://www.w3.org/2000/svg\" height=\"24px\"viewBox=\"0 0 24 24\"\n",
              "       width=\"24px\">\n",
              "    <path d=\"M0 0h24v24H0V0z\" fill=\"none\"/>\n",
              "    <path d=\"M18.56 5.44l.94 2.06.94-2.06 2.06-.94-2.06-.94-.94-2.06-.94 2.06-2.06.94zm-11 1L8.5 8.5l.94-2.06 2.06-.94-2.06-.94L8.5 2.5l-.94 2.06-2.06.94zm10 10l.94 2.06.94-2.06 2.06-.94-2.06-.94-.94-2.06-.94 2.06-2.06.94z\"/><path d=\"M17.41 7.96l-1.37-1.37c-.4-.4-.92-.59-1.43-.59-.52 0-1.04.2-1.43.59L10.3 9.45l-7.72 7.72c-.78.78-.78 2.05 0 2.83L4 21.41c.39.39.9.59 1.41.59.51 0 1.02-.2 1.41-.59l7.78-7.78 2.81-2.81c.8-.78.8-2.07 0-2.86zM5.41 20L4 18.59l7.72-7.72 1.47 1.35L5.41 20z\"/>\n",
              "  </svg>\n",
              "      </button>\n",
              "      \n",
              "  <style>\n",
              "    .colab-df-container {\n",
              "      display:flex;\n",
              "      flex-wrap:wrap;\n",
              "      gap: 12px;\n",
              "    }\n",
              "\n",
              "    .colab-df-convert {\n",
              "      background-color: #E8F0FE;\n",
              "      border: none;\n",
              "      border-radius: 50%;\n",
              "      cursor: pointer;\n",
              "      display: none;\n",
              "      fill: #1967D2;\n",
              "      height: 32px;\n",
              "      padding: 0 0 0 0;\n",
              "      width: 32px;\n",
              "    }\n",
              "\n",
              "    .colab-df-convert:hover {\n",
              "      background-color: #E2EBFA;\n",
              "      box-shadow: 0px 1px 2px rgba(60, 64, 67, 0.3), 0px 1px 3px 1px rgba(60, 64, 67, 0.15);\n",
              "      fill: #174EA6;\n",
              "    }\n",
              "\n",
              "    [theme=dark] .colab-df-convert {\n",
              "      background-color: #3B4455;\n",
              "      fill: #D2E3FC;\n",
              "    }\n",
              "\n",
              "    [theme=dark] .colab-df-convert:hover {\n",
              "      background-color: #434B5C;\n",
              "      box-shadow: 0px 1px 3px 1px rgba(0, 0, 0, 0.15);\n",
              "      filter: drop-shadow(0px 1px 2px rgba(0, 0, 0, 0.3));\n",
              "      fill: #FFFFFF;\n",
              "    }\n",
              "  </style>\n",
              "\n",
              "      <script>\n",
              "        const buttonEl =\n",
              "          document.querySelector('#df-2e19ae3d-3dad-44c3-9b10-fcdedafd19c1 button.colab-df-convert');\n",
              "        buttonEl.style.display =\n",
              "          google.colab.kernel.accessAllowed ? 'block' : 'none';\n",
              "\n",
              "        async function convertToInteractive(key) {\n",
              "          const element = document.querySelector('#df-2e19ae3d-3dad-44c3-9b10-fcdedafd19c1');\n",
              "          const dataTable =\n",
              "            await google.colab.kernel.invokeFunction('convertToInteractive',\n",
              "                                                     [key], {});\n",
              "          if (!dataTable) return;\n",
              "\n",
              "          const docLinkHtml = 'Like what you see? Visit the ' +\n",
              "            '<a target=\"_blank\" href=https://colab.research.google.com/notebooks/data_table.ipynb>data table notebook</a>'\n",
              "            + ' to learn more about interactive tables.';\n",
              "          element.innerHTML = '';\n",
              "          dataTable['output_type'] = 'display_data';\n",
              "          await google.colab.output.renderOutput(dataTable, element);\n",
              "          const docLink = document.createElement('div');\n",
              "          docLink.innerHTML = docLinkHtml;\n",
              "          element.appendChild(docLink);\n",
              "        }\n",
              "      </script>\n",
              "    </div>\n",
              "  </div>\n",
              "  "
            ]
          },
          "metadata": {},
          "execution_count": 176
        }
      ]
    },
    {
      "cell_type": "code",
      "source": [
        "pd.crosstab(ds_df[\"SEX\"], ds_df[\"POSTURE\"])"
      ],
      "metadata": {
        "colab": {
          "base_uri": "https://localhost:8080/",
          "height": 143
        },
        "id": "Zrs2EeFD5X2n",
        "outputId": "1a23a737-8d0e-4c08-9324-4152170d0a10"
      },
      "execution_count": 178,
      "outputs": [
        {
          "output_type": "execute_result",
          "data": {
            "text/plain": [
              "POSTURE   A   B   C   D\n",
              "SEX                    \n",
              "0         9  20   8  12\n",
              "1        13  16  11   8"
            ],
            "text/html": [
              "\n",
              "  <div id=\"df-f4cd5bb5-4411-4de9-9d34-3d72f6fc2107\">\n",
              "    <div class=\"colab-df-container\">\n",
              "      <div>\n",
              "<style scoped>\n",
              "    .dataframe tbody tr th:only-of-type {\n",
              "        vertical-align: middle;\n",
              "    }\n",
              "\n",
              "    .dataframe tbody tr th {\n",
              "        vertical-align: top;\n",
              "    }\n",
              "\n",
              "    .dataframe thead th {\n",
              "        text-align: right;\n",
              "    }\n",
              "</style>\n",
              "<table border=\"1\" class=\"dataframe\">\n",
              "  <thead>\n",
              "    <tr style=\"text-align: right;\">\n",
              "      <th>POSTURE</th>\n",
              "      <th>A</th>\n",
              "      <th>B</th>\n",
              "      <th>C</th>\n",
              "      <th>D</th>\n",
              "    </tr>\n",
              "    <tr>\n",
              "      <th>SEX</th>\n",
              "      <th></th>\n",
              "      <th></th>\n",
              "      <th></th>\n",
              "      <th></th>\n",
              "    </tr>\n",
              "  </thead>\n",
              "  <tbody>\n",
              "    <tr>\n",
              "      <th>0</th>\n",
              "      <td>9</td>\n",
              "      <td>20</td>\n",
              "      <td>8</td>\n",
              "      <td>12</td>\n",
              "    </tr>\n",
              "    <tr>\n",
              "      <th>1</th>\n",
              "      <td>13</td>\n",
              "      <td>16</td>\n",
              "      <td>11</td>\n",
              "      <td>8</td>\n",
              "    </tr>\n",
              "  </tbody>\n",
              "</table>\n",
              "</div>\n",
              "      <button class=\"colab-df-convert\" onclick=\"convertToInteractive('df-f4cd5bb5-4411-4de9-9d34-3d72f6fc2107')\"\n",
              "              title=\"Convert this dataframe to an interactive table.\"\n",
              "              style=\"display:none;\">\n",
              "        \n",
              "  <svg xmlns=\"http://www.w3.org/2000/svg\" height=\"24px\"viewBox=\"0 0 24 24\"\n",
              "       width=\"24px\">\n",
              "    <path d=\"M0 0h24v24H0V0z\" fill=\"none\"/>\n",
              "    <path d=\"M18.56 5.44l.94 2.06.94-2.06 2.06-.94-2.06-.94-.94-2.06-.94 2.06-2.06.94zm-11 1L8.5 8.5l.94-2.06 2.06-.94-2.06-.94L8.5 2.5l-.94 2.06-2.06.94zm10 10l.94 2.06.94-2.06 2.06-.94-2.06-.94-.94-2.06-.94 2.06-2.06.94z\"/><path d=\"M17.41 7.96l-1.37-1.37c-.4-.4-.92-.59-1.43-.59-.52 0-1.04.2-1.43.59L10.3 9.45l-7.72 7.72c-.78.78-.78 2.05 0 2.83L4 21.41c.39.39.9.59 1.41.59.51 0 1.02-.2 1.41-.59l7.78-7.78 2.81-2.81c.8-.78.8-2.07 0-2.86zM5.41 20L4 18.59l7.72-7.72 1.47 1.35L5.41 20z\"/>\n",
              "  </svg>\n",
              "      </button>\n",
              "      \n",
              "  <style>\n",
              "    .colab-df-container {\n",
              "      display:flex;\n",
              "      flex-wrap:wrap;\n",
              "      gap: 12px;\n",
              "    }\n",
              "\n",
              "    .colab-df-convert {\n",
              "      background-color: #E8F0FE;\n",
              "      border: none;\n",
              "      border-radius: 50%;\n",
              "      cursor: pointer;\n",
              "      display: none;\n",
              "      fill: #1967D2;\n",
              "      height: 32px;\n",
              "      padding: 0 0 0 0;\n",
              "      width: 32px;\n",
              "    }\n",
              "\n",
              "    .colab-df-convert:hover {\n",
              "      background-color: #E2EBFA;\n",
              "      box-shadow: 0px 1px 2px rgba(60, 64, 67, 0.3), 0px 1px 3px 1px rgba(60, 64, 67, 0.15);\n",
              "      fill: #174EA6;\n",
              "    }\n",
              "\n",
              "    [theme=dark] .colab-df-convert {\n",
              "      background-color: #3B4455;\n",
              "      fill: #D2E3FC;\n",
              "    }\n",
              "\n",
              "    [theme=dark] .colab-df-convert:hover {\n",
              "      background-color: #434B5C;\n",
              "      box-shadow: 0px 1px 3px 1px rgba(0, 0, 0, 0.15);\n",
              "      filter: drop-shadow(0px 1px 2px rgba(0, 0, 0, 0.3));\n",
              "      fill: #FFFFFF;\n",
              "    }\n",
              "  </style>\n",
              "\n",
              "      <script>\n",
              "        const buttonEl =\n",
              "          document.querySelector('#df-f4cd5bb5-4411-4de9-9d34-3d72f6fc2107 button.colab-df-convert');\n",
              "        buttonEl.style.display =\n",
              "          google.colab.kernel.accessAllowed ? 'block' : 'none';\n",
              "\n",
              "        async function convertToInteractive(key) {\n",
              "          const element = document.querySelector('#df-f4cd5bb5-4411-4de9-9d34-3d72f6fc2107');\n",
              "          const dataTable =\n",
              "            await google.colab.kernel.invokeFunction('convertToInteractive',\n",
              "                                                     [key], {});\n",
              "          if (!dataTable) return;\n",
              "\n",
              "          const docLinkHtml = 'Like what you see? Visit the ' +\n",
              "            '<a target=\"_blank\" href=https://colab.research.google.com/notebooks/data_table.ipynb>data table notebook</a>'\n",
              "            + ' to learn more about interactive tables.';\n",
              "          element.innerHTML = '';\n",
              "          dataTable['output_type'] = 'display_data';\n",
              "          await google.colab.output.renderOutput(dataTable, element);\n",
              "          const docLink = document.createElement('div');\n",
              "          docLink.innerHTML = docLinkHtml;\n",
              "          element.appendChild(docLink);\n",
              "        }\n",
              "      </script>\n",
              "    </div>\n",
              "  </div>\n",
              "  "
            ]
          },
          "metadata": {},
          "execution_count": 178
        }
      ]
    },
    {
      "cell_type": "code",
      "source": [
        "sns.boxenplot(data=ds_df, x=\"POSTURE\", y=\"BMI\")"
      ],
      "metadata": {
        "id": "IAVMJuXm5Itn"
      },
      "execution_count": null,
      "outputs": []
    }
  ]
}