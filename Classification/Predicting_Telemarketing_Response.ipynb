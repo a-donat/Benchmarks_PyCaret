{
  "nbformat": 4,
  "nbformat_minor": 0,
  "metadata": {
    "colab": {
      "provenance": [],
      "authorship_tag": "ABX9TyO+za3q0xJHrsyOBk7z4gh4",
      "include_colab_link": true
    },
    "kernelspec": {
      "name": "python3",
      "display_name": "Python 3"
    },
    "language_info": {
      "name": "python"
    },
    "widgets": {
      "application/vnd.jupyter.widget-state+json": {
        "228849dc818b4ef7b02eebce8428be0d": {
          "model_module": "@jupyter-widgets/controls",
          "model_name": "HBoxModel",
          "model_module_version": "1.5.0",
          "state": {
            "_dom_classes": [],
            "_model_module": "@jupyter-widgets/controls",
            "_model_module_version": "1.5.0",
            "_model_name": "HBoxModel",
            "_view_count": null,
            "_view_module": "@jupyter-widgets/controls",
            "_view_module_version": "1.5.0",
            "_view_name": "HBoxView",
            "box_style": "",
            "children": [
              "IPY_MODEL_3429244d7c3d4babb5a4a9cdae7301c7",
              "IPY_MODEL_2dc452539eaa4fc8864fd34486b684e4",
              "IPY_MODEL_176f570a07494ef7a398a18b7f8794d3"
            ],
            "layout": "IPY_MODEL_b27bcb0248a04fe9b8e7b519afd2a46d"
          }
        },
        "3429244d7c3d4babb5a4a9cdae7301c7": {
          "model_module": "@jupyter-widgets/controls",
          "model_name": "HTMLModel",
          "model_module_version": "1.5.0",
          "state": {
            "_dom_classes": [],
            "_model_module": "@jupyter-widgets/controls",
            "_model_module_version": "1.5.0",
            "_model_name": "HTMLModel",
            "_view_count": null,
            "_view_module": "@jupyter-widgets/controls",
            "_view_module_version": "1.5.0",
            "_view_name": "HTMLView",
            "description": "",
            "description_tooltip": null,
            "layout": "IPY_MODEL_fadcd2f693bf41d8acc0333bcd0e0578",
            "placeholder": "​",
            "style": "IPY_MODEL_7821cf18dd6d4ef683986c88b228f5eb",
            "value": "Processing: 100%"
          }
        },
        "2dc452539eaa4fc8864fd34486b684e4": {
          "model_module": "@jupyter-widgets/controls",
          "model_name": "FloatProgressModel",
          "model_module_version": "1.5.0",
          "state": {
            "_dom_classes": [],
            "_model_module": "@jupyter-widgets/controls",
            "_model_module_version": "1.5.0",
            "_model_name": "FloatProgressModel",
            "_view_count": null,
            "_view_module": "@jupyter-widgets/controls",
            "_view_module_version": "1.5.0",
            "_view_name": "ProgressView",
            "bar_style": "",
            "description": "",
            "description_tooltip": null,
            "layout": "IPY_MODEL_cdef09fd87fe4f91ba166c0ece04dbd1",
            "max": 65,
            "min": 0,
            "orientation": "horizontal",
            "style": "IPY_MODEL_40b23f5b32d24f70ae01670864a227fb",
            "value": 65
          }
        },
        "176f570a07494ef7a398a18b7f8794d3": {
          "model_module": "@jupyter-widgets/controls",
          "model_name": "HTMLModel",
          "model_module_version": "1.5.0",
          "state": {
            "_dom_classes": [],
            "_model_module": "@jupyter-widgets/controls",
            "_model_module_version": "1.5.0",
            "_model_name": "HTMLModel",
            "_view_count": null,
            "_view_module": "@jupyter-widgets/controls",
            "_view_module_version": "1.5.0",
            "_view_name": "HTMLView",
            "description": "",
            "description_tooltip": null,
            "layout": "IPY_MODEL_d429504a91334c1d913427df488455d1",
            "placeholder": "​",
            "style": "IPY_MODEL_2f0822e01b0b4bfa81c1bd8bafaa60fd",
            "value": " 65/65 [03:37&lt;00:00,  2.99s/it]"
          }
        },
        "b27bcb0248a04fe9b8e7b519afd2a46d": {
          "model_module": "@jupyter-widgets/base",
          "model_name": "LayoutModel",
          "model_module_version": "1.2.0",
          "state": {
            "_model_module": "@jupyter-widgets/base",
            "_model_module_version": "1.2.0",
            "_model_name": "LayoutModel",
            "_view_count": null,
            "_view_module": "@jupyter-widgets/base",
            "_view_module_version": "1.2.0",
            "_view_name": "LayoutView",
            "align_content": null,
            "align_items": null,
            "align_self": null,
            "border": null,
            "bottom": null,
            "display": null,
            "flex": null,
            "flex_flow": null,
            "grid_area": null,
            "grid_auto_columns": null,
            "grid_auto_flow": null,
            "grid_auto_rows": null,
            "grid_column": null,
            "grid_gap": null,
            "grid_row": null,
            "grid_template_areas": null,
            "grid_template_columns": null,
            "grid_template_rows": null,
            "height": null,
            "justify_content": null,
            "justify_items": null,
            "left": null,
            "margin": null,
            "max_height": null,
            "max_width": null,
            "min_height": null,
            "min_width": null,
            "object_fit": null,
            "object_position": null,
            "order": null,
            "overflow": null,
            "overflow_x": null,
            "overflow_y": null,
            "padding": null,
            "right": null,
            "top": null,
            "visibility": "hidden",
            "width": null
          }
        },
        "fadcd2f693bf41d8acc0333bcd0e0578": {
          "model_module": "@jupyter-widgets/base",
          "model_name": "LayoutModel",
          "model_module_version": "1.2.0",
          "state": {
            "_model_module": "@jupyter-widgets/base",
            "_model_module_version": "1.2.0",
            "_model_name": "LayoutModel",
            "_view_count": null,
            "_view_module": "@jupyter-widgets/base",
            "_view_module_version": "1.2.0",
            "_view_name": "LayoutView",
            "align_content": null,
            "align_items": null,
            "align_self": null,
            "border": null,
            "bottom": null,
            "display": null,
            "flex": null,
            "flex_flow": null,
            "grid_area": null,
            "grid_auto_columns": null,
            "grid_auto_flow": null,
            "grid_auto_rows": null,
            "grid_column": null,
            "grid_gap": null,
            "grid_row": null,
            "grid_template_areas": null,
            "grid_template_columns": null,
            "grid_template_rows": null,
            "height": null,
            "justify_content": null,
            "justify_items": null,
            "left": null,
            "margin": null,
            "max_height": null,
            "max_width": null,
            "min_height": null,
            "min_width": null,
            "object_fit": null,
            "object_position": null,
            "order": null,
            "overflow": null,
            "overflow_x": null,
            "overflow_y": null,
            "padding": null,
            "right": null,
            "top": null,
            "visibility": null,
            "width": null
          }
        },
        "7821cf18dd6d4ef683986c88b228f5eb": {
          "model_module": "@jupyter-widgets/controls",
          "model_name": "DescriptionStyleModel",
          "model_module_version": "1.5.0",
          "state": {
            "_model_module": "@jupyter-widgets/controls",
            "_model_module_version": "1.5.0",
            "_model_name": "DescriptionStyleModel",
            "_view_count": null,
            "_view_module": "@jupyter-widgets/base",
            "_view_module_version": "1.2.0",
            "_view_name": "StyleView",
            "description_width": ""
          }
        },
        "cdef09fd87fe4f91ba166c0ece04dbd1": {
          "model_module": "@jupyter-widgets/base",
          "model_name": "LayoutModel",
          "model_module_version": "1.2.0",
          "state": {
            "_model_module": "@jupyter-widgets/base",
            "_model_module_version": "1.2.0",
            "_model_name": "LayoutModel",
            "_view_count": null,
            "_view_module": "@jupyter-widgets/base",
            "_view_module_version": "1.2.0",
            "_view_name": "LayoutView",
            "align_content": null,
            "align_items": null,
            "align_self": null,
            "border": null,
            "bottom": null,
            "display": null,
            "flex": null,
            "flex_flow": null,
            "grid_area": null,
            "grid_auto_columns": null,
            "grid_auto_flow": null,
            "grid_auto_rows": null,
            "grid_column": null,
            "grid_gap": null,
            "grid_row": null,
            "grid_template_areas": null,
            "grid_template_columns": null,
            "grid_template_rows": null,
            "height": null,
            "justify_content": null,
            "justify_items": null,
            "left": null,
            "margin": null,
            "max_height": null,
            "max_width": null,
            "min_height": null,
            "min_width": null,
            "object_fit": null,
            "object_position": null,
            "order": null,
            "overflow": null,
            "overflow_x": null,
            "overflow_y": null,
            "padding": null,
            "right": null,
            "top": null,
            "visibility": null,
            "width": null
          }
        },
        "40b23f5b32d24f70ae01670864a227fb": {
          "model_module": "@jupyter-widgets/controls",
          "model_name": "ProgressStyleModel",
          "model_module_version": "1.5.0",
          "state": {
            "_model_module": "@jupyter-widgets/controls",
            "_model_module_version": "1.5.0",
            "_model_name": "ProgressStyleModel",
            "_view_count": null,
            "_view_module": "@jupyter-widgets/base",
            "_view_module_version": "1.2.0",
            "_view_name": "StyleView",
            "bar_color": null,
            "description_width": ""
          }
        },
        "d429504a91334c1d913427df488455d1": {
          "model_module": "@jupyter-widgets/base",
          "model_name": "LayoutModel",
          "model_module_version": "1.2.0",
          "state": {
            "_model_module": "@jupyter-widgets/base",
            "_model_module_version": "1.2.0",
            "_model_name": "LayoutModel",
            "_view_count": null,
            "_view_module": "@jupyter-widgets/base",
            "_view_module_version": "1.2.0",
            "_view_name": "LayoutView",
            "align_content": null,
            "align_items": null,
            "align_self": null,
            "border": null,
            "bottom": null,
            "display": null,
            "flex": null,
            "flex_flow": null,
            "grid_area": null,
            "grid_auto_columns": null,
            "grid_auto_flow": null,
            "grid_auto_rows": null,
            "grid_column": null,
            "grid_gap": null,
            "grid_row": null,
            "grid_template_areas": null,
            "grid_template_columns": null,
            "grid_template_rows": null,
            "height": null,
            "justify_content": null,
            "justify_items": null,
            "left": null,
            "margin": null,
            "max_height": null,
            "max_width": null,
            "min_height": null,
            "min_width": null,
            "object_fit": null,
            "object_position": null,
            "order": null,
            "overflow": null,
            "overflow_x": null,
            "overflow_y": null,
            "padding": null,
            "right": null,
            "top": null,
            "visibility": null,
            "width": null
          }
        },
        "2f0822e01b0b4bfa81c1bd8bafaa60fd": {
          "model_module": "@jupyter-widgets/controls",
          "model_name": "DescriptionStyleModel",
          "model_module_version": "1.5.0",
          "state": {
            "_model_module": "@jupyter-widgets/controls",
            "_model_module_version": "1.5.0",
            "_model_name": "DescriptionStyleModel",
            "_view_count": null,
            "_view_module": "@jupyter-widgets/base",
            "_view_module_version": "1.2.0",
            "_view_name": "StyleView",
            "description_width": ""
          }
        }
      }
    }
  },
  "cells": [
    {
      "cell_type": "markdown",
      "metadata": {
        "id": "view-in-github",
        "colab_type": "text"
      },
      "source": [
        "<a href=\"https://colab.research.google.com/github/a-donat/Benchmarks_PyCaret/blob/main/Predicting_Telemarketing_Response.ipynb\" target=\"_parent\"><img src=\"https://colab.research.google.com/assets/colab-badge.svg\" alt=\"Open In Colab\"/></a>"
      ]
    },
    {
      "cell_type": "markdown",
      "source": [
        "# I. Set-Up"
      ],
      "metadata": {
        "id": "EjJ5M3C1sQDA"
      }
    },
    {
      "cell_type": "markdown",
      "source": [
        "## I.A. Import Libraries and Download Data"
      ],
      "metadata": {
        "id": "_1u8l9-Wq2to"
      }
    },
    {
      "cell_type": "code",
      "source": [
        "! pip install kaggle\n",
        "! mkdir ~/.kaggle\n",
        "! cp kaggle.json ~/.kaggle/\n",
        "! chmod 600 ~/.kaggle/kaggle.json\n",
        "! kaggle datasets download -d aguado/telemarketing-jyb-dataset\n",
        "! unzip '/content/telemarketing-jyb-dataset.zip' -d '/content/telemarketing'"
      ],
      "metadata": {
        "id": "cU-J1Vvhq6mp"
      },
      "execution_count": null,
      "outputs": []
    },
    {
      "cell_type": "code",
      "source": [
        "! pip install pycaret"
      ],
      "metadata": {
        "id": "q2OwTXkgrNEd"
      },
      "execution_count": null,
      "outputs": []
    },
    {
      "cell_type": "code",
      "execution_count": 3,
      "metadata": {
        "id": "KJR0DPb6qvvl"
      },
      "outputs": [],
      "source": [
        "#import matplotlib.pyplot as plt\n",
        "#import seaborn as sns\n",
        "import VisualizeDataAbbrev as viz\n",
        "\n",
        "import numpy as np\n",
        "import pandas as pd\n",
        "from pycaret.classification import *\n",
        "from sklearn.model_selection import train_test_split"
      ]
    },
    {
      "cell_type": "markdown",
      "source": [
        "## I.B. Load Data and Check Data Integrity"
      ],
      "metadata": {
        "id": "xtnQ852lrdGq"
      }
    },
    {
      "cell_type": "code",
      "source": [
        "ds_df = pd.read_csv(\"/content/telemarketing/train.csv\", sep=\";\")"
      ],
      "metadata": {
        "id": "szcd_HHIrepR"
      },
      "execution_count": 32,
      "outputs": []
    },
    {
      "cell_type": "code",
      "source": [
        "ds_df.info()"
      ],
      "metadata": {
        "colab": {
          "base_uri": "https://localhost:8080/"
        },
        "id": "7SRp7d3IrmyK",
        "outputId": "ca112081-5602-4d7d-eb0b-c9d7c996a40d"
      },
      "execution_count": 33,
      "outputs": [
        {
          "output_type": "stream",
          "name": "stdout",
          "text": [
            "<class 'pandas.core.frame.DataFrame'>\n",
            "RangeIndex: 28645 entries, 0 to 28644\n",
            "Data columns (total 21 columns):\n",
            " #   Column          Non-Null Count  Dtype  \n",
            "---  ------          --------------  -----  \n",
            " 0   Unnamed: 0      28645 non-null  int64  \n",
            " 1   age             28645 non-null  int64  \n",
            " 2   job             28645 non-null  object \n",
            " 3   marital         28645 non-null  object \n",
            " 4   education       28645 non-null  object \n",
            " 5   default         28645 non-null  object \n",
            " 6   housing         28645 non-null  object \n",
            " 7   loan            28645 non-null  object \n",
            " 8   contact         28645 non-null  object \n",
            " 9   month           28645 non-null  object \n",
            " 10  day_of_week     28645 non-null  object \n",
            " 11  campaign        28645 non-null  int64  \n",
            " 12  pdays           28645 non-null  int64  \n",
            " 13  previous        28645 non-null  int64  \n",
            " 14  poutcome        28645 non-null  object \n",
            " 15  emp.var.rate    28645 non-null  float64\n",
            " 16  cons.price.idx  28645 non-null  float64\n",
            " 17  cons.conf.idx   28645 non-null  float64\n",
            " 18  euribor3m       28645 non-null  float64\n",
            " 19  nr.employed     28645 non-null  float64\n",
            " 20  y               28645 non-null  object \n",
            "dtypes: float64(5), int64(5), object(11)\n",
            "memory usage: 4.6+ MB\n"
          ]
        }
      ]
    },
    {
      "cell_type": "code",
      "source": [
        "ds_df.nunique()"
      ],
      "metadata": {
        "colab": {
          "base_uri": "https://localhost:8080/"
        },
        "id": "LJTsP960vQAN",
        "outputId": "e5b85c0d-1e43-461d-a3ee-6491c7cb1048"
      },
      "execution_count": 34,
      "outputs": [
        {
          "output_type": "execute_result",
          "data": {
            "text/plain": [
              "Unnamed: 0        28645\n",
              "age                  78\n",
              "job                  12\n",
              "marital               4\n",
              "education             8\n",
              "default               3\n",
              "housing               3\n",
              "loan                  3\n",
              "contact               2\n",
              "month                10\n",
              "day_of_week           5\n",
              "campaign             41\n",
              "pdays                25\n",
              "previous              8\n",
              "poutcome              3\n",
              "emp.var.rate         10\n",
              "cons.price.idx       26\n",
              "cons.conf.idx        26\n",
              "euribor3m           311\n",
              "nr.employed          11\n",
              "y                     2\n",
              "dtype: int64"
            ]
          },
          "metadata": {},
          "execution_count": 34
        }
      ]
    },
    {
      "cell_type": "code",
      "source": [
        "ds_df[\"y\"].value_counts()"
      ],
      "metadata": {
        "colab": {
          "base_uri": "https://localhost:8080/"
        },
        "id": "mvUAqT3OvyfB",
        "outputId": "c087346c-f7aa-48a0-9d36-00d5e332245c"
      },
      "execution_count": 35,
      "outputs": [
        {
          "output_type": "execute_result",
          "data": {
            "text/plain": [
              "no     25362\n",
              "yes     3283\n",
              "Name: y, dtype: int64"
            ]
          },
          "metadata": {},
          "execution_count": 35
        }
      ]
    },
    {
      "cell_type": "code",
      "source": [
        "ds_df = ds_df[list(ds_df)[1:]].copy()"
      ],
      "metadata": {
        "id": "OsxtROR8vVmE"
      },
      "execution_count": 36,
      "outputs": []
    },
    {
      "cell_type": "code",
      "source": [
        "ds_df[\"job\"].value_counts()"
      ],
      "metadata": {
        "colab": {
          "base_uri": "https://localhost:8080/"
        },
        "id": "9Syvu42P0ZPw",
        "outputId": "0f1c553d-3e53-405f-ac06-dde66ad9880b"
      },
      "execution_count": 37,
      "outputs": [
        {
          "output_type": "execute_result",
          "data": {
            "text/plain": [
              "admin.           7213\n",
              "blue-collar      6459\n",
              "technician       4700\n",
              "services         2718\n",
              "management       2082\n",
              "retired          1202\n",
              "self-employed    1003\n",
              "entrepreneur      998\n",
              "housemaid         727\n",
              "unemployed        686\n",
              "student           615\n",
              "unknown           242\n",
              "Name: job, dtype: int64"
            ]
          },
          "metadata": {},
          "execution_count": 37
        }
      ]
    },
    {
      "cell_type": "code",
      "source": [
        "ds_df[\"month\"].value_counts()"
      ],
      "metadata": {
        "colab": {
          "base_uri": "https://localhost:8080/"
        },
        "id": "1xuPCTjA0i6Y",
        "outputId": "12907948-fef6-442b-c21e-6eb3cbbc64e1"
      },
      "execution_count": 38,
      "outputs": [
        {
          "output_type": "execute_result",
          "data": {
            "text/plain": [
              "may    9552\n",
              "jul    5060\n",
              "aug    4287\n",
              "jun    3670\n",
              "nov    2845\n",
              "apr    1822\n",
              "oct     514\n",
              "sep     399\n",
              "mar     372\n",
              "dec     124\n",
              "Name: month, dtype: int64"
            ]
          },
          "metadata": {},
          "execution_count": 38
        }
      ]
    },
    {
      "cell_type": "code",
      "source": [
        "ds_df[\"month\"] = ds_df[\"month\"].replace(\n",
        "    {\"may\": 5, \"jun\": 6, \"jul\": 7, \"aug\": 8, \"sep\": 9,\n",
        "     \"oct\": 10, \"nov\": 11, \"dec\": 12})"
      ],
      "metadata": {
        "id": "CwPDkE7x0ut_"
      },
      "execution_count": 39,
      "outputs": []
    },
    {
      "cell_type": "code",
      "source": [
        "ds_df[\"poutcome\"].value_counts()"
      ],
      "metadata": {
        "colab": {
          "base_uri": "https://localhost:8080/"
        },
        "id": "D1N7RU7X1S7z",
        "outputId": "1f49fe60-2747-4140-ceeb-fb7c0dd55e72"
      },
      "execution_count": 41,
      "outputs": [
        {
          "output_type": "execute_result",
          "data": {
            "text/plain": [
              "nonexistent    24824\n",
              "failure         2870\n",
              "success          951\n",
              "Name: poutcome, dtype: int64"
            ]
          },
          "metadata": {},
          "execution_count": 41
        }
      ]
    },
    {
      "cell_type": "code",
      "source": [
        "ds_df.describe().round(5)"
      ],
      "metadata": {
        "colab": {
          "base_uri": "https://localhost:8080/",
          "height": 364
        },
        "id": "7GLXDRumr6i8",
        "outputId": "2758a663-a725-4f28-fd74-c62fd213766d"
      },
      "execution_count": 40,
      "outputs": [
        {
          "output_type": "execute_result",
          "data": {
            "text/plain": [
              "               age     campaign        pdays     previous  emp.var.rate  \\\n",
              "count  28645.00000  28645.00000  28645.00000  28645.00000   28645.00000   \n",
              "mean      39.98352      2.55860    962.63418      0.16855       0.08153   \n",
              "std       10.42033      2.75994    186.52608      0.48681       1.57405   \n",
              "min       17.00000      1.00000      0.00000      0.00000      -3.40000   \n",
              "25%       32.00000      1.00000    999.00000      0.00000      -1.80000   \n",
              "50%       38.00000      2.00000    999.00000      0.00000       1.10000   \n",
              "75%       47.00000      3.00000    999.00000      0.00000       1.40000   \n",
              "max       98.00000     43.00000    999.00000      7.00000       1.40000   \n",
              "\n",
              "       cons.price.idx  cons.conf.idx    euribor3m  nr.employed  \n",
              "count     28645.00000    28645.00000  28645.00000  28645.00000  \n",
              "mean         93.57552      -40.48285      3.62197   5167.00143  \n",
              "std           0.57985        4.63922      1.73553     72.34489  \n",
              "min          92.20100      -50.80000      0.63400   4963.60000  \n",
              "25%          93.07500      -42.70000      1.34400   5099.10000  \n",
              "50%          93.79800      -41.80000      4.85700   5191.00000  \n",
              "75%          93.99400      -36.40000      4.96100   5228.10000  \n",
              "max          94.76700      -26.90000      5.04500   5228.10000  "
            ],
            "text/html": [
              "\n",
              "  <div id=\"df-5e17339c-5564-4c4f-85c8-c391f2f8fbab\">\n",
              "    <div class=\"colab-df-container\">\n",
              "      <div>\n",
              "<style scoped>\n",
              "    .dataframe tbody tr th:only-of-type {\n",
              "        vertical-align: middle;\n",
              "    }\n",
              "\n",
              "    .dataframe tbody tr th {\n",
              "        vertical-align: top;\n",
              "    }\n",
              "\n",
              "    .dataframe thead th {\n",
              "        text-align: right;\n",
              "    }\n",
              "</style>\n",
              "<table border=\"1\" class=\"dataframe\">\n",
              "  <thead>\n",
              "    <tr style=\"text-align: right;\">\n",
              "      <th></th>\n",
              "      <th>age</th>\n",
              "      <th>campaign</th>\n",
              "      <th>pdays</th>\n",
              "      <th>previous</th>\n",
              "      <th>emp.var.rate</th>\n",
              "      <th>cons.price.idx</th>\n",
              "      <th>cons.conf.idx</th>\n",
              "      <th>euribor3m</th>\n",
              "      <th>nr.employed</th>\n",
              "    </tr>\n",
              "  </thead>\n",
              "  <tbody>\n",
              "    <tr>\n",
              "      <th>count</th>\n",
              "      <td>28645.00000</td>\n",
              "      <td>28645.00000</td>\n",
              "      <td>28645.00000</td>\n",
              "      <td>28645.00000</td>\n",
              "      <td>28645.00000</td>\n",
              "      <td>28645.00000</td>\n",
              "      <td>28645.00000</td>\n",
              "      <td>28645.00000</td>\n",
              "      <td>28645.00000</td>\n",
              "    </tr>\n",
              "    <tr>\n",
              "      <th>mean</th>\n",
              "      <td>39.98352</td>\n",
              "      <td>2.55860</td>\n",
              "      <td>962.63418</td>\n",
              "      <td>0.16855</td>\n",
              "      <td>0.08153</td>\n",
              "      <td>93.57552</td>\n",
              "      <td>-40.48285</td>\n",
              "      <td>3.62197</td>\n",
              "      <td>5167.00143</td>\n",
              "    </tr>\n",
              "    <tr>\n",
              "      <th>std</th>\n",
              "      <td>10.42033</td>\n",
              "      <td>2.75994</td>\n",
              "      <td>186.52608</td>\n",
              "      <td>0.48681</td>\n",
              "      <td>1.57405</td>\n",
              "      <td>0.57985</td>\n",
              "      <td>4.63922</td>\n",
              "      <td>1.73553</td>\n",
              "      <td>72.34489</td>\n",
              "    </tr>\n",
              "    <tr>\n",
              "      <th>min</th>\n",
              "      <td>17.00000</td>\n",
              "      <td>1.00000</td>\n",
              "      <td>0.00000</td>\n",
              "      <td>0.00000</td>\n",
              "      <td>-3.40000</td>\n",
              "      <td>92.20100</td>\n",
              "      <td>-50.80000</td>\n",
              "      <td>0.63400</td>\n",
              "      <td>4963.60000</td>\n",
              "    </tr>\n",
              "    <tr>\n",
              "      <th>25%</th>\n",
              "      <td>32.00000</td>\n",
              "      <td>1.00000</td>\n",
              "      <td>999.00000</td>\n",
              "      <td>0.00000</td>\n",
              "      <td>-1.80000</td>\n",
              "      <td>93.07500</td>\n",
              "      <td>-42.70000</td>\n",
              "      <td>1.34400</td>\n",
              "      <td>5099.10000</td>\n",
              "    </tr>\n",
              "    <tr>\n",
              "      <th>50%</th>\n",
              "      <td>38.00000</td>\n",
              "      <td>2.00000</td>\n",
              "      <td>999.00000</td>\n",
              "      <td>0.00000</td>\n",
              "      <td>1.10000</td>\n",
              "      <td>93.79800</td>\n",
              "      <td>-41.80000</td>\n",
              "      <td>4.85700</td>\n",
              "      <td>5191.00000</td>\n",
              "    </tr>\n",
              "    <tr>\n",
              "      <th>75%</th>\n",
              "      <td>47.00000</td>\n",
              "      <td>3.00000</td>\n",
              "      <td>999.00000</td>\n",
              "      <td>0.00000</td>\n",
              "      <td>1.40000</td>\n",
              "      <td>93.99400</td>\n",
              "      <td>-36.40000</td>\n",
              "      <td>4.96100</td>\n",
              "      <td>5228.10000</td>\n",
              "    </tr>\n",
              "    <tr>\n",
              "      <th>max</th>\n",
              "      <td>98.00000</td>\n",
              "      <td>43.00000</td>\n",
              "      <td>999.00000</td>\n",
              "      <td>7.00000</td>\n",
              "      <td>1.40000</td>\n",
              "      <td>94.76700</td>\n",
              "      <td>-26.90000</td>\n",
              "      <td>5.04500</td>\n",
              "      <td>5228.10000</td>\n",
              "    </tr>\n",
              "  </tbody>\n",
              "</table>\n",
              "</div>\n",
              "      <button class=\"colab-df-convert\" onclick=\"convertToInteractive('df-5e17339c-5564-4c4f-85c8-c391f2f8fbab')\"\n",
              "              title=\"Convert this dataframe to an interactive table.\"\n",
              "              style=\"display:none;\">\n",
              "        \n",
              "  <svg xmlns=\"http://www.w3.org/2000/svg\" height=\"24px\"viewBox=\"0 0 24 24\"\n",
              "       width=\"24px\">\n",
              "    <path d=\"M0 0h24v24H0V0z\" fill=\"none\"/>\n",
              "    <path d=\"M18.56 5.44l.94 2.06.94-2.06 2.06-.94-2.06-.94-.94-2.06-.94 2.06-2.06.94zm-11 1L8.5 8.5l.94-2.06 2.06-.94-2.06-.94L8.5 2.5l-.94 2.06-2.06.94zm10 10l.94 2.06.94-2.06 2.06-.94-2.06-.94-.94-2.06-.94 2.06-2.06.94z\"/><path d=\"M17.41 7.96l-1.37-1.37c-.4-.4-.92-.59-1.43-.59-.52 0-1.04.2-1.43.59L10.3 9.45l-7.72 7.72c-.78.78-.78 2.05 0 2.83L4 21.41c.39.39.9.59 1.41.59.51 0 1.02-.2 1.41-.59l7.78-7.78 2.81-2.81c.8-.78.8-2.07 0-2.86zM5.41 20L4 18.59l7.72-7.72 1.47 1.35L5.41 20z\"/>\n",
              "  </svg>\n",
              "      </button>\n",
              "      \n",
              "  <style>\n",
              "    .colab-df-container {\n",
              "      display:flex;\n",
              "      flex-wrap:wrap;\n",
              "      gap: 12px;\n",
              "    }\n",
              "\n",
              "    .colab-df-convert {\n",
              "      background-color: #E8F0FE;\n",
              "      border: none;\n",
              "      border-radius: 50%;\n",
              "      cursor: pointer;\n",
              "      display: none;\n",
              "      fill: #1967D2;\n",
              "      height: 32px;\n",
              "      padding: 0 0 0 0;\n",
              "      width: 32px;\n",
              "    }\n",
              "\n",
              "    .colab-df-convert:hover {\n",
              "      background-color: #E2EBFA;\n",
              "      box-shadow: 0px 1px 2px rgba(60, 64, 67, 0.3), 0px 1px 3px 1px rgba(60, 64, 67, 0.15);\n",
              "      fill: #174EA6;\n",
              "    }\n",
              "\n",
              "    [theme=dark] .colab-df-convert {\n",
              "      background-color: #3B4455;\n",
              "      fill: #D2E3FC;\n",
              "    }\n",
              "\n",
              "    [theme=dark] .colab-df-convert:hover {\n",
              "      background-color: #434B5C;\n",
              "      box-shadow: 0px 1px 3px 1px rgba(0, 0, 0, 0.15);\n",
              "      filter: drop-shadow(0px 1px 2px rgba(0, 0, 0, 0.3));\n",
              "      fill: #FFFFFF;\n",
              "    }\n",
              "  </style>\n",
              "\n",
              "      <script>\n",
              "        const buttonEl =\n",
              "          document.querySelector('#df-5e17339c-5564-4c4f-85c8-c391f2f8fbab button.colab-df-convert');\n",
              "        buttonEl.style.display =\n",
              "          google.colab.kernel.accessAllowed ? 'block' : 'none';\n",
              "\n",
              "        async function convertToInteractive(key) {\n",
              "          const element = document.querySelector('#df-5e17339c-5564-4c4f-85c8-c391f2f8fbab');\n",
              "          const dataTable =\n",
              "            await google.colab.kernel.invokeFunction('convertToInteractive',\n",
              "                                                     [key], {});\n",
              "          if (!dataTable) return;\n",
              "\n",
              "          const docLinkHtml = 'Like what you see? Visit the ' +\n",
              "            '<a target=\"_blank\" href=https://colab.research.google.com/notebooks/data_table.ipynb>data table notebook</a>'\n",
              "            + ' to learn more about interactive tables.';\n",
              "          element.innerHTML = '';\n",
              "          dataTable['output_type'] = 'display_data';\n",
              "          await google.colab.output.renderOutput(dataTable, element);\n",
              "          const docLink = document.createElement('div');\n",
              "          docLink.innerHTML = docLinkHtml;\n",
              "          element.appendChild(docLink);\n",
              "        }\n",
              "      </script>\n",
              "    </div>\n",
              "  </div>\n",
              "  "
            ]
          },
          "metadata": {},
          "execution_count": 40
        }
      ]
    },
    {
      "cell_type": "markdown",
      "source": [
        "\n",
        "# II. Preprocessing"
      ],
      "metadata": {
        "id": "O8lUlQCJsJhx"
      }
    },
    {
      "cell_type": "code",
      "source": [
        "train_df, test_df = train_test_split(\n",
        "    ds_df, test_size=0.20, stratify=ds_df[\"y\"], random_state=1)"
      ],
      "metadata": {
        "id": "bdlYT0C6sVQC"
      },
      "execution_count": 42,
      "outputs": []
    },
    {
      "cell_type": "markdown",
      "source": [
        "# III. Create Models"
      ],
      "metadata": {
        "id": "0V1W04AjslJD"
      }
    },
    {
      "cell_type": "code",
      "source": [
        "exp_clf101 = setup(data=train_df, target = \"y\", session_id=123,\n",
        "                   fix_imbalance=True)\n"
      ],
      "metadata": {
        "colab": {
          "base_uri": "https://localhost:8080/",
          "height": 864
        },
        "id": "UUDwZKDmsoJ8",
        "outputId": "069047d5-a266-424b-a8c8-1ad383676cb9"
      },
      "execution_count": 43,
      "outputs": [
        {
          "output_type": "display_data",
          "data": {
            "text/plain": [
              "<pandas.io.formats.style.Styler at 0x7fbdb32e81c0>"
            ],
            "text/html": [
              "<style type=\"text/css\">\n",
              "#T_78df5_row11_col1, #T_78df5_row17_col1 {\n",
              "  background-color: lightgreen;\n",
              "}\n",
              "</style>\n",
              "<table id=\"T_78df5\" class=\"dataframe\">\n",
              "  <thead>\n",
              "    <tr>\n",
              "      <th class=\"blank level0\" >&nbsp;</th>\n",
              "      <th id=\"T_78df5_level0_col0\" class=\"col_heading level0 col0\" >Description</th>\n",
              "      <th id=\"T_78df5_level0_col1\" class=\"col_heading level0 col1\" >Value</th>\n",
              "    </tr>\n",
              "  </thead>\n",
              "  <tbody>\n",
              "    <tr>\n",
              "      <th id=\"T_78df5_level0_row0\" class=\"row_heading level0 row0\" >0</th>\n",
              "      <td id=\"T_78df5_row0_col0\" class=\"data row0 col0\" >Session id</td>\n",
              "      <td id=\"T_78df5_row0_col1\" class=\"data row0 col1\" >123</td>\n",
              "    </tr>\n",
              "    <tr>\n",
              "      <th id=\"T_78df5_level0_row1\" class=\"row_heading level0 row1\" >1</th>\n",
              "      <td id=\"T_78df5_row1_col0\" class=\"data row1 col0\" >Target</td>\n",
              "      <td id=\"T_78df5_row1_col1\" class=\"data row1 col1\" >y</td>\n",
              "    </tr>\n",
              "    <tr>\n",
              "      <th id=\"T_78df5_level0_row2\" class=\"row_heading level0 row2\" >2</th>\n",
              "      <td id=\"T_78df5_row2_col0\" class=\"data row2 col0\" >Target type</td>\n",
              "      <td id=\"T_78df5_row2_col1\" class=\"data row2 col1\" >Binary</td>\n",
              "    </tr>\n",
              "    <tr>\n",
              "      <th id=\"T_78df5_level0_row3\" class=\"row_heading level0 row3\" >3</th>\n",
              "      <td id=\"T_78df5_row3_col0\" class=\"data row3 col0\" >Target mapping</td>\n",
              "      <td id=\"T_78df5_row3_col1\" class=\"data row3 col1\" >no: 0, yes: 1</td>\n",
              "    </tr>\n",
              "    <tr>\n",
              "      <th id=\"T_78df5_level0_row4\" class=\"row_heading level0 row4\" >4</th>\n",
              "      <td id=\"T_78df5_row4_col0\" class=\"data row4 col0\" >Original data shape</td>\n",
              "      <td id=\"T_78df5_row4_col1\" class=\"data row4 col1\" >(22916, 20)</td>\n",
              "    </tr>\n",
              "    <tr>\n",
              "      <th id=\"T_78df5_level0_row5\" class=\"row_heading level0 row5\" >5</th>\n",
              "      <td id=\"T_78df5_row5_col0\" class=\"data row5 col0\" >Transformed data shape</td>\n",
              "      <td id=\"T_78df5_row5_col1\" class=\"data row5 col1\" >(35281, 62)</td>\n",
              "    </tr>\n",
              "    <tr>\n",
              "      <th id=\"T_78df5_level0_row6\" class=\"row_heading level0 row6\" >6</th>\n",
              "      <td id=\"T_78df5_row6_col0\" class=\"data row6 col0\" >Transformed train set shape</td>\n",
              "      <td id=\"T_78df5_row6_col1\" class=\"data row6 col1\" >(28406, 62)</td>\n",
              "    </tr>\n",
              "    <tr>\n",
              "      <th id=\"T_78df5_level0_row7\" class=\"row_heading level0 row7\" >7</th>\n",
              "      <td id=\"T_78df5_row7_col0\" class=\"data row7 col0\" >Transformed test set shape</td>\n",
              "      <td id=\"T_78df5_row7_col1\" class=\"data row7 col1\" >(6875, 62)</td>\n",
              "    </tr>\n",
              "    <tr>\n",
              "      <th id=\"T_78df5_level0_row8\" class=\"row_heading level0 row8\" >8</th>\n",
              "      <td id=\"T_78df5_row8_col0\" class=\"data row8 col0\" >Ordinal features</td>\n",
              "      <td id=\"T_78df5_row8_col1\" class=\"data row8 col1\" >1</td>\n",
              "    </tr>\n",
              "    <tr>\n",
              "      <th id=\"T_78df5_level0_row9\" class=\"row_heading level0 row9\" >9</th>\n",
              "      <td id=\"T_78df5_row9_col0\" class=\"data row9 col0\" >Numeric features</td>\n",
              "      <td id=\"T_78df5_row9_col1\" class=\"data row9 col1\" >9</td>\n",
              "    </tr>\n",
              "    <tr>\n",
              "      <th id=\"T_78df5_level0_row10\" class=\"row_heading level0 row10\" >10</th>\n",
              "      <td id=\"T_78df5_row10_col0\" class=\"data row10 col0\" >Categorical features</td>\n",
              "      <td id=\"T_78df5_row10_col1\" class=\"data row10 col1\" >10</td>\n",
              "    </tr>\n",
              "    <tr>\n",
              "      <th id=\"T_78df5_level0_row11\" class=\"row_heading level0 row11\" >11</th>\n",
              "      <td id=\"T_78df5_row11_col0\" class=\"data row11 col0\" >Preprocess</td>\n",
              "      <td id=\"T_78df5_row11_col1\" class=\"data row11 col1\" >True</td>\n",
              "    </tr>\n",
              "    <tr>\n",
              "      <th id=\"T_78df5_level0_row12\" class=\"row_heading level0 row12\" >12</th>\n",
              "      <td id=\"T_78df5_row12_col0\" class=\"data row12 col0\" >Imputation type</td>\n",
              "      <td id=\"T_78df5_row12_col1\" class=\"data row12 col1\" >simple</td>\n",
              "    </tr>\n",
              "    <tr>\n",
              "      <th id=\"T_78df5_level0_row13\" class=\"row_heading level0 row13\" >13</th>\n",
              "      <td id=\"T_78df5_row13_col0\" class=\"data row13 col0\" >Numeric imputation</td>\n",
              "      <td id=\"T_78df5_row13_col1\" class=\"data row13 col1\" >mean</td>\n",
              "    </tr>\n",
              "    <tr>\n",
              "      <th id=\"T_78df5_level0_row14\" class=\"row_heading level0 row14\" >14</th>\n",
              "      <td id=\"T_78df5_row14_col0\" class=\"data row14 col0\" >Categorical imputation</td>\n",
              "      <td id=\"T_78df5_row14_col1\" class=\"data row14 col1\" >mode</td>\n",
              "    </tr>\n",
              "    <tr>\n",
              "      <th id=\"T_78df5_level0_row15\" class=\"row_heading level0 row15\" >15</th>\n",
              "      <td id=\"T_78df5_row15_col0\" class=\"data row15 col0\" >Maximum one-hot encoding</td>\n",
              "      <td id=\"T_78df5_row15_col1\" class=\"data row15 col1\" >25</td>\n",
              "    </tr>\n",
              "    <tr>\n",
              "      <th id=\"T_78df5_level0_row16\" class=\"row_heading level0 row16\" >16</th>\n",
              "      <td id=\"T_78df5_row16_col0\" class=\"data row16 col0\" >Encoding method</td>\n",
              "      <td id=\"T_78df5_row16_col1\" class=\"data row16 col1\" >None</td>\n",
              "    </tr>\n",
              "    <tr>\n",
              "      <th id=\"T_78df5_level0_row17\" class=\"row_heading level0 row17\" >17</th>\n",
              "      <td id=\"T_78df5_row17_col0\" class=\"data row17 col0\" >Fix imbalance</td>\n",
              "      <td id=\"T_78df5_row17_col1\" class=\"data row17 col1\" >True</td>\n",
              "    </tr>\n",
              "    <tr>\n",
              "      <th id=\"T_78df5_level0_row18\" class=\"row_heading level0 row18\" >18</th>\n",
              "      <td id=\"T_78df5_row18_col0\" class=\"data row18 col0\" >Fix imbalance method</td>\n",
              "      <td id=\"T_78df5_row18_col1\" class=\"data row18 col1\" >SMOTE</td>\n",
              "    </tr>\n",
              "    <tr>\n",
              "      <th id=\"T_78df5_level0_row19\" class=\"row_heading level0 row19\" >19</th>\n",
              "      <td id=\"T_78df5_row19_col0\" class=\"data row19 col0\" >Fold Generator</td>\n",
              "      <td id=\"T_78df5_row19_col1\" class=\"data row19 col1\" >StratifiedKFold</td>\n",
              "    </tr>\n",
              "    <tr>\n",
              "      <th id=\"T_78df5_level0_row20\" class=\"row_heading level0 row20\" >20</th>\n",
              "      <td id=\"T_78df5_row20_col0\" class=\"data row20 col0\" >Fold Number</td>\n",
              "      <td id=\"T_78df5_row20_col1\" class=\"data row20 col1\" >10</td>\n",
              "    </tr>\n",
              "    <tr>\n",
              "      <th id=\"T_78df5_level0_row21\" class=\"row_heading level0 row21\" >21</th>\n",
              "      <td id=\"T_78df5_row21_col0\" class=\"data row21 col0\" >CPU Jobs</td>\n",
              "      <td id=\"T_78df5_row21_col1\" class=\"data row21 col1\" >-1</td>\n",
              "    </tr>\n",
              "    <tr>\n",
              "      <th id=\"T_78df5_level0_row22\" class=\"row_heading level0 row22\" >22</th>\n",
              "      <td id=\"T_78df5_row22_col0\" class=\"data row22 col0\" >Use GPU</td>\n",
              "      <td id=\"T_78df5_row22_col1\" class=\"data row22 col1\" >False</td>\n",
              "    </tr>\n",
              "    <tr>\n",
              "      <th id=\"T_78df5_level0_row23\" class=\"row_heading level0 row23\" >23</th>\n",
              "      <td id=\"T_78df5_row23_col0\" class=\"data row23 col0\" >Log Experiment</td>\n",
              "      <td id=\"T_78df5_row23_col1\" class=\"data row23 col1\" >False</td>\n",
              "    </tr>\n",
              "    <tr>\n",
              "      <th id=\"T_78df5_level0_row24\" class=\"row_heading level0 row24\" >24</th>\n",
              "      <td id=\"T_78df5_row24_col0\" class=\"data row24 col0\" >Experiment Name</td>\n",
              "      <td id=\"T_78df5_row24_col1\" class=\"data row24 col1\" >clf-default-name</td>\n",
              "    </tr>\n",
              "    <tr>\n",
              "      <th id=\"T_78df5_level0_row25\" class=\"row_heading level0 row25\" >25</th>\n",
              "      <td id=\"T_78df5_row25_col0\" class=\"data row25 col0\" >USI</td>\n",
              "      <td id=\"T_78df5_row25_col1\" class=\"data row25 col1\" >8faf</td>\n",
              "    </tr>\n",
              "  </tbody>\n",
              "</table>\n"
            ]
          },
          "metadata": {}
        }
      ]
    },
    {
      "cell_type": "code",
      "source": [
        "best_model = compare_models(fold=5)\n"
      ],
      "metadata": {
        "colab": {
          "base_uri": "https://localhost:8080/",
          "height": 519,
          "referenced_widgets": [
            "228849dc818b4ef7b02eebce8428be0d",
            "3429244d7c3d4babb5a4a9cdae7301c7",
            "2dc452539eaa4fc8864fd34486b684e4",
            "176f570a07494ef7a398a18b7f8794d3",
            "b27bcb0248a04fe9b8e7b519afd2a46d",
            "fadcd2f693bf41d8acc0333bcd0e0578",
            "7821cf18dd6d4ef683986c88b228f5eb",
            "cdef09fd87fe4f91ba166c0ece04dbd1",
            "40b23f5b32d24f70ae01670864a227fb",
            "d429504a91334c1d913427df488455d1",
            "2f0822e01b0b4bfa81c1bd8bafaa60fd"
          ]
        },
        "id": "ujtCH1wksuFG",
        "outputId": "3c2f5859-31a3-436c-a7cf-caf642ebfbd9"
      },
      "execution_count": 44,
      "outputs": [
        {
          "output_type": "display_data",
          "data": {
            "text/plain": [
              "<IPython.core.display.HTML object>"
            ],
            "text/html": []
          },
          "metadata": {}
        },
        {
          "output_type": "display_data",
          "data": {
            "text/plain": [
              "<pandas.io.formats.style.Styler at 0x7fbdb34427a0>"
            ],
            "text/html": [
              "<style type=\"text/css\">\n",
              "#T_a82a6 th {\n",
              "  text-align: left;\n",
              "}\n",
              "#T_a82a6_row0_col0, #T_a82a6_row0_col2, #T_a82a6_row0_col3, #T_a82a6_row0_col4, #T_a82a6_row0_col5, #T_a82a6_row0_col6, #T_a82a6_row0_col7, #T_a82a6_row1_col0, #T_a82a6_row1_col1, #T_a82a6_row1_col2, #T_a82a6_row1_col3, #T_a82a6_row1_col4, #T_a82a6_row1_col5, #T_a82a6_row1_col6, #T_a82a6_row1_col7, #T_a82a6_row2_col0, #T_a82a6_row2_col1, #T_a82a6_row2_col3, #T_a82a6_row2_col5, #T_a82a6_row2_col6, #T_a82a6_row2_col7, #T_a82a6_row3_col0, #T_a82a6_row3_col1, #T_a82a6_row3_col2, #T_a82a6_row3_col3, #T_a82a6_row3_col4, #T_a82a6_row3_col5, #T_a82a6_row3_col6, #T_a82a6_row3_col7, #T_a82a6_row4_col0, #T_a82a6_row4_col1, #T_a82a6_row4_col2, #T_a82a6_row4_col3, #T_a82a6_row4_col4, #T_a82a6_row4_col5, #T_a82a6_row4_col6, #T_a82a6_row4_col7, #T_a82a6_row5_col0, #T_a82a6_row5_col1, #T_a82a6_row5_col2, #T_a82a6_row5_col3, #T_a82a6_row5_col4, #T_a82a6_row6_col0, #T_a82a6_row6_col1, #T_a82a6_row6_col2, #T_a82a6_row6_col3, #T_a82a6_row6_col4, #T_a82a6_row6_col5, #T_a82a6_row6_col6, #T_a82a6_row6_col7, #T_a82a6_row7_col0, #T_a82a6_row7_col1, #T_a82a6_row7_col2, #T_a82a6_row7_col3, #T_a82a6_row7_col4, #T_a82a6_row7_col5, #T_a82a6_row7_col6, #T_a82a6_row7_col7, #T_a82a6_row8_col0, #T_a82a6_row8_col1, #T_a82a6_row8_col2, #T_a82a6_row8_col3, #T_a82a6_row8_col4, #T_a82a6_row8_col5, #T_a82a6_row8_col6, #T_a82a6_row8_col7, #T_a82a6_row9_col0, #T_a82a6_row9_col1, #T_a82a6_row9_col2, #T_a82a6_row9_col3, #T_a82a6_row9_col4, #T_a82a6_row9_col5, #T_a82a6_row9_col6, #T_a82a6_row9_col7, #T_a82a6_row10_col0, #T_a82a6_row10_col1, #T_a82a6_row10_col2, #T_a82a6_row10_col3, #T_a82a6_row10_col4, #T_a82a6_row10_col5, #T_a82a6_row10_col6, #T_a82a6_row10_col7, #T_a82a6_row11_col0, #T_a82a6_row11_col1, #T_a82a6_row11_col2, #T_a82a6_row11_col3, #T_a82a6_row11_col4, #T_a82a6_row11_col5, #T_a82a6_row11_col6, #T_a82a6_row11_col7, #T_a82a6_row12_col0, #T_a82a6_row12_col1, #T_a82a6_row12_col2, #T_a82a6_row12_col3, #T_a82a6_row12_col4, #T_a82a6_row12_col5, #T_a82a6_row12_col6, #T_a82a6_row12_col7, #T_a82a6_row13_col0, #T_a82a6_row13_col1, #T_a82a6_row13_col2, #T_a82a6_row13_col3, #T_a82a6_row13_col4, #T_a82a6_row13_col5, #T_a82a6_row13_col6, #T_a82a6_row13_col7, #T_a82a6_row14_col0, #T_a82a6_row14_col1, #T_a82a6_row14_col2, #T_a82a6_row14_col4, #T_a82a6_row14_col5, #T_a82a6_row14_col6, #T_a82a6_row14_col7 {\n",
              "  text-align: left;\n",
              "}\n",
              "#T_a82a6_row0_col1, #T_a82a6_row2_col2, #T_a82a6_row2_col4, #T_a82a6_row5_col5, #T_a82a6_row5_col6, #T_a82a6_row5_col7, #T_a82a6_row14_col3 {\n",
              "  text-align: left;\n",
              "  background-color: yellow;\n",
              "}\n",
              "#T_a82a6_row0_col8, #T_a82a6_row1_col8, #T_a82a6_row2_col8, #T_a82a6_row3_col8, #T_a82a6_row5_col8, #T_a82a6_row6_col8, #T_a82a6_row7_col8, #T_a82a6_row8_col8, #T_a82a6_row9_col8, #T_a82a6_row10_col8, #T_a82a6_row11_col8, #T_a82a6_row12_col8, #T_a82a6_row13_col8, #T_a82a6_row14_col8 {\n",
              "  text-align: left;\n",
              "  background-color: lightgrey;\n",
              "}\n",
              "#T_a82a6_row4_col8 {\n",
              "  text-align: left;\n",
              "  background-color: yellow;\n",
              "  background-color: lightgrey;\n",
              "}\n",
              "</style>\n",
              "<table id=\"T_a82a6\" class=\"dataframe\">\n",
              "  <thead>\n",
              "    <tr>\n",
              "      <th class=\"blank level0\" >&nbsp;</th>\n",
              "      <th id=\"T_a82a6_level0_col0\" class=\"col_heading level0 col0\" >Model</th>\n",
              "      <th id=\"T_a82a6_level0_col1\" class=\"col_heading level0 col1\" >Accuracy</th>\n",
              "      <th id=\"T_a82a6_level0_col2\" class=\"col_heading level0 col2\" >AUC</th>\n",
              "      <th id=\"T_a82a6_level0_col3\" class=\"col_heading level0 col3\" >Recall</th>\n",
              "      <th id=\"T_a82a6_level0_col4\" class=\"col_heading level0 col4\" >Prec.</th>\n",
              "      <th id=\"T_a82a6_level0_col5\" class=\"col_heading level0 col5\" >F1</th>\n",
              "      <th id=\"T_a82a6_level0_col6\" class=\"col_heading level0 col6\" >Kappa</th>\n",
              "      <th id=\"T_a82a6_level0_col7\" class=\"col_heading level0 col7\" >MCC</th>\n",
              "      <th id=\"T_a82a6_level0_col8\" class=\"col_heading level0 col8\" >TT (Sec)</th>\n",
              "    </tr>\n",
              "  </thead>\n",
              "  <tbody>\n",
              "    <tr>\n",
              "      <th id=\"T_a82a6_level0_row0\" class=\"row_heading level0 row0\" >gbc</th>\n",
              "      <td id=\"T_a82a6_row0_col0\" class=\"data row0 col0\" >Gradient Boosting Classifier</td>\n",
              "      <td id=\"T_a82a6_row0_col1\" class=\"data row0 col1\" >0.8923</td>\n",
              "      <td id=\"T_a82a6_row0_col2\" class=\"data row0 col2\" >0.7827</td>\n",
              "      <td id=\"T_a82a6_row0_col3\" class=\"data row0 col3\" >0.3362</td>\n",
              "      <td id=\"T_a82a6_row0_col4\" class=\"data row0 col4\" >0.5492</td>\n",
              "      <td id=\"T_a82a6_row0_col5\" class=\"data row0 col5\" >0.4167</td>\n",
              "      <td id=\"T_a82a6_row0_col6\" class=\"data row0 col6\" >0.3612</td>\n",
              "      <td id=\"T_a82a6_row0_col7\" class=\"data row0 col7\" >0.3746</td>\n",
              "      <td id=\"T_a82a6_row0_col8\" class=\"data row0 col8\" >7.6360</td>\n",
              "    </tr>\n",
              "    <tr>\n",
              "      <th id=\"T_a82a6_level0_row1\" class=\"row_heading level0 row1\" >xgboost</th>\n",
              "      <td id=\"T_a82a6_row1_col0\" class=\"data row1 col0\" >Extreme Gradient Boosting</td>\n",
              "      <td id=\"T_a82a6_row1_col1\" class=\"data row1 col1\" >0.8916</td>\n",
              "      <td id=\"T_a82a6_row1_col2\" class=\"data row1 col2\" >0.7737</td>\n",
              "      <td id=\"T_a82a6_row1_col3\" class=\"data row1 col3\" >0.2873</td>\n",
              "      <td id=\"T_a82a6_row1_col4\" class=\"data row1 col4\" >0.5501</td>\n",
              "      <td id=\"T_a82a6_row1_col5\" class=\"data row1 col5\" >0.3770</td>\n",
              "      <td id=\"T_a82a6_row1_col6\" class=\"data row1 col6\" >0.3241</td>\n",
              "      <td id=\"T_a82a6_row1_col7\" class=\"data row1 col7\" >0.3449</td>\n",
              "      <td id=\"T_a82a6_row1_col8\" class=\"data row1 col8\" >8.5840</td>\n",
              "    </tr>\n",
              "    <tr>\n",
              "      <th id=\"T_a82a6_level0_row2\" class=\"row_heading level0 row2\" >lightgbm</th>\n",
              "      <td id=\"T_a82a6_row2_col0\" class=\"data row2 col0\" >Light Gradient Boosting Machine</td>\n",
              "      <td id=\"T_a82a6_row2_col1\" class=\"data row2 col1\" >0.8916</td>\n",
              "      <td id=\"T_a82a6_row2_col2\" class=\"data row2 col2\" >0.7889</td>\n",
              "      <td id=\"T_a82a6_row2_col3\" class=\"data row2 col3\" >0.2818</td>\n",
              "      <td id=\"T_a82a6_row2_col4\" class=\"data row2 col4\" >0.5534</td>\n",
              "      <td id=\"T_a82a6_row2_col5\" class=\"data row2 col5\" >0.3729</td>\n",
              "      <td id=\"T_a82a6_row2_col6\" class=\"data row2 col6\" >0.3205</td>\n",
              "      <td id=\"T_a82a6_row2_col7\" class=\"data row2 col7\" >0.3427</td>\n",
              "      <td id=\"T_a82a6_row2_col8\" class=\"data row2 col8\" >1.8380</td>\n",
              "    </tr>\n",
              "    <tr>\n",
              "      <th id=\"T_a82a6_level0_row3\" class=\"row_heading level0 row3\" >rf</th>\n",
              "      <td id=\"T_a82a6_row3_col0\" class=\"data row3 col0\" >Random Forest Classifier</td>\n",
              "      <td id=\"T_a82a6_row3_col1\" class=\"data row3 col1\" >0.8885</td>\n",
              "      <td id=\"T_a82a6_row3_col2\" class=\"data row3 col2\" >0.7688</td>\n",
              "      <td id=\"T_a82a6_row3_col3\" class=\"data row3 col3\" >0.3041</td>\n",
              "      <td id=\"T_a82a6_row3_col4\" class=\"data row3 col4\" >0.5243</td>\n",
              "      <td id=\"T_a82a6_row3_col5\" class=\"data row3 col5\" >0.3847</td>\n",
              "      <td id=\"T_a82a6_row3_col6\" class=\"data row3 col6\" >0.3281</td>\n",
              "      <td id=\"T_a82a6_row3_col7\" class=\"data row3 col7\" >0.3430</td>\n",
              "      <td id=\"T_a82a6_row3_col8\" class=\"data row3 col8\" >4.2760</td>\n",
              "    </tr>\n",
              "    <tr>\n",
              "      <th id=\"T_a82a6_level0_row4\" class=\"row_heading level0 row4\" >dummy</th>\n",
              "      <td id=\"T_a82a6_row4_col0\" class=\"data row4 col0\" >Dummy Classifier</td>\n",
              "      <td id=\"T_a82a6_row4_col1\" class=\"data row4 col1\" >0.8854</td>\n",
              "      <td id=\"T_a82a6_row4_col2\" class=\"data row4 col2\" >0.5000</td>\n",
              "      <td id=\"T_a82a6_row4_col3\" class=\"data row4 col3\" >0.0000</td>\n",
              "      <td id=\"T_a82a6_row4_col4\" class=\"data row4 col4\" >0.0000</td>\n",
              "      <td id=\"T_a82a6_row4_col5\" class=\"data row4 col5\" >0.0000</td>\n",
              "      <td id=\"T_a82a6_row4_col6\" class=\"data row4 col6\" >0.0000</td>\n",
              "      <td id=\"T_a82a6_row4_col7\" class=\"data row4 col7\" >0.0000</td>\n",
              "      <td id=\"T_a82a6_row4_col8\" class=\"data row4 col8\" >0.5060</td>\n",
              "    </tr>\n",
              "    <tr>\n",
              "      <th id=\"T_a82a6_level0_row5\" class=\"row_heading level0 row5\" >ada</th>\n",
              "      <td id=\"T_a82a6_row5_col0\" class=\"data row5 col0\" >Ada Boost Classifier</td>\n",
              "      <td id=\"T_a82a6_row5_col1\" class=\"data row5 col1\" >0.8805</td>\n",
              "      <td id=\"T_a82a6_row5_col2\" class=\"data row5 col2\" >0.7636</td>\n",
              "      <td id=\"T_a82a6_row5_col3\" class=\"data row5 col3\" >0.4135</td>\n",
              "      <td id=\"T_a82a6_row5_col4\" class=\"data row5 col4\" >0.4752</td>\n",
              "      <td id=\"T_a82a6_row5_col5\" class=\"data row5 col5\" >0.4417</td>\n",
              "      <td id=\"T_a82a6_row5_col6\" class=\"data row5 col6\" >0.3752</td>\n",
              "      <td id=\"T_a82a6_row5_col7\" class=\"data row5 col7\" >0.3766</td>\n",
              "      <td id=\"T_a82a6_row5_col8\" class=\"data row5 col8\" >2.4300</td>\n",
              "    </tr>\n",
              "    <tr>\n",
              "      <th id=\"T_a82a6_level0_row6\" class=\"row_heading level0 row6\" >et</th>\n",
              "      <td id=\"T_a82a6_row6_col0\" class=\"data row6 col0\" >Extra Trees Classifier</td>\n",
              "      <td id=\"T_a82a6_row6_col1\" class=\"data row6 col1\" >0.8758</td>\n",
              "      <td id=\"T_a82a6_row6_col2\" class=\"data row6 col2\" >0.7498</td>\n",
              "      <td id=\"T_a82a6_row6_col3\" class=\"data row6 col3\" >0.3183</td>\n",
              "      <td id=\"T_a82a6_row6_col4\" class=\"data row6 col4\" >0.4432</td>\n",
              "      <td id=\"T_a82a6_row6_col5\" class=\"data row6 col5\" >0.3701</td>\n",
              "      <td id=\"T_a82a6_row6_col6\" class=\"data row6 col6\" >0.3033</td>\n",
              "      <td id=\"T_a82a6_row6_col7\" class=\"data row6 col7\" >0.3086</td>\n",
              "      <td id=\"T_a82a6_row6_col8\" class=\"data row6 col8\" >3.9340</td>\n",
              "    </tr>\n",
              "    <tr>\n",
              "      <th id=\"T_a82a6_level0_row7\" class=\"row_heading level0 row7\" >dt</th>\n",
              "      <td id=\"T_a82a6_row7_col0\" class=\"data row7 col0\" >Decision Tree Classifier</td>\n",
              "      <td id=\"T_a82a6_row7_col1\" class=\"data row7 col1\" >0.8313</td>\n",
              "      <td id=\"T_a82a6_row7_col2\" class=\"data row7 col2\" >0.6180</td>\n",
              "      <td id=\"T_a82a6_row7_col3\" class=\"data row7 col3\" >0.3341</td>\n",
              "      <td id=\"T_a82a6_row7_col4\" class=\"data row7 col4\" >0.2932</td>\n",
              "      <td id=\"T_a82a6_row7_col5\" class=\"data row7 col5\" >0.3123</td>\n",
              "      <td id=\"T_a82a6_row7_col6\" class=\"data row7 col6\" >0.2166</td>\n",
              "      <td id=\"T_a82a6_row7_col7\" class=\"data row7 col7\" >0.2172</td>\n",
              "      <td id=\"T_a82a6_row7_col8\" class=\"data row7 col8\" >1.2820</td>\n",
              "    </tr>\n",
              "    <tr>\n",
              "      <th id=\"T_a82a6_level0_row8\" class=\"row_heading level0 row8\" >nb</th>\n",
              "      <td id=\"T_a82a6_row8_col0\" class=\"data row8 col0\" >Naive Bayes</td>\n",
              "      <td id=\"T_a82a6_row8_col1\" class=\"data row8 col1\" >0.8188</td>\n",
              "      <td id=\"T_a82a6_row8_col2\" class=\"data row8 col2\" >0.7585</td>\n",
              "      <td id=\"T_a82a6_row8_col3\" class=\"data row8 col3\" >0.5800</td>\n",
              "      <td id=\"T_a82a6_row8_col4\" class=\"data row8 col4\" >0.3335</td>\n",
              "      <td id=\"T_a82a6_row8_col5\" class=\"data row8 col5\" >0.4232</td>\n",
              "      <td id=\"T_a82a6_row8_col6\" class=\"data row8 col6\" >0.3250</td>\n",
              "      <td id=\"T_a82a6_row8_col7\" class=\"data row8 col7\" >0.3427</td>\n",
              "      <td id=\"T_a82a6_row8_col8\" class=\"data row8 col8\" >0.5780</td>\n",
              "    </tr>\n",
              "    <tr>\n",
              "      <th id=\"T_a82a6_level0_row9\" class=\"row_heading level0 row9\" >ridge</th>\n",
              "      <td id=\"T_a82a6_row9_col0\" class=\"data row9 col0\" >Ridge Classifier</td>\n",
              "      <td id=\"T_a82a6_row9_col1\" class=\"data row9 col1\" >0.8142</td>\n",
              "      <td id=\"T_a82a6_row9_col2\" class=\"data row9 col2\" >0.0000</td>\n",
              "      <td id=\"T_a82a6_row9_col3\" class=\"data row9 col3\" >0.6284</td>\n",
              "      <td id=\"T_a82a6_row9_col4\" class=\"data row9 col4\" >0.3344</td>\n",
              "      <td id=\"T_a82a6_row9_col5\" class=\"data row9 col5\" >0.4364</td>\n",
              "      <td id=\"T_a82a6_row9_col6\" class=\"data row9 col6\" >0.3373</td>\n",
              "      <td id=\"T_a82a6_row9_col7\" class=\"data row9 col7\" >0.3615</td>\n",
              "      <td id=\"T_a82a6_row9_col8\" class=\"data row9 col8\" >0.8300</td>\n",
              "    </tr>\n",
              "    <tr>\n",
              "      <th id=\"T_a82a6_level0_row10\" class=\"row_heading level0 row10\" >lda</th>\n",
              "      <td id=\"T_a82a6_row10_col0\" class=\"data row10 col0\" >Linear Discriminant Analysis</td>\n",
              "      <td id=\"T_a82a6_row10_col1\" class=\"data row10 col1\" >0.8142</td>\n",
              "      <td id=\"T_a82a6_row10_col2\" class=\"data row10 col2\" >0.7865</td>\n",
              "      <td id=\"T_a82a6_row10_col3\" class=\"data row10 col3\" >0.6284</td>\n",
              "      <td id=\"T_a82a6_row10_col4\" class=\"data row10 col4\" >0.3345</td>\n",
              "      <td id=\"T_a82a6_row10_col5\" class=\"data row10 col5\" >0.4365</td>\n",
              "      <td id=\"T_a82a6_row10_col6\" class=\"data row10 col6\" >0.3374</td>\n",
              "      <td id=\"T_a82a6_row10_col7\" class=\"data row10 col7\" >0.3616</td>\n",
              "      <td id=\"T_a82a6_row10_col8\" class=\"data row10 col8\" >0.7860</td>\n",
              "    </tr>\n",
              "    <tr>\n",
              "      <th id=\"T_a82a6_level0_row11\" class=\"row_heading level0 row11\" >lr</th>\n",
              "      <td id=\"T_a82a6_row11_col0\" class=\"data row11 col0\" >Logistic Regression</td>\n",
              "      <td id=\"T_a82a6_row11_col1\" class=\"data row11 col1\" >0.8084</td>\n",
              "      <td id=\"T_a82a6_row11_col2\" class=\"data row11 col2\" >0.7853</td>\n",
              "      <td id=\"T_a82a6_row11_col3\" class=\"data row11 col3\" >0.6257</td>\n",
              "      <td id=\"T_a82a6_row11_col4\" class=\"data row11 col4\" >0.3254</td>\n",
              "      <td id=\"T_a82a6_row11_col5\" class=\"data row11 col5\" >0.4280</td>\n",
              "      <td id=\"T_a82a6_row11_col6\" class=\"data row11 col6\" >0.3265</td>\n",
              "      <td id=\"T_a82a6_row11_col7\" class=\"data row11 col7\" >0.3518</td>\n",
              "      <td id=\"T_a82a6_row11_col8\" class=\"data row11 col8\" >2.5460</td>\n",
              "    </tr>\n",
              "    <tr>\n",
              "      <th id=\"T_a82a6_level0_row12\" class=\"row_heading level0 row12\" >knn</th>\n",
              "      <td id=\"T_a82a6_row12_col0\" class=\"data row12 col0\" >K Neighbors Classifier</td>\n",
              "      <td id=\"T_a82a6_row12_col1\" class=\"data row12 col1\" >0.6851</td>\n",
              "      <td id=\"T_a82a6_row12_col2\" class=\"data row12 col2\" >0.7110</td>\n",
              "      <td id=\"T_a82a6_row12_col3\" class=\"data row12 col3\" >0.6534</td>\n",
              "      <td id=\"T_a82a6_row12_col4\" class=\"data row12 col4\" >0.2138</td>\n",
              "      <td id=\"T_a82a6_row12_col5\" class=\"data row12 col5\" >0.3222</td>\n",
              "      <td id=\"T_a82a6_row12_col6\" class=\"data row12 col6\" >0.1808</td>\n",
              "      <td id=\"T_a82a6_row12_col7\" class=\"data row12 col7\" >0.2288</td>\n",
              "      <td id=\"T_a82a6_row12_col8\" class=\"data row12 col8\" >2.1760</td>\n",
              "    </tr>\n",
              "    <tr>\n",
              "      <th id=\"T_a82a6_level0_row13\" class=\"row_heading level0 row13\" >svm</th>\n",
              "      <td id=\"T_a82a6_row13_col0\" class=\"data row13 col0\" >SVM - Linear Kernel</td>\n",
              "      <td id=\"T_a82a6_row13_col1\" class=\"data row13 col1\" >0.4899</td>\n",
              "      <td id=\"T_a82a6_row13_col2\" class=\"data row13 col2\" >0.0000</td>\n",
              "      <td id=\"T_a82a6_row13_col3\" class=\"data row13 col3\" >0.7484</td>\n",
              "      <td id=\"T_a82a6_row13_col4\" class=\"data row13 col4\" >0.2688</td>\n",
              "      <td id=\"T_a82a6_row13_col5\" class=\"data row13 col5\" >0.2908</td>\n",
              "      <td id=\"T_a82a6_row13_col6\" class=\"data row13 col6\" >0.1436</td>\n",
              "      <td id=\"T_a82a6_row13_col7\" class=\"data row13 col7\" >0.1784</td>\n",
              "      <td id=\"T_a82a6_row13_col8\" class=\"data row13 col8\" >2.0780</td>\n",
              "    </tr>\n",
              "    <tr>\n",
              "      <th id=\"T_a82a6_level0_row14\" class=\"row_heading level0 row14\" >qda</th>\n",
              "      <td id=\"T_a82a6_row14_col0\" class=\"data row14 col0\" >Quadratic Discriminant Analysis</td>\n",
              "      <td id=\"T_a82a6_row14_col1\" class=\"data row14 col1\" >0.2842</td>\n",
              "      <td id=\"T_a82a6_row14_col2\" class=\"data row14 col2\" >0.7345</td>\n",
              "      <td id=\"T_a82a6_row14_col3\" class=\"data row14 col3\" >0.9004</td>\n",
              "      <td id=\"T_a82a6_row14_col4\" class=\"data row14 col4\" >0.1328</td>\n",
              "      <td id=\"T_a82a6_row14_col5\" class=\"data row14 col5\" >0.2293</td>\n",
              "      <td id=\"T_a82a6_row14_col6\" class=\"data row14 col6\" >0.0375</td>\n",
              "      <td id=\"T_a82a6_row14_col7\" class=\"data row14 col7\" >0.0858</td>\n",
              "      <td id=\"T_a82a6_row14_col8\" class=\"data row14 col8\" >0.7300</td>\n",
              "    </tr>\n",
              "  </tbody>\n",
              "</table>\n"
            ]
          },
          "metadata": {}
        },
        {
          "output_type": "display_data",
          "data": {
            "text/plain": [
              "Processing:   0%|          | 0/65 [00:00<?, ?it/s]"
            ],
            "application/vnd.jupyter.widget-view+json": {
              "version_major": 2,
              "version_minor": 0,
              "model_id": "228849dc818b4ef7b02eebce8428be0d"
            }
          },
          "metadata": {
            "application/vnd.jupyter.widget-view+json": {
              "colab": {
                "custom_widget_manager": {
                  "url": "https://ssl.gstatic.com/colaboratory-static/widgets/colab-cdn-widget-manager/b3e629b1971e1542/manager.min.js"
                }
              }
            }
          }
        },
        {
          "output_type": "display_data",
          "data": {
            "text/plain": [
              "<IPython.core.display.HTML object>"
            ],
            "text/html": []
          },
          "metadata": {}
        }
      ]
    }
  ]
}
