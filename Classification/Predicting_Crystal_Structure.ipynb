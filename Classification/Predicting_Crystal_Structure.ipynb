{
  "nbformat": 4,
  "nbformat_minor": 0,
  "metadata": {
    "colab": {
      "provenance": [],
      "authorship_tag": "ABX9TyNeCszQml6V0s2T31LVYzpc",
      "include_colab_link": true
    },
    "kernelspec": {
      "name": "python3",
      "display_name": "Python 3"
    },
    "language_info": {
      "name": "python"
    },
    "widgets": {
      "application/vnd.jupyter.widget-state+json": {
        "4ba734fbd3984e17afe0f133ec0e2194": {
          "model_module": "@jupyter-widgets/controls",
          "model_name": "HBoxModel",
          "model_module_version": "1.5.0",
          "state": {
            "_dom_classes": [],
            "_model_module": "@jupyter-widgets/controls",
            "_model_module_version": "1.5.0",
            "_model_name": "HBoxModel",
            "_view_count": null,
            "_view_module": "@jupyter-widgets/controls",
            "_view_module_version": "1.5.0",
            "_view_name": "HBoxView",
            "box_style": "",
            "children": [
              "IPY_MODEL_0a2d50f531864d64bb3baae60ddbde27",
              "IPY_MODEL_f0c0345cce02417db8628e1ac5fa8591",
              "IPY_MODEL_62ef5bab6f7f4018914e6c05481b1a1a"
            ],
            "layout": "IPY_MODEL_652c7bff09ad4f919b15e8d967c10884"
          }
        },
        "0a2d50f531864d64bb3baae60ddbde27": {
          "model_module": "@jupyter-widgets/controls",
          "model_name": "HTMLModel",
          "model_module_version": "1.5.0",
          "state": {
            "_dom_classes": [],
            "_model_module": "@jupyter-widgets/controls",
            "_model_module_version": "1.5.0",
            "_model_name": "HTMLModel",
            "_view_count": null,
            "_view_module": "@jupyter-widgets/controls",
            "_view_module_version": "1.5.0",
            "_view_name": "HTMLView",
            "description": "",
            "description_tooltip": null,
            "layout": "IPY_MODEL_d6df21bbae5a493ca0cfa35f2c0f2996",
            "placeholder": "​",
            "style": "IPY_MODEL_35171afe08f041c59a19c1c974bf8970",
            "value": "Processing: 100%"
          }
        },
        "f0c0345cce02417db8628e1ac5fa8591": {
          "model_module": "@jupyter-widgets/controls",
          "model_name": "FloatProgressModel",
          "model_module_version": "1.5.0",
          "state": {
            "_dom_classes": [],
            "_model_module": "@jupyter-widgets/controls",
            "_model_module_version": "1.5.0",
            "_model_name": "FloatProgressModel",
            "_view_count": null,
            "_view_module": "@jupyter-widgets/controls",
            "_view_module_version": "1.5.0",
            "_view_name": "ProgressView",
            "bar_style": "",
            "description": "",
            "description_tooltip": null,
            "layout": "IPY_MODEL_0c13a4fdbe1343fe8c07e36d14f3d978",
            "max": 65,
            "min": 0,
            "orientation": "horizontal",
            "style": "IPY_MODEL_879e057a4fe14347a044e48af8028fdb",
            "value": 65
          }
        },
        "62ef5bab6f7f4018914e6c05481b1a1a": {
          "model_module": "@jupyter-widgets/controls",
          "model_name": "HTMLModel",
          "model_module_version": "1.5.0",
          "state": {
            "_dom_classes": [],
            "_model_module": "@jupyter-widgets/controls",
            "_model_module_version": "1.5.0",
            "_model_name": "HTMLModel",
            "_view_count": null,
            "_view_module": "@jupyter-widgets/controls",
            "_view_module_version": "1.5.0",
            "_view_name": "HTMLView",
            "description": "",
            "description_tooltip": null,
            "layout": "IPY_MODEL_16da0d3651584a0398054fc63ee6e9b2",
            "placeholder": "​",
            "style": "IPY_MODEL_92f9a727df324ac5b51cb87c0cf096b0",
            "value": " 65/65 [03:20&lt;00:00,  3.72s/it]"
          }
        },
        "652c7bff09ad4f919b15e8d967c10884": {
          "model_module": "@jupyter-widgets/base",
          "model_name": "LayoutModel",
          "model_module_version": "1.2.0",
          "state": {
            "_model_module": "@jupyter-widgets/base",
            "_model_module_version": "1.2.0",
            "_model_name": "LayoutModel",
            "_view_count": null,
            "_view_module": "@jupyter-widgets/base",
            "_view_module_version": "1.2.0",
            "_view_name": "LayoutView",
            "align_content": null,
            "align_items": null,
            "align_self": null,
            "border": null,
            "bottom": null,
            "display": null,
            "flex": null,
            "flex_flow": null,
            "grid_area": null,
            "grid_auto_columns": null,
            "grid_auto_flow": null,
            "grid_auto_rows": null,
            "grid_column": null,
            "grid_gap": null,
            "grid_row": null,
            "grid_template_areas": null,
            "grid_template_columns": null,
            "grid_template_rows": null,
            "height": null,
            "justify_content": null,
            "justify_items": null,
            "left": null,
            "margin": null,
            "max_height": null,
            "max_width": null,
            "min_height": null,
            "min_width": null,
            "object_fit": null,
            "object_position": null,
            "order": null,
            "overflow": null,
            "overflow_x": null,
            "overflow_y": null,
            "padding": null,
            "right": null,
            "top": null,
            "visibility": "hidden",
            "width": null
          }
        },
        "d6df21bbae5a493ca0cfa35f2c0f2996": {
          "model_module": "@jupyter-widgets/base",
          "model_name": "LayoutModel",
          "model_module_version": "1.2.0",
          "state": {
            "_model_module": "@jupyter-widgets/base",
            "_model_module_version": "1.2.0",
            "_model_name": "LayoutModel",
            "_view_count": null,
            "_view_module": "@jupyter-widgets/base",
            "_view_module_version": "1.2.0",
            "_view_name": "LayoutView",
            "align_content": null,
            "align_items": null,
            "align_self": null,
            "border": null,
            "bottom": null,
            "display": null,
            "flex": null,
            "flex_flow": null,
            "grid_area": null,
            "grid_auto_columns": null,
            "grid_auto_flow": null,
            "grid_auto_rows": null,
            "grid_column": null,
            "grid_gap": null,
            "grid_row": null,
            "grid_template_areas": null,
            "grid_template_columns": null,
            "grid_template_rows": null,
            "height": null,
            "justify_content": null,
            "justify_items": null,
            "left": null,
            "margin": null,
            "max_height": null,
            "max_width": null,
            "min_height": null,
            "min_width": null,
            "object_fit": null,
            "object_position": null,
            "order": null,
            "overflow": null,
            "overflow_x": null,
            "overflow_y": null,
            "padding": null,
            "right": null,
            "top": null,
            "visibility": null,
            "width": null
          }
        },
        "35171afe08f041c59a19c1c974bf8970": {
          "model_module": "@jupyter-widgets/controls",
          "model_name": "DescriptionStyleModel",
          "model_module_version": "1.5.0",
          "state": {
            "_model_module": "@jupyter-widgets/controls",
            "_model_module_version": "1.5.0",
            "_model_name": "DescriptionStyleModel",
            "_view_count": null,
            "_view_module": "@jupyter-widgets/base",
            "_view_module_version": "1.2.0",
            "_view_name": "StyleView",
            "description_width": ""
          }
        },
        "0c13a4fdbe1343fe8c07e36d14f3d978": {
          "model_module": "@jupyter-widgets/base",
          "model_name": "LayoutModel",
          "model_module_version": "1.2.0",
          "state": {
            "_model_module": "@jupyter-widgets/base",
            "_model_module_version": "1.2.0",
            "_model_name": "LayoutModel",
            "_view_count": null,
            "_view_module": "@jupyter-widgets/base",
            "_view_module_version": "1.2.0",
            "_view_name": "LayoutView",
            "align_content": null,
            "align_items": null,
            "align_self": null,
            "border": null,
            "bottom": null,
            "display": null,
            "flex": null,
            "flex_flow": null,
            "grid_area": null,
            "grid_auto_columns": null,
            "grid_auto_flow": null,
            "grid_auto_rows": null,
            "grid_column": null,
            "grid_gap": null,
            "grid_row": null,
            "grid_template_areas": null,
            "grid_template_columns": null,
            "grid_template_rows": null,
            "height": null,
            "justify_content": null,
            "justify_items": null,
            "left": null,
            "margin": null,
            "max_height": null,
            "max_width": null,
            "min_height": null,
            "min_width": null,
            "object_fit": null,
            "object_position": null,
            "order": null,
            "overflow": null,
            "overflow_x": null,
            "overflow_y": null,
            "padding": null,
            "right": null,
            "top": null,
            "visibility": null,
            "width": null
          }
        },
        "879e057a4fe14347a044e48af8028fdb": {
          "model_module": "@jupyter-widgets/controls",
          "model_name": "ProgressStyleModel",
          "model_module_version": "1.5.0",
          "state": {
            "_model_module": "@jupyter-widgets/controls",
            "_model_module_version": "1.5.0",
            "_model_name": "ProgressStyleModel",
            "_view_count": null,
            "_view_module": "@jupyter-widgets/base",
            "_view_module_version": "1.2.0",
            "_view_name": "StyleView",
            "bar_color": null,
            "description_width": ""
          }
        },
        "16da0d3651584a0398054fc63ee6e9b2": {
          "model_module": "@jupyter-widgets/base",
          "model_name": "LayoutModel",
          "model_module_version": "1.2.0",
          "state": {
            "_model_module": "@jupyter-widgets/base",
            "_model_module_version": "1.2.0",
            "_model_name": "LayoutModel",
            "_view_count": null,
            "_view_module": "@jupyter-widgets/base",
            "_view_module_version": "1.2.0",
            "_view_name": "LayoutView",
            "align_content": null,
            "align_items": null,
            "align_self": null,
            "border": null,
            "bottom": null,
            "display": null,
            "flex": null,
            "flex_flow": null,
            "grid_area": null,
            "grid_auto_columns": null,
            "grid_auto_flow": null,
            "grid_auto_rows": null,
            "grid_column": null,
            "grid_gap": null,
            "grid_row": null,
            "grid_template_areas": null,
            "grid_template_columns": null,
            "grid_template_rows": null,
            "height": null,
            "justify_content": null,
            "justify_items": null,
            "left": null,
            "margin": null,
            "max_height": null,
            "max_width": null,
            "min_height": null,
            "min_width": null,
            "object_fit": null,
            "object_position": null,
            "order": null,
            "overflow": null,
            "overflow_x": null,
            "overflow_y": null,
            "padding": null,
            "right": null,
            "top": null,
            "visibility": null,
            "width": null
          }
        },
        "92f9a727df324ac5b51cb87c0cf096b0": {
          "model_module": "@jupyter-widgets/controls",
          "model_name": "DescriptionStyleModel",
          "model_module_version": "1.5.0",
          "state": {
            "_model_module": "@jupyter-widgets/controls",
            "_model_module_version": "1.5.0",
            "_model_name": "DescriptionStyleModel",
            "_view_count": null,
            "_view_module": "@jupyter-widgets/base",
            "_view_module_version": "1.2.0",
            "_view_name": "StyleView",
            "description_width": ""
          }
        }
      }
    }
  },
  "cells": [
    {
      "cell_type": "markdown",
      "metadata": {
        "id": "view-in-github",
        "colab_type": "text"
      },
      "source": [
        "<a href=\"https://colab.research.google.com/github/a-donat/Benchmarks_PyCaret/blob/main/Predicting_Crystal_Structure.ipynb\" target=\"_parent\"><img src=\"https://colab.research.google.com/assets/colab-badge.svg\" alt=\"Open In Colab\"/></a>"
      ]
    },
    {
      "cell_type": "markdown",
      "source": [
        "# I. Set-Up"
      ],
      "metadata": {
        "id": "EjJ5M3C1sQDA"
      }
    },
    {
      "cell_type": "markdown",
      "source": [
        "## I.A. Import Libraries and Download Data"
      ],
      "metadata": {
        "id": "_1u8l9-Wq2to"
      }
    },
    {
      "cell_type": "code",
      "source": [
        "! pip install kaggle\n",
        "! mkdir ~/.kaggle\n",
        "! cp kaggle.json ~/.kaggle/\n",
        "! chmod 600 ~/.kaggle/kaggle.json\n",
        "! kaggle datasets download -d sayansh001/crystal-structure-classification\n",
        "! unzip '/content/crystal-structure-classification.zip' -d '/content/data'"
      ],
      "metadata": {
        "id": "cU-J1Vvhq6mp"
      },
      "execution_count": null,
      "outputs": []
    },
    {
      "cell_type": "code",
      "source": [
        "! pip install pycaret"
      ],
      "metadata": {
        "id": "q2OwTXkgrNEd"
      },
      "execution_count": null,
      "outputs": []
    },
    {
      "cell_type": "code",
      "execution_count": null,
      "metadata": {
        "id": "KJR0DPb6qvvl"
      },
      "outputs": [],
      "source": [
        "#import matplotlib.pyplot as plt\n",
        "#import seaborn as sns\n",
        "#import VisualizeDataAbbrev as viz\n",
        "\n",
        "import numpy as np\n",
        "import pandas as pd\n",
        "from pycaret.classification import *\n",
        "from sklearn.model_selection import train_test_split"
      ]
    },
    {
      "cell_type": "markdown",
      "source": [
        "## I.B. Load Data and Check Data Integrity"
      ],
      "metadata": {
        "id": "xtnQ852lrdGq"
      }
    },
    {
      "cell_type": "code",
      "source": [
        "ds_df = pd.read_csv(\"/content/data/Crystal_structure.csv\")"
      ],
      "metadata": {
        "id": "szcd_HHIrepR"
      },
      "execution_count": 69,
      "outputs": []
    },
    {
      "cell_type": "code",
      "source": [
        "ds_df.info()"
      ],
      "metadata": {
        "colab": {
          "base_uri": "https://localhost:8080/"
        },
        "id": "7SRp7d3IrmyK",
        "outputId": "3d15d092-5993-4c6b-c05e-a1d23ec99ab2"
      },
      "execution_count": 70,
      "outputs": [
        {
          "output_type": "stream",
          "name": "stdout",
          "text": [
            "<class 'pandas.core.frame.DataFrame'>\n",
            "RangeIndex: 5329 entries, 0 to 5328\n",
            "Data columns (total 18 columns):\n",
            " #   Column             Non-Null Count  Dtype  \n",
            "---  ------             --------------  -----  \n",
            " 0   Compound           5329 non-null   object \n",
            " 1   A                  5329 non-null   object \n",
            " 2   B                  5329 non-null   object \n",
            " 3   In literature      5329 non-null   bool   \n",
            " 4   v(A)               5329 non-null   object \n",
            " 5   v(B)               5329 non-null   object \n",
            " 6   r(AXII)(Å)         5329 non-null   float64\n",
            " 7   r(AVI)(Å)          5329 non-null   float64\n",
            " 8   r(BVI)(Å)          5329 non-null   float64\n",
            " 9   EN(A)              5329 non-null   float64\n",
            " 10  EN(B)              5329 non-null   float64\n",
            " 11  l(A-O)(Å)          5329 non-null   float64\n",
            " 12  l(B-O)(Å)          5329 non-null   float64\n",
            " 13  ΔENR               5329 non-null   float64\n",
            " 14  tG                 5329 non-null   float64\n",
            " 15  τ                  5329 non-null   object \n",
            " 16  μ                  5329 non-null   float64\n",
            " 17  Lowest distortion  5329 non-null   object \n",
            "dtypes: bool(1), float64(10), object(7)\n",
            "memory usage: 713.1+ KB\n"
          ]
        }
      ]
    },
    {
      "cell_type": "code",
      "source": [
        "ds_df[\"τ\"] = ds_df[\"τ\"].replace({\"-\": np.nan}).astype(float)"
      ],
      "metadata": {
        "id": "xsrME6aMVXZ2"
      },
      "execution_count": 75,
      "outputs": []
    },
    {
      "cell_type": "code",
      "source": [
        "ds_df[\"v(A)\"] = ds_df[\"v(A)\"].replace({\"-\": np.nan}).astype(float)\n",
        "ds_df[\"v(B)\"] = ds_df[\"v(B)\"].replace({\"-\": np.nan}).astype(float)\n"
      ],
      "metadata": {
        "id": "pTRIjlTiWK1w"
      },
      "execution_count": 77,
      "outputs": []
    },
    {
      "cell_type": "code",
      "source": [
        "ds_df.info()"
      ],
      "metadata": {
        "colab": {
          "base_uri": "https://localhost:8080/"
        },
        "id": "dboaC6leWAua",
        "outputId": "dd758512-f122-4226-eff4-50be5c4eb51b"
      },
      "execution_count": 78,
      "outputs": [
        {
          "output_type": "stream",
          "name": "stdout",
          "text": [
            "<class 'pandas.core.frame.DataFrame'>\n",
            "RangeIndex: 5329 entries, 0 to 5328\n",
            "Data columns (total 18 columns):\n",
            " #   Column             Non-Null Count  Dtype  \n",
            "---  ------             --------------  -----  \n",
            " 0   Compound           5329 non-null   object \n",
            " 1   A                  5329 non-null   object \n",
            " 2   B                  5329 non-null   object \n",
            " 3   In literature      5329 non-null   bool   \n",
            " 4   v(A)               3448 non-null   float64\n",
            " 5   v(B)               3448 non-null   float64\n",
            " 6   r(AXII)(Å)         5329 non-null   float64\n",
            " 7   r(AVI)(Å)          5329 non-null   float64\n",
            " 8   r(BVI)(Å)          5329 non-null   float64\n",
            " 9   EN(A)              5329 non-null   float64\n",
            " 10  EN(B)              5329 non-null   float64\n",
            " 11  l(A-O)(Å)          5329 non-null   float64\n",
            " 12  l(B-O)(Å)          5329 non-null   float64\n",
            " 13  ΔENR               5329 non-null   float64\n",
            " 14  tG                 5329 non-null   float64\n",
            " 15  τ                  2186 non-null   float64\n",
            " 16  μ                  5329 non-null   float64\n",
            " 17  Lowest distortion  5329 non-null   object \n",
            "dtypes: bool(1), float64(13), object(4)\n",
            "memory usage: 713.1+ KB\n"
          ]
        }
      ]
    },
    {
      "cell_type": "code",
      "source": [
        "ds_df[\"A\"].value_counts()"
      ],
      "metadata": {
        "colab": {
          "base_uri": "https://localhost:8080/"
        },
        "id": "qwMfdC4pWiEM",
        "outputId": "3ec74b43-5d6c-4782-c9eb-a664817d6e37"
      },
      "execution_count": 79,
      "outputs": [
        {
          "output_type": "execute_result",
          "data": {
            "text/plain": [
              "Ac    73\n",
              "Nd    73\n",
              "Sc    73\n",
              "Sb    73\n",
              "Ru    73\n",
              "      ..\n",
              "Hg    73\n",
              "Hf    73\n",
              "Ge    73\n",
              "Gd    73\n",
              "Zr    73\n",
              "Name: A, Length: 73, dtype: int64"
            ]
          },
          "metadata": {},
          "execution_count": 79
        }
      ]
    },
    {
      "cell_type": "code",
      "source": [
        "ds_df[\"Lowest distortion\"].value_counts()"
      ],
      "metadata": {
        "colab": {
          "base_uri": "https://localhost:8080/"
        },
        "id": "GljtwQCQW2_w",
        "outputId": "17066a0e-44d8-49f4-8bde-7b9f55d3d800"
      },
      "execution_count": 80,
      "outputs": [
        {
          "output_type": "execute_result",
          "data": {
            "text/plain": [
              "cubic           3253\n",
              "orthorhombic    1573\n",
              "rhombohedral     323\n",
              "tetragonal       127\n",
              "-                 53\n",
              "Name: Lowest distortion, dtype: int64"
            ]
          },
          "metadata": {},
          "execution_count": 80
        }
      ]
    },
    {
      "cell_type": "code",
      "source": [
        "ds_df.nunique()"
      ],
      "metadata": {
        "colab": {
          "base_uri": "https://localhost:8080/"
        },
        "id": "LJTsP960vQAN",
        "outputId": "2c235985-773c-4a8f-8a85-5a70b29d0e83"
      },
      "execution_count": 81,
      "outputs": [
        {
          "output_type": "execute_result",
          "data": {
            "text/plain": [
              "Compound             5329\n",
              "A                      73\n",
              "B                      73\n",
              "In literature           2\n",
              "v(A)                    6\n",
              "v(B)                    6\n",
              "r(AXII)(Å)             75\n",
              "r(AVI)(Å)              51\n",
              "r(BVI)(Å)              68\n",
              "EN(A)                  56\n",
              "EN(B)                  56\n",
              "l(A-O)(Å)              69\n",
              "l(B-O)(Å)              69\n",
              "ΔENR                 4912\n",
              "tG                   2936\n",
              "τ                    1607\n",
              "μ                      67\n",
              "Lowest distortion       5\n",
              "dtype: int64"
            ]
          },
          "metadata": {},
          "execution_count": 81
        }
      ]
    },
    {
      "cell_type": "code",
      "source": [
        "ds_df.describe().round(5)"
      ],
      "metadata": {
        "colab": {
          "base_uri": "https://localhost:8080/",
          "height": 381
        },
        "id": "7GLXDRumr6i8",
        "outputId": "df55ca98-1a15-4475-e033-8751e7ab1c1a"
      },
      "execution_count": 83,
      "outputs": [
        {
          "output_type": "execute_result",
          "data": {
            "text/plain": [
              "             v(A)        v(B)  r(AXII)(Å)   r(AVI)(Å)   r(BVI)(Å)       EN(A)  \\\n",
              "count  3448.00000  3448.00000  5329.00000  5329.00000  5329.00000  5329.00000   \n",
              "mean      1.60064     2.25377     0.97466     0.82562     0.81784     1.57247   \n",
              "std       1.35995     1.80311     0.33714     0.24500     0.24748     0.44925   \n",
              "min       0.00000     0.00000     0.27000     0.27000     0.27000     0.79000   \n",
              "25%       0.00000     0.00000     0.69000     0.63000     0.63000     1.20000   \n",
              "50%       2.00000     3.00000     0.93000     0.80000     0.77000     1.55000   \n",
              "75%       3.00000     4.00000     1.18000     0.95000     0.95000     1.93000   \n",
              "max       5.00000     5.00000     1.88000     1.67000     1.67000     2.54000   \n",
              "\n",
              "            EN(B)   l(A-O)(Å)   l(B-O)(Å)        ΔENR          tG           τ  \\\n",
              "count  5329.00000  5329.00000  5329.00000  5329.00000  5329.00000  2186.00000   \n",
              "mean      1.57247     2.28980     2.01259    -2.19999     0.76609     2.50386   \n",
              "std       0.44925     0.66424     0.59851     0.66847     0.13628    35.37152   \n",
              "min       0.79000     0.00000     0.00000    -5.41154     0.38465  -496.86613   \n",
              "25%       1.20000     2.29064     1.95681    -2.60482     0.66854     1.60981   \n",
              "50%       1.55000     2.39344     2.09614    -2.10118     0.75644     4.14159   \n",
              "75%       1.93000     2.57181     2.28644    -1.71150     0.85063     6.66033   \n",
              "max       2.54000     3.30018     3.00975    -0.60171     1.38881   305.87135   \n",
              "\n",
              "                μ  \n",
              "count  5329.00000  \n",
              "mean      0.58418  \n",
              "std       0.17677  \n",
              "min       0.19286  \n",
              "25%       0.45000  \n",
              "50%       0.55000  \n",
              "75%       0.67857  \n",
              "max       1.19286  "
            ],
            "text/html": [
              "\n",
              "  <div id=\"df-7ff2c95a-8a74-4707-a2fd-d96c1c3d20a3\">\n",
              "    <div class=\"colab-df-container\">\n",
              "      <div>\n",
              "<style scoped>\n",
              "    .dataframe tbody tr th:only-of-type {\n",
              "        vertical-align: middle;\n",
              "    }\n",
              "\n",
              "    .dataframe tbody tr th {\n",
              "        vertical-align: top;\n",
              "    }\n",
              "\n",
              "    .dataframe thead th {\n",
              "        text-align: right;\n",
              "    }\n",
              "</style>\n",
              "<table border=\"1\" class=\"dataframe\">\n",
              "  <thead>\n",
              "    <tr style=\"text-align: right;\">\n",
              "      <th></th>\n",
              "      <th>v(A)</th>\n",
              "      <th>v(B)</th>\n",
              "      <th>r(AXII)(Å)</th>\n",
              "      <th>r(AVI)(Å)</th>\n",
              "      <th>r(BVI)(Å)</th>\n",
              "      <th>EN(A)</th>\n",
              "      <th>EN(B)</th>\n",
              "      <th>l(A-O)(Å)</th>\n",
              "      <th>l(B-O)(Å)</th>\n",
              "      <th>ΔENR</th>\n",
              "      <th>tG</th>\n",
              "      <th>τ</th>\n",
              "      <th>μ</th>\n",
              "    </tr>\n",
              "  </thead>\n",
              "  <tbody>\n",
              "    <tr>\n",
              "      <th>count</th>\n",
              "      <td>3448.00000</td>\n",
              "      <td>3448.00000</td>\n",
              "      <td>5329.00000</td>\n",
              "      <td>5329.00000</td>\n",
              "      <td>5329.00000</td>\n",
              "      <td>5329.00000</td>\n",
              "      <td>5329.00000</td>\n",
              "      <td>5329.00000</td>\n",
              "      <td>5329.00000</td>\n",
              "      <td>5329.00000</td>\n",
              "      <td>5329.00000</td>\n",
              "      <td>2186.00000</td>\n",
              "      <td>5329.00000</td>\n",
              "    </tr>\n",
              "    <tr>\n",
              "      <th>mean</th>\n",
              "      <td>1.60064</td>\n",
              "      <td>2.25377</td>\n",
              "      <td>0.97466</td>\n",
              "      <td>0.82562</td>\n",
              "      <td>0.81784</td>\n",
              "      <td>1.57247</td>\n",
              "      <td>1.57247</td>\n",
              "      <td>2.28980</td>\n",
              "      <td>2.01259</td>\n",
              "      <td>-2.19999</td>\n",
              "      <td>0.76609</td>\n",
              "      <td>2.50386</td>\n",
              "      <td>0.58418</td>\n",
              "    </tr>\n",
              "    <tr>\n",
              "      <th>std</th>\n",
              "      <td>1.35995</td>\n",
              "      <td>1.80311</td>\n",
              "      <td>0.33714</td>\n",
              "      <td>0.24500</td>\n",
              "      <td>0.24748</td>\n",
              "      <td>0.44925</td>\n",
              "      <td>0.44925</td>\n",
              "      <td>0.66424</td>\n",
              "      <td>0.59851</td>\n",
              "      <td>0.66847</td>\n",
              "      <td>0.13628</td>\n",
              "      <td>35.37152</td>\n",
              "      <td>0.17677</td>\n",
              "    </tr>\n",
              "    <tr>\n",
              "      <th>min</th>\n",
              "      <td>0.00000</td>\n",
              "      <td>0.00000</td>\n",
              "      <td>0.27000</td>\n",
              "      <td>0.27000</td>\n",
              "      <td>0.27000</td>\n",
              "      <td>0.79000</td>\n",
              "      <td>0.79000</td>\n",
              "      <td>0.00000</td>\n",
              "      <td>0.00000</td>\n",
              "      <td>-5.41154</td>\n",
              "      <td>0.38465</td>\n",
              "      <td>-496.86613</td>\n",
              "      <td>0.19286</td>\n",
              "    </tr>\n",
              "    <tr>\n",
              "      <th>25%</th>\n",
              "      <td>0.00000</td>\n",
              "      <td>0.00000</td>\n",
              "      <td>0.69000</td>\n",
              "      <td>0.63000</td>\n",
              "      <td>0.63000</td>\n",
              "      <td>1.20000</td>\n",
              "      <td>1.20000</td>\n",
              "      <td>2.29064</td>\n",
              "      <td>1.95681</td>\n",
              "      <td>-2.60482</td>\n",
              "      <td>0.66854</td>\n",
              "      <td>1.60981</td>\n",
              "      <td>0.45000</td>\n",
              "    </tr>\n",
              "    <tr>\n",
              "      <th>50%</th>\n",
              "      <td>2.00000</td>\n",
              "      <td>3.00000</td>\n",
              "      <td>0.93000</td>\n",
              "      <td>0.80000</td>\n",
              "      <td>0.77000</td>\n",
              "      <td>1.55000</td>\n",
              "      <td>1.55000</td>\n",
              "      <td>2.39344</td>\n",
              "      <td>2.09614</td>\n",
              "      <td>-2.10118</td>\n",
              "      <td>0.75644</td>\n",
              "      <td>4.14159</td>\n",
              "      <td>0.55000</td>\n",
              "    </tr>\n",
              "    <tr>\n",
              "      <th>75%</th>\n",
              "      <td>3.00000</td>\n",
              "      <td>4.00000</td>\n",
              "      <td>1.18000</td>\n",
              "      <td>0.95000</td>\n",
              "      <td>0.95000</td>\n",
              "      <td>1.93000</td>\n",
              "      <td>1.93000</td>\n",
              "      <td>2.57181</td>\n",
              "      <td>2.28644</td>\n",
              "      <td>-1.71150</td>\n",
              "      <td>0.85063</td>\n",
              "      <td>6.66033</td>\n",
              "      <td>0.67857</td>\n",
              "    </tr>\n",
              "    <tr>\n",
              "      <th>max</th>\n",
              "      <td>5.00000</td>\n",
              "      <td>5.00000</td>\n",
              "      <td>1.88000</td>\n",
              "      <td>1.67000</td>\n",
              "      <td>1.67000</td>\n",
              "      <td>2.54000</td>\n",
              "      <td>2.54000</td>\n",
              "      <td>3.30018</td>\n",
              "      <td>3.00975</td>\n",
              "      <td>-0.60171</td>\n",
              "      <td>1.38881</td>\n",
              "      <td>305.87135</td>\n",
              "      <td>1.19286</td>\n",
              "    </tr>\n",
              "  </tbody>\n",
              "</table>\n",
              "</div>\n",
              "      <button class=\"colab-df-convert\" onclick=\"convertToInteractive('df-7ff2c95a-8a74-4707-a2fd-d96c1c3d20a3')\"\n",
              "              title=\"Convert this dataframe to an interactive table.\"\n",
              "              style=\"display:none;\">\n",
              "        \n",
              "  <svg xmlns=\"http://www.w3.org/2000/svg\" height=\"24px\"viewBox=\"0 0 24 24\"\n",
              "       width=\"24px\">\n",
              "    <path d=\"M0 0h24v24H0V0z\" fill=\"none\"/>\n",
              "    <path d=\"M18.56 5.44l.94 2.06.94-2.06 2.06-.94-2.06-.94-.94-2.06-.94 2.06-2.06.94zm-11 1L8.5 8.5l.94-2.06 2.06-.94-2.06-.94L8.5 2.5l-.94 2.06-2.06.94zm10 10l.94 2.06.94-2.06 2.06-.94-2.06-.94-.94-2.06-.94 2.06-2.06.94z\"/><path d=\"M17.41 7.96l-1.37-1.37c-.4-.4-.92-.59-1.43-.59-.52 0-1.04.2-1.43.59L10.3 9.45l-7.72 7.72c-.78.78-.78 2.05 0 2.83L4 21.41c.39.39.9.59 1.41.59.51 0 1.02-.2 1.41-.59l7.78-7.78 2.81-2.81c.8-.78.8-2.07 0-2.86zM5.41 20L4 18.59l7.72-7.72 1.47 1.35L5.41 20z\"/>\n",
              "  </svg>\n",
              "      </button>\n",
              "      \n",
              "  <style>\n",
              "    .colab-df-container {\n",
              "      display:flex;\n",
              "      flex-wrap:wrap;\n",
              "      gap: 12px;\n",
              "    }\n",
              "\n",
              "    .colab-df-convert {\n",
              "      background-color: #E8F0FE;\n",
              "      border: none;\n",
              "      border-radius: 50%;\n",
              "      cursor: pointer;\n",
              "      display: none;\n",
              "      fill: #1967D2;\n",
              "      height: 32px;\n",
              "      padding: 0 0 0 0;\n",
              "      width: 32px;\n",
              "    }\n",
              "\n",
              "    .colab-df-convert:hover {\n",
              "      background-color: #E2EBFA;\n",
              "      box-shadow: 0px 1px 2px rgba(60, 64, 67, 0.3), 0px 1px 3px 1px rgba(60, 64, 67, 0.15);\n",
              "      fill: #174EA6;\n",
              "    }\n",
              "\n",
              "    [theme=dark] .colab-df-convert {\n",
              "      background-color: #3B4455;\n",
              "      fill: #D2E3FC;\n",
              "    }\n",
              "\n",
              "    [theme=dark] .colab-df-convert:hover {\n",
              "      background-color: #434B5C;\n",
              "      box-shadow: 0px 1px 3px 1px rgba(0, 0, 0, 0.15);\n",
              "      filter: drop-shadow(0px 1px 2px rgba(0, 0, 0, 0.3));\n",
              "      fill: #FFFFFF;\n",
              "    }\n",
              "  </style>\n",
              "\n",
              "      <script>\n",
              "        const buttonEl =\n",
              "          document.querySelector('#df-7ff2c95a-8a74-4707-a2fd-d96c1c3d20a3 button.colab-df-convert');\n",
              "        buttonEl.style.display =\n",
              "          google.colab.kernel.accessAllowed ? 'block' : 'none';\n",
              "\n",
              "        async function convertToInteractive(key) {\n",
              "          const element = document.querySelector('#df-7ff2c95a-8a74-4707-a2fd-d96c1c3d20a3');\n",
              "          const dataTable =\n",
              "            await google.colab.kernel.invokeFunction('convertToInteractive',\n",
              "                                                     [key], {});\n",
              "          if (!dataTable) return;\n",
              "\n",
              "          const docLinkHtml = 'Like what you see? Visit the ' +\n",
              "            '<a target=\"_blank\" href=https://colab.research.google.com/notebooks/data_table.ipynb>data table notebook</a>'\n",
              "            + ' to learn more about interactive tables.';\n",
              "          element.innerHTML = '';\n",
              "          dataTable['output_type'] = 'display_data';\n",
              "          await google.colab.output.renderOutput(dataTable, element);\n",
              "          const docLink = document.createElement('div');\n",
              "          docLink.innerHTML = docLinkHtml;\n",
              "          element.appendChild(docLink);\n",
              "        }\n",
              "      </script>\n",
              "    </div>\n",
              "  </div>\n",
              "  "
            ]
          },
          "metadata": {},
          "execution_count": 83
        }
      ]
    },
    {
      "cell_type": "markdown",
      "source": [
        "\n",
        "# II. Preprocessing"
      ],
      "metadata": {
        "id": "O8lUlQCJsJhx"
      }
    },
    {
      "cell_type": "code",
      "source": [
        "train_df, test_df = train_test_split(\n",
        "    ds_df, test_size=0.20, stratify=ds_df[\"Lowest distortion\"], random_state=1)"
      ],
      "metadata": {
        "id": "bdlYT0C6sVQC"
      },
      "execution_count": 84,
      "outputs": []
    },
    {
      "cell_type": "markdown",
      "source": [
        "# III. Create Models"
      ],
      "metadata": {
        "id": "0V1W04AjslJD"
      }
    },
    {
      "cell_type": "code",
      "source": [
        "exp_clf101 = setup(data=train_df, target = \"Lowest distortion\", session_id=123,\n",
        "                   ignore_features=['Compound', 'A', 'B',],\n",
        "                   fix_imbalance=True)\n"
      ],
      "metadata": {
        "colab": {
          "base_uri": "https://localhost:8080/",
          "height": 801
        },
        "id": "UUDwZKDmsoJ8",
        "outputId": "7ee1cfc5-22ab-4d95-9b15-3504c337a06c"
      },
      "execution_count": 86,
      "outputs": [
        {
          "output_type": "display_data",
          "data": {
            "text/plain": [
              "<pandas.io.formats.style.Styler at 0x7f616eeda740>"
            ],
            "text/html": [
              "<style type=\"text/css\">\n",
              "#T_47423_row11_col1, #T_47423_row15_col1 {\n",
              "  background-color: lightgreen;\n",
              "}\n",
              "</style>\n",
              "<table id=\"T_47423\" class=\"dataframe\">\n",
              "  <thead>\n",
              "    <tr>\n",
              "      <th class=\"blank level0\" >&nbsp;</th>\n",
              "      <th id=\"T_47423_level0_col0\" class=\"col_heading level0 col0\" >Description</th>\n",
              "      <th id=\"T_47423_level0_col1\" class=\"col_heading level0 col1\" >Value</th>\n",
              "    </tr>\n",
              "  </thead>\n",
              "  <tbody>\n",
              "    <tr>\n",
              "      <th id=\"T_47423_level0_row0\" class=\"row_heading level0 row0\" >0</th>\n",
              "      <td id=\"T_47423_row0_col0\" class=\"data row0 col0\" >Session id</td>\n",
              "      <td id=\"T_47423_row0_col1\" class=\"data row0 col1\" >123</td>\n",
              "    </tr>\n",
              "    <tr>\n",
              "      <th id=\"T_47423_level0_row1\" class=\"row_heading level0 row1\" >1</th>\n",
              "      <td id=\"T_47423_row1_col0\" class=\"data row1 col0\" >Target</td>\n",
              "      <td id=\"T_47423_row1_col1\" class=\"data row1 col1\" >Lowest distortion</td>\n",
              "    </tr>\n",
              "    <tr>\n",
              "      <th id=\"T_47423_level0_row2\" class=\"row_heading level0 row2\" >2</th>\n",
              "      <td id=\"T_47423_row2_col0\" class=\"data row2 col0\" >Target type</td>\n",
              "      <td id=\"T_47423_row2_col1\" class=\"data row2 col1\" >Multiclass</td>\n",
              "    </tr>\n",
              "    <tr>\n",
              "      <th id=\"T_47423_level0_row3\" class=\"row_heading level0 row3\" >3</th>\n",
              "      <td id=\"T_47423_row3_col0\" class=\"data row3 col0\" >Target mapping</td>\n",
              "      <td id=\"T_47423_row3_col1\" class=\"data row3 col1\" >-: 0, cubic: 1, orthorhombic: 2, rhombohedral: 3, tetragonal: 4</td>\n",
              "    </tr>\n",
              "    <tr>\n",
              "      <th id=\"T_47423_level0_row4\" class=\"row_heading level0 row4\" >4</th>\n",
              "      <td id=\"T_47423_row4_col0\" class=\"data row4 col0\" >Original data shape</td>\n",
              "      <td id=\"T_47423_row4_col1\" class=\"data row4 col1\" >(4263, 18)</td>\n",
              "    </tr>\n",
              "    <tr>\n",
              "      <th id=\"T_47423_level0_row5\" class=\"row_heading level0 row5\" >5</th>\n",
              "      <td id=\"T_47423_row5_col0\" class=\"data row5 col0\" >Transformed data shape</td>\n",
              "      <td id=\"T_47423_row5_col1\" class=\"data row5 col1\" >(10384, 15)</td>\n",
              "    </tr>\n",
              "    <tr>\n",
              "      <th id=\"T_47423_level0_row6\" class=\"row_heading level0 row6\" >6</th>\n",
              "      <td id=\"T_47423_row6_col0\" class=\"data row6 col0\" >Transformed train set shape</td>\n",
              "      <td id=\"T_47423_row6_col1\" class=\"data row6 col1\" >(9105, 15)</td>\n",
              "    </tr>\n",
              "    <tr>\n",
              "      <th id=\"T_47423_level0_row7\" class=\"row_heading level0 row7\" >7</th>\n",
              "      <td id=\"T_47423_row7_col0\" class=\"data row7 col0\" >Transformed test set shape</td>\n",
              "      <td id=\"T_47423_row7_col1\" class=\"data row7 col1\" >(1279, 15)</td>\n",
              "    </tr>\n",
              "    <tr>\n",
              "      <th id=\"T_47423_level0_row8\" class=\"row_heading level0 row8\" >8</th>\n",
              "      <td id=\"T_47423_row8_col0\" class=\"data row8 col0\" >Ignore features</td>\n",
              "      <td id=\"T_47423_row8_col1\" class=\"data row8 col1\" >3</td>\n",
              "    </tr>\n",
              "    <tr>\n",
              "      <th id=\"T_47423_level0_row9\" class=\"row_heading level0 row9\" >9</th>\n",
              "      <td id=\"T_47423_row9_col0\" class=\"data row9 col0\" >Numeric features</td>\n",
              "      <td id=\"T_47423_row9_col1\" class=\"data row9 col1\" >13</td>\n",
              "    </tr>\n",
              "    <tr>\n",
              "      <th id=\"T_47423_level0_row10\" class=\"row_heading level0 row10\" >10</th>\n",
              "      <td id=\"T_47423_row10_col0\" class=\"data row10 col0\" >Rows with missing values</td>\n",
              "      <td id=\"T_47423_row10_col1\" class=\"data row10 col1\" >59.4%</td>\n",
              "    </tr>\n",
              "    <tr>\n",
              "      <th id=\"T_47423_level0_row11\" class=\"row_heading level0 row11\" >11</th>\n",
              "      <td id=\"T_47423_row11_col0\" class=\"data row11 col0\" >Preprocess</td>\n",
              "      <td id=\"T_47423_row11_col1\" class=\"data row11 col1\" >True</td>\n",
              "    </tr>\n",
              "    <tr>\n",
              "      <th id=\"T_47423_level0_row12\" class=\"row_heading level0 row12\" >12</th>\n",
              "      <td id=\"T_47423_row12_col0\" class=\"data row12 col0\" >Imputation type</td>\n",
              "      <td id=\"T_47423_row12_col1\" class=\"data row12 col1\" >simple</td>\n",
              "    </tr>\n",
              "    <tr>\n",
              "      <th id=\"T_47423_level0_row13\" class=\"row_heading level0 row13\" >13</th>\n",
              "      <td id=\"T_47423_row13_col0\" class=\"data row13 col0\" >Numeric imputation</td>\n",
              "      <td id=\"T_47423_row13_col1\" class=\"data row13 col1\" >mean</td>\n",
              "    </tr>\n",
              "    <tr>\n",
              "      <th id=\"T_47423_level0_row14\" class=\"row_heading level0 row14\" >14</th>\n",
              "      <td id=\"T_47423_row14_col0\" class=\"data row14 col0\" >Categorical imputation</td>\n",
              "      <td id=\"T_47423_row14_col1\" class=\"data row14 col1\" >mode</td>\n",
              "    </tr>\n",
              "    <tr>\n",
              "      <th id=\"T_47423_level0_row15\" class=\"row_heading level0 row15\" >15</th>\n",
              "      <td id=\"T_47423_row15_col0\" class=\"data row15 col0\" >Fix imbalance</td>\n",
              "      <td id=\"T_47423_row15_col1\" class=\"data row15 col1\" >True</td>\n",
              "    </tr>\n",
              "    <tr>\n",
              "      <th id=\"T_47423_level0_row16\" class=\"row_heading level0 row16\" >16</th>\n",
              "      <td id=\"T_47423_row16_col0\" class=\"data row16 col0\" >Fix imbalance method</td>\n",
              "      <td id=\"T_47423_row16_col1\" class=\"data row16 col1\" >SMOTE</td>\n",
              "    </tr>\n",
              "    <tr>\n",
              "      <th id=\"T_47423_level0_row17\" class=\"row_heading level0 row17\" >17</th>\n",
              "      <td id=\"T_47423_row17_col0\" class=\"data row17 col0\" >Fold Generator</td>\n",
              "      <td id=\"T_47423_row17_col1\" class=\"data row17 col1\" >StratifiedKFold</td>\n",
              "    </tr>\n",
              "    <tr>\n",
              "      <th id=\"T_47423_level0_row18\" class=\"row_heading level0 row18\" >18</th>\n",
              "      <td id=\"T_47423_row18_col0\" class=\"data row18 col0\" >Fold Number</td>\n",
              "      <td id=\"T_47423_row18_col1\" class=\"data row18 col1\" >10</td>\n",
              "    </tr>\n",
              "    <tr>\n",
              "      <th id=\"T_47423_level0_row19\" class=\"row_heading level0 row19\" >19</th>\n",
              "      <td id=\"T_47423_row19_col0\" class=\"data row19 col0\" >CPU Jobs</td>\n",
              "      <td id=\"T_47423_row19_col1\" class=\"data row19 col1\" >-1</td>\n",
              "    </tr>\n",
              "    <tr>\n",
              "      <th id=\"T_47423_level0_row20\" class=\"row_heading level0 row20\" >20</th>\n",
              "      <td id=\"T_47423_row20_col0\" class=\"data row20 col0\" >Use GPU</td>\n",
              "      <td id=\"T_47423_row20_col1\" class=\"data row20 col1\" >False</td>\n",
              "    </tr>\n",
              "    <tr>\n",
              "      <th id=\"T_47423_level0_row21\" class=\"row_heading level0 row21\" >21</th>\n",
              "      <td id=\"T_47423_row21_col0\" class=\"data row21 col0\" >Log Experiment</td>\n",
              "      <td id=\"T_47423_row21_col1\" class=\"data row21 col1\" >False</td>\n",
              "    </tr>\n",
              "    <tr>\n",
              "      <th id=\"T_47423_level0_row22\" class=\"row_heading level0 row22\" >22</th>\n",
              "      <td id=\"T_47423_row22_col0\" class=\"data row22 col0\" >Experiment Name</td>\n",
              "      <td id=\"T_47423_row22_col1\" class=\"data row22 col1\" >clf-default-name</td>\n",
              "    </tr>\n",
              "    <tr>\n",
              "      <th id=\"T_47423_level0_row23\" class=\"row_heading level0 row23\" >23</th>\n",
              "      <td id=\"T_47423_row23_col0\" class=\"data row23 col0\" >USI</td>\n",
              "      <td id=\"T_47423_row23_col1\" class=\"data row23 col1\" >2a08</td>\n",
              "    </tr>\n",
              "  </tbody>\n",
              "</table>\n"
            ]
          },
          "metadata": {}
        }
      ]
    },
    {
      "cell_type": "code",
      "source": [
        "best_model = compare_models(fold=5)\n"
      ],
      "metadata": {
        "colab": {
          "base_uri": "https://localhost:8080/",
          "height": 519,
          "referenced_widgets": [
            "4ba734fbd3984e17afe0f133ec0e2194",
            "0a2d50f531864d64bb3baae60ddbde27",
            "f0c0345cce02417db8628e1ac5fa8591",
            "62ef5bab6f7f4018914e6c05481b1a1a",
            "652c7bff09ad4f919b15e8d967c10884",
            "d6df21bbae5a493ca0cfa35f2c0f2996",
            "35171afe08f041c59a19c1c974bf8970",
            "0c13a4fdbe1343fe8c07e36d14f3d978",
            "879e057a4fe14347a044e48af8028fdb",
            "16da0d3651584a0398054fc63ee6e9b2",
            "92f9a727df324ac5b51cb87c0cf096b0"
          ]
        },
        "id": "ujtCH1wksuFG",
        "outputId": "30ca06a1-bd4a-47d0-935e-b91a75c0bf4f"
      },
      "execution_count": 87,
      "outputs": [
        {
          "output_type": "display_data",
          "data": {
            "text/plain": [
              "<IPython.core.display.HTML object>"
            ],
            "text/html": []
          },
          "metadata": {}
        },
        {
          "output_type": "display_data",
          "data": {
            "text/plain": [
              "<pandas.io.formats.style.Styler at 0x7f617064d780>"
            ],
            "text/html": [
              "<style type=\"text/css\">\n",
              "#T_b3ada th {\n",
              "  text-align: left;\n",
              "}\n",
              "#T_b3ada_row0_col0, #T_b3ada_row0_col2, #T_b3ada_row0_col4, #T_b3ada_row1_col0, #T_b3ada_row1_col1, #T_b3ada_row1_col3, #T_b3ada_row1_col5, #T_b3ada_row1_col6, #T_b3ada_row1_col7, #T_b3ada_row2_col0, #T_b3ada_row2_col1, #T_b3ada_row2_col2, #T_b3ada_row2_col3, #T_b3ada_row2_col4, #T_b3ada_row2_col5, #T_b3ada_row2_col6, #T_b3ada_row2_col7, #T_b3ada_row3_col0, #T_b3ada_row3_col1, #T_b3ada_row3_col2, #T_b3ada_row3_col3, #T_b3ada_row3_col4, #T_b3ada_row3_col5, #T_b3ada_row3_col6, #T_b3ada_row3_col7, #T_b3ada_row4_col0, #T_b3ada_row4_col1, #T_b3ada_row4_col2, #T_b3ada_row4_col3, #T_b3ada_row4_col4, #T_b3ada_row4_col5, #T_b3ada_row4_col6, #T_b3ada_row4_col7, #T_b3ada_row5_col0, #T_b3ada_row5_col1, #T_b3ada_row5_col2, #T_b3ada_row5_col3, #T_b3ada_row5_col4, #T_b3ada_row5_col5, #T_b3ada_row5_col6, #T_b3ada_row5_col7, #T_b3ada_row6_col0, #T_b3ada_row6_col1, #T_b3ada_row6_col2, #T_b3ada_row6_col3, #T_b3ada_row6_col4, #T_b3ada_row6_col5, #T_b3ada_row6_col6, #T_b3ada_row6_col7, #T_b3ada_row7_col0, #T_b3ada_row7_col1, #T_b3ada_row7_col2, #T_b3ada_row7_col3, #T_b3ada_row7_col4, #T_b3ada_row7_col5, #T_b3ada_row7_col6, #T_b3ada_row7_col7, #T_b3ada_row8_col0, #T_b3ada_row8_col1, #T_b3ada_row8_col2, #T_b3ada_row8_col3, #T_b3ada_row8_col4, #T_b3ada_row8_col5, #T_b3ada_row8_col6, #T_b3ada_row8_col7, #T_b3ada_row9_col0, #T_b3ada_row9_col1, #T_b3ada_row9_col2, #T_b3ada_row9_col3, #T_b3ada_row9_col4, #T_b3ada_row9_col5, #T_b3ada_row9_col6, #T_b3ada_row9_col7, #T_b3ada_row10_col0, #T_b3ada_row10_col1, #T_b3ada_row10_col2, #T_b3ada_row10_col3, #T_b3ada_row10_col4, #T_b3ada_row10_col5, #T_b3ada_row10_col6, #T_b3ada_row10_col7, #T_b3ada_row11_col0, #T_b3ada_row11_col1, #T_b3ada_row11_col2, #T_b3ada_row11_col3, #T_b3ada_row11_col4, #T_b3ada_row11_col5, #T_b3ada_row11_col6, #T_b3ada_row11_col7, #T_b3ada_row12_col0, #T_b3ada_row12_col1, #T_b3ada_row12_col2, #T_b3ada_row12_col3, #T_b3ada_row12_col4, #T_b3ada_row12_col5, #T_b3ada_row12_col6, #T_b3ada_row12_col7, #T_b3ada_row13_col0, #T_b3ada_row13_col1, #T_b3ada_row13_col2, #T_b3ada_row13_col3, #T_b3ada_row13_col4, #T_b3ada_row13_col5, #T_b3ada_row13_col6, #T_b3ada_row13_col7, #T_b3ada_row14_col0, #T_b3ada_row14_col1, #T_b3ada_row14_col2, #T_b3ada_row14_col3, #T_b3ada_row14_col4, #T_b3ada_row14_col5, #T_b3ada_row14_col6, #T_b3ada_row14_col7 {\n",
              "  text-align: left;\n",
              "}\n",
              "#T_b3ada_row0_col1, #T_b3ada_row0_col3, #T_b3ada_row0_col5, #T_b3ada_row0_col6, #T_b3ada_row0_col7, #T_b3ada_row1_col2, #T_b3ada_row1_col4 {\n",
              "  text-align: left;\n",
              "  background-color: yellow;\n",
              "}\n",
              "#T_b3ada_row0_col8, #T_b3ada_row1_col8, #T_b3ada_row2_col8, #T_b3ada_row3_col8, #T_b3ada_row4_col8, #T_b3ada_row5_col8, #T_b3ada_row6_col8, #T_b3ada_row7_col8, #T_b3ada_row8_col8, #T_b3ada_row10_col8, #T_b3ada_row11_col8, #T_b3ada_row12_col8, #T_b3ada_row13_col8, #T_b3ada_row14_col8 {\n",
              "  text-align: left;\n",
              "  background-color: lightgrey;\n",
              "}\n",
              "#T_b3ada_row9_col8 {\n",
              "  text-align: left;\n",
              "  background-color: yellow;\n",
              "  background-color: lightgrey;\n",
              "}\n",
              "</style>\n",
              "<table id=\"T_b3ada\" class=\"dataframe\">\n",
              "  <thead>\n",
              "    <tr>\n",
              "      <th class=\"blank level0\" >&nbsp;</th>\n",
              "      <th id=\"T_b3ada_level0_col0\" class=\"col_heading level0 col0\" >Model</th>\n",
              "      <th id=\"T_b3ada_level0_col1\" class=\"col_heading level0 col1\" >Accuracy</th>\n",
              "      <th id=\"T_b3ada_level0_col2\" class=\"col_heading level0 col2\" >AUC</th>\n",
              "      <th id=\"T_b3ada_level0_col3\" class=\"col_heading level0 col3\" >Recall</th>\n",
              "      <th id=\"T_b3ada_level0_col4\" class=\"col_heading level0 col4\" >Prec.</th>\n",
              "      <th id=\"T_b3ada_level0_col5\" class=\"col_heading level0 col5\" >F1</th>\n",
              "      <th id=\"T_b3ada_level0_col6\" class=\"col_heading level0 col6\" >Kappa</th>\n",
              "      <th id=\"T_b3ada_level0_col7\" class=\"col_heading level0 col7\" >MCC</th>\n",
              "      <th id=\"T_b3ada_level0_col8\" class=\"col_heading level0 col8\" >TT (Sec)</th>\n",
              "    </tr>\n",
              "  </thead>\n",
              "  <tbody>\n",
              "    <tr>\n",
              "      <th id=\"T_b3ada_level0_row0\" class=\"row_heading level0 row0\" >xgboost</th>\n",
              "      <td id=\"T_b3ada_row0_col0\" class=\"data row0 col0\" >Extreme Gradient Boosting</td>\n",
              "      <td id=\"T_b3ada_row0_col1\" class=\"data row0 col1\" >0.7510</td>\n",
              "      <td id=\"T_b3ada_row0_col2\" class=\"data row0 col2\" >0.8739</td>\n",
              "      <td id=\"T_b3ada_row0_col3\" class=\"data row0 col3\" >0.7510</td>\n",
              "      <td id=\"T_b3ada_row0_col4\" class=\"data row0 col4\" >0.7554</td>\n",
              "      <td id=\"T_b3ada_row0_col5\" class=\"data row0 col5\" >0.7521</td>\n",
              "      <td id=\"T_b3ada_row0_col6\" class=\"data row0 col6\" >0.5376</td>\n",
              "      <td id=\"T_b3ada_row0_col7\" class=\"data row0 col7\" >0.5383</td>\n",
              "      <td id=\"T_b3ada_row0_col8\" class=\"data row0 col8\" >8.3440</td>\n",
              "    </tr>\n",
              "    <tr>\n",
              "      <th id=\"T_b3ada_level0_row1\" class=\"row_heading level0 row1\" >lightgbm</th>\n",
              "      <td id=\"T_b3ada_row1_col0\" class=\"data row1 col0\" >Light Gradient Boosting Machine</td>\n",
              "      <td id=\"T_b3ada_row1_col1\" class=\"data row1 col1\" >0.7493</td>\n",
              "      <td id=\"T_b3ada_row1_col2\" class=\"data row1 col2\" >0.8768</td>\n",
              "      <td id=\"T_b3ada_row1_col3\" class=\"data row1 col3\" >0.7493</td>\n",
              "      <td id=\"T_b3ada_row1_col4\" class=\"data row1 col4\" >0.7566</td>\n",
              "      <td id=\"T_b3ada_row1_col5\" class=\"data row1 col5\" >0.7518</td>\n",
              "      <td id=\"T_b3ada_row1_col6\" class=\"data row1 col6\" >0.5371</td>\n",
              "      <td id=\"T_b3ada_row1_col7\" class=\"data row1 col7\" >0.5377</td>\n",
              "      <td id=\"T_b3ada_row1_col8\" class=\"data row1 col8\" >2.3660</td>\n",
              "    </tr>\n",
              "    <tr>\n",
              "      <th id=\"T_b3ada_level0_row2\" class=\"row_heading level0 row2\" >rf</th>\n",
              "      <td id=\"T_b3ada_row2_col0\" class=\"data row2 col0\" >Random Forest Classifier</td>\n",
              "      <td id=\"T_b3ada_row2_col1\" class=\"data row2 col1\" >0.7379</td>\n",
              "      <td id=\"T_b3ada_row2_col2\" class=\"data row2 col2\" >0.8644</td>\n",
              "      <td id=\"T_b3ada_row2_col3\" class=\"data row2 col3\" >0.7379</td>\n",
              "      <td id=\"T_b3ada_row2_col4\" class=\"data row2 col4\" >0.7486</td>\n",
              "      <td id=\"T_b3ada_row2_col5\" class=\"data row2 col5\" >0.7420</td>\n",
              "      <td id=\"T_b3ada_row2_col6\" class=\"data row2 col6\" >0.5199</td>\n",
              "      <td id=\"T_b3ada_row2_col7\" class=\"data row2 col7\" >0.5206</td>\n",
              "      <td id=\"T_b3ada_row2_col8\" class=\"data row2 col8\" >1.9780</td>\n",
              "    </tr>\n",
              "    <tr>\n",
              "      <th id=\"T_b3ada_level0_row3\" class=\"row_heading level0 row3\" >et</th>\n",
              "      <td id=\"T_b3ada_row3_col0\" class=\"data row3 col0\" >Extra Trees Classifier</td>\n",
              "      <td id=\"T_b3ada_row3_col1\" class=\"data row3 col1\" >0.7242</td>\n",
              "      <td id=\"T_b3ada_row3_col2\" class=\"data row3 col2\" >0.8507</td>\n",
              "      <td id=\"T_b3ada_row3_col3\" class=\"data row3 col3\" >0.7242</td>\n",
              "      <td id=\"T_b3ada_row3_col4\" class=\"data row3 col4\" >0.7318</td>\n",
              "      <td id=\"T_b3ada_row3_col5\" class=\"data row3 col5\" >0.7272</td>\n",
              "      <td id=\"T_b3ada_row3_col6\" class=\"data row3 col6\" >0.4906</td>\n",
              "      <td id=\"T_b3ada_row3_col7\" class=\"data row3 col7\" >0.4910</td>\n",
              "      <td id=\"T_b3ada_row3_col8\" class=\"data row3 col8\" >1.2000</td>\n",
              "    </tr>\n",
              "    <tr>\n",
              "      <th id=\"T_b3ada_level0_row4\" class=\"row_heading level0 row4\" >gbc</th>\n",
              "      <td id=\"T_b3ada_row4_col0\" class=\"data row4 col0\" >Gradient Boosting Classifier</td>\n",
              "      <td id=\"T_b3ada_row4_col1\" class=\"data row4 col1\" >0.6873</td>\n",
              "      <td id=\"T_b3ada_row4_col2\" class=\"data row4 col2\" >0.8402</td>\n",
              "      <td id=\"T_b3ada_row4_col3\" class=\"data row4 col3\" >0.6873</td>\n",
              "      <td id=\"T_b3ada_row4_col4\" class=\"data row4 col4\" >0.7371</td>\n",
              "      <td id=\"T_b3ada_row4_col5\" class=\"data row4 col5\" >0.7066</td>\n",
              "      <td id=\"T_b3ada_row4_col6\" class=\"data row4 col6\" >0.4619</td>\n",
              "      <td id=\"T_b3ada_row4_col7\" class=\"data row4 col7\" >0.4667</td>\n",
              "      <td id=\"T_b3ada_row4_col8\" class=\"data row4 col8\" >13.6520</td>\n",
              "    </tr>\n",
              "    <tr>\n",
              "      <th id=\"T_b3ada_level0_row5\" class=\"row_heading level0 row5\" >dt</th>\n",
              "      <td id=\"T_b3ada_row5_col0\" class=\"data row5 col0\" >Decision Tree Classifier</td>\n",
              "      <td id=\"T_b3ada_row5_col1\" class=\"data row5 col1\" >0.6572</td>\n",
              "      <td id=\"T_b3ada_row5_col2\" class=\"data row5 col2\" >0.7221</td>\n",
              "      <td id=\"T_b3ada_row5_col3\" class=\"data row5 col3\" >0.6572</td>\n",
              "      <td id=\"T_b3ada_row5_col4\" class=\"data row5 col4\" >0.6911</td>\n",
              "      <td id=\"T_b3ada_row5_col5\" class=\"data row5 col5\" >0.6712</td>\n",
              "      <td id=\"T_b3ada_row5_col6\" class=\"data row5 col6\" >0.3953</td>\n",
              "      <td id=\"T_b3ada_row5_col7\" class=\"data row5 col7\" >0.3977</td>\n",
              "      <td id=\"T_b3ada_row5_col8\" class=\"data row5 col8\" >0.3220</td>\n",
              "    </tr>\n",
              "    <tr>\n",
              "      <th id=\"T_b3ada_level0_row6\" class=\"row_heading level0 row6\" >knn</th>\n",
              "      <td id=\"T_b3ada_row6_col0\" class=\"data row6 col0\" >K Neighbors Classifier</td>\n",
              "      <td id=\"T_b3ada_row6_col1\" class=\"data row6 col1\" >0.5975</td>\n",
              "      <td id=\"T_b3ada_row6_col2\" class=\"data row6 col2\" >0.7698</td>\n",
              "      <td id=\"T_b3ada_row6_col3\" class=\"data row6 col3\" >0.5975</td>\n",
              "      <td id=\"T_b3ada_row6_col4\" class=\"data row6 col4\" >0.6956</td>\n",
              "      <td id=\"T_b3ada_row6_col5\" class=\"data row6 col5\" >0.6315</td>\n",
              "      <td id=\"T_b3ada_row6_col6\" class=\"data row6 col6\" >0.3535</td>\n",
              "      <td id=\"T_b3ada_row6_col7\" class=\"data row6 col7\" >0.3651</td>\n",
              "      <td id=\"T_b3ada_row6_col8\" class=\"data row6 col8\" >0.2660</td>\n",
              "    </tr>\n",
              "    <tr>\n",
              "      <th id=\"T_b3ada_level0_row7\" class=\"row_heading level0 row7\" >lda</th>\n",
              "      <td id=\"T_b3ada_row7_col0\" class=\"data row7 col0\" >Linear Discriminant Analysis</td>\n",
              "      <td id=\"T_b3ada_row7_col1\" class=\"data row7 col1\" >0.4270</td>\n",
              "      <td id=\"T_b3ada_row7_col2\" class=\"data row7 col2\" >0.6870</td>\n",
              "      <td id=\"T_b3ada_row7_col3\" class=\"data row7 col3\" >0.4270</td>\n",
              "      <td id=\"T_b3ada_row7_col4\" class=\"data row7 col4\" >0.6367</td>\n",
              "      <td id=\"T_b3ada_row7_col5\" class=\"data row7 col5\" >0.4854</td>\n",
              "      <td id=\"T_b3ada_row7_col6\" class=\"data row7 col6\" >0.1895</td>\n",
              "      <td id=\"T_b3ada_row7_col7\" class=\"data row7 col7\" >0.2100</td>\n",
              "      <td id=\"T_b3ada_row7_col8\" class=\"data row7 col8\" >0.2780</td>\n",
              "    </tr>\n",
              "    <tr>\n",
              "      <th id=\"T_b3ada_level0_row8\" class=\"row_heading level0 row8\" >ada</th>\n",
              "      <td id=\"T_b3ada_row8_col0\" class=\"data row8 col0\" >Ada Boost Classifier</td>\n",
              "      <td id=\"T_b3ada_row8_col1\" class=\"data row8 col1\" >0.4186</td>\n",
              "      <td id=\"T_b3ada_row8_col2\" class=\"data row8 col2\" >0.5787</td>\n",
              "      <td id=\"T_b3ada_row8_col3\" class=\"data row8 col3\" >0.4186</td>\n",
              "      <td id=\"T_b3ada_row8_col4\" class=\"data row8 col4\" >0.6406</td>\n",
              "      <td id=\"T_b3ada_row8_col5\" class=\"data row8 col5\" >0.4692</td>\n",
              "      <td id=\"T_b3ada_row8_col6\" class=\"data row8 col6\" >0.1920</td>\n",
              "      <td id=\"T_b3ada_row8_col7\" class=\"data row8 col7\" >0.2167</td>\n",
              "      <td id=\"T_b3ada_row8_col8\" class=\"data row8 col8\" >0.9240</td>\n",
              "    </tr>\n",
              "    <tr>\n",
              "      <th id=\"T_b3ada_level0_row9\" class=\"row_heading level0 row9\" >ridge</th>\n",
              "      <td id=\"T_b3ada_row9_col0\" class=\"data row9 col0\" >Ridge Classifier</td>\n",
              "      <td id=\"T_b3ada_row9_col1\" class=\"data row9 col1\" >0.3904</td>\n",
              "      <td id=\"T_b3ada_row9_col2\" class=\"data row9 col2\" >0.0000</td>\n",
              "      <td id=\"T_b3ada_row9_col3\" class=\"data row9 col3\" >0.3904</td>\n",
              "      <td id=\"T_b3ada_row9_col4\" class=\"data row9 col4\" >0.6434</td>\n",
              "      <td id=\"T_b3ada_row9_col5\" class=\"data row9 col5\" >0.4583</td>\n",
              "      <td id=\"T_b3ada_row9_col6\" class=\"data row9 col6\" >0.1694</td>\n",
              "      <td id=\"T_b3ada_row9_col7\" class=\"data row9 col7\" >0.1925</td>\n",
              "      <td id=\"T_b3ada_row9_col8\" class=\"data row9 col8\" >0.1600</td>\n",
              "    </tr>\n",
              "    <tr>\n",
              "      <th id=\"T_b3ada_level0_row10\" class=\"row_heading level0 row10\" >lr</th>\n",
              "      <td id=\"T_b3ada_row10_col0\" class=\"data row10 col0\" >Logistic Regression</td>\n",
              "      <td id=\"T_b3ada_row10_col1\" class=\"data row10 col1\" >0.3723</td>\n",
              "      <td id=\"T_b3ada_row10_col2\" class=\"data row10 col2\" >0.6933</td>\n",
              "      <td id=\"T_b3ada_row10_col3\" class=\"data row10 col3\" >0.3723</td>\n",
              "      <td id=\"T_b3ada_row10_col4\" class=\"data row10 col4\" >0.6326</td>\n",
              "      <td id=\"T_b3ada_row10_col5\" class=\"data row10 col5\" >0.4408</td>\n",
              "      <td id=\"T_b3ada_row10_col6\" class=\"data row10 col6\" >0.1567</td>\n",
              "      <td id=\"T_b3ada_row10_col7\" class=\"data row10 col7\" >0.1793</td>\n",
              "      <td id=\"T_b3ada_row10_col8\" class=\"data row10 col8\" >3.0420</td>\n",
              "    </tr>\n",
              "    <tr>\n",
              "      <th id=\"T_b3ada_level0_row11\" class=\"row_heading level0 row11\" >svm</th>\n",
              "      <td id=\"T_b3ada_row11_col0\" class=\"data row11 col0\" >SVM - Linear Kernel</td>\n",
              "      <td id=\"T_b3ada_row11_col1\" class=\"data row11 col1\" >0.2885</td>\n",
              "      <td id=\"T_b3ada_row11_col2\" class=\"data row11 col2\" >0.0000</td>\n",
              "      <td id=\"T_b3ada_row11_col3\" class=\"data row11 col3\" >0.2885</td>\n",
              "      <td id=\"T_b3ada_row11_col4\" class=\"data row11 col4\" >0.5836</td>\n",
              "      <td id=\"T_b3ada_row11_col5\" class=\"data row11 col5\" >0.3091</td>\n",
              "      <td id=\"T_b3ada_row11_col6\" class=\"data row11 col6\" >0.0615</td>\n",
              "      <td id=\"T_b3ada_row11_col7\" class=\"data row11 col7\" >0.0736</td>\n",
              "      <td id=\"T_b3ada_row11_col8\" class=\"data row11 col8\" >0.5680</td>\n",
              "    </tr>\n",
              "    <tr>\n",
              "      <th id=\"T_b3ada_level0_row12\" class=\"row_heading level0 row12\" >nb</th>\n",
              "      <td id=\"T_b3ada_row12_col0\" class=\"data row12 col0\" >Naive Bayes</td>\n",
              "      <td id=\"T_b3ada_row12_col1\" class=\"data row12 col1\" >0.2192</td>\n",
              "      <td id=\"T_b3ada_row12_col2\" class=\"data row12 col2\" >0.6013</td>\n",
              "      <td id=\"T_b3ada_row12_col3\" class=\"data row12 col3\" >0.2192</td>\n",
              "      <td id=\"T_b3ada_row12_col4\" class=\"data row12 col4\" >0.6602</td>\n",
              "      <td id=\"T_b3ada_row12_col5\" class=\"data row12 col5\" >0.3077</td>\n",
              "      <td id=\"T_b3ada_row12_col6\" class=\"data row12 col6\" >0.0783</td>\n",
              "      <td id=\"T_b3ada_row12_col7\" class=\"data row12 col7\" >0.1158</td>\n",
              "      <td id=\"T_b3ada_row12_col8\" class=\"data row12 col8\" >0.1960</td>\n",
              "    </tr>\n",
              "    <tr>\n",
              "      <th id=\"T_b3ada_level0_row13\" class=\"row_heading level0 row13\" >qda</th>\n",
              "      <td id=\"T_b3ada_row13_col0\" class=\"data row13 col0\" >Quadratic Discriminant Analysis</td>\n",
              "      <td id=\"T_b3ada_row13_col1\" class=\"data row13 col1\" >0.0101</td>\n",
              "      <td id=\"T_b3ada_row13_col2\" class=\"data row13 col2\" >0.0000</td>\n",
              "      <td id=\"T_b3ada_row13_col3\" class=\"data row13 col3\" >0.0101</td>\n",
              "      <td id=\"T_b3ada_row13_col4\" class=\"data row13 col4\" >0.0001</td>\n",
              "      <td id=\"T_b3ada_row13_col5\" class=\"data row13 col5\" >0.0002</td>\n",
              "      <td id=\"T_b3ada_row13_col6\" class=\"data row13 col6\" >0.0000</td>\n",
              "      <td id=\"T_b3ada_row13_col7\" class=\"data row13 col7\" >0.0000</td>\n",
              "      <td id=\"T_b3ada_row13_col8\" class=\"data row13 col8\" >0.3380</td>\n",
              "    </tr>\n",
              "    <tr>\n",
              "      <th id=\"T_b3ada_level0_row14\" class=\"row_heading level0 row14\" >dummy</th>\n",
              "      <td id=\"T_b3ada_row14_col0\" class=\"data row14 col0\" >Dummy Classifier</td>\n",
              "      <td id=\"T_b3ada_row14_col1\" class=\"data row14 col1\" >0.0101</td>\n",
              "      <td id=\"T_b3ada_row14_col2\" class=\"data row14 col2\" >0.5000</td>\n",
              "      <td id=\"T_b3ada_row14_col3\" class=\"data row14 col3\" >0.0101</td>\n",
              "      <td id=\"T_b3ada_row14_col4\" class=\"data row14 col4\" >0.0001</td>\n",
              "      <td id=\"T_b3ada_row14_col5\" class=\"data row14 col5\" >0.0002</td>\n",
              "      <td id=\"T_b3ada_row14_col6\" class=\"data row14 col6\" >0.0000</td>\n",
              "      <td id=\"T_b3ada_row14_col7\" class=\"data row14 col7\" >0.0000</td>\n",
              "      <td id=\"T_b3ada_row14_col8\" class=\"data row14 col8\" >0.1680</td>\n",
              "    </tr>\n",
              "  </tbody>\n",
              "</table>\n"
            ]
          },
          "metadata": {}
        },
        {
          "output_type": "display_data",
          "data": {
            "text/plain": [
              "Processing:   0%|          | 0/65 [00:00<?, ?it/s]"
            ],
            "application/vnd.jupyter.widget-view+json": {
              "version_major": 2,
              "version_minor": 0,
              "model_id": "4ba734fbd3984e17afe0f133ec0e2194"
            }
          },
          "metadata": {
            "application/vnd.jupyter.widget-view+json": {
              "colab": {
                "custom_widget_manager": {
                  "url": "https://ssl.gstatic.com/colaboratory-static/widgets/colab-cdn-widget-manager/b3e629b1971e1542/manager.min.js"
                }
              }
            }
          }
        },
        {
          "output_type": "display_data",
          "data": {
            "text/plain": [
              "<IPython.core.display.HTML object>"
            ],
            "text/html": []
          },
          "metadata": {}
        }
      ]
    },
    {
      "cell_type": "code",
      "source": [
        "plot_model(best_model, plot = \"confusion_matrix\")"
      ],
      "metadata": {
        "colab": {
          "base_uri": "https://localhost:8080/",
          "height": 551
        },
        "id": "PiM-yKi0LQeH",
        "outputId": "c4ec1f10-f36c-448f-cc36-54f4e84b40ec"
      },
      "execution_count": 88,
      "outputs": [
        {
          "output_type": "display_data",
          "data": {
            "text/plain": [
              "<IPython.core.display.HTML object>"
            ],
            "text/html": []
          },
          "metadata": {}
        },
        {
          "output_type": "display_data",
          "data": {
            "text/plain": [
              "<Figure size 800x550 with 1 Axes>"
            ],
            "image/png": "[encoded data removed]"
          },
          "metadata": {}
        }
      ]
    }
  ]
}
